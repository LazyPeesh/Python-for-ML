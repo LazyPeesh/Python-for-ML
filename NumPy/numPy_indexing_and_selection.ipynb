{
 "cells": [
  {
   "cell_type": "code",
   "execution_count": 1,
   "id": "initial_id",
   "metadata": {
    "collapsed": true,
    "ExecuteTime": {
     "end_time": "2023-11-24T19:36:04.313714300Z",
     "start_time": "2023-11-24T19:36:04.252109Z"
    }
   },
   "outputs": [],
   "source": [
    "import numpy as np"
   ]
  },
  {
   "cell_type": "code",
   "execution_count": 2,
   "outputs": [],
   "source": [
    "arr = np.arange(0, 11)"
   ],
   "metadata": {
    "collapsed": false,
    "ExecuteTime": {
     "end_time": "2023-11-24T19:36:13.864391600Z",
     "start_time": "2023-11-24T19:36:13.860358600Z"
    }
   },
   "id": "b5b839d816660993"
  },
  {
   "cell_type": "code",
   "execution_count": 3,
   "outputs": [
    {
     "data": {
      "text/plain": "array([ 0,  1,  2,  3,  4,  5,  6,  7,  8,  9, 10])"
     },
     "execution_count": 3,
     "metadata": {},
     "output_type": "execute_result"
    }
   ],
   "source": [
    "arr"
   ],
   "metadata": {
    "collapsed": false,
    "ExecuteTime": {
     "end_time": "2023-11-24T19:36:15.554911300Z",
     "start_time": "2023-11-24T19:36:15.549388200Z"
    }
   },
   "id": "10eacf9b543309f2"
  },
  {
   "cell_type": "code",
   "execution_count": 4,
   "outputs": [
    {
     "data": {
      "text/plain": "8"
     },
     "execution_count": 4,
     "metadata": {},
     "output_type": "execute_result"
    }
   ],
   "source": [
    "arr[8]"
   ],
   "metadata": {
    "collapsed": false,
    "ExecuteTime": {
     "end_time": "2023-11-24T19:36:20.550717400Z",
     "start_time": "2023-11-24T19:36:20.539135Z"
    }
   },
   "id": "86ca36a9f9327b0a"
  },
  {
   "cell_type": "code",
   "execution_count": 7,
   "outputs": [
    {
     "data": {
      "text/plain": "array([1, 2, 3, 4])"
     },
     "execution_count": 7,
     "metadata": {},
     "output_type": "execute_result"
    }
   ],
   "source": [
    "arr[1:5]"
   ],
   "metadata": {
    "collapsed": false,
    "ExecuteTime": {
     "end_time": "2023-11-24T19:44:28.544656300Z",
     "start_time": "2023-11-24T19:44:28.503376900Z"
    }
   },
   "id": "93aa700419a22d0a"
  },
  {
   "cell_type": "code",
   "execution_count": 9,
   "outputs": [
    {
     "data": {
      "text/plain": "array([0, 1, 2, 3, 4])"
     },
     "execution_count": 9,
     "metadata": {},
     "output_type": "execute_result"
    }
   ],
   "source": [
    "arr[:5]"
   ],
   "metadata": {
    "collapsed": false,
    "ExecuteTime": {
     "end_time": "2023-11-24T19:44:40.330472900Z",
     "start_time": "2023-11-24T19:44:40.316432100Z"
    }
   },
   "id": "4b8c5d3d23b63d5e"
  },
  {
   "cell_type": "code",
   "execution_count": 11,
   "outputs": [
    {
     "data": {
      "text/plain": "array([ 5,  6,  7,  8,  9, 10])"
     },
     "execution_count": 11,
     "metadata": {},
     "output_type": "execute_result"
    }
   ],
   "source": [
    "arr[5:]"
   ],
   "metadata": {
    "collapsed": false,
    "ExecuteTime": {
     "end_time": "2023-11-24T19:45:19.889821400Z",
     "start_time": "2023-11-24T19:45:19.884777100Z"
    }
   },
   "id": "9ade4e3d6b61e46b"
  },
  {
   "cell_type": "code",
   "execution_count": 12,
   "outputs": [
    {
     "data": {
      "text/plain": "array([ 0,  1,  2,  3,  4,  5,  6,  7,  8,  9, 10])"
     },
     "execution_count": 12,
     "metadata": {},
     "output_type": "execute_result"
    }
   ],
   "source": [
    "arr"
   ],
   "metadata": {
    "collapsed": false,
    "ExecuteTime": {
     "end_time": "2023-11-24T19:45:21.739631400Z",
     "start_time": "2023-11-24T19:45:21.730971800Z"
    }
   },
   "id": "da7336db8c93f6d"
  },
  {
   "cell_type": "code",
   "execution_count": 13,
   "outputs": [],
   "source": [
    "arr[0:5] = 100"
   ],
   "metadata": {
    "collapsed": false,
    "ExecuteTime": {
     "end_time": "2023-11-24T19:45:29.185467900Z",
     "start_time": "2023-11-24T19:45:29.178952800Z"
    }
   },
   "id": "c34408f55a3e5732"
  },
  {
   "cell_type": "code",
   "execution_count": 14,
   "outputs": [
    {
     "data": {
      "text/plain": "array([100, 100, 100, 100, 100,   5,   6,   7,   8,   9,  10])"
     },
     "execution_count": 14,
     "metadata": {},
     "output_type": "execute_result"
    }
   ],
   "source": [
    "arr"
   ],
   "metadata": {
    "collapsed": false,
    "ExecuteTime": {
     "end_time": "2023-11-24T19:45:33.924688Z",
     "start_time": "2023-11-24T19:45:33.914812200Z"
    }
   },
   "id": "2fa21a4046c2cfb8"
  },
  {
   "cell_type": "code",
   "execution_count": 15,
   "outputs": [],
   "source": [
    "arr = np.arange(0, 11)"
   ],
   "metadata": {
    "collapsed": false,
    "ExecuteTime": {
     "end_time": "2023-11-24T19:45:51.135190Z",
     "start_time": "2023-11-24T19:45:51.129673200Z"
    }
   },
   "id": "1cc16901e05b1fcf"
  },
  {
   "cell_type": "code",
   "execution_count": 16,
   "outputs": [],
   "source": [
    "slice_of_arr = arr[0:5]"
   ],
   "metadata": {
    "collapsed": false,
    "ExecuteTime": {
     "end_time": "2023-11-24T19:46:02.499084Z",
     "start_time": "2023-11-24T19:46:02.492067700Z"
    }
   },
   "id": "c98da05afbf46a68"
  },
  {
   "cell_type": "code",
   "execution_count": 17,
   "outputs": [
    {
     "data": {
      "text/plain": "array([0, 1, 2, 3, 4])"
     },
     "execution_count": 17,
     "metadata": {},
     "output_type": "execute_result"
    }
   ],
   "source": [
    "slice_of_arr"
   ],
   "metadata": {
    "collapsed": false,
    "ExecuteTime": {
     "end_time": "2023-11-24T19:46:05.732805200Z",
     "start_time": "2023-11-24T19:46:05.726270400Z"
    }
   },
   "id": "3f087cca8431fd06"
  },
  {
   "cell_type": "code",
   "execution_count": 18,
   "outputs": [
    {
     "data": {
      "text/plain": "array([ 0,  1,  2,  3,  4,  5,  6,  7,  8,  9, 10])"
     },
     "execution_count": 18,
     "metadata": {},
     "output_type": "execute_result"
    }
   ],
   "source": [
    "arr"
   ],
   "metadata": {
    "collapsed": false,
    "ExecuteTime": {
     "end_time": "2023-11-24T19:46:09.484876200Z",
     "start_time": "2023-11-24T19:46:09.475838200Z"
    }
   },
   "id": "3bc5be06d78d2e3b"
  },
  {
   "cell_type": "code",
   "execution_count": 19,
   "outputs": [],
   "source": [
    "slice_of_arr[:] = 99"
   ],
   "metadata": {
    "collapsed": false,
    "ExecuteTime": {
     "end_time": "2023-11-24T19:46:18.979623500Z",
     "start_time": "2023-11-24T19:46:18.972556Z"
    }
   },
   "id": "eb832f67f677a236"
  },
  {
   "cell_type": "code",
   "execution_count": 20,
   "outputs": [
    {
     "data": {
      "text/plain": "array([99, 99, 99, 99, 99])"
     },
     "execution_count": 20,
     "metadata": {},
     "output_type": "execute_result"
    }
   ],
   "source": [
    "slice_of_arr"
   ],
   "metadata": {
    "collapsed": false,
    "ExecuteTime": {
     "end_time": "2023-11-24T19:46:21.081730Z",
     "start_time": "2023-11-24T19:46:21.074026200Z"
    }
   },
   "id": "bcb22a213763ca6e"
  },
  {
   "cell_type": "code",
   "execution_count": 21,
   "outputs": [
    {
     "data": {
      "text/plain": "array([99, 99, 99, 99, 99,  5,  6,  7,  8,  9, 10])"
     },
     "execution_count": 21,
     "metadata": {},
     "output_type": "execute_result"
    }
   ],
   "source": [
    "arr"
   ],
   "metadata": {
    "collapsed": false,
    "ExecuteTime": {
     "end_time": "2023-11-24T19:46:30.014351200Z",
     "start_time": "2023-11-24T19:46:30.003752100Z"
    }
   },
   "id": "c0594cee06e392cd"
  },
  {
   "cell_type": "code",
   "execution_count": 22,
   "outputs": [],
   "source": [
    "arr_copy = arr.copy()"
   ],
   "metadata": {
    "collapsed": false,
    "ExecuteTime": {
     "end_time": "2023-11-24T19:46:54.918335900Z",
     "start_time": "2023-11-24T19:46:54.911317900Z"
    }
   },
   "id": "872fe3bdbe6b8faf"
  },
  {
   "cell_type": "code",
   "execution_count": 23,
   "outputs": [],
   "source": [
    "arr[:] = 100"
   ],
   "metadata": {
    "collapsed": false,
    "ExecuteTime": {
     "end_time": "2023-11-24T19:47:01.500654700Z",
     "start_time": "2023-11-24T19:47:01.494020300Z"
    }
   },
   "id": "ce65e7b625e48c1c"
  },
  {
   "cell_type": "code",
   "execution_count": 25,
   "outputs": [
    {
     "data": {
      "text/plain": "array([99, 99, 99, 99, 99,  5,  6,  7,  8,  9, 10])"
     },
     "execution_count": 25,
     "metadata": {},
     "output_type": "execute_result"
    }
   ],
   "source": [
    "arr_copy"
   ],
   "metadata": {
    "collapsed": false,
    "ExecuteTime": {
     "end_time": "2023-11-24T19:47:10.569686700Z",
     "start_time": "2023-11-24T19:47:10.562162900Z"
    }
   },
   "id": "a4f2e62df7c4a4b"
  },
  {
   "cell_type": "code",
   "execution_count": 26,
   "outputs": [
    {
     "data": {
      "text/plain": "array([100, 100, 100, 100, 100, 100, 100, 100, 100, 100, 100])"
     },
     "execution_count": 26,
     "metadata": {},
     "output_type": "execute_result"
    }
   ],
   "source": [
    "arr"
   ],
   "metadata": {
    "collapsed": false,
    "ExecuteTime": {
     "end_time": "2023-11-24T19:47:14.241553Z",
     "start_time": "2023-11-24T19:47:14.233909600Z"
    }
   },
   "id": "1d262bb52a1078ac"
  },
  {
   "cell_type": "code",
   "execution_count": 27,
   "outputs": [],
   "source": [
    "arr_2d = np.array([[5, 10, 15], [20, 25, 30], [35, 40, 45]])"
   ],
   "metadata": {
    "collapsed": false,
    "ExecuteTime": {
     "end_time": "2023-11-24T19:48:06.139927900Z",
     "start_time": "2023-11-24T19:48:06.132394300Z"
    }
   },
   "id": "c014fcd4127e3986"
  },
  {
   "cell_type": "code",
   "execution_count": 28,
   "outputs": [
    {
     "data": {
      "text/plain": "array([[ 5, 10, 15],\n       [20, 25, 30],\n       [35, 40, 45]])"
     },
     "execution_count": 28,
     "metadata": {},
     "output_type": "execute_result"
    }
   ],
   "source": [
    "arr_2d"
   ],
   "metadata": {
    "collapsed": false,
    "ExecuteTime": {
     "end_time": "2023-11-24T19:48:10.194346500Z",
     "start_time": "2023-11-24T19:48:10.186295Z"
    }
   },
   "id": "7becbcbd82ccc6ee"
  },
  {
   "cell_type": "code",
   "execution_count": 29,
   "outputs": [
    {
     "data": {
      "text/plain": "(3, 3)"
     },
     "execution_count": 29,
     "metadata": {},
     "output_type": "execute_result"
    }
   ],
   "source": [
    "arr_2d.shape"
   ],
   "metadata": {
    "collapsed": false,
    "ExecuteTime": {
     "end_time": "2023-11-24T19:48:23.382325700Z",
     "start_time": "2023-11-24T19:48:23.371962600Z"
    }
   },
   "id": "d5a09f5aac425172"
  },
  {
   "cell_type": "code",
   "execution_count": 30,
   "outputs": [
    {
     "data": {
      "text/plain": "array([ 5, 10, 15])"
     },
     "execution_count": 30,
     "metadata": {},
     "output_type": "execute_result"
    }
   ],
   "source": [
    "arr_2d[0]"
   ],
   "metadata": {
    "collapsed": false,
    "ExecuteTime": {
     "end_time": "2023-11-24T19:48:37.332009100Z",
     "start_time": "2023-11-24T19:48:37.323970200Z"
    }
   },
   "id": "1176035dd10d9624"
  },
  {
   "cell_type": "code",
   "execution_count": 31,
   "outputs": [
    {
     "data": {
      "text/plain": "array([35, 40, 45])"
     },
     "execution_count": 31,
     "metadata": {},
     "output_type": "execute_result"
    }
   ],
   "source": [
    "arr_2d[2]"
   ],
   "metadata": {
    "collapsed": false,
    "ExecuteTime": {
     "end_time": "2023-11-24T19:48:46.193878900Z",
     "start_time": "2023-11-24T19:48:46.184853100Z"
    }
   },
   "id": "8973955830fcf33c"
  },
  {
   "cell_type": "code",
   "execution_count": 35,
   "outputs": [
    {
     "data": {
      "text/plain": "15"
     },
     "execution_count": 35,
     "metadata": {},
     "output_type": "execute_result"
    }
   ],
   "source": [
    "arr_2d[0, 2]"
   ],
   "metadata": {
    "collapsed": false,
    "ExecuteTime": {
     "end_time": "2023-11-24T19:49:28.410966400Z",
     "start_time": "2023-11-24T19:49:28.408320900Z"
    }
   },
   "id": "548fa456d5c67d01"
  },
  {
   "cell_type": "code",
   "execution_count": 45,
   "outputs": [
    {
     "data": {
      "text/plain": "array([[10, 15],\n       [25, 30]])"
     },
     "execution_count": 45,
     "metadata": {},
     "output_type": "execute_result"
    }
   ],
   "source": [
    "arr_2d[:2, 1:]"
   ],
   "metadata": {
    "collapsed": false,
    "ExecuteTime": {
     "end_time": "2023-11-24T19:52:11.883889800Z",
     "start_time": "2023-11-24T19:52:11.875375300Z"
    }
   },
   "id": "b120939771e80066"
  },
  {
   "cell_type": "code",
   "execution_count": 46,
   "outputs": [],
   "source": [
    "arr = np.arange(1, 11)"
   ],
   "metadata": {
    "collapsed": false,
    "ExecuteTime": {
     "end_time": "2023-11-24T19:53:19.972639Z",
     "start_time": "2023-11-24T19:53:19.962556800Z"
    }
   },
   "id": "bb835cb97329839c"
  },
  {
   "cell_type": "code",
   "execution_count": 47,
   "outputs": [
    {
     "data": {
      "text/plain": "array([ 1,  2,  3,  4,  5,  6,  7,  8,  9, 10])"
     },
     "execution_count": 47,
     "metadata": {},
     "output_type": "execute_result"
    }
   ],
   "source": [
    "arr"
   ],
   "metadata": {
    "collapsed": false,
    "ExecuteTime": {
     "end_time": "2023-11-24T19:53:22.042405600Z",
     "start_time": "2023-11-24T19:53:22.030285900Z"
    }
   },
   "id": "f663832de527129c"
  },
  {
   "cell_type": "code",
   "execution_count": 48,
   "outputs": [
    {
     "data": {
      "text/plain": "array([False, False, False, False,  True,  True,  True,  True,  True,\n        True])"
     },
     "execution_count": 48,
     "metadata": {},
     "output_type": "execute_result"
    }
   ],
   "source": [
    "arr > 4"
   ],
   "metadata": {
    "collapsed": false,
    "ExecuteTime": {
     "end_time": "2023-11-24T19:53:30.615867600Z",
     "start_time": "2023-11-24T19:53:30.608193200Z"
    }
   },
   "id": "ba673c0453f23945"
  },
  {
   "cell_type": "code",
   "execution_count": 49,
   "outputs": [],
   "source": [
    "bool_arr = arr > 4"
   ],
   "metadata": {
    "collapsed": false,
    "ExecuteTime": {
     "end_time": "2023-11-24T19:53:50.472029600Z",
     "start_time": "2023-11-24T19:53:50.456498300Z"
    }
   },
   "id": "59698816ee5240b8"
  },
  {
   "cell_type": "code",
   "execution_count": 50,
   "outputs": [
    {
     "data": {
      "text/plain": "array([False, False, False, False,  True,  True,  True,  True,  True,\n        True])"
     },
     "execution_count": 50,
     "metadata": {},
     "output_type": "execute_result"
    }
   ],
   "source": [
    "bool_arr"
   ],
   "metadata": {
    "collapsed": false,
    "ExecuteTime": {
     "end_time": "2023-11-24T19:53:54.454285800Z",
     "start_time": "2023-11-24T19:53:54.444210200Z"
    }
   },
   "id": "f8f60ae5b6ab09a"
  },
  {
   "cell_type": "code",
   "execution_count": 51,
   "outputs": [
    {
     "data": {
      "text/plain": "array([ 5,  6,  7,  8,  9, 10])"
     },
     "execution_count": 51,
     "metadata": {},
     "output_type": "execute_result"
    }
   ],
   "source": [
    "arr[bool_arr]"
   ],
   "metadata": {
    "collapsed": false,
    "ExecuteTime": {
     "end_time": "2023-11-24T19:54:00.468176Z",
     "start_time": "2023-11-24T19:54:00.451750Z"
    }
   },
   "id": "cc5418774e7c9abd"
  },
  {
   "cell_type": "code",
   "execution_count": 52,
   "outputs": [
    {
     "data": {
      "text/plain": "array([ 5,  6,  7,  8,  9, 10])"
     },
     "execution_count": 52,
     "metadata": {},
     "output_type": "execute_result"
    }
   ],
   "source": [
    "arr[arr > 4]"
   ],
   "metadata": {
    "collapsed": false,
    "ExecuteTime": {
     "end_time": "2023-11-24T19:54:41.207926300Z",
     "start_time": "2023-11-24T19:54:41.196965800Z"
    }
   },
   "id": "5adfd86f0cd95b4a"
  }
 ],
 "metadata": {
  "kernelspec": {
   "display_name": "Python 3",
   "language": "python",
   "name": "python3"
  },
  "language_info": {
   "codemirror_mode": {
    "name": "ipython",
    "version": 2
   },
   "file_extension": ".py",
   "mimetype": "text/x-python",
   "name": "python",
   "nbconvert_exporter": "python",
   "pygments_lexer": "ipython2",
   "version": "2.7.6"
  }
 },
 "nbformat": 4,
 "nbformat_minor": 5
}
