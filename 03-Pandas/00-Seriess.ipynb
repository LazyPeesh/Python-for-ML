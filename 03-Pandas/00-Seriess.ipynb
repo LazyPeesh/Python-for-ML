{
 "cells": [
  {
   "cell_type": "code",
   "execution_count": 1,
   "outputs": [],
   "source": [
    "import numpy as np\n",
    "import pandas as pd"
   ],
   "metadata": {
    "collapsed": false,
    "ExecuteTime": {
     "end_time": "2023-11-25T02:58:46.363963200Z",
     "start_time": "2023-11-25T02:58:46.103532400Z"
    }
   },
   "id": "ec6f92520462c64"
  },
  {
   "cell_type": "code",
   "execution_count": 2,
   "outputs": [],
   "source": [
    "# help(pd.Series)"
   ],
   "metadata": {
    "collapsed": false,
    "ExecuteTime": {
     "end_time": "2023-11-25T02:58:46.368683100Z",
     "start_time": "2023-11-25T02:58:46.364963900Z"
    }
   },
   "id": "92be5eb9913deb51"
  },
  {
   "cell_type": "code",
   "execution_count": 3,
   "outputs": [],
   "source": [
    "myindex = ['USA', 'Canada', 'Mexico']"
   ],
   "metadata": {
    "collapsed": false,
    "ExecuteTime": {
     "end_time": "2023-11-25T02:58:46.374080800Z",
     "start_time": "2023-11-25T02:58:46.367678800Z"
    }
   },
   "id": "612843c953db333"
  },
  {
   "cell_type": "code",
   "execution_count": 4,
   "outputs": [],
   "source": [
    "mydata = [1776, 1867, 1821]"
   ],
   "metadata": {
    "collapsed": false,
    "ExecuteTime": {
     "end_time": "2023-11-25T02:58:46.378278100Z",
     "start_time": "2023-11-25T02:58:46.372359300Z"
    }
   },
   "id": "819922ee11ec6f"
  },
  {
   "cell_type": "code",
   "execution_count": 5,
   "outputs": [],
   "source": [
    "myser = pd.Series(data=mydata, index=myindex)"
   ],
   "metadata": {
    "collapsed": false,
    "ExecuteTime": {
     "end_time": "2023-11-25T02:58:46.382282300Z",
     "start_time": "2023-11-25T02:58:46.377774100Z"
    }
   },
   "id": "34797623591a7c81"
  },
  {
   "cell_type": "code",
   "execution_count": 6,
   "outputs": [
    {
     "data": {
      "text/plain": "USA       1776\nCanada    1867\nMexico    1821\ndtype: int64"
     },
     "execution_count": 6,
     "metadata": {},
     "output_type": "execute_result"
    }
   ],
   "source": [
    "myser"
   ],
   "metadata": {
    "collapsed": false,
    "ExecuteTime": {
     "end_time": "2023-11-25T02:58:46.386985200Z",
     "start_time": "2023-11-25T02:58:46.380282300Z"
    }
   },
   "id": "540d751c05d57f71"
  },
  {
   "cell_type": "code",
   "execution_count": 7,
   "outputs": [
    {
     "data": {
      "text/plain": "pandas.core.series.Series"
     },
     "execution_count": 7,
     "metadata": {},
     "output_type": "execute_result"
    }
   ],
   "source": [
    "type(myser)"
   ],
   "metadata": {
    "collapsed": false,
    "ExecuteTime": {
     "end_time": "2023-11-25T02:58:46.392174900Z",
     "start_time": "2023-11-25T02:58:46.384985800Z"
    }
   },
   "id": "1c7cbc5a831edfd7"
  },
  {
   "cell_type": "code",
   "execution_count": 8,
   "outputs": [
    {
     "data": {
      "text/plain": "1776"
     },
     "execution_count": 8,
     "metadata": {},
     "output_type": "execute_result"
    }
   ],
   "source": [
    "myser.iloc[0]"
   ],
   "metadata": {
    "collapsed": false,
    "ExecuteTime": {
     "end_time": "2023-11-25T02:58:46.413927200Z",
     "start_time": "2023-11-25T02:58:46.390367200Z"
    }
   },
   "id": "ca6f932819fea62e"
  },
  {
   "cell_type": "code",
   "execution_count": 9,
   "outputs": [
    {
     "data": {
      "text/plain": "1776"
     },
     "execution_count": 9,
     "metadata": {},
     "output_type": "execute_result"
    }
   ],
   "source": [
    "myser['USA']"
   ],
   "metadata": {
    "collapsed": false,
    "ExecuteTime": {
     "end_time": "2023-11-25T02:58:46.413927200Z",
     "start_time": "2023-11-25T02:58:46.393700Z"
    }
   },
   "id": "52dc794d88ed03ff"
  },
  {
   "cell_type": "code",
   "execution_count": 10,
   "outputs": [],
   "source": [
    "ages = {'Sam': 5, 'Frank': 10, 'Spike': 7}"
   ],
   "metadata": {
    "collapsed": false,
    "ExecuteTime": {
     "end_time": "2023-11-25T02:58:46.413927200Z",
     "start_time": "2023-11-25T02:58:46.399403600Z"
    }
   },
   "id": "2a952301a6e9ab4a"
  },
  {
   "cell_type": "code",
   "execution_count": 11,
   "outputs": [
    {
     "data": {
      "text/plain": "Sam       5\nFrank    10\nSpike     7\ndtype: int64"
     },
     "execution_count": 11,
     "metadata": {},
     "output_type": "execute_result"
    }
   ],
   "source": [
    "pd.Series(ages)"
   ],
   "metadata": {
    "collapsed": false,
    "ExecuteTime": {
     "end_time": "2023-11-25T02:58:46.413927200Z",
     "start_time": "2023-11-25T02:58:46.401912500Z"
    }
   },
   "id": "925333b51c67f04e"
  },
  {
   "cell_type": "code",
   "execution_count": 12,
   "outputs": [],
   "source": [
    "# Imaginary Sales Data for 1st and 2nd Quarters for Global Company\n",
    "q1 = {'Japan': 80, 'China': 450, 'India': 200, 'USA': 250}\n",
    "q2 = {'Brazil': 100, 'China': 500, 'India': 210, 'USA': 260}"
   ],
   "metadata": {
    "collapsed": false,
    "ExecuteTime": {
     "end_time": "2023-11-25T02:58:46.414932400Z",
     "start_time": "2023-11-25T02:58:46.405743Z"
    }
   },
   "id": "8124d0da48666f9f"
  },
  {
   "cell_type": "code",
   "execution_count": 13,
   "outputs": [],
   "source": [
    "sales_q1 = pd.Series(q1)"
   ],
   "metadata": {
    "collapsed": false,
    "ExecuteTime": {
     "end_time": "2023-11-25T02:58:46.414932400Z",
     "start_time": "2023-11-25T02:58:46.408542400Z"
    }
   },
   "id": "bbccbd3bceaa2fd2"
  },
  {
   "cell_type": "code",
   "execution_count": 14,
   "outputs": [],
   "source": [
    "sales_q2 = pd.Series(q2)"
   ],
   "metadata": {
    "collapsed": false,
    "ExecuteTime": {
     "end_time": "2023-11-25T02:58:46.416931500Z",
     "start_time": "2023-11-25T02:58:46.413423900Z"
    }
   },
   "id": "712cfe82b410a116"
  },
  {
   "cell_type": "code",
   "execution_count": 15,
   "outputs": [
    {
     "data": {
      "text/plain": "Japan     80\nChina    450\nIndia    200\nUSA      250\ndtype: int64"
     },
     "execution_count": 15,
     "metadata": {},
     "output_type": "execute_result"
    }
   ],
   "source": [
    "sales_q1"
   ],
   "metadata": {
    "collapsed": false,
    "ExecuteTime": {
     "end_time": "2023-11-25T02:58:46.425319100Z",
     "start_time": "2023-11-25T02:58:46.414932400Z"
    }
   },
   "id": "d9ce6a3303ba9ede"
  },
  {
   "cell_type": "code",
   "execution_count": 16,
   "outputs": [
    {
     "data": {
      "text/plain": "Brazil    100\nChina     500\nIndia     210\nUSA       260\ndtype: int64"
     },
     "execution_count": 16,
     "metadata": {},
     "output_type": "execute_result"
    }
   ],
   "source": [
    "sales_q2"
   ],
   "metadata": {
    "collapsed": false,
    "ExecuteTime": {
     "end_time": "2023-11-25T02:58:46.425823600Z",
     "start_time": "2023-11-25T02:58:46.419036700Z"
    }
   },
   "id": "6dda1c38a42ff059"
  },
  {
   "cell_type": "code",
   "execution_count": 17,
   "outputs": [
    {
     "data": {
      "text/plain": "80"
     },
     "execution_count": 17,
     "metadata": {},
     "output_type": "execute_result"
    }
   ],
   "source": [
    "sales_q1['Japan']"
   ],
   "metadata": {
    "collapsed": false,
    "ExecuteTime": {
     "end_time": "2023-11-25T02:58:46.427828Z",
     "start_time": "2023-11-25T02:58:46.423340700Z"
    }
   },
   "id": "1e98d6036697366a"
  },
  {
   "cell_type": "code",
   "execution_count": 18,
   "outputs": [
    {
     "data": {
      "text/plain": "Index(['Japan', 'China', 'India', 'USA'], dtype='object')"
     },
     "execution_count": 18,
     "metadata": {},
     "output_type": "execute_result"
    }
   ],
   "source": [
    "sales_q1.keys()"
   ],
   "metadata": {
    "collapsed": false,
    "ExecuteTime": {
     "end_time": "2023-11-25T02:58:46.432630100Z",
     "start_time": "2023-11-25T02:58:46.426828300Z"
    }
   },
   "id": "d5ca1d780fdf6c7d"
  },
  {
   "cell_type": "code",
   "execution_count": 19,
   "outputs": [
    {
     "data": {
      "text/plain": "Japan    0.8\nChina    4.5\nIndia    2.0\nUSA      2.5\ndtype: float64"
     },
     "execution_count": 19,
     "metadata": {},
     "output_type": "execute_result"
    }
   ],
   "source": [
    "sales_q1 / 100"
   ],
   "metadata": {
    "collapsed": false,
    "ExecuteTime": {
     "end_time": "2023-11-25T02:58:46.437428200Z",
     "start_time": "2023-11-25T02:58:46.432630100Z"
    }
   },
   "id": "bc15c3074f3deab6"
  },
  {
   "cell_type": "code",
   "execution_count": 20,
   "outputs": [
    {
     "data": {
      "text/plain": "Japan     80\nChina    450\nIndia    200\nUSA      250\ndtype: int64"
     },
     "execution_count": 20,
     "metadata": {},
     "output_type": "execute_result"
    }
   ],
   "source": [
    "sales_q1"
   ],
   "metadata": {
    "collapsed": false,
    "ExecuteTime": {
     "end_time": "2023-11-25T02:58:46.485003700Z",
     "start_time": "2023-11-25T02:58:46.434770Z"
    }
   },
   "id": "cec8b128a439ecc7"
  },
  {
   "cell_type": "code",
   "execution_count": 21,
   "outputs": [
    {
     "data": {
      "text/plain": "Brazil    100\nChina     500\nIndia     210\nUSA       260\ndtype: int64"
     },
     "execution_count": 21,
     "metadata": {},
     "output_type": "execute_result"
    }
   ],
   "source": [
    "sales_q2"
   ],
   "metadata": {
    "collapsed": false,
    "ExecuteTime": {
     "end_time": "2023-11-25T02:58:46.485003700Z",
     "start_time": "2023-11-25T02:58:46.439433300Z"
    }
   },
   "id": "d007e444bbe17d14"
  },
  {
   "cell_type": "code",
   "execution_count": 22,
   "outputs": [
    {
     "data": {
      "text/plain": "Brazil      NaN\nChina     950.0\nIndia     410.0\nJapan       NaN\nUSA       510.0\ndtype: float64"
     },
     "execution_count": 22,
     "metadata": {},
     "output_type": "execute_result"
    }
   ],
   "source": [
    "sales_q1 + sales_q2"
   ],
   "metadata": {
    "collapsed": false,
    "ExecuteTime": {
     "end_time": "2023-11-25T02:58:46.486009Z",
     "start_time": "2023-11-25T02:58:46.444324600Z"
    }
   },
   "id": "47fd8928b0e9cbae"
  },
  {
   "cell_type": "code",
   "execution_count": 23,
   "outputs": [],
   "source": [
    "first_half = sales_q1.add(sales_q2, fill_value=0)"
   ],
   "metadata": {
    "collapsed": false,
    "ExecuteTime": {
     "end_time": "2023-11-25T02:58:46.486009Z",
     "start_time": "2023-11-25T02:58:46.446747Z"
    }
   },
   "id": "cd0b1c1826826594"
  },
  {
   "cell_type": "code",
   "execution_count": 24,
   "outputs": [
    {
     "data": {
      "text/plain": "dtype('int64')"
     },
     "execution_count": 24,
     "metadata": {},
     "output_type": "execute_result"
    }
   ],
   "source": [
    "sales_q1.dtype"
   ],
   "metadata": {
    "collapsed": false,
    "ExecuteTime": {
     "end_time": "2023-11-25T02:58:46.487006800Z",
     "start_time": "2023-11-25T02:58:46.451090800Z"
    }
   },
   "id": "ea4f0da703e5eb91"
  },
  {
   "cell_type": "code",
   "execution_count": 24,
   "outputs": [],
   "source": [],
   "metadata": {
    "collapsed": false,
    "ExecuteTime": {
     "end_time": "2023-11-25T02:58:46.487006800Z",
     "start_time": "2023-11-25T02:58:46.454710300Z"
    }
   },
   "id": "2420231e838e6222"
  },
  {
   "cell_type": "code",
   "execution_count": 25,
   "outputs": [
    {
     "data": {
      "text/plain": "dtype('float64')"
     },
     "execution_count": 25,
     "metadata": {},
     "output_type": "execute_result"
    }
   ],
   "source": [
    "first_half.dtype"
   ],
   "metadata": {
    "collapsed": false,
    "ExecuteTime": {
     "end_time": "2023-11-25T02:58:46.487006800Z",
     "start_time": "2023-11-25T02:58:46.457508600Z"
    }
   },
   "id": "bdc5821bbd33d63b"
  }
 ],
 "metadata": {
  "kernelspec": {
   "display_name": "Python 3",
   "language": "python",
   "name": "python3"
  },
  "language_info": {
   "codemirror_mode": {
    "name": "ipython",
    "version": 2
   },
   "file_extension": ".py",
   "mimetype": "text/x-python",
   "name": "python",
   "nbconvert_exporter": "python",
   "pygments_lexer": "ipython2",
   "version": "2.7.6"
  }
 },
 "nbformat": 4,
 "nbformat_minor": 5
}
