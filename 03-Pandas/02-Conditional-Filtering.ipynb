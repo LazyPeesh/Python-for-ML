{
 "cells": [
  {
   "cell_type": "code",
   "execution_count": 1,
   "id": "initial_id",
   "metadata": {
    "collapsed": true,
    "ExecuteTime": {
     "end_time": "2023-11-25T07:20:46.046381700Z",
     "start_time": "2023-11-25T07:20:45.777421400Z"
    }
   },
   "outputs": [],
   "source": [
    "import numpy as np\n",
    "import pandas as pd"
   ]
  },
  {
   "cell_type": "code",
   "execution_count": 2,
   "outputs": [],
   "source": [
    "df = pd.read_csv('tips.csv')"
   ],
   "metadata": {
    "collapsed": false,
    "ExecuteTime": {
     "end_time": "2023-11-25T07:20:54.915606500Z",
     "start_time": "2023-11-25T07:20:54.906484Z"
    }
   },
   "id": "adcdf1399fda087c"
  },
  {
   "cell_type": "code",
   "execution_count": 3,
   "outputs": [
    {
     "data": {
      "text/plain": "   total_bill   tip     sex smoker  day    time  size  price_per_person  \\\n0       16.99  1.01  Female     No  Sun  Dinner     2              8.49   \n1       10.34  1.66    Male     No  Sun  Dinner     3              3.45   \n2       21.01  3.50    Male     No  Sun  Dinner     3              7.00   \n3       23.68  3.31    Male     No  Sun  Dinner     2             11.84   \n4       24.59  3.61  Female     No  Sun  Dinner     4              6.15   \n\n           Payer Name         CC Number Payment ID  \n0  Christy Cunningham  3560325168603410    Sun2959  \n1      Douglas Tucker  4478071379779230    Sun4608  \n2      Travis Walters  6011812112971322    Sun4458  \n3    Nathaniel Harris  4676137647685994    Sun5260  \n4        Tonya Carter  4832732618637221    Sun2251  ",
      "text/html": "<div>\n<style scoped>\n    .dataframe tbody tr th:only-of-type {\n        vertical-align: middle;\n    }\n\n    .dataframe tbody tr th {\n        vertical-align: top;\n    }\n\n    .dataframe thead th {\n        text-align: right;\n    }\n</style>\n<table border=\"1\" class=\"dataframe\">\n  <thead>\n    <tr style=\"text-align: right;\">\n      <th></th>\n      <th>total_bill</th>\n      <th>tip</th>\n      <th>sex</th>\n      <th>smoker</th>\n      <th>day</th>\n      <th>time</th>\n      <th>size</th>\n      <th>price_per_person</th>\n      <th>Payer Name</th>\n      <th>CC Number</th>\n      <th>Payment ID</th>\n    </tr>\n  </thead>\n  <tbody>\n    <tr>\n      <th>0</th>\n      <td>16.99</td>\n      <td>1.01</td>\n      <td>Female</td>\n      <td>No</td>\n      <td>Sun</td>\n      <td>Dinner</td>\n      <td>2</td>\n      <td>8.49</td>\n      <td>Christy Cunningham</td>\n      <td>3560325168603410</td>\n      <td>Sun2959</td>\n    </tr>\n    <tr>\n      <th>1</th>\n      <td>10.34</td>\n      <td>1.66</td>\n      <td>Male</td>\n      <td>No</td>\n      <td>Sun</td>\n      <td>Dinner</td>\n      <td>3</td>\n      <td>3.45</td>\n      <td>Douglas Tucker</td>\n      <td>4478071379779230</td>\n      <td>Sun4608</td>\n    </tr>\n    <tr>\n      <th>2</th>\n      <td>21.01</td>\n      <td>3.50</td>\n      <td>Male</td>\n      <td>No</td>\n      <td>Sun</td>\n      <td>Dinner</td>\n      <td>3</td>\n      <td>7.00</td>\n      <td>Travis Walters</td>\n      <td>6011812112971322</td>\n      <td>Sun4458</td>\n    </tr>\n    <tr>\n      <th>3</th>\n      <td>23.68</td>\n      <td>3.31</td>\n      <td>Male</td>\n      <td>No</td>\n      <td>Sun</td>\n      <td>Dinner</td>\n      <td>2</td>\n      <td>11.84</td>\n      <td>Nathaniel Harris</td>\n      <td>4676137647685994</td>\n      <td>Sun5260</td>\n    </tr>\n    <tr>\n      <th>4</th>\n      <td>24.59</td>\n      <td>3.61</td>\n      <td>Female</td>\n      <td>No</td>\n      <td>Sun</td>\n      <td>Dinner</td>\n      <td>4</td>\n      <td>6.15</td>\n      <td>Tonya Carter</td>\n      <td>4832732618637221</td>\n      <td>Sun2251</td>\n    </tr>\n  </tbody>\n</table>\n</div>"
     },
     "execution_count": 3,
     "metadata": {},
     "output_type": "execute_result"
    }
   ],
   "source": [
    "df.head()"
   ],
   "metadata": {
    "collapsed": false,
    "ExecuteTime": {
     "end_time": "2023-11-25T07:20:58.441149800Z",
     "start_time": "2023-11-25T07:20:58.433174800Z"
    }
   },
   "id": "a5d0448068cb8ec4"
  },
  {
   "cell_type": "code",
   "execution_count": 11,
   "outputs": [],
   "source": [
    "# df[df['size'] > 3]"
   ],
   "metadata": {
    "collapsed": false,
    "ExecuteTime": {
     "end_time": "2023-11-25T07:24:28.423618600Z",
     "start_time": "2023-11-25T07:24:28.421108500Z"
    }
   },
   "id": "910230a69735ec76"
  },
  {
   "cell_type": "code",
   "execution_count": 12,
   "outputs": [],
   "source": [
    "# AND & --- BOTH COND NEED TO BE TRUE\n",
    "# OR | --- EITHER COND IS TRUE"
   ],
   "metadata": {
    "collapsed": false,
    "ExecuteTime": {
     "end_time": "2023-11-25T07:24:57.733055Z",
     "start_time": "2023-11-25T07:24:57.727026300Z"
    }
   },
   "id": "7d9c87435bcbd115"
  },
  {
   "cell_type": "code",
   "execution_count": 16,
   "outputs": [
    {
     "data": {
      "text/plain": "0      False\n1       True\n2       True\n3       True\n4      False\n       ...  \n239     True\n240    False\n241     True\n242     True\n243    False\nName: sex, Length: 244, dtype: bool"
     },
     "execution_count": 16,
     "metadata": {},
     "output_type": "execute_result"
    }
   ],
   "source": [
    "df['total_bill'] > 30\n",
    "\n",
    "df['sex'] == 'Male'"
   ],
   "metadata": {
    "collapsed": false,
    "ExecuteTime": {
     "end_time": "2023-11-25T07:25:56.888549Z",
     "start_time": "2023-11-25T07:25:56.880321100Z"
    }
   },
   "id": "6c6049610cdd513d"
  },
  {
   "cell_type": "code",
   "execution_count": 19,
   "outputs": [
    {
     "data": {
      "text/plain": "     total_bill   tip     sex smoker  day    time  size  price_per_person  \\\n1         10.34  1.66    Male     No  Sun  Dinner     3              3.45   \n2         21.01  3.50    Male     No  Sun  Dinner     3              7.00   \n3         23.68  3.31    Male     No  Sun  Dinner     2             11.84   \n5         25.29  4.71    Male     No  Sun  Dinner     4              6.32   \n6          8.77  2.00    Male     No  Sun  Dinner     2              4.38   \n..          ...   ...     ...    ...  ...     ...   ...               ...   \n237       32.83  1.17    Male    Yes  Sat  Dinner     2             16.42   \n238       35.83  4.67  Female     No  Sat  Dinner     3             11.94   \n239       29.03  5.92    Male     No  Sat  Dinner     3              9.68   \n241       22.67  2.00    Male    Yes  Sat  Dinner     2             11.34   \n242       17.82  1.75    Male     No  Sat  Dinner     2              8.91   \n\n             Payer Name         CC Number Payment ID  \n1        Douglas Tucker  4478071379779230    Sun4608  \n2        Travis Walters  6011812112971322    Sun4458  \n3      Nathaniel Harris  4676137647685994    Sun5260  \n5            Erik Smith   213140353657882    Sun9679  \n6    Kristopher Johnson  2223727524230344    Sun5985  \n..                  ...               ...        ...  \n237        Thomas Brown  4284722681265508    Sat2929  \n238      Kimberly Crane      676184013727    Sat9777  \n239       Michael Avila  5296068606052842    Sat2657  \n241          Keith Wong  6011891618747196    Sat3880  \n242        Dennis Dixon     4375220550950      Sat17  \n\n[164 rows x 11 columns]",
      "text/html": "<div>\n<style scoped>\n    .dataframe tbody tr th:only-of-type {\n        vertical-align: middle;\n    }\n\n    .dataframe tbody tr th {\n        vertical-align: top;\n    }\n\n    .dataframe thead th {\n        text-align: right;\n    }\n</style>\n<table border=\"1\" class=\"dataframe\">\n  <thead>\n    <tr style=\"text-align: right;\">\n      <th></th>\n      <th>total_bill</th>\n      <th>tip</th>\n      <th>sex</th>\n      <th>smoker</th>\n      <th>day</th>\n      <th>time</th>\n      <th>size</th>\n      <th>price_per_person</th>\n      <th>Payer Name</th>\n      <th>CC Number</th>\n      <th>Payment ID</th>\n    </tr>\n  </thead>\n  <tbody>\n    <tr>\n      <th>1</th>\n      <td>10.34</td>\n      <td>1.66</td>\n      <td>Male</td>\n      <td>No</td>\n      <td>Sun</td>\n      <td>Dinner</td>\n      <td>3</td>\n      <td>3.45</td>\n      <td>Douglas Tucker</td>\n      <td>4478071379779230</td>\n      <td>Sun4608</td>\n    </tr>\n    <tr>\n      <th>2</th>\n      <td>21.01</td>\n      <td>3.50</td>\n      <td>Male</td>\n      <td>No</td>\n      <td>Sun</td>\n      <td>Dinner</td>\n      <td>3</td>\n      <td>7.00</td>\n      <td>Travis Walters</td>\n      <td>6011812112971322</td>\n      <td>Sun4458</td>\n    </tr>\n    <tr>\n      <th>3</th>\n      <td>23.68</td>\n      <td>3.31</td>\n      <td>Male</td>\n      <td>No</td>\n      <td>Sun</td>\n      <td>Dinner</td>\n      <td>2</td>\n      <td>11.84</td>\n      <td>Nathaniel Harris</td>\n      <td>4676137647685994</td>\n      <td>Sun5260</td>\n    </tr>\n    <tr>\n      <th>5</th>\n      <td>25.29</td>\n      <td>4.71</td>\n      <td>Male</td>\n      <td>No</td>\n      <td>Sun</td>\n      <td>Dinner</td>\n      <td>4</td>\n      <td>6.32</td>\n      <td>Erik Smith</td>\n      <td>213140353657882</td>\n      <td>Sun9679</td>\n    </tr>\n    <tr>\n      <th>6</th>\n      <td>8.77</td>\n      <td>2.00</td>\n      <td>Male</td>\n      <td>No</td>\n      <td>Sun</td>\n      <td>Dinner</td>\n      <td>2</td>\n      <td>4.38</td>\n      <td>Kristopher Johnson</td>\n      <td>2223727524230344</td>\n      <td>Sun5985</td>\n    </tr>\n    <tr>\n      <th>...</th>\n      <td>...</td>\n      <td>...</td>\n      <td>...</td>\n      <td>...</td>\n      <td>...</td>\n      <td>...</td>\n      <td>...</td>\n      <td>...</td>\n      <td>...</td>\n      <td>...</td>\n      <td>...</td>\n    </tr>\n    <tr>\n      <th>237</th>\n      <td>32.83</td>\n      <td>1.17</td>\n      <td>Male</td>\n      <td>Yes</td>\n      <td>Sat</td>\n      <td>Dinner</td>\n      <td>2</td>\n      <td>16.42</td>\n      <td>Thomas Brown</td>\n      <td>4284722681265508</td>\n      <td>Sat2929</td>\n    </tr>\n    <tr>\n      <th>238</th>\n      <td>35.83</td>\n      <td>4.67</td>\n      <td>Female</td>\n      <td>No</td>\n      <td>Sat</td>\n      <td>Dinner</td>\n      <td>3</td>\n      <td>11.94</td>\n      <td>Kimberly Crane</td>\n      <td>676184013727</td>\n      <td>Sat9777</td>\n    </tr>\n    <tr>\n      <th>239</th>\n      <td>29.03</td>\n      <td>5.92</td>\n      <td>Male</td>\n      <td>No</td>\n      <td>Sat</td>\n      <td>Dinner</td>\n      <td>3</td>\n      <td>9.68</td>\n      <td>Michael Avila</td>\n      <td>5296068606052842</td>\n      <td>Sat2657</td>\n    </tr>\n    <tr>\n      <th>241</th>\n      <td>22.67</td>\n      <td>2.00</td>\n      <td>Male</td>\n      <td>Yes</td>\n      <td>Sat</td>\n      <td>Dinner</td>\n      <td>2</td>\n      <td>11.34</td>\n      <td>Keith Wong</td>\n      <td>6011891618747196</td>\n      <td>Sat3880</td>\n    </tr>\n    <tr>\n      <th>242</th>\n      <td>17.82</td>\n      <td>1.75</td>\n      <td>Male</td>\n      <td>No</td>\n      <td>Sat</td>\n      <td>Dinner</td>\n      <td>2</td>\n      <td>8.91</td>\n      <td>Dennis Dixon</td>\n      <td>4375220550950</td>\n      <td>Sat17</td>\n    </tr>\n  </tbody>\n</table>\n<p>164 rows × 11 columns</p>\n</div>"
     },
     "execution_count": 19,
     "metadata": {},
     "output_type": "execute_result"
    }
   ],
   "source": [
    "df[(df['total_bill'] > 30) | (df['sex'] == 'Male')]"
   ],
   "metadata": {
    "collapsed": false,
    "ExecuteTime": {
     "end_time": "2023-11-25T07:27:57.597333700Z",
     "start_time": "2023-11-25T07:27:57.586571300Z"
    }
   },
   "id": "d16891d7a9438f8a"
  },
  {
   "cell_type": "code",
   "execution_count": 24,
   "outputs": [
    {
     "data": {
      "text/plain": "   total_bill   tip     sex smoker  day    time  size  price_per_person  \\\n0       16.99  1.01  Female     No  Sun  Dinner     2              8.49   \n1       10.34  1.66    Male     No  Sun  Dinner     3              3.45   \n2       21.01  3.50    Male     No  Sun  Dinner     3              7.00   \n3       23.68  3.31    Male     No  Sun  Dinner     2             11.84   \n4       24.59  3.61  Female     No  Sun  Dinner     4              6.15   \n\n           Payer Name         CC Number Payment ID  \n0  Christy Cunningham  3560325168603410    Sun2959  \n1      Douglas Tucker  4478071379779230    Sun4608  \n2      Travis Walters  6011812112971322    Sun4458  \n3    Nathaniel Harris  4676137647685994    Sun5260  \n4        Tonya Carter  4832732618637221    Sun2251  ",
      "text/html": "<div>\n<style scoped>\n    .dataframe tbody tr th:only-of-type {\n        vertical-align: middle;\n    }\n\n    .dataframe tbody tr th {\n        vertical-align: top;\n    }\n\n    .dataframe thead th {\n        text-align: right;\n    }\n</style>\n<table border=\"1\" class=\"dataframe\">\n  <thead>\n    <tr style=\"text-align: right;\">\n      <th></th>\n      <th>total_bill</th>\n      <th>tip</th>\n      <th>sex</th>\n      <th>smoker</th>\n      <th>day</th>\n      <th>time</th>\n      <th>size</th>\n      <th>price_per_person</th>\n      <th>Payer Name</th>\n      <th>CC Number</th>\n      <th>Payment ID</th>\n    </tr>\n  </thead>\n  <tbody>\n    <tr>\n      <th>0</th>\n      <td>16.99</td>\n      <td>1.01</td>\n      <td>Female</td>\n      <td>No</td>\n      <td>Sun</td>\n      <td>Dinner</td>\n      <td>2</td>\n      <td>8.49</td>\n      <td>Christy Cunningham</td>\n      <td>3560325168603410</td>\n      <td>Sun2959</td>\n    </tr>\n    <tr>\n      <th>1</th>\n      <td>10.34</td>\n      <td>1.66</td>\n      <td>Male</td>\n      <td>No</td>\n      <td>Sun</td>\n      <td>Dinner</td>\n      <td>3</td>\n      <td>3.45</td>\n      <td>Douglas Tucker</td>\n      <td>4478071379779230</td>\n      <td>Sun4608</td>\n    </tr>\n    <tr>\n      <th>2</th>\n      <td>21.01</td>\n      <td>3.50</td>\n      <td>Male</td>\n      <td>No</td>\n      <td>Sun</td>\n      <td>Dinner</td>\n      <td>3</td>\n      <td>7.00</td>\n      <td>Travis Walters</td>\n      <td>6011812112971322</td>\n      <td>Sun4458</td>\n    </tr>\n    <tr>\n      <th>3</th>\n      <td>23.68</td>\n      <td>3.31</td>\n      <td>Male</td>\n      <td>No</td>\n      <td>Sun</td>\n      <td>Dinner</td>\n      <td>2</td>\n      <td>11.84</td>\n      <td>Nathaniel Harris</td>\n      <td>4676137647685994</td>\n      <td>Sun5260</td>\n    </tr>\n    <tr>\n      <th>4</th>\n      <td>24.59</td>\n      <td>3.61</td>\n      <td>Female</td>\n      <td>No</td>\n      <td>Sun</td>\n      <td>Dinner</td>\n      <td>4</td>\n      <td>6.15</td>\n      <td>Tonya Carter</td>\n      <td>4832732618637221</td>\n      <td>Sun2251</td>\n    </tr>\n  </tbody>\n</table>\n</div>"
     },
     "execution_count": 24,
     "metadata": {},
     "output_type": "execute_result"
    }
   ],
   "source": [
    "df.head()"
   ],
   "metadata": {
    "collapsed": false,
    "ExecuteTime": {
     "end_time": "2023-11-25T07:29:47.175841800Z",
     "start_time": "2023-11-25T07:29:47.172853900Z"
    }
   },
   "id": "d0701688303cbc0e"
  },
  {
   "cell_type": "code",
   "execution_count": 30,
   "outputs": [
    {
     "data": {
      "text/plain": "     total_bill   tip     sex smoker  day    time  size  price_per_person  \\\n0         16.99  1.01  Female     No  Sun  Dinner     2              8.49   \n1         10.34  1.66    Male     No  Sun  Dinner     3              3.45   \n2         21.01  3.50    Male     No  Sun  Dinner     3              7.00   \n3         23.68  3.31    Male     No  Sun  Dinner     2             11.84   \n4         24.59  3.61  Female     No  Sun  Dinner     4              6.15   \n..          ...   ...     ...    ...  ...     ...   ...               ...   \n238       35.83  4.67  Female     No  Sat  Dinner     3             11.94   \n239       29.03  5.92    Male     No  Sat  Dinner     3              9.68   \n240       27.18  2.00  Female    Yes  Sat  Dinner     2             13.59   \n241       22.67  2.00    Male    Yes  Sat  Dinner     2             11.34   \n242       17.82  1.75    Male     No  Sat  Dinner     2              8.91   \n\n             Payer Name         CC Number Payment ID  \n0    Christy Cunningham  3560325168603410    Sun2959  \n1        Douglas Tucker  4478071379779230    Sun4608  \n2        Travis Walters  6011812112971322    Sun4458  \n3      Nathaniel Harris  4676137647685994    Sun5260  \n4          Tonya Carter  4832732618637221    Sun2251  \n..                  ...               ...        ...  \n238      Kimberly Crane      676184013727    Sat9777  \n239       Michael Avila  5296068606052842    Sat2657  \n240      Monica Sanders  3506806155565404    Sat1766  \n241          Keith Wong  6011891618747196    Sat3880  \n242        Dennis Dixon     4375220550950      Sat17  \n\n[182 rows x 11 columns]",
      "text/html": "<div>\n<style scoped>\n    .dataframe tbody tr th:only-of-type {\n        vertical-align: middle;\n    }\n\n    .dataframe tbody tr th {\n        vertical-align: top;\n    }\n\n    .dataframe thead th {\n        text-align: right;\n    }\n</style>\n<table border=\"1\" class=\"dataframe\">\n  <thead>\n    <tr style=\"text-align: right;\">\n      <th></th>\n      <th>total_bill</th>\n      <th>tip</th>\n      <th>sex</th>\n      <th>smoker</th>\n      <th>day</th>\n      <th>time</th>\n      <th>size</th>\n      <th>price_per_person</th>\n      <th>Payer Name</th>\n      <th>CC Number</th>\n      <th>Payment ID</th>\n    </tr>\n  </thead>\n  <tbody>\n    <tr>\n      <th>0</th>\n      <td>16.99</td>\n      <td>1.01</td>\n      <td>Female</td>\n      <td>No</td>\n      <td>Sun</td>\n      <td>Dinner</td>\n      <td>2</td>\n      <td>8.49</td>\n      <td>Christy Cunningham</td>\n      <td>3560325168603410</td>\n      <td>Sun2959</td>\n    </tr>\n    <tr>\n      <th>1</th>\n      <td>10.34</td>\n      <td>1.66</td>\n      <td>Male</td>\n      <td>No</td>\n      <td>Sun</td>\n      <td>Dinner</td>\n      <td>3</td>\n      <td>3.45</td>\n      <td>Douglas Tucker</td>\n      <td>4478071379779230</td>\n      <td>Sun4608</td>\n    </tr>\n    <tr>\n      <th>2</th>\n      <td>21.01</td>\n      <td>3.50</td>\n      <td>Male</td>\n      <td>No</td>\n      <td>Sun</td>\n      <td>Dinner</td>\n      <td>3</td>\n      <td>7.00</td>\n      <td>Travis Walters</td>\n      <td>6011812112971322</td>\n      <td>Sun4458</td>\n    </tr>\n    <tr>\n      <th>3</th>\n      <td>23.68</td>\n      <td>3.31</td>\n      <td>Male</td>\n      <td>No</td>\n      <td>Sun</td>\n      <td>Dinner</td>\n      <td>2</td>\n      <td>11.84</td>\n      <td>Nathaniel Harris</td>\n      <td>4676137647685994</td>\n      <td>Sun5260</td>\n    </tr>\n    <tr>\n      <th>4</th>\n      <td>24.59</td>\n      <td>3.61</td>\n      <td>Female</td>\n      <td>No</td>\n      <td>Sun</td>\n      <td>Dinner</td>\n      <td>4</td>\n      <td>6.15</td>\n      <td>Tonya Carter</td>\n      <td>4832732618637221</td>\n      <td>Sun2251</td>\n    </tr>\n    <tr>\n      <th>...</th>\n      <td>...</td>\n      <td>...</td>\n      <td>...</td>\n      <td>...</td>\n      <td>...</td>\n      <td>...</td>\n      <td>...</td>\n      <td>...</td>\n      <td>...</td>\n      <td>...</td>\n      <td>...</td>\n    </tr>\n    <tr>\n      <th>238</th>\n      <td>35.83</td>\n      <td>4.67</td>\n      <td>Female</td>\n      <td>No</td>\n      <td>Sat</td>\n      <td>Dinner</td>\n      <td>3</td>\n      <td>11.94</td>\n      <td>Kimberly Crane</td>\n      <td>676184013727</td>\n      <td>Sat9777</td>\n    </tr>\n    <tr>\n      <th>239</th>\n      <td>29.03</td>\n      <td>5.92</td>\n      <td>Male</td>\n      <td>No</td>\n      <td>Sat</td>\n      <td>Dinner</td>\n      <td>3</td>\n      <td>9.68</td>\n      <td>Michael Avila</td>\n      <td>5296068606052842</td>\n      <td>Sat2657</td>\n    </tr>\n    <tr>\n      <th>240</th>\n      <td>27.18</td>\n      <td>2.00</td>\n      <td>Female</td>\n      <td>Yes</td>\n      <td>Sat</td>\n      <td>Dinner</td>\n      <td>2</td>\n      <td>13.59</td>\n      <td>Monica Sanders</td>\n      <td>3506806155565404</td>\n      <td>Sat1766</td>\n    </tr>\n    <tr>\n      <th>241</th>\n      <td>22.67</td>\n      <td>2.00</td>\n      <td>Male</td>\n      <td>Yes</td>\n      <td>Sat</td>\n      <td>Dinner</td>\n      <td>2</td>\n      <td>11.34</td>\n      <td>Keith Wong</td>\n      <td>6011891618747196</td>\n      <td>Sat3880</td>\n    </tr>\n    <tr>\n      <th>242</th>\n      <td>17.82</td>\n      <td>1.75</td>\n      <td>Male</td>\n      <td>No</td>\n      <td>Sat</td>\n      <td>Dinner</td>\n      <td>2</td>\n      <td>8.91</td>\n      <td>Dennis Dixon</td>\n      <td>4375220550950</td>\n      <td>Sat17</td>\n    </tr>\n  </tbody>\n</table>\n<p>182 rows × 11 columns</p>\n</div>"
     },
     "execution_count": 30,
     "metadata": {},
     "output_type": "execute_result"
    }
   ],
   "source": [
    "# df[(df['day'] == 'Sun') | (df['day'] == 'Sat') | (df['day'] == 'Fri')]\n",
    "\n",
    "options = ['Sat', 'Sun', 'Fri']\n",
    "df[df['day'].isin(options)]"
   ],
   "metadata": {
    "collapsed": false,
    "ExecuteTime": {
     "end_time": "2023-11-25T07:31:50.887793200Z",
     "start_time": "2023-11-25T07:31:50.861615300Z"
    }
   },
   "id": "621995e498148848"
  },
  {
   "cell_type": "code",
   "execution_count": null,
   "outputs": [],
   "source": [],
   "metadata": {
    "collapsed": false
   },
   "id": "91f898cafb6fdb34"
  }
 ],
 "metadata": {
  "kernelspec": {
   "display_name": "Python 3",
   "language": "python",
   "name": "python3"
  },
  "language_info": {
   "codemirror_mode": {
    "name": "ipython",
    "version": 2
   },
   "file_extension": ".py",
   "mimetype": "text/x-python",
   "name": "python",
   "nbconvert_exporter": "python",
   "pygments_lexer": "ipython2",
   "version": "2.7.6"
  }
 },
 "nbformat": 4,
 "nbformat_minor": 5
}
