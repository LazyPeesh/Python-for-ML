{
 "cells": [
  {
   "cell_type": "code",
   "execution_count": 1,
   "id": "initial_id",
   "metadata": {
    "collapsed": true,
    "ExecuteTime": {
     "end_time": "2023-11-25T15:56:00.312117500Z",
     "start_time": "2023-11-25T15:55:59.986262900Z"
    }
   },
   "outputs": [],
   "source": [
    "import numpy as np\n",
    "import pandas as pd\n",
    "\n",
    "from datetime import datetime"
   ]
  },
  {
   "cell_type": "code",
   "execution_count": 2,
   "outputs": [],
   "source": [
    "myyear = 2015\n",
    "mymonth = 1\n",
    "myday = 1\n",
    "myhour = 2\n",
    "mymin = 30\n",
    "mysec = 15"
   ],
   "metadata": {
    "collapsed": false,
    "ExecuteTime": {
     "end_time": "2023-11-25T15:56:27.524233300Z",
     "start_time": "2023-11-25T15:56:27.512452600Z"
    }
   },
   "id": "b8a031ee0ba0b8f5"
  },
  {
   "cell_type": "code",
   "execution_count": 4,
   "outputs": [],
   "source": [
    "mydate = datetime(myyear, mymonth, myday)"
   ],
   "metadata": {
    "collapsed": false,
    "ExecuteTime": {
     "end_time": "2023-11-25T15:57:04.446062100Z",
     "start_time": "2023-11-25T15:57:04.438902Z"
    }
   },
   "id": "a5bcfa0ac53dcb79"
  },
  {
   "cell_type": "code",
   "execution_count": 5,
   "outputs": [
    {
     "data": {
      "text/plain": "datetime.datetime(2015, 1, 1, 0, 0)"
     },
     "execution_count": 5,
     "metadata": {},
     "output_type": "execute_result"
    }
   ],
   "source": [
    "mydate"
   ],
   "metadata": {
    "collapsed": false,
    "ExecuteTime": {
     "end_time": "2023-11-25T15:57:07.170904300Z",
     "start_time": "2023-11-25T15:57:07.159851Z"
    }
   },
   "id": "d14cfff3930be3d3"
  },
  {
   "cell_type": "code",
   "execution_count": 6,
   "outputs": [],
   "source": [
    "mydatetime = datetime(myyear, mymonth, myday, myhour, mymin, mysec)"
   ],
   "metadata": {
    "collapsed": false,
    "ExecuteTime": {
     "end_time": "2023-11-25T15:57:43.747207700Z",
     "start_time": "2023-11-25T15:57:43.734978400Z"
    }
   },
   "id": "c73ca45725ace42c"
  },
  {
   "cell_type": "code",
   "execution_count": 7,
   "outputs": [
    {
     "data": {
      "text/plain": "datetime.datetime(2015, 1, 1, 2, 30, 15)"
     },
     "execution_count": 7,
     "metadata": {},
     "output_type": "execute_result"
    }
   ],
   "source": [
    "mydatetime"
   ],
   "metadata": {
    "collapsed": false,
    "ExecuteTime": {
     "end_time": "2023-11-25T15:57:49.225459600Z",
     "start_time": "2023-11-25T15:57:49.209580Z"
    }
   },
   "id": "a105fbf0a5477c4e"
  },
  {
   "cell_type": "code",
   "execution_count": 10,
   "outputs": [
    {
     "data": {
      "text/plain": "2015"
     },
     "execution_count": 10,
     "metadata": {},
     "output_type": "execute_result"
    }
   ],
   "source": [
    "mydatetime.year"
   ],
   "metadata": {
    "collapsed": false,
    "ExecuteTime": {
     "end_time": "2023-11-25T15:58:52.474866500Z",
     "start_time": "2023-11-25T15:58:52.466284Z"
    }
   },
   "id": "42d8217a1173b76e"
  },
  {
   "cell_type": "code",
   "execution_count": 11,
   "outputs": [],
   "source": [
    "myser = pd.Series(['Nov 3, 1990', '2000-01-01', None])"
   ],
   "metadata": {
    "collapsed": false,
    "ExecuteTime": {
     "end_time": "2023-11-25T15:59:44.396056Z",
     "start_time": "2023-11-25T15:59:44.382176600Z"
    }
   },
   "id": "b095dd6d01115da3"
  },
  {
   "cell_type": "code",
   "execution_count": 12,
   "outputs": [
    {
     "data": {
      "text/plain": "0    Nov 3, 1990\n1     2000-01-01\n2           None\ndtype: object"
     },
     "execution_count": 12,
     "metadata": {},
     "output_type": "execute_result"
    }
   ],
   "source": [
    "myser"
   ],
   "metadata": {
    "collapsed": false,
    "ExecuteTime": {
     "end_time": "2023-11-25T15:59:46.571564300Z",
     "start_time": "2023-11-25T15:59:46.556910900Z"
    }
   },
   "id": "3b3abc44ecd86206"
  },
  {
   "cell_type": "code",
   "execution_count": 13,
   "outputs": [
    {
     "data": {
      "text/plain": "'Nov 3, 1990'"
     },
     "execution_count": 13,
     "metadata": {},
     "output_type": "execute_result"
    }
   ],
   "source": [
    "myser[0]"
   ],
   "metadata": {
    "collapsed": false,
    "ExecuteTime": {
     "end_time": "2023-11-25T15:59:56.974056900Z",
     "start_time": "2023-11-25T15:59:56.960885400Z"
    }
   },
   "id": "c32b03c093586c17"
  },
  {
   "cell_type": "code",
   "execution_count": 18,
   "outputs": [],
   "source": [
    "timeser = pd.to_datetime(myser, format='mixed')"
   ],
   "metadata": {
    "collapsed": false,
    "ExecuteTime": {
     "end_time": "2023-11-25T16:01:41.399417Z",
     "start_time": "2023-11-25T16:01:41.372330100Z"
    }
   },
   "id": "78487c3c5654dc56"
  },
  {
   "cell_type": "code",
   "execution_count": 21,
   "outputs": [
    {
     "data": {
      "text/plain": "1990"
     },
     "execution_count": 21,
     "metadata": {},
     "output_type": "execute_result"
    }
   ],
   "source": [
    "timeser[0].year"
   ],
   "metadata": {
    "collapsed": false,
    "ExecuteTime": {
     "end_time": "2023-11-25T16:02:04.883456400Z",
     "start_time": "2023-11-25T16:02:04.877430900Z"
    }
   },
   "id": "10b59dd218a3d3e6"
  },
  {
   "cell_type": "code",
   "execution_count": 31,
   "outputs": [],
   "source": [
    "obvi_euro_date = '31-12-2000'"
   ],
   "metadata": {
    "collapsed": false,
    "ExecuteTime": {
     "end_time": "2023-11-25T16:04:09.146054100Z",
     "start_time": "2023-11-25T16:04:09.138537500Z"
    }
   },
   "id": "3250235b377d3e9"
  },
  {
   "cell_type": "code",
   "execution_count": 32,
   "outputs": [
    {
     "name": "stderr",
     "output_type": "stream",
     "text": [
      "C:\\Users\\Terence\\AppData\\Local\\Temp\\ipykernel_432\\3019810549.py:1: UserWarning: Parsing dates in %d-%m-%Y format when dayfirst=False (the default) was specified. Pass `dayfirst=True` or specify a format to silence this warning.\n",
      "  pd.to_datetime(obvi_euro_date)\n"
     ]
    },
    {
     "data": {
      "text/plain": "Timestamp('2000-12-31 00:00:00')"
     },
     "execution_count": 32,
     "metadata": {},
     "output_type": "execute_result"
    }
   ],
   "source": [
    "pd.to_datetime(obvi_euro_date)"
   ],
   "metadata": {
    "collapsed": false,
    "ExecuteTime": {
     "end_time": "2023-11-25T16:04:09.498383300Z",
     "start_time": "2023-11-25T16:04:09.493800900Z"
    }
   },
   "id": "ddade3690e066e0"
  },
  {
   "cell_type": "code",
   "execution_count": 33,
   "outputs": [],
   "source": [
    "euro_date = '10-12-2000'"
   ],
   "metadata": {
    "collapsed": false,
    "ExecuteTime": {
     "end_time": "2023-11-25T16:04:10.084099500Z",
     "start_time": "2023-11-25T16:04:10.077584400Z"
    }
   },
   "id": "107a2e0b5805d8a2"
  },
  {
   "cell_type": "code",
   "execution_count": 34,
   "outputs": [
    {
     "data": {
      "text/plain": "Timestamp('2000-12-10 00:00:00')"
     },
     "execution_count": 34,
     "metadata": {},
     "output_type": "execute_result"
    }
   ],
   "source": [
    "pd.to_datetime(euro_date, dayfirst=True)"
   ],
   "metadata": {
    "collapsed": false,
    "ExecuteTime": {
     "end_time": "2023-11-25T16:04:22.779945500Z",
     "start_time": "2023-11-25T16:04:22.771928800Z"
    }
   },
   "id": "6f6df05124aaa0bd"
  },
  {
   "cell_type": "code",
   "execution_count": 35,
   "outputs": [],
   "source": [
    "style_date = '12--Dec--2000'"
   ],
   "metadata": {
    "collapsed": false,
    "ExecuteTime": {
     "end_time": "2023-11-25T16:06:51.993910Z",
     "start_time": "2023-11-25T16:06:51.977265300Z"
    }
   },
   "id": "464947821eca9c74"
  },
  {
   "cell_type": "code",
   "execution_count": 36,
   "outputs": [
    {
     "data": {
      "text/plain": "Timestamp('2000-12-12 00:00:00')"
     },
     "execution_count": 36,
     "metadata": {},
     "output_type": "execute_result"
    }
   ],
   "source": [
    "pd.to_datetime(style_date, format='%d--%b--%Y')"
   ],
   "metadata": {
    "collapsed": false,
    "ExecuteTime": {
     "end_time": "2023-11-25T16:08:22.324305200Z",
     "start_time": "2023-11-25T16:08:22.307523100Z"
    }
   },
   "id": "ec793e4e32fdb291"
  },
  {
   "cell_type": "code",
   "execution_count": 39,
   "outputs": [
    {
     "data": {
      "text/plain": "Timestamp('2000-12-12 00:00:00')"
     },
     "execution_count": 39,
     "metadata": {},
     "output_type": "execute_result"
    }
   ],
   "source": [
    "custom_date = \"12th of Dec 2000\"\n",
    "pd.to_datetime(custom_date)"
   ],
   "metadata": {
    "collapsed": false,
    "ExecuteTime": {
     "end_time": "2023-11-25T16:09:23.147875900Z",
     "start_time": "2023-11-25T16:09:23.138571600Z"
    }
   },
   "id": "b11b3b0efd68ef28"
  },
  {
   "cell_type": "code",
   "execution_count": 40,
   "outputs": [],
   "source": [
    "sales = pd.read_csv('RetailSales_BeerWineLiquor.csv')"
   ],
   "metadata": {
    "collapsed": false,
    "ExecuteTime": {
     "end_time": "2023-11-25T16:09:56.418852200Z",
     "start_time": "2023-11-25T16:09:56.402002500Z"
    }
   },
   "id": "fde5ca337a766309"
  },
  {
   "cell_type": "code",
   "execution_count": 41,
   "outputs": [
    {
     "data": {
      "text/plain": "           DATE  MRTSSM4453USN\n0    1992-01-01           1509\n1    1992-02-01           1541\n2    1992-03-01           1597\n3    1992-04-01           1675\n4    1992-05-01           1822\n..          ...            ...\n335  2019-12-01           6630\n336  2020-01-01           4388\n337  2020-02-01           4533\n338  2020-03-01           5562\n339  2020-04-01           5207\n\n[340 rows x 2 columns]",
      "text/html": "<div>\n<style scoped>\n    .dataframe tbody tr th:only-of-type {\n        vertical-align: middle;\n    }\n\n    .dataframe tbody tr th {\n        vertical-align: top;\n    }\n\n    .dataframe thead th {\n        text-align: right;\n    }\n</style>\n<table border=\"1\" class=\"dataframe\">\n  <thead>\n    <tr style=\"text-align: right;\">\n      <th></th>\n      <th>DATE</th>\n      <th>MRTSSM4453USN</th>\n    </tr>\n  </thead>\n  <tbody>\n    <tr>\n      <th>0</th>\n      <td>1992-01-01</td>\n      <td>1509</td>\n    </tr>\n    <tr>\n      <th>1</th>\n      <td>1992-02-01</td>\n      <td>1541</td>\n    </tr>\n    <tr>\n      <th>2</th>\n      <td>1992-03-01</td>\n      <td>1597</td>\n    </tr>\n    <tr>\n      <th>3</th>\n      <td>1992-04-01</td>\n      <td>1675</td>\n    </tr>\n    <tr>\n      <th>4</th>\n      <td>1992-05-01</td>\n      <td>1822</td>\n    </tr>\n    <tr>\n      <th>...</th>\n      <td>...</td>\n      <td>...</td>\n    </tr>\n    <tr>\n      <th>335</th>\n      <td>2019-12-01</td>\n      <td>6630</td>\n    </tr>\n    <tr>\n      <th>336</th>\n      <td>2020-01-01</td>\n      <td>4388</td>\n    </tr>\n    <tr>\n      <th>337</th>\n      <td>2020-02-01</td>\n      <td>4533</td>\n    </tr>\n    <tr>\n      <th>338</th>\n      <td>2020-03-01</td>\n      <td>5562</td>\n    </tr>\n    <tr>\n      <th>339</th>\n      <td>2020-04-01</td>\n      <td>5207</td>\n    </tr>\n  </tbody>\n</table>\n<p>340 rows × 2 columns</p>\n</div>"
     },
     "execution_count": 41,
     "metadata": {},
     "output_type": "execute_result"
    }
   ],
   "source": [
    "sales"
   ],
   "metadata": {
    "collapsed": false,
    "ExecuteTime": {
     "end_time": "2023-11-25T16:09:59.597013100Z",
     "start_time": "2023-11-25T16:09:59.579259100Z"
    }
   },
   "id": "5a14a848244b25c8"
  },
  {
   "cell_type": "code",
   "execution_count": 42,
   "outputs": [],
   "source": [
    "sales['DATE'] = pd.to_datetime(sales['DATE'])"
   ],
   "metadata": {
    "collapsed": false,
    "ExecuteTime": {
     "end_time": "2023-11-25T16:10:40.977992400Z",
     "start_time": "2023-11-25T16:10:40.945289900Z"
    }
   },
   "id": "50484a641094242e"
  },
  {
   "cell_type": "code",
   "execution_count": 43,
   "outputs": [
    {
     "data": {
      "text/plain": "          DATE  MRTSSM4453USN\n0   1992-01-01           1509\n1   1992-02-01           1541\n2   1992-03-01           1597\n3   1992-04-01           1675\n4   1992-05-01           1822\n..         ...            ...\n335 2019-12-01           6630\n336 2020-01-01           4388\n337 2020-02-01           4533\n338 2020-03-01           5562\n339 2020-04-01           5207\n\n[340 rows x 2 columns]",
      "text/html": "<div>\n<style scoped>\n    .dataframe tbody tr th:only-of-type {\n        vertical-align: middle;\n    }\n\n    .dataframe tbody tr th {\n        vertical-align: top;\n    }\n\n    .dataframe thead th {\n        text-align: right;\n    }\n</style>\n<table border=\"1\" class=\"dataframe\">\n  <thead>\n    <tr style=\"text-align: right;\">\n      <th></th>\n      <th>DATE</th>\n      <th>MRTSSM4453USN</th>\n    </tr>\n  </thead>\n  <tbody>\n    <tr>\n      <th>0</th>\n      <td>1992-01-01</td>\n      <td>1509</td>\n    </tr>\n    <tr>\n      <th>1</th>\n      <td>1992-02-01</td>\n      <td>1541</td>\n    </tr>\n    <tr>\n      <th>2</th>\n      <td>1992-03-01</td>\n      <td>1597</td>\n    </tr>\n    <tr>\n      <th>3</th>\n      <td>1992-04-01</td>\n      <td>1675</td>\n    </tr>\n    <tr>\n      <th>4</th>\n      <td>1992-05-01</td>\n      <td>1822</td>\n    </tr>\n    <tr>\n      <th>...</th>\n      <td>...</td>\n      <td>...</td>\n    </tr>\n    <tr>\n      <th>335</th>\n      <td>2019-12-01</td>\n      <td>6630</td>\n    </tr>\n    <tr>\n      <th>336</th>\n      <td>2020-01-01</td>\n      <td>4388</td>\n    </tr>\n    <tr>\n      <th>337</th>\n      <td>2020-02-01</td>\n      <td>4533</td>\n    </tr>\n    <tr>\n      <th>338</th>\n      <td>2020-03-01</td>\n      <td>5562</td>\n    </tr>\n    <tr>\n      <th>339</th>\n      <td>2020-04-01</td>\n      <td>5207</td>\n    </tr>\n  </tbody>\n</table>\n<p>340 rows × 2 columns</p>\n</div>"
     },
     "execution_count": 43,
     "metadata": {},
     "output_type": "execute_result"
    }
   ],
   "source": [
    "sales"
   ],
   "metadata": {
    "collapsed": false,
    "ExecuteTime": {
     "end_time": "2023-11-25T16:10:44.692434800Z",
     "start_time": "2023-11-25T16:10:44.678311400Z"
    }
   },
   "id": "25fd5409dbb3f645"
  },
  {
   "cell_type": "code",
   "execution_count": 45,
   "outputs": [
    {
     "data": {
      "text/plain": "1992"
     },
     "execution_count": 45,
     "metadata": {},
     "output_type": "execute_result"
    }
   ],
   "source": [
    "sales['DATE'][0].year"
   ],
   "metadata": {
    "collapsed": false,
    "ExecuteTime": {
     "end_time": "2023-11-25T16:11:10.245567500Z",
     "start_time": "2023-11-25T16:11:10.234107100Z"
    }
   },
   "id": "bc9023bcbb7774c1"
  },
  {
   "cell_type": "code",
   "execution_count": 46,
   "outputs": [
    {
     "data": {
      "text/plain": "        DATE  MRTSSM4453USN\n0 1992-01-01           1509\n1 1992-02-01           1541\n2 1992-03-01           1597\n3 1992-04-01           1675\n4 1992-05-01           1822",
      "text/html": "<div>\n<style scoped>\n    .dataframe tbody tr th:only-of-type {\n        vertical-align: middle;\n    }\n\n    .dataframe tbody tr th {\n        vertical-align: top;\n    }\n\n    .dataframe thead th {\n        text-align: right;\n    }\n</style>\n<table border=\"1\" class=\"dataframe\">\n  <thead>\n    <tr style=\"text-align: right;\">\n      <th></th>\n      <th>DATE</th>\n      <th>MRTSSM4453USN</th>\n    </tr>\n  </thead>\n  <tbody>\n    <tr>\n      <th>0</th>\n      <td>1992-01-01</td>\n      <td>1509</td>\n    </tr>\n    <tr>\n      <th>1</th>\n      <td>1992-02-01</td>\n      <td>1541</td>\n    </tr>\n    <tr>\n      <th>2</th>\n      <td>1992-03-01</td>\n      <td>1597</td>\n    </tr>\n    <tr>\n      <th>3</th>\n      <td>1992-04-01</td>\n      <td>1675</td>\n    </tr>\n    <tr>\n      <th>4</th>\n      <td>1992-05-01</td>\n      <td>1822</td>\n    </tr>\n  </tbody>\n</table>\n</div>"
     },
     "execution_count": 46,
     "metadata": {},
     "output_type": "execute_result"
    }
   ],
   "source": [
    "sales.head()"
   ],
   "metadata": {
    "collapsed": false,
    "ExecuteTime": {
     "end_time": "2023-11-25T16:11:51.493236300Z",
     "start_time": "2023-11-25T16:11:51.488237200Z"
    }
   },
   "id": "a15a0fd6b2e21ef"
  },
  {
   "cell_type": "code",
   "execution_count": 47,
   "outputs": [],
   "source": [
    "sales = pd.read_csv('RetailSales_BeerWineLiquor.csv', parse_dates=[0])"
   ],
   "metadata": {
    "collapsed": false,
    "ExecuteTime": {
     "end_time": "2023-11-25T16:11:55.588320300Z",
     "start_time": "2023-11-25T16:11:55.571373900Z"
    }
   },
   "id": "7ccb92be98bf39ca"
  },
  {
   "cell_type": "code",
   "execution_count": 49,
   "outputs": [
    {
     "data": {
      "text/plain": "0     1992-01-01\n1     1992-02-01\n2     1992-03-01\n3     1992-04-01\n4     1992-05-01\n         ...    \n335   2019-12-01\n336   2020-01-01\n337   2020-02-01\n338   2020-03-01\n339   2020-04-01\nName: DATE, Length: 340, dtype: datetime64[ns]"
     },
     "execution_count": 49,
     "metadata": {},
     "output_type": "execute_result"
    }
   ],
   "source": [
    "sales['DATE']"
   ],
   "metadata": {
    "collapsed": false,
    "ExecuteTime": {
     "end_time": "2023-11-25T16:12:04.774993Z",
     "start_time": "2023-11-25T16:12:04.769408400Z"
    }
   },
   "id": "3c1320d3e77d1084"
  },
  {
   "cell_type": "code",
   "execution_count": 50,
   "outputs": [],
   "source": [
    "sales = sales.set_index('DATE')"
   ],
   "metadata": {
    "collapsed": false,
    "ExecuteTime": {
     "end_time": "2023-11-25T16:12:37.365233700Z",
     "start_time": "2023-11-25T16:12:37.341543400Z"
    }
   },
   "id": "d7cd94ae80aee185"
  },
  {
   "cell_type": "code",
   "execution_count": 51,
   "outputs": [
    {
     "data": {
      "text/plain": "            MRTSSM4453USN\nDATE                     \n1992-01-01           1509\n1992-02-01           1541\n1992-03-01           1597\n1992-04-01           1675\n1992-05-01           1822\n...                   ...\n2019-12-01           6630\n2020-01-01           4388\n2020-02-01           4533\n2020-03-01           5562\n2020-04-01           5207\n\n[340 rows x 1 columns]",
      "text/html": "<div>\n<style scoped>\n    .dataframe tbody tr th:only-of-type {\n        vertical-align: middle;\n    }\n\n    .dataframe tbody tr th {\n        vertical-align: top;\n    }\n\n    .dataframe thead th {\n        text-align: right;\n    }\n</style>\n<table border=\"1\" class=\"dataframe\">\n  <thead>\n    <tr style=\"text-align: right;\">\n      <th></th>\n      <th>MRTSSM4453USN</th>\n    </tr>\n    <tr>\n      <th>DATE</th>\n      <th></th>\n    </tr>\n  </thead>\n  <tbody>\n    <tr>\n      <th>1992-01-01</th>\n      <td>1509</td>\n    </tr>\n    <tr>\n      <th>1992-02-01</th>\n      <td>1541</td>\n    </tr>\n    <tr>\n      <th>1992-03-01</th>\n      <td>1597</td>\n    </tr>\n    <tr>\n      <th>1992-04-01</th>\n      <td>1675</td>\n    </tr>\n    <tr>\n      <th>1992-05-01</th>\n      <td>1822</td>\n    </tr>\n    <tr>\n      <th>...</th>\n      <td>...</td>\n    </tr>\n    <tr>\n      <th>2019-12-01</th>\n      <td>6630</td>\n    </tr>\n    <tr>\n      <th>2020-01-01</th>\n      <td>4388</td>\n    </tr>\n    <tr>\n      <th>2020-02-01</th>\n      <td>4533</td>\n    </tr>\n    <tr>\n      <th>2020-03-01</th>\n      <td>5562</td>\n    </tr>\n    <tr>\n      <th>2020-04-01</th>\n      <td>5207</td>\n    </tr>\n  </tbody>\n</table>\n<p>340 rows × 1 columns</p>\n</div>"
     },
     "execution_count": 51,
     "metadata": {},
     "output_type": "execute_result"
    }
   ],
   "source": [
    "sales"
   ],
   "metadata": {
    "collapsed": false,
    "ExecuteTime": {
     "end_time": "2023-11-25T16:12:44.379989300Z",
     "start_time": "2023-11-25T16:12:44.366309600Z"
    }
   },
   "id": "f46da4d4e7ecebef"
  },
  {
   "cell_type": "code",
   "execution_count": 53,
   "outputs": [
    {
     "data": {
      "text/plain": "            MRTSSM4453USN\nDATE                     \n1992-12-31    1807.250000\n1993-12-31    1794.833333\n1994-12-31    1841.750000\n1995-12-31    1833.916667\n1996-12-31    1929.750000\n1997-12-31    2006.750000\n1998-12-31    2115.166667\n1999-12-31    2206.333333\n2000-12-31    2375.583333\n2001-12-31    2468.416667\n2002-12-31    2491.166667\n2003-12-31    2539.083333\n2004-12-31    2682.416667\n2005-12-31    2797.250000\n2006-12-31    3001.333333\n2007-12-31    3177.333333\n2008-12-31    3292.000000\n2009-12-31    3353.750000\n2010-12-31    3450.083333\n2011-12-31    3532.666667\n2012-12-31    3697.083333\n2013-12-31    3839.666667\n2014-12-31    4023.833333\n2015-12-31    4212.500000\n2016-12-31    4434.416667\n2017-12-31    4602.666667\n2018-12-31    4830.666667\n2019-12-31    4972.750000\n2020-12-31    4922.500000",
      "text/html": "<div>\n<style scoped>\n    .dataframe tbody tr th:only-of-type {\n        vertical-align: middle;\n    }\n\n    .dataframe tbody tr th {\n        vertical-align: top;\n    }\n\n    .dataframe thead th {\n        text-align: right;\n    }\n</style>\n<table border=\"1\" class=\"dataframe\">\n  <thead>\n    <tr style=\"text-align: right;\">\n      <th></th>\n      <th>MRTSSM4453USN</th>\n    </tr>\n    <tr>\n      <th>DATE</th>\n      <th></th>\n    </tr>\n  </thead>\n  <tbody>\n    <tr>\n      <th>1992-12-31</th>\n      <td>1807.250000</td>\n    </tr>\n    <tr>\n      <th>1993-12-31</th>\n      <td>1794.833333</td>\n    </tr>\n    <tr>\n      <th>1994-12-31</th>\n      <td>1841.750000</td>\n    </tr>\n    <tr>\n      <th>1995-12-31</th>\n      <td>1833.916667</td>\n    </tr>\n    <tr>\n      <th>1996-12-31</th>\n      <td>1929.750000</td>\n    </tr>\n    <tr>\n      <th>1997-12-31</th>\n      <td>2006.750000</td>\n    </tr>\n    <tr>\n      <th>1998-12-31</th>\n      <td>2115.166667</td>\n    </tr>\n    <tr>\n      <th>1999-12-31</th>\n      <td>2206.333333</td>\n    </tr>\n    <tr>\n      <th>2000-12-31</th>\n      <td>2375.583333</td>\n    </tr>\n    <tr>\n      <th>2001-12-31</th>\n      <td>2468.416667</td>\n    </tr>\n    <tr>\n      <th>2002-12-31</th>\n      <td>2491.166667</td>\n    </tr>\n    <tr>\n      <th>2003-12-31</th>\n      <td>2539.083333</td>\n    </tr>\n    <tr>\n      <th>2004-12-31</th>\n      <td>2682.416667</td>\n    </tr>\n    <tr>\n      <th>2005-12-31</th>\n      <td>2797.250000</td>\n    </tr>\n    <tr>\n      <th>2006-12-31</th>\n      <td>3001.333333</td>\n    </tr>\n    <tr>\n      <th>2007-12-31</th>\n      <td>3177.333333</td>\n    </tr>\n    <tr>\n      <th>2008-12-31</th>\n      <td>3292.000000</td>\n    </tr>\n    <tr>\n      <th>2009-12-31</th>\n      <td>3353.750000</td>\n    </tr>\n    <tr>\n      <th>2010-12-31</th>\n      <td>3450.083333</td>\n    </tr>\n    <tr>\n      <th>2011-12-31</th>\n      <td>3532.666667</td>\n    </tr>\n    <tr>\n      <th>2012-12-31</th>\n      <td>3697.083333</td>\n    </tr>\n    <tr>\n      <th>2013-12-31</th>\n      <td>3839.666667</td>\n    </tr>\n    <tr>\n      <th>2014-12-31</th>\n      <td>4023.833333</td>\n    </tr>\n    <tr>\n      <th>2015-12-31</th>\n      <td>4212.500000</td>\n    </tr>\n    <tr>\n      <th>2016-12-31</th>\n      <td>4434.416667</td>\n    </tr>\n    <tr>\n      <th>2017-12-31</th>\n      <td>4602.666667</td>\n    </tr>\n    <tr>\n      <th>2018-12-31</th>\n      <td>4830.666667</td>\n    </tr>\n    <tr>\n      <th>2019-12-31</th>\n      <td>4972.750000</td>\n    </tr>\n    <tr>\n      <th>2020-12-31</th>\n      <td>4922.500000</td>\n    </tr>\n  </tbody>\n</table>\n</div>"
     },
     "execution_count": 53,
     "metadata": {},
     "output_type": "execute_result"
    }
   ],
   "source": [
    "sales.resample(rule='A').mean()"
   ],
   "metadata": {
    "collapsed": false,
    "ExecuteTime": {
     "end_time": "2023-11-25T16:13:23.996915900Z",
     "start_time": "2023-11-25T16:13:23.975946400Z"
    }
   },
   "id": "db3e5e22d0dc5310"
  },
  {
   "cell_type": "code",
   "execution_count": 54,
   "outputs": [],
   "source": [
    "sales = pd.read_csv('RetailSales_BeerWineLiquor.csv', parse_dates=[0])"
   ],
   "metadata": {
    "collapsed": false,
    "ExecuteTime": {
     "end_time": "2023-11-25T16:14:43.363173500Z",
     "start_time": "2023-11-25T16:14:43.341112Z"
    }
   },
   "id": "f7fa5949d2342ef6"
  },
  {
   "cell_type": "code",
   "execution_count": 55,
   "outputs": [
    {
     "data": {
      "text/plain": "        DATE  MRTSSM4453USN\n0 1992-01-01           1509\n1 1992-02-01           1541\n2 1992-03-01           1597\n3 1992-04-01           1675\n4 1992-05-01           1822",
      "text/html": "<div>\n<style scoped>\n    .dataframe tbody tr th:only-of-type {\n        vertical-align: middle;\n    }\n\n    .dataframe tbody tr th {\n        vertical-align: top;\n    }\n\n    .dataframe thead th {\n        text-align: right;\n    }\n</style>\n<table border=\"1\" class=\"dataframe\">\n  <thead>\n    <tr style=\"text-align: right;\">\n      <th></th>\n      <th>DATE</th>\n      <th>MRTSSM4453USN</th>\n    </tr>\n  </thead>\n  <tbody>\n    <tr>\n      <th>0</th>\n      <td>1992-01-01</td>\n      <td>1509</td>\n    </tr>\n    <tr>\n      <th>1</th>\n      <td>1992-02-01</td>\n      <td>1541</td>\n    </tr>\n    <tr>\n      <th>2</th>\n      <td>1992-03-01</td>\n      <td>1597</td>\n    </tr>\n    <tr>\n      <th>3</th>\n      <td>1992-04-01</td>\n      <td>1675</td>\n    </tr>\n    <tr>\n      <th>4</th>\n      <td>1992-05-01</td>\n      <td>1822</td>\n    </tr>\n  </tbody>\n</table>\n</div>"
     },
     "execution_count": 55,
     "metadata": {},
     "output_type": "execute_result"
    }
   ],
   "source": [
    "sales.head()"
   ],
   "metadata": {
    "collapsed": false,
    "ExecuteTime": {
     "end_time": "2023-11-25T16:14:47.376859700Z",
     "start_time": "2023-11-25T16:14:47.353868600Z"
    }
   },
   "id": "f6de90b4eeafc5c3"
  },
  {
   "cell_type": "code",
   "execution_count": 56,
   "outputs": [
    {
     "name": "stdout",
     "output_type": "stream",
     "text": [
      "<class 'pandas.core.frame.DataFrame'>\n",
      "RangeIndex: 340 entries, 0 to 339\n",
      "Data columns (total 2 columns):\n",
      " #   Column         Non-Null Count  Dtype         \n",
      "---  ------         --------------  -----         \n",
      " 0   DATE           340 non-null    datetime64[ns]\n",
      " 1   MRTSSM4453USN  340 non-null    int64         \n",
      "dtypes: datetime64[ns](1), int64(1)\n",
      "memory usage: 5.4 KB\n"
     ]
    }
   ],
   "source": [
    "sales.info()"
   ],
   "metadata": {
    "collapsed": false,
    "ExecuteTime": {
     "end_time": "2023-11-25T16:14:52.147755400Z",
     "start_time": "2023-11-25T16:14:52.109006600Z"
    }
   },
   "id": "4519fd30012c4102"
  },
  {
   "cell_type": "code",
   "execution_count": 57,
   "outputs": [
    {
     "data": {
      "text/plain": "0      1992\n1      1992\n2      1992\n3      1992\n4      1992\n       ... \n335    2019\n336    2020\n337    2020\n338    2020\n339    2020\nName: DATE, Length: 340, dtype: int32"
     },
     "execution_count": 57,
     "metadata": {},
     "output_type": "execute_result"
    }
   ],
   "source": [
    "sales['DATE'].dt.year"
   ],
   "metadata": {
    "collapsed": false,
    "ExecuteTime": {
     "end_time": "2023-11-25T16:15:04.661218400Z",
     "start_time": "2023-11-25T16:15:04.641993200Z"
    }
   },
   "id": "fcd0a4dd7f3b58e8"
  },
  {
   "cell_type": "code",
   "execution_count": 58,
   "outputs": [
    {
     "data": {
      "text/plain": "0       1\n1       2\n2       3\n3       4\n4       5\n       ..\n335    12\n336     1\n337     2\n338     3\n339     4\nName: DATE, Length: 340, dtype: int32"
     },
     "execution_count": 58,
     "metadata": {},
     "output_type": "execute_result"
    }
   ],
   "source": [
    "sales['DATE'].dt.month"
   ],
   "metadata": {
    "collapsed": false,
    "ExecuteTime": {
     "end_time": "2023-11-25T16:15:22.537075600Z",
     "start_time": "2023-11-25T16:15:22.513982900Z"
    }
   },
   "id": "7a3080e1522ac556"
  }
 ],
 "metadata": {
  "kernelspec": {
   "display_name": "Python 3",
   "language": "python",
   "name": "python3"
  },
  "language_info": {
   "codemirror_mode": {
    "name": "ipython",
    "version": 2
   },
   "file_extension": ".py",
   "mimetype": "text/x-python",
   "name": "python",
   "nbconvert_exporter": "python",
   "pygments_lexer": "ipython2",
   "version": "2.7.6"
  }
 },
 "nbformat": 4,
 "nbformat_minor": 5
}
