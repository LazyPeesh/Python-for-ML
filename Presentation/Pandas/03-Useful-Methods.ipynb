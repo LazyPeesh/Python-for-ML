{
 "cells": [
  {
   "cell_type": "markdown",
   "metadata": {},
   "source": [
    "# Useful Methods\n",
    "\n",
    "Let's cover some useful methods and functions built in to pandas. This is actually just a small sampling of the functions and methods available in Pandas, but they are some of the most commonly used.\n",
    "The [documentation](https://pandas.pydata.org/pandas-docs/stable/reference/index.html) is a great resource to continue exploring more methods and functions (we will introduce more further along in the course).\n",
    "Here is a list of functions and methods we'll cover here (click on one to jump to that section in this notebook.):\n",
    "\n",
    "* [apply() method](#apply_method)\n",
    "* [apply() with a function](#apply_function)\n",
    "* [apply() with a lambda expression](#apply_lambda)\n",
    "* [apply() on multiple columns](#apply_multiple)\n",
    "* [describe()](#describe)\n",
    "* [sort_values()](#sort)\n",
    "* [corr()](#corr)\n",
    "* [idxmin and idxmax](#idx)\n",
    "* [value_counts](#v_c)\n",
    "* [replace](#replace)\n",
    "* [unique and nunique](#uni)\n",
    "* [map](#map)\n",
    "* [duplicated and drop_duplicates](#dup)\n",
    "* [between](#bet)\n",
    "* [sample](#sample)\n",
    "* [nlargest](#n)\n",
    "\n",
    "Make sure to view the video lessons to get the full explanation!"
   ]
  },
  {
   "cell_type": "markdown",
   "metadata": {},
   "source": [
    "<a id='apply_method'></a>\n",
    "\n",
    "## The .apply() method\n",
    "\n",
    "Here we will learn about a very useful method known as **apply** on a DataFrame. This allows us to apply and broadcast custom functions on a DataFrame column"
   ]
  },
  {
   "cell_type": "code",
   "execution_count": 74,
   "metadata": {
    "collapsed": true,
    "ExecuteTime": {
     "end_time": "2023-11-26T15:50:49.998293200Z",
     "start_time": "2023-11-26T15:50:49.754879900Z"
    }
   },
   "outputs": [],
   "source": [
    "import pandas as pd\n",
    "import numpy as np"
   ]
  },
  {
   "cell_type": "code",
   "execution_count": 75,
   "metadata": {
    "collapsed": true,
    "ExecuteTime": {
     "end_time": "2023-11-26T15:50:50.074802500Z",
     "start_time": "2023-11-26T15:50:49.756908500Z"
    }
   },
   "outputs": [],
   "source": [
    "df = pd.read_csv('tips.csv')"
   ]
  },
  {
   "cell_type": "code",
   "execution_count": 76,
   "metadata": {
    "ExecuteTime": {
     "end_time": "2023-11-26T15:50:50.159097200Z",
     "start_time": "2023-11-26T15:50:49.765515100Z"
    }
   },
   "outputs": [
    {
     "data": {
      "text/plain": "   total_bill   tip     sex smoker  day    time  size  price_per_person  \\\n0       16.99  1.01  Female     No  Sun  Dinner     2              8.49   \n1       10.34  1.66    Male     No  Sun  Dinner     3              3.45   \n2       21.01  3.50    Male     No  Sun  Dinner     3              7.00   \n3       23.68  3.31    Male     No  Sun  Dinner     2             11.84   \n4       24.59  3.61  Female     No  Sun  Dinner     4              6.15   \n\n           Payer Name         CC Number Payment ID  \n0  Christy Cunningham  3560325168603410    Sun2959  \n1      Douglas Tucker  4478071379779230    Sun4608  \n2      Travis Walters  6011812112971322    Sun4458  \n3    Nathaniel Harris  4676137647685994    Sun5260  \n4        Tonya Carter  4832732618637221    Sun2251  ",
      "text/html": "<div>\n<style scoped>\n    .dataframe tbody tr th:only-of-type {\n        vertical-align: middle;\n    }\n\n    .dataframe tbody tr th {\n        vertical-align: top;\n    }\n\n    .dataframe thead th {\n        text-align: right;\n    }\n</style>\n<table border=\"1\" class=\"dataframe\">\n  <thead>\n    <tr style=\"text-align: right;\">\n      <th></th>\n      <th>total_bill</th>\n      <th>tip</th>\n      <th>sex</th>\n      <th>smoker</th>\n      <th>day</th>\n      <th>time</th>\n      <th>size</th>\n      <th>price_per_person</th>\n      <th>Payer Name</th>\n      <th>CC Number</th>\n      <th>Payment ID</th>\n    </tr>\n  </thead>\n  <tbody>\n    <tr>\n      <th>0</th>\n      <td>16.99</td>\n      <td>1.01</td>\n      <td>Female</td>\n      <td>No</td>\n      <td>Sun</td>\n      <td>Dinner</td>\n      <td>2</td>\n      <td>8.49</td>\n      <td>Christy Cunningham</td>\n      <td>3560325168603410</td>\n      <td>Sun2959</td>\n    </tr>\n    <tr>\n      <th>1</th>\n      <td>10.34</td>\n      <td>1.66</td>\n      <td>Male</td>\n      <td>No</td>\n      <td>Sun</td>\n      <td>Dinner</td>\n      <td>3</td>\n      <td>3.45</td>\n      <td>Douglas Tucker</td>\n      <td>4478071379779230</td>\n      <td>Sun4608</td>\n    </tr>\n    <tr>\n      <th>2</th>\n      <td>21.01</td>\n      <td>3.50</td>\n      <td>Male</td>\n      <td>No</td>\n      <td>Sun</td>\n      <td>Dinner</td>\n      <td>3</td>\n      <td>7.00</td>\n      <td>Travis Walters</td>\n      <td>6011812112971322</td>\n      <td>Sun4458</td>\n    </tr>\n    <tr>\n      <th>3</th>\n      <td>23.68</td>\n      <td>3.31</td>\n      <td>Male</td>\n      <td>No</td>\n      <td>Sun</td>\n      <td>Dinner</td>\n      <td>2</td>\n      <td>11.84</td>\n      <td>Nathaniel Harris</td>\n      <td>4676137647685994</td>\n      <td>Sun5260</td>\n    </tr>\n    <tr>\n      <th>4</th>\n      <td>24.59</td>\n      <td>3.61</td>\n      <td>Female</td>\n      <td>No</td>\n      <td>Sun</td>\n      <td>Dinner</td>\n      <td>4</td>\n      <td>6.15</td>\n      <td>Tonya Carter</td>\n      <td>4832732618637221</td>\n      <td>Sun2251</td>\n    </tr>\n  </tbody>\n</table>\n</div>"
     },
     "execution_count": 76,
     "metadata": {},
     "output_type": "execute_result"
    }
   ],
   "source": [
    "df.head()"
   ]
  },
  {
   "cell_type": "markdown",
   "metadata": {},
   "source": [
    "<a id='apply_function'></a>\n",
    "### apply with a function"
   ]
  },
  {
   "cell_type": "code",
   "execution_count": 77,
   "metadata": {
    "ExecuteTime": {
     "end_time": "2023-11-26T15:50:50.165096800Z",
     "start_time": "2023-11-26T15:50:49.771025600Z"
    }
   },
   "outputs": [
    {
     "name": "stdout",
     "output_type": "stream",
     "text": [
      "<class 'pandas.core.frame.DataFrame'>\n",
      "RangeIndex: 244 entries, 0 to 243\n",
      "Data columns (total 11 columns):\n",
      " #   Column            Non-Null Count  Dtype  \n",
      "---  ------            --------------  -----  \n",
      " 0   total_bill        244 non-null    float64\n",
      " 1   tip               244 non-null    float64\n",
      " 2   sex               244 non-null    object \n",
      " 3   smoker            244 non-null    object \n",
      " 4   day               244 non-null    object \n",
      " 5   time              244 non-null    object \n",
      " 6   size              244 non-null    int64  \n",
      " 7   price_per_person  244 non-null    float64\n",
      " 8   Payer Name        244 non-null    object \n",
      " 9   CC Number         244 non-null    int64  \n",
      " 10  Payment ID        244 non-null    object \n",
      "dtypes: float64(3), int64(2), object(6)\n",
      "memory usage: 21.1+ KB\n"
     ]
    }
   ],
   "source": [
    "df.info()"
   ]
  },
  {
   "cell_type": "code",
   "execution_count": 78,
   "metadata": {
    "collapsed": true,
    "ExecuteTime": {
     "end_time": "2023-11-26T15:50:50.165096800Z",
     "start_time": "2023-11-26T15:50:49.773967100Z"
    }
   },
   "outputs": [],
   "source": [
    "def last_four(num):\n",
    "    return str(num)[-4:]"
   ]
  },
  {
   "cell_type": "code",
   "execution_count": 79,
   "metadata": {
    "ExecuteTime": {
     "end_time": "2023-11-26T15:50:50.375307300Z",
     "start_time": "2023-11-26T15:50:49.776475600Z"
    }
   },
   "outputs": [
    {
     "data": {
      "text/plain": "3560325168603410"
     },
     "execution_count": 79,
     "metadata": {},
     "output_type": "execute_result"
    }
   ],
   "source": [
    "df['CC Number'][0]"
   ]
  },
  {
   "cell_type": "code",
   "execution_count": 80,
   "metadata": {
    "ExecuteTime": {
     "end_time": "2023-11-26T15:50:50.422815500Z",
     "start_time": "2023-11-26T15:50:49.779661700Z"
    }
   },
   "outputs": [
    {
     "data": {
      "text/plain": "'3410'"
     },
     "execution_count": 80,
     "metadata": {},
     "output_type": "execute_result"
    }
   ],
   "source": [
    "last_four(3560325168603410)"
   ]
  },
  {
   "cell_type": "code",
   "execution_count": 81,
   "metadata": {
    "collapsed": true,
    "ExecuteTime": {
     "end_time": "2023-11-26T15:50:50.422815500Z",
     "start_time": "2023-11-26T15:50:49.782020700Z"
    }
   },
   "outputs": [],
   "source": [
    "df['last_four'] = df['CC Number'].apply(last_four)"
   ]
  },
  {
   "cell_type": "code",
   "execution_count": 82,
   "metadata": {
    "ExecuteTime": {
     "end_time": "2023-11-26T15:50:50.441815800Z",
     "start_time": "2023-11-26T15:50:49.790065500Z"
    }
   },
   "outputs": [
    {
     "data": {
      "text/plain": "   total_bill   tip     sex smoker  day    time  size  price_per_person  \\\n0       16.99  1.01  Female     No  Sun  Dinner     2              8.49   \n1       10.34  1.66    Male     No  Sun  Dinner     3              3.45   \n2       21.01  3.50    Male     No  Sun  Dinner     3              7.00   \n3       23.68  3.31    Male     No  Sun  Dinner     2             11.84   \n4       24.59  3.61  Female     No  Sun  Dinner     4              6.15   \n\n           Payer Name         CC Number Payment ID last_four  \n0  Christy Cunningham  3560325168603410    Sun2959      3410  \n1      Douglas Tucker  4478071379779230    Sun4608      9230  \n2      Travis Walters  6011812112971322    Sun4458      1322  \n3    Nathaniel Harris  4676137647685994    Sun5260      5994  \n4        Tonya Carter  4832732618637221    Sun2251      7221  ",
      "text/html": "<div>\n<style scoped>\n    .dataframe tbody tr th:only-of-type {\n        vertical-align: middle;\n    }\n\n    .dataframe tbody tr th {\n        vertical-align: top;\n    }\n\n    .dataframe thead th {\n        text-align: right;\n    }\n</style>\n<table border=\"1\" class=\"dataframe\">\n  <thead>\n    <tr style=\"text-align: right;\">\n      <th></th>\n      <th>total_bill</th>\n      <th>tip</th>\n      <th>sex</th>\n      <th>smoker</th>\n      <th>day</th>\n      <th>time</th>\n      <th>size</th>\n      <th>price_per_person</th>\n      <th>Payer Name</th>\n      <th>CC Number</th>\n      <th>Payment ID</th>\n      <th>last_four</th>\n    </tr>\n  </thead>\n  <tbody>\n    <tr>\n      <th>0</th>\n      <td>16.99</td>\n      <td>1.01</td>\n      <td>Female</td>\n      <td>No</td>\n      <td>Sun</td>\n      <td>Dinner</td>\n      <td>2</td>\n      <td>8.49</td>\n      <td>Christy Cunningham</td>\n      <td>3560325168603410</td>\n      <td>Sun2959</td>\n      <td>3410</td>\n    </tr>\n    <tr>\n      <th>1</th>\n      <td>10.34</td>\n      <td>1.66</td>\n      <td>Male</td>\n      <td>No</td>\n      <td>Sun</td>\n      <td>Dinner</td>\n      <td>3</td>\n      <td>3.45</td>\n      <td>Douglas Tucker</td>\n      <td>4478071379779230</td>\n      <td>Sun4608</td>\n      <td>9230</td>\n    </tr>\n    <tr>\n      <th>2</th>\n      <td>21.01</td>\n      <td>3.50</td>\n      <td>Male</td>\n      <td>No</td>\n      <td>Sun</td>\n      <td>Dinner</td>\n      <td>3</td>\n      <td>7.00</td>\n      <td>Travis Walters</td>\n      <td>6011812112971322</td>\n      <td>Sun4458</td>\n      <td>1322</td>\n    </tr>\n    <tr>\n      <th>3</th>\n      <td>23.68</td>\n      <td>3.31</td>\n      <td>Male</td>\n      <td>No</td>\n      <td>Sun</td>\n      <td>Dinner</td>\n      <td>2</td>\n      <td>11.84</td>\n      <td>Nathaniel Harris</td>\n      <td>4676137647685994</td>\n      <td>Sun5260</td>\n      <td>5994</td>\n    </tr>\n    <tr>\n      <th>4</th>\n      <td>24.59</td>\n      <td>3.61</td>\n      <td>Female</td>\n      <td>No</td>\n      <td>Sun</td>\n      <td>Dinner</td>\n      <td>4</td>\n      <td>6.15</td>\n      <td>Tonya Carter</td>\n      <td>4832732618637221</td>\n      <td>Sun2251</td>\n      <td>7221</td>\n    </tr>\n  </tbody>\n</table>\n</div>"
     },
     "execution_count": 82,
     "metadata": {},
     "output_type": "execute_result"
    }
   ],
   "source": [
    "df.head()"
   ]
  },
  {
   "cell_type": "markdown",
   "metadata": {},
   "source": [
    "### Using .apply() with more complex functions"
   ]
  },
  {
   "cell_type": "code",
   "execution_count": 83,
   "metadata": {
    "ExecuteTime": {
     "end_time": "2023-11-26T15:50:50.461816100Z",
     "start_time": "2023-11-26T15:50:49.793577Z"
    }
   },
   "outputs": [
    {
     "data": {
      "text/plain": "19.78594262295082"
     },
     "execution_count": 83,
     "metadata": {},
     "output_type": "execute_result"
    }
   ],
   "source": [
    "df['total_bill'].mean()"
   ]
  },
  {
   "cell_type": "code",
   "execution_count": 84,
   "metadata": {
    "collapsed": true,
    "ExecuteTime": {
     "end_time": "2023-11-26T15:50:50.461816100Z",
     "start_time": "2023-11-26T15:50:49.796942600Z"
    }
   },
   "outputs": [],
   "source": [
    "def yelp(price):\n",
    "    if price < 10:\n",
    "        return '$'\n",
    "    elif price >= 10 and price < 30:\n",
    "        return '$$'\n",
    "    else:\n",
    "        return '$$$'"
   ]
  },
  {
   "cell_type": "code",
   "execution_count": 85,
   "metadata": {
    "collapsed": true,
    "ExecuteTime": {
     "end_time": "2023-11-26T15:50:50.480815700Z",
     "start_time": "2023-11-26T15:50:49.799796100Z"
    }
   },
   "outputs": [],
   "source": [
    "df['Expensive'] = df['total_bill'].apply(yelp)"
   ]
  },
  {
   "cell_type": "code",
   "execution_count": 86,
   "metadata": {
    "collapsed": true,
    "ExecuteTime": {
     "end_time": "2023-11-26T15:50:50.480815700Z",
     "start_time": "2023-11-26T15:50:49.803041200Z"
    }
   },
   "outputs": [],
   "source": [
    "# df"
   ]
  },
  {
   "cell_type": "markdown",
   "metadata": {},
   "source": [
    "<a id='apply_lambda'></a>\n",
    "### apply with lambda"
   ]
  },
  {
   "cell_type": "code",
   "execution_count": 87,
   "metadata": {
    "collapsed": true,
    "ExecuteTime": {
     "end_time": "2023-11-26T15:50:50.540328Z",
     "start_time": "2023-11-26T15:50:49.806540300Z"
    }
   },
   "outputs": [],
   "source": [
    "def simple(num):\n",
    "    return num*2"
   ]
  },
  {
   "cell_type": "code",
   "execution_count": 88,
   "metadata": {
    "ExecuteTime": {
     "end_time": "2023-11-26T15:50:50.559330100Z",
     "start_time": "2023-11-26T15:50:49.810806400Z"
    }
   },
   "outputs": [
    {
     "data": {
      "text/plain": "<function __main__.<lambda>(num)>"
     },
     "execution_count": 88,
     "metadata": {},
     "output_type": "execute_result"
    }
   ],
   "source": [
    "lambda num: num*2"
   ]
  },
  {
   "cell_type": "code",
   "execution_count": 89,
   "metadata": {
    "ExecuteTime": {
     "end_time": "2023-11-26T15:50:50.597331300Z",
     "start_time": "2023-11-26T15:50:49.814103400Z"
    }
   },
   "outputs": [
    {
     "data": {
      "text/plain": "0      3.0582\n1      1.8612\n2      3.7818\n3      4.2624\n4      4.4262\n        ...  \n239    5.2254\n240    4.8924\n241    4.0806\n242    3.2076\n243    3.3804\nName: total_bill, Length: 244, dtype: float64"
     },
     "execution_count": 89,
     "metadata": {},
     "output_type": "execute_result"
    }
   ],
   "source": [
    "df['total_bill'].apply(lambda bill:bill*0.18)"
   ]
  },
  {
   "cell_type": "markdown",
   "metadata": {},
   "source": [
    "<a id='apply_multiple'></a>\n",
    "## apply that uses multiple columns\n",
    "\n",
    "Note, there are several ways to do this:\n",
    "\n",
    "https://stackoverflow.com/questions/19914937/applying-function-with-multiple-arguments-to-create-a-new-pandas-column"
   ]
  },
  {
   "cell_type": "code",
   "execution_count": 90,
   "metadata": {
    "ExecuteTime": {
     "end_time": "2023-11-26T15:50:50.629841400Z",
     "start_time": "2023-11-26T15:50:49.818593900Z"
    }
   },
   "outputs": [
    {
     "data": {
      "text/plain": "   total_bill   tip     sex smoker  day    time  size  price_per_person  \\\n0       16.99  1.01  Female     No  Sun  Dinner     2              8.49   \n1       10.34  1.66    Male     No  Sun  Dinner     3              3.45   \n2       21.01  3.50    Male     No  Sun  Dinner     3              7.00   \n3       23.68  3.31    Male     No  Sun  Dinner     2             11.84   \n4       24.59  3.61  Female     No  Sun  Dinner     4              6.15   \n\n           Payer Name         CC Number Payment ID last_four Expensive  \n0  Christy Cunningham  3560325168603410    Sun2959      3410        $$  \n1      Douglas Tucker  4478071379779230    Sun4608      9230        $$  \n2      Travis Walters  6011812112971322    Sun4458      1322        $$  \n3    Nathaniel Harris  4676137647685994    Sun5260      5994        $$  \n4        Tonya Carter  4832732618637221    Sun2251      7221        $$  ",
      "text/html": "<div>\n<style scoped>\n    .dataframe tbody tr th:only-of-type {\n        vertical-align: middle;\n    }\n\n    .dataframe tbody tr th {\n        vertical-align: top;\n    }\n\n    .dataframe thead th {\n        text-align: right;\n    }\n</style>\n<table border=\"1\" class=\"dataframe\">\n  <thead>\n    <tr style=\"text-align: right;\">\n      <th></th>\n      <th>total_bill</th>\n      <th>tip</th>\n      <th>sex</th>\n      <th>smoker</th>\n      <th>day</th>\n      <th>time</th>\n      <th>size</th>\n      <th>price_per_person</th>\n      <th>Payer Name</th>\n      <th>CC Number</th>\n      <th>Payment ID</th>\n      <th>last_four</th>\n      <th>Expensive</th>\n    </tr>\n  </thead>\n  <tbody>\n    <tr>\n      <th>0</th>\n      <td>16.99</td>\n      <td>1.01</td>\n      <td>Female</td>\n      <td>No</td>\n      <td>Sun</td>\n      <td>Dinner</td>\n      <td>2</td>\n      <td>8.49</td>\n      <td>Christy Cunningham</td>\n      <td>3560325168603410</td>\n      <td>Sun2959</td>\n      <td>3410</td>\n      <td>$$</td>\n    </tr>\n    <tr>\n      <th>1</th>\n      <td>10.34</td>\n      <td>1.66</td>\n      <td>Male</td>\n      <td>No</td>\n      <td>Sun</td>\n      <td>Dinner</td>\n      <td>3</td>\n      <td>3.45</td>\n      <td>Douglas Tucker</td>\n      <td>4478071379779230</td>\n      <td>Sun4608</td>\n      <td>9230</td>\n      <td>$$</td>\n    </tr>\n    <tr>\n      <th>2</th>\n      <td>21.01</td>\n      <td>3.50</td>\n      <td>Male</td>\n      <td>No</td>\n      <td>Sun</td>\n      <td>Dinner</td>\n      <td>3</td>\n      <td>7.00</td>\n      <td>Travis Walters</td>\n      <td>6011812112971322</td>\n      <td>Sun4458</td>\n      <td>1322</td>\n      <td>$$</td>\n    </tr>\n    <tr>\n      <th>3</th>\n      <td>23.68</td>\n      <td>3.31</td>\n      <td>Male</td>\n      <td>No</td>\n      <td>Sun</td>\n      <td>Dinner</td>\n      <td>2</td>\n      <td>11.84</td>\n      <td>Nathaniel Harris</td>\n      <td>4676137647685994</td>\n      <td>Sun5260</td>\n      <td>5994</td>\n      <td>$$</td>\n    </tr>\n    <tr>\n      <th>4</th>\n      <td>24.59</td>\n      <td>3.61</td>\n      <td>Female</td>\n      <td>No</td>\n      <td>Sun</td>\n      <td>Dinner</td>\n      <td>4</td>\n      <td>6.15</td>\n      <td>Tonya Carter</td>\n      <td>4832732618637221</td>\n      <td>Sun2251</td>\n      <td>7221</td>\n      <td>$$</td>\n    </tr>\n  </tbody>\n</table>\n</div>"
     },
     "execution_count": 90,
     "metadata": {},
     "output_type": "execute_result"
    }
   ],
   "source": [
    "df.head()"
   ]
  },
  {
   "cell_type": "code",
   "execution_count": 91,
   "metadata": {
    "collapsed": true,
    "ExecuteTime": {
     "end_time": "2023-11-26T15:50:50.659841700Z",
     "start_time": "2023-11-26T15:50:49.826188300Z"
    }
   },
   "outputs": [],
   "source": [
    "def quality(total_bill,tip):\n",
    "    if tip/total_bill  > 0.25:\n",
    "        return \"Generous\"\n",
    "    else:\n",
    "        return \"Other\""
   ]
  },
  {
   "cell_type": "code",
   "execution_count": 92,
   "metadata": {
    "collapsed": true,
    "ExecuteTime": {
     "end_time": "2023-11-26T15:50:50.708352800Z",
     "start_time": "2023-11-26T15:50:49.829041400Z"
    }
   },
   "outputs": [],
   "source": [
    "df['Tip Quality'] = df[['total_bill','tip']].apply(lambda df: quality(df['total_bill'],df['tip']),axis=1)"
   ]
  },
  {
   "cell_type": "code",
   "execution_count": 93,
   "metadata": {
    "ExecuteTime": {
     "end_time": "2023-11-26T15:50:50.732354800Z",
     "start_time": "2023-11-26T15:50:49.833928500Z"
    }
   },
   "outputs": [
    {
     "data": {
      "text/plain": "   total_bill   tip     sex smoker  day    time  size  price_per_person  \\\n0       16.99  1.01  Female     No  Sun  Dinner     2              8.49   \n1       10.34  1.66    Male     No  Sun  Dinner     3              3.45   \n2       21.01  3.50    Male     No  Sun  Dinner     3              7.00   \n3       23.68  3.31    Male     No  Sun  Dinner     2             11.84   \n4       24.59  3.61  Female     No  Sun  Dinner     4              6.15   \n\n           Payer Name         CC Number Payment ID last_four Expensive  \\\n0  Christy Cunningham  3560325168603410    Sun2959      3410        $$   \n1      Douglas Tucker  4478071379779230    Sun4608      9230        $$   \n2      Travis Walters  6011812112971322    Sun4458      1322        $$   \n3    Nathaniel Harris  4676137647685994    Sun5260      5994        $$   \n4        Tonya Carter  4832732618637221    Sun2251      7221        $$   \n\n  Tip Quality  \n0       Other  \n1       Other  \n2       Other  \n3       Other  \n4       Other  ",
      "text/html": "<div>\n<style scoped>\n    .dataframe tbody tr th:only-of-type {\n        vertical-align: middle;\n    }\n\n    .dataframe tbody tr th {\n        vertical-align: top;\n    }\n\n    .dataframe thead th {\n        text-align: right;\n    }\n</style>\n<table border=\"1\" class=\"dataframe\">\n  <thead>\n    <tr style=\"text-align: right;\">\n      <th></th>\n      <th>total_bill</th>\n      <th>tip</th>\n      <th>sex</th>\n      <th>smoker</th>\n      <th>day</th>\n      <th>time</th>\n      <th>size</th>\n      <th>price_per_person</th>\n      <th>Payer Name</th>\n      <th>CC Number</th>\n      <th>Payment ID</th>\n      <th>last_four</th>\n      <th>Expensive</th>\n      <th>Tip Quality</th>\n    </tr>\n  </thead>\n  <tbody>\n    <tr>\n      <th>0</th>\n      <td>16.99</td>\n      <td>1.01</td>\n      <td>Female</td>\n      <td>No</td>\n      <td>Sun</td>\n      <td>Dinner</td>\n      <td>2</td>\n      <td>8.49</td>\n      <td>Christy Cunningham</td>\n      <td>3560325168603410</td>\n      <td>Sun2959</td>\n      <td>3410</td>\n      <td>$$</td>\n      <td>Other</td>\n    </tr>\n    <tr>\n      <th>1</th>\n      <td>10.34</td>\n      <td>1.66</td>\n      <td>Male</td>\n      <td>No</td>\n      <td>Sun</td>\n      <td>Dinner</td>\n      <td>3</td>\n      <td>3.45</td>\n      <td>Douglas Tucker</td>\n      <td>4478071379779230</td>\n      <td>Sun4608</td>\n      <td>9230</td>\n      <td>$$</td>\n      <td>Other</td>\n    </tr>\n    <tr>\n      <th>2</th>\n      <td>21.01</td>\n      <td>3.50</td>\n      <td>Male</td>\n      <td>No</td>\n      <td>Sun</td>\n      <td>Dinner</td>\n      <td>3</td>\n      <td>7.00</td>\n      <td>Travis Walters</td>\n      <td>6011812112971322</td>\n      <td>Sun4458</td>\n      <td>1322</td>\n      <td>$$</td>\n      <td>Other</td>\n    </tr>\n    <tr>\n      <th>3</th>\n      <td>23.68</td>\n      <td>3.31</td>\n      <td>Male</td>\n      <td>No</td>\n      <td>Sun</td>\n      <td>Dinner</td>\n      <td>2</td>\n      <td>11.84</td>\n      <td>Nathaniel Harris</td>\n      <td>4676137647685994</td>\n      <td>Sun5260</td>\n      <td>5994</td>\n      <td>$$</td>\n      <td>Other</td>\n    </tr>\n    <tr>\n      <th>4</th>\n      <td>24.59</td>\n      <td>3.61</td>\n      <td>Female</td>\n      <td>No</td>\n      <td>Sun</td>\n      <td>Dinner</td>\n      <td>4</td>\n      <td>6.15</td>\n      <td>Tonya Carter</td>\n      <td>4832732618637221</td>\n      <td>Sun2251</td>\n      <td>7221</td>\n      <td>$$</td>\n      <td>Other</td>\n    </tr>\n  </tbody>\n</table>\n</div>"
     },
     "execution_count": 93,
     "metadata": {},
     "output_type": "execute_result"
    }
   ],
   "source": [
    "df.head()"
   ]
  },
  {
   "cell_type": "code",
   "execution_count": 94,
   "metadata": {
    "collapsed": true,
    "ExecuteTime": {
     "end_time": "2023-11-26T15:50:50.750352300Z",
     "start_time": "2023-11-26T15:50:49.841930800Z"
    }
   },
   "outputs": [],
   "source": [
    "import numpy as np"
   ]
  },
  {
   "cell_type": "code",
   "execution_count": 95,
   "metadata": {
    "collapsed": true,
    "ExecuteTime": {
     "end_time": "2023-11-26T15:50:50.751353200Z",
     "start_time": "2023-11-26T15:50:49.845764300Z"
    }
   },
   "outputs": [],
   "source": [
    "df['Tip Quality'] = np.vectorize(quality)(df['total_bill'], df['tip'])"
   ]
  },
  {
   "cell_type": "code",
   "execution_count": 96,
   "metadata": {
    "ExecuteTime": {
     "end_time": "2023-11-26T15:50:50.768352400Z",
     "start_time": "2023-11-26T15:50:49.847769600Z"
    }
   },
   "outputs": [
    {
     "data": {
      "text/plain": "   total_bill   tip     sex smoker  day    time  size  price_per_person  \\\n0       16.99  1.01  Female     No  Sun  Dinner     2              8.49   \n1       10.34  1.66    Male     No  Sun  Dinner     3              3.45   \n2       21.01  3.50    Male     No  Sun  Dinner     3              7.00   \n3       23.68  3.31    Male     No  Sun  Dinner     2             11.84   \n4       24.59  3.61  Female     No  Sun  Dinner     4              6.15   \n\n           Payer Name         CC Number Payment ID last_four Expensive  \\\n0  Christy Cunningham  3560325168603410    Sun2959      3410        $$   \n1      Douglas Tucker  4478071379779230    Sun4608      9230        $$   \n2      Travis Walters  6011812112971322    Sun4458      1322        $$   \n3    Nathaniel Harris  4676137647685994    Sun5260      5994        $$   \n4        Tonya Carter  4832732618637221    Sun2251      7221        $$   \n\n  Tip Quality  \n0       Other  \n1       Other  \n2       Other  \n3       Other  \n4       Other  ",
      "text/html": "<div>\n<style scoped>\n    .dataframe tbody tr th:only-of-type {\n        vertical-align: middle;\n    }\n\n    .dataframe tbody tr th {\n        vertical-align: top;\n    }\n\n    .dataframe thead th {\n        text-align: right;\n    }\n</style>\n<table border=\"1\" class=\"dataframe\">\n  <thead>\n    <tr style=\"text-align: right;\">\n      <th></th>\n      <th>total_bill</th>\n      <th>tip</th>\n      <th>sex</th>\n      <th>smoker</th>\n      <th>day</th>\n      <th>time</th>\n      <th>size</th>\n      <th>price_per_person</th>\n      <th>Payer Name</th>\n      <th>CC Number</th>\n      <th>Payment ID</th>\n      <th>last_four</th>\n      <th>Expensive</th>\n      <th>Tip Quality</th>\n    </tr>\n  </thead>\n  <tbody>\n    <tr>\n      <th>0</th>\n      <td>16.99</td>\n      <td>1.01</td>\n      <td>Female</td>\n      <td>No</td>\n      <td>Sun</td>\n      <td>Dinner</td>\n      <td>2</td>\n      <td>8.49</td>\n      <td>Christy Cunningham</td>\n      <td>3560325168603410</td>\n      <td>Sun2959</td>\n      <td>3410</td>\n      <td>$$</td>\n      <td>Other</td>\n    </tr>\n    <tr>\n      <th>1</th>\n      <td>10.34</td>\n      <td>1.66</td>\n      <td>Male</td>\n      <td>No</td>\n      <td>Sun</td>\n      <td>Dinner</td>\n      <td>3</td>\n      <td>3.45</td>\n      <td>Douglas Tucker</td>\n      <td>4478071379779230</td>\n      <td>Sun4608</td>\n      <td>9230</td>\n      <td>$$</td>\n      <td>Other</td>\n    </tr>\n    <tr>\n      <th>2</th>\n      <td>21.01</td>\n      <td>3.50</td>\n      <td>Male</td>\n      <td>No</td>\n      <td>Sun</td>\n      <td>Dinner</td>\n      <td>3</td>\n      <td>7.00</td>\n      <td>Travis Walters</td>\n      <td>6011812112971322</td>\n      <td>Sun4458</td>\n      <td>1322</td>\n      <td>$$</td>\n      <td>Other</td>\n    </tr>\n    <tr>\n      <th>3</th>\n      <td>23.68</td>\n      <td>3.31</td>\n      <td>Male</td>\n      <td>No</td>\n      <td>Sun</td>\n      <td>Dinner</td>\n      <td>2</td>\n      <td>11.84</td>\n      <td>Nathaniel Harris</td>\n      <td>4676137647685994</td>\n      <td>Sun5260</td>\n      <td>5994</td>\n      <td>$$</td>\n      <td>Other</td>\n    </tr>\n    <tr>\n      <th>4</th>\n      <td>24.59</td>\n      <td>3.61</td>\n      <td>Female</td>\n      <td>No</td>\n      <td>Sun</td>\n      <td>Dinner</td>\n      <td>4</td>\n      <td>6.15</td>\n      <td>Tonya Carter</td>\n      <td>4832732618637221</td>\n      <td>Sun2251</td>\n      <td>7221</td>\n      <td>$$</td>\n      <td>Other</td>\n    </tr>\n  </tbody>\n</table>\n</div>"
     },
     "execution_count": 96,
     "metadata": {},
     "output_type": "execute_result"
    }
   ],
   "source": [
    "df.head()"
   ]
  },
  {
   "cell_type": "markdown",
   "metadata": {},
   "source": [
    "So, which one is faster?"
   ]
  },
  {
   "cell_type": "code",
   "execution_count": 97,
   "metadata": {
    "collapsed": true,
    "ExecuteTime": {
     "end_time": "2023-11-26T15:50:50.768352400Z",
     "start_time": "2023-11-26T15:50:49.887772300Z"
    }
   },
   "outputs": [],
   "source": [
    "import timeit \n",
    "  \n",
    "# code snippet to be executed only once \n",
    "setup = '''\n",
    "import numpy as np\n",
    "import pandas as pd\n",
    "df = pd.read_csv('tips.csv')\n",
    "def quality(total_bill,tip):\n",
    "    if tip/total_bill  > 0.25:\n",
    "        return \"Generous\"\n",
    "    else:\n",
    "        return \"Other\"\n",
    "'''\n",
    "  \n",
    "# code snippet whose execution time is to be measured \n",
    "stmt_one = ''' \n",
    "df['Tip Quality'] = df[['total_bill','tip']].apply(lambda df: quality(df['total_bill'],df['tip']),axis=1)\n",
    "'''\n",
    "\n",
    "stmt_two = '''\n",
    "df['Tip Quality'] = np.vectorize(quality)(df['total_bill'], df['tip'])\n",
    "'''\n",
    "  "
   ]
  },
  {
   "cell_type": "code",
   "execution_count": 98,
   "metadata": {
    "ExecuteTime": {
     "end_time": "2023-11-26T15:50:51.068956500Z",
     "start_time": "2023-11-26T15:50:49.887772300Z"
    }
   },
   "outputs": [
    {
     "data": {
      "text/plain": "1.1597756999981357"
     },
     "execution_count": 98,
     "metadata": {},
     "output_type": "execute_result"
    }
   ],
   "source": [
    "timeit.timeit(setup = setup, \n",
    "                    stmt = stmt_one, \n",
    "                    number = 1000) "
   ]
  },
  {
   "cell_type": "code",
   "execution_count": 99,
   "metadata": {
    "ExecuteTime": {
     "end_time": "2023-11-26T15:50:51.169887300Z",
     "start_time": "2023-11-26T15:50:51.038956500Z"
    }
   },
   "outputs": [
    {
     "data": {
      "text/plain": "0.12515269999857992"
     },
     "execution_count": 99,
     "metadata": {},
     "output_type": "execute_result"
    }
   ],
   "source": [
    "timeit.timeit(setup = setup, \n",
    "                    stmt = stmt_two, \n",
    "                    number = 1000) "
   ]
  },
  {
   "cell_type": "markdown",
   "metadata": {},
   "source": [
    "Wow! Vectorization is much faster! Keep **np.vectorize()** in mind for the future.\n",
    "\n",
    "Full Details:\n",
    "https://docs.scipy.org/doc/numpy/reference/generated/numpy.vectorize.html"
   ]
  },
  {
   "cell_type": "markdown",
   "metadata": {},
   "source": [
    "<a id='describe'></a>\n",
    "### df.describe for statistical summaries"
   ]
  },
  {
   "cell_type": "code",
   "execution_count": 100,
   "metadata": {
    "ExecuteTime": {
     "end_time": "2023-11-26T15:50:51.180140800Z",
     "start_time": "2023-11-26T15:50:51.169887300Z"
    }
   },
   "outputs": [
    {
     "data": {
      "text/plain": "       total_bill         tip        size  price_per_person     CC Number\ncount  244.000000  244.000000  244.000000        244.000000  2.440000e+02\nmean    19.785943    2.998279    2.569672          7.888197  2.563496e+15\nstd      8.902412    1.383638    0.951100          2.914234  2.369340e+15\nmin      3.070000    1.000000    1.000000          2.880000  6.040679e+10\n25%     13.347500    2.000000    2.000000          5.800000  3.040731e+13\n50%     17.795000    2.900000    2.000000          7.255000  3.525318e+15\n75%     24.127500    3.562500    3.000000          9.390000  4.553675e+15\nmax     50.810000   10.000000    6.000000         20.270000  6.596454e+15",
      "text/html": "<div>\n<style scoped>\n    .dataframe tbody tr th:only-of-type {\n        vertical-align: middle;\n    }\n\n    .dataframe tbody tr th {\n        vertical-align: top;\n    }\n\n    .dataframe thead th {\n        text-align: right;\n    }\n</style>\n<table border=\"1\" class=\"dataframe\">\n  <thead>\n    <tr style=\"text-align: right;\">\n      <th></th>\n      <th>total_bill</th>\n      <th>tip</th>\n      <th>size</th>\n      <th>price_per_person</th>\n      <th>CC Number</th>\n    </tr>\n  </thead>\n  <tbody>\n    <tr>\n      <th>count</th>\n      <td>244.000000</td>\n      <td>244.000000</td>\n      <td>244.000000</td>\n      <td>244.000000</td>\n      <td>2.440000e+02</td>\n    </tr>\n    <tr>\n      <th>mean</th>\n      <td>19.785943</td>\n      <td>2.998279</td>\n      <td>2.569672</td>\n      <td>7.888197</td>\n      <td>2.563496e+15</td>\n    </tr>\n    <tr>\n      <th>std</th>\n      <td>8.902412</td>\n      <td>1.383638</td>\n      <td>0.951100</td>\n      <td>2.914234</td>\n      <td>2.369340e+15</td>\n    </tr>\n    <tr>\n      <th>min</th>\n      <td>3.070000</td>\n      <td>1.000000</td>\n      <td>1.000000</td>\n      <td>2.880000</td>\n      <td>6.040679e+10</td>\n    </tr>\n    <tr>\n      <th>25%</th>\n      <td>13.347500</td>\n      <td>2.000000</td>\n      <td>2.000000</td>\n      <td>5.800000</td>\n      <td>3.040731e+13</td>\n    </tr>\n    <tr>\n      <th>50%</th>\n      <td>17.795000</td>\n      <td>2.900000</td>\n      <td>2.000000</td>\n      <td>7.255000</td>\n      <td>3.525318e+15</td>\n    </tr>\n    <tr>\n      <th>75%</th>\n      <td>24.127500</td>\n      <td>3.562500</td>\n      <td>3.000000</td>\n      <td>9.390000</td>\n      <td>4.553675e+15</td>\n    </tr>\n    <tr>\n      <th>max</th>\n      <td>50.810000</td>\n      <td>10.000000</td>\n      <td>6.000000</td>\n      <td>20.270000</td>\n      <td>6.596454e+15</td>\n    </tr>\n  </tbody>\n</table>\n</div>"
     },
     "execution_count": 100,
     "metadata": {},
     "output_type": "execute_result"
    }
   ],
   "source": [
    "df.describe()"
   ]
  },
  {
   "cell_type": "code",
   "execution_count": 101,
   "metadata": {
    "ExecuteTime": {
     "end_time": "2023-11-26T15:50:51.192258200Z",
     "start_time": "2023-11-26T15:50:51.180140800Z"
    }
   },
   "outputs": [
    {
     "data": {
      "text/plain": "                  count          mean           std           min  \\\ntotal_bill        244.0  1.978594e+01  8.902412e+00  3.070000e+00   \ntip               244.0  2.998279e+00  1.383638e+00  1.000000e+00   \nsize              244.0  2.569672e+00  9.510998e-01  1.000000e+00   \nprice_per_person  244.0  7.888197e+00  2.914234e+00  2.880000e+00   \nCC Number         244.0  2.563496e+15  2.369340e+15  6.040679e+10   \n\n                           25%           50%           75%           max  \ntotal_bill        1.334750e+01  1.779500e+01  2.412750e+01  5.081000e+01  \ntip               2.000000e+00  2.900000e+00  3.562500e+00  1.000000e+01  \nsize              2.000000e+00  2.000000e+00  3.000000e+00  6.000000e+00  \nprice_per_person  5.800000e+00  7.255000e+00  9.390000e+00  2.027000e+01  \nCC Number         3.040731e+13  3.525318e+15  4.553675e+15  6.596454e+15  ",
      "text/html": "<div>\n<style scoped>\n    .dataframe tbody tr th:only-of-type {\n        vertical-align: middle;\n    }\n\n    .dataframe tbody tr th {\n        vertical-align: top;\n    }\n\n    .dataframe thead th {\n        text-align: right;\n    }\n</style>\n<table border=\"1\" class=\"dataframe\">\n  <thead>\n    <tr style=\"text-align: right;\">\n      <th></th>\n      <th>count</th>\n      <th>mean</th>\n      <th>std</th>\n      <th>min</th>\n      <th>25%</th>\n      <th>50%</th>\n      <th>75%</th>\n      <th>max</th>\n    </tr>\n  </thead>\n  <tbody>\n    <tr>\n      <th>total_bill</th>\n      <td>244.0</td>\n      <td>1.978594e+01</td>\n      <td>8.902412e+00</td>\n      <td>3.070000e+00</td>\n      <td>1.334750e+01</td>\n      <td>1.779500e+01</td>\n      <td>2.412750e+01</td>\n      <td>5.081000e+01</td>\n    </tr>\n    <tr>\n      <th>tip</th>\n      <td>244.0</td>\n      <td>2.998279e+00</td>\n      <td>1.383638e+00</td>\n      <td>1.000000e+00</td>\n      <td>2.000000e+00</td>\n      <td>2.900000e+00</td>\n      <td>3.562500e+00</td>\n      <td>1.000000e+01</td>\n    </tr>\n    <tr>\n      <th>size</th>\n      <td>244.0</td>\n      <td>2.569672e+00</td>\n      <td>9.510998e-01</td>\n      <td>1.000000e+00</td>\n      <td>2.000000e+00</td>\n      <td>2.000000e+00</td>\n      <td>3.000000e+00</td>\n      <td>6.000000e+00</td>\n    </tr>\n    <tr>\n      <th>price_per_person</th>\n      <td>244.0</td>\n      <td>7.888197e+00</td>\n      <td>2.914234e+00</td>\n      <td>2.880000e+00</td>\n      <td>5.800000e+00</td>\n      <td>7.255000e+00</td>\n      <td>9.390000e+00</td>\n      <td>2.027000e+01</td>\n    </tr>\n    <tr>\n      <th>CC Number</th>\n      <td>244.0</td>\n      <td>2.563496e+15</td>\n      <td>2.369340e+15</td>\n      <td>6.040679e+10</td>\n      <td>3.040731e+13</td>\n      <td>3.525318e+15</td>\n      <td>4.553675e+15</td>\n      <td>6.596454e+15</td>\n    </tr>\n  </tbody>\n</table>\n</div>"
     },
     "execution_count": 101,
     "metadata": {},
     "output_type": "execute_result"
    }
   ],
   "source": [
    "df.describe().transpose()"
   ]
  },
  {
   "cell_type": "markdown",
   "metadata": {},
   "source": [
    "<a id='sort'></a>\n",
    "### sort_values()"
   ]
  },
  {
   "cell_type": "code",
   "execution_count": 102,
   "metadata": {
    "ExecuteTime": {
     "end_time": "2023-11-26T15:50:51.240121400Z",
     "start_time": "2023-11-26T15:50:51.192258200Z"
    }
   },
   "outputs": [
    {
     "data": {
      "text/plain": "     total_bill    tip     sex smoker   day    time  size  price_per_person  \\\n67         3.07   1.00  Female    Yes   Sat  Dinner     1              3.07   \n236       12.60   1.00    Male    Yes   Sat  Dinner     2              6.30   \n92         5.75   1.00  Female    Yes   Fri  Dinner     2              2.88   \n111        7.25   1.00  Female     No   Sat  Dinner     1              7.25   \n0         16.99   1.01  Female     No   Sun  Dinner     2              8.49   \n..          ...    ...     ...    ...   ...     ...   ...               ...   \n141       34.30   6.70    Male     No  Thur   Lunch     6              5.72   \n59        48.27   6.73    Male     No   Sat  Dinner     4             12.07   \n23        39.42   7.58    Male     No   Sat  Dinner     4              9.86   \n212       48.33   9.00    Male     No   Sat  Dinner     4             12.08   \n170       50.81  10.00    Male    Yes   Sat  Dinner     3             16.94   \n\n             Payer Name         CC Number Payment ID last_four Expensive  \\\n67        Tiffany Brock  4359488526995267    Sat3455      5267         $   \n236       Matthew Myers  3543676378973965    Sat5032      3965        $$   \n92         Leah Ramirez  3508911676966392    Fri3780      6392         $   \n111         Terri Jones  3559221007826887    Sat4801      6887         $   \n0    Christy Cunningham  3560325168603410    Sun2959      3410        $$   \n..                  ...               ...        ...       ...       ...   \n141      Steven Carlson  3526515703718508   Thur1025      8508       $$$   \n59          Brian Ortiz  6596453823950595    Sat8139      0595       $$$   \n23       Lance Peterson  3542584061609808     Sat239      9808       $$$   \n212     Alex Williamson      676218815212    Sat4590      5212       $$$   \n170       Gregory Clark  5473850968388236    Sat1954      8236       $$$   \n\n    Tip Quality  \n67     Generous  \n236       Other  \n92        Other  \n111       Other  \n0         Other  \n..          ...  \n141       Other  \n59        Other  \n23        Other  \n212       Other  \n170       Other  \n\n[244 rows x 14 columns]",
      "text/html": "<div>\n<style scoped>\n    .dataframe tbody tr th:only-of-type {\n        vertical-align: middle;\n    }\n\n    .dataframe tbody tr th {\n        vertical-align: top;\n    }\n\n    .dataframe thead th {\n        text-align: right;\n    }\n</style>\n<table border=\"1\" class=\"dataframe\">\n  <thead>\n    <tr style=\"text-align: right;\">\n      <th></th>\n      <th>total_bill</th>\n      <th>tip</th>\n      <th>sex</th>\n      <th>smoker</th>\n      <th>day</th>\n      <th>time</th>\n      <th>size</th>\n      <th>price_per_person</th>\n      <th>Payer Name</th>\n      <th>CC Number</th>\n      <th>Payment ID</th>\n      <th>last_four</th>\n      <th>Expensive</th>\n      <th>Tip Quality</th>\n    </tr>\n  </thead>\n  <tbody>\n    <tr>\n      <th>67</th>\n      <td>3.07</td>\n      <td>1.00</td>\n      <td>Female</td>\n      <td>Yes</td>\n      <td>Sat</td>\n      <td>Dinner</td>\n      <td>1</td>\n      <td>3.07</td>\n      <td>Tiffany Brock</td>\n      <td>4359488526995267</td>\n      <td>Sat3455</td>\n      <td>5267</td>\n      <td>$</td>\n      <td>Generous</td>\n    </tr>\n    <tr>\n      <th>236</th>\n      <td>12.60</td>\n      <td>1.00</td>\n      <td>Male</td>\n      <td>Yes</td>\n      <td>Sat</td>\n      <td>Dinner</td>\n      <td>2</td>\n      <td>6.30</td>\n      <td>Matthew Myers</td>\n      <td>3543676378973965</td>\n      <td>Sat5032</td>\n      <td>3965</td>\n      <td>$$</td>\n      <td>Other</td>\n    </tr>\n    <tr>\n      <th>92</th>\n      <td>5.75</td>\n      <td>1.00</td>\n      <td>Female</td>\n      <td>Yes</td>\n      <td>Fri</td>\n      <td>Dinner</td>\n      <td>2</td>\n      <td>2.88</td>\n      <td>Leah Ramirez</td>\n      <td>3508911676966392</td>\n      <td>Fri3780</td>\n      <td>6392</td>\n      <td>$</td>\n      <td>Other</td>\n    </tr>\n    <tr>\n      <th>111</th>\n      <td>7.25</td>\n      <td>1.00</td>\n      <td>Female</td>\n      <td>No</td>\n      <td>Sat</td>\n      <td>Dinner</td>\n      <td>1</td>\n      <td>7.25</td>\n      <td>Terri Jones</td>\n      <td>3559221007826887</td>\n      <td>Sat4801</td>\n      <td>6887</td>\n      <td>$</td>\n      <td>Other</td>\n    </tr>\n    <tr>\n      <th>0</th>\n      <td>16.99</td>\n      <td>1.01</td>\n      <td>Female</td>\n      <td>No</td>\n      <td>Sun</td>\n      <td>Dinner</td>\n      <td>2</td>\n      <td>8.49</td>\n      <td>Christy Cunningham</td>\n      <td>3560325168603410</td>\n      <td>Sun2959</td>\n      <td>3410</td>\n      <td>$$</td>\n      <td>Other</td>\n    </tr>\n    <tr>\n      <th>...</th>\n      <td>...</td>\n      <td>...</td>\n      <td>...</td>\n      <td>...</td>\n      <td>...</td>\n      <td>...</td>\n      <td>...</td>\n      <td>...</td>\n      <td>...</td>\n      <td>...</td>\n      <td>...</td>\n      <td>...</td>\n      <td>...</td>\n      <td>...</td>\n    </tr>\n    <tr>\n      <th>141</th>\n      <td>34.30</td>\n      <td>6.70</td>\n      <td>Male</td>\n      <td>No</td>\n      <td>Thur</td>\n      <td>Lunch</td>\n      <td>6</td>\n      <td>5.72</td>\n      <td>Steven Carlson</td>\n      <td>3526515703718508</td>\n      <td>Thur1025</td>\n      <td>8508</td>\n      <td>$$$</td>\n      <td>Other</td>\n    </tr>\n    <tr>\n      <th>59</th>\n      <td>48.27</td>\n      <td>6.73</td>\n      <td>Male</td>\n      <td>No</td>\n      <td>Sat</td>\n      <td>Dinner</td>\n      <td>4</td>\n      <td>12.07</td>\n      <td>Brian Ortiz</td>\n      <td>6596453823950595</td>\n      <td>Sat8139</td>\n      <td>0595</td>\n      <td>$$$</td>\n      <td>Other</td>\n    </tr>\n    <tr>\n      <th>23</th>\n      <td>39.42</td>\n      <td>7.58</td>\n      <td>Male</td>\n      <td>No</td>\n      <td>Sat</td>\n      <td>Dinner</td>\n      <td>4</td>\n      <td>9.86</td>\n      <td>Lance Peterson</td>\n      <td>3542584061609808</td>\n      <td>Sat239</td>\n      <td>9808</td>\n      <td>$$$</td>\n      <td>Other</td>\n    </tr>\n    <tr>\n      <th>212</th>\n      <td>48.33</td>\n      <td>9.00</td>\n      <td>Male</td>\n      <td>No</td>\n      <td>Sat</td>\n      <td>Dinner</td>\n      <td>4</td>\n      <td>12.08</td>\n      <td>Alex Williamson</td>\n      <td>676218815212</td>\n      <td>Sat4590</td>\n      <td>5212</td>\n      <td>$$$</td>\n      <td>Other</td>\n    </tr>\n    <tr>\n      <th>170</th>\n      <td>50.81</td>\n      <td>10.00</td>\n      <td>Male</td>\n      <td>Yes</td>\n      <td>Sat</td>\n      <td>Dinner</td>\n      <td>3</td>\n      <td>16.94</td>\n      <td>Gregory Clark</td>\n      <td>5473850968388236</td>\n      <td>Sat1954</td>\n      <td>8236</td>\n      <td>$$$</td>\n      <td>Other</td>\n    </tr>\n  </tbody>\n</table>\n<p>244 rows × 14 columns</p>\n</div>"
     },
     "execution_count": 102,
     "metadata": {},
     "output_type": "execute_result"
    }
   ],
   "source": [
    "df.sort_values('tip')"
   ]
  },
  {
   "cell_type": "code",
   "execution_count": 103,
   "metadata": {
    "ExecuteTime": {
     "end_time": "2023-11-26T15:50:51.289436600Z",
     "start_time": "2023-11-26T15:50:51.203768500Z"
    }
   },
   "outputs": [
    {
     "data": {
      "text/plain": "     total_bill    tip     sex smoker   day    time  size  price_per_person  \\\n67         3.07   1.00  Female    Yes   Sat  Dinner     1              3.07   \n111        7.25   1.00  Female     No   Sat  Dinner     1              7.25   \n92         5.75   1.00  Female    Yes   Fri  Dinner     2              2.88   \n236       12.60   1.00    Male    Yes   Sat  Dinner     2              6.30   \n0         16.99   1.01  Female     No   Sun  Dinner     2              8.49   \n..          ...    ...     ...    ...   ...     ...   ...               ...   \n141       34.30   6.70    Male     No  Thur   Lunch     6              5.72   \n59        48.27   6.73    Male     No   Sat  Dinner     4             12.07   \n23        39.42   7.58    Male     No   Sat  Dinner     4              9.86   \n212       48.33   9.00    Male     No   Sat  Dinner     4             12.08   \n170       50.81  10.00    Male    Yes   Sat  Dinner     3             16.94   \n\n             Payer Name         CC Number Payment ID last_four Expensive  \\\n67        Tiffany Brock  4359488526995267    Sat3455      5267         $   \n111         Terri Jones  3559221007826887    Sat4801      6887         $   \n92         Leah Ramirez  3508911676966392    Fri3780      6392         $   \n236       Matthew Myers  3543676378973965    Sat5032      3965        $$   \n0    Christy Cunningham  3560325168603410    Sun2959      3410        $$   \n..                  ...               ...        ...       ...       ...   \n141      Steven Carlson  3526515703718508   Thur1025      8508       $$$   \n59          Brian Ortiz  6596453823950595    Sat8139      0595       $$$   \n23       Lance Peterson  3542584061609808     Sat239      9808       $$$   \n212     Alex Williamson      676218815212    Sat4590      5212       $$$   \n170       Gregory Clark  5473850968388236    Sat1954      8236       $$$   \n\n    Tip Quality  \n67     Generous  \n111       Other  \n92        Other  \n236       Other  \n0         Other  \n..          ...  \n141       Other  \n59        Other  \n23        Other  \n212       Other  \n170       Other  \n\n[244 rows x 14 columns]",
      "text/html": "<div>\n<style scoped>\n    .dataframe tbody tr th:only-of-type {\n        vertical-align: middle;\n    }\n\n    .dataframe tbody tr th {\n        vertical-align: top;\n    }\n\n    .dataframe thead th {\n        text-align: right;\n    }\n</style>\n<table border=\"1\" class=\"dataframe\">\n  <thead>\n    <tr style=\"text-align: right;\">\n      <th></th>\n      <th>total_bill</th>\n      <th>tip</th>\n      <th>sex</th>\n      <th>smoker</th>\n      <th>day</th>\n      <th>time</th>\n      <th>size</th>\n      <th>price_per_person</th>\n      <th>Payer Name</th>\n      <th>CC Number</th>\n      <th>Payment ID</th>\n      <th>last_four</th>\n      <th>Expensive</th>\n      <th>Tip Quality</th>\n    </tr>\n  </thead>\n  <tbody>\n    <tr>\n      <th>67</th>\n      <td>3.07</td>\n      <td>1.00</td>\n      <td>Female</td>\n      <td>Yes</td>\n      <td>Sat</td>\n      <td>Dinner</td>\n      <td>1</td>\n      <td>3.07</td>\n      <td>Tiffany Brock</td>\n      <td>4359488526995267</td>\n      <td>Sat3455</td>\n      <td>5267</td>\n      <td>$</td>\n      <td>Generous</td>\n    </tr>\n    <tr>\n      <th>111</th>\n      <td>7.25</td>\n      <td>1.00</td>\n      <td>Female</td>\n      <td>No</td>\n      <td>Sat</td>\n      <td>Dinner</td>\n      <td>1</td>\n      <td>7.25</td>\n      <td>Terri Jones</td>\n      <td>3559221007826887</td>\n      <td>Sat4801</td>\n      <td>6887</td>\n      <td>$</td>\n      <td>Other</td>\n    </tr>\n    <tr>\n      <th>92</th>\n      <td>5.75</td>\n      <td>1.00</td>\n      <td>Female</td>\n      <td>Yes</td>\n      <td>Fri</td>\n      <td>Dinner</td>\n      <td>2</td>\n      <td>2.88</td>\n      <td>Leah Ramirez</td>\n      <td>3508911676966392</td>\n      <td>Fri3780</td>\n      <td>6392</td>\n      <td>$</td>\n      <td>Other</td>\n    </tr>\n    <tr>\n      <th>236</th>\n      <td>12.60</td>\n      <td>1.00</td>\n      <td>Male</td>\n      <td>Yes</td>\n      <td>Sat</td>\n      <td>Dinner</td>\n      <td>2</td>\n      <td>6.30</td>\n      <td>Matthew Myers</td>\n      <td>3543676378973965</td>\n      <td>Sat5032</td>\n      <td>3965</td>\n      <td>$$</td>\n      <td>Other</td>\n    </tr>\n    <tr>\n      <th>0</th>\n      <td>16.99</td>\n      <td>1.01</td>\n      <td>Female</td>\n      <td>No</td>\n      <td>Sun</td>\n      <td>Dinner</td>\n      <td>2</td>\n      <td>8.49</td>\n      <td>Christy Cunningham</td>\n      <td>3560325168603410</td>\n      <td>Sun2959</td>\n      <td>3410</td>\n      <td>$$</td>\n      <td>Other</td>\n    </tr>\n    <tr>\n      <th>...</th>\n      <td>...</td>\n      <td>...</td>\n      <td>...</td>\n      <td>...</td>\n      <td>...</td>\n      <td>...</td>\n      <td>...</td>\n      <td>...</td>\n      <td>...</td>\n      <td>...</td>\n      <td>...</td>\n      <td>...</td>\n      <td>...</td>\n      <td>...</td>\n    </tr>\n    <tr>\n      <th>141</th>\n      <td>34.30</td>\n      <td>6.70</td>\n      <td>Male</td>\n      <td>No</td>\n      <td>Thur</td>\n      <td>Lunch</td>\n      <td>6</td>\n      <td>5.72</td>\n      <td>Steven Carlson</td>\n      <td>3526515703718508</td>\n      <td>Thur1025</td>\n      <td>8508</td>\n      <td>$$$</td>\n      <td>Other</td>\n    </tr>\n    <tr>\n      <th>59</th>\n      <td>48.27</td>\n      <td>6.73</td>\n      <td>Male</td>\n      <td>No</td>\n      <td>Sat</td>\n      <td>Dinner</td>\n      <td>4</td>\n      <td>12.07</td>\n      <td>Brian Ortiz</td>\n      <td>6596453823950595</td>\n      <td>Sat8139</td>\n      <td>0595</td>\n      <td>$$$</td>\n      <td>Other</td>\n    </tr>\n    <tr>\n      <th>23</th>\n      <td>39.42</td>\n      <td>7.58</td>\n      <td>Male</td>\n      <td>No</td>\n      <td>Sat</td>\n      <td>Dinner</td>\n      <td>4</td>\n      <td>9.86</td>\n      <td>Lance Peterson</td>\n      <td>3542584061609808</td>\n      <td>Sat239</td>\n      <td>9808</td>\n      <td>$$$</td>\n      <td>Other</td>\n    </tr>\n    <tr>\n      <th>212</th>\n      <td>48.33</td>\n      <td>9.00</td>\n      <td>Male</td>\n      <td>No</td>\n      <td>Sat</td>\n      <td>Dinner</td>\n      <td>4</td>\n      <td>12.08</td>\n      <td>Alex Williamson</td>\n      <td>676218815212</td>\n      <td>Sat4590</td>\n      <td>5212</td>\n      <td>$$$</td>\n      <td>Other</td>\n    </tr>\n    <tr>\n      <th>170</th>\n      <td>50.81</td>\n      <td>10.00</td>\n      <td>Male</td>\n      <td>Yes</td>\n      <td>Sat</td>\n      <td>Dinner</td>\n      <td>3</td>\n      <td>16.94</td>\n      <td>Gregory Clark</td>\n      <td>5473850968388236</td>\n      <td>Sat1954</td>\n      <td>8236</td>\n      <td>$$$</td>\n      <td>Other</td>\n    </tr>\n  </tbody>\n</table>\n<p>244 rows × 14 columns</p>\n</div>"
     },
     "execution_count": 103,
     "metadata": {},
     "output_type": "execute_result"
    }
   ],
   "source": [
    "# Helpful if you want to reorder after a sort\n",
    "# https://stackoverflow.com/questions/13148429/how-to-change-the-order-of-dataframe-columns\n",
    "df.sort_values(['tip','size'])"
   ]
  },
  {
   "cell_type": "markdown",
   "metadata": {},
   "source": [
    "<a id='corr'></a>\n",
    "## df.corr() for correlation checks\n",
    "\n",
    "[Wikipedia on Correlation](https://en.wikipedia.org/wiki/Correlation_and_dependence)"
   ]
  },
  {
   "cell_type": "code",
   "execution_count": 104,
   "metadata": {
    "ExecuteTime": {
     "end_time": "2023-11-26T15:50:51.306849Z",
     "start_time": "2023-11-26T15:50:51.215647500Z"
    }
   },
   "outputs": [
    {
     "data": {
      "text/plain": "                  total_bill       tip      size  price_per_person  CC Number\ntotal_bill          1.000000  0.675734  0.598315          0.647554   0.104576\ntip                 0.675734  1.000000  0.489299          0.347405   0.110857\nsize                0.598315  0.489299  1.000000         -0.175359  -0.030239\nprice_per_person    0.647554  0.347405 -0.175359          1.000000   0.135240\nCC Number           0.104576  0.110857 -0.030239          0.135240   1.000000",
      "text/html": "<div>\n<style scoped>\n    .dataframe tbody tr th:only-of-type {\n        vertical-align: middle;\n    }\n\n    .dataframe tbody tr th {\n        vertical-align: top;\n    }\n\n    .dataframe thead th {\n        text-align: right;\n    }\n</style>\n<table border=\"1\" class=\"dataframe\">\n  <thead>\n    <tr style=\"text-align: right;\">\n      <th></th>\n      <th>total_bill</th>\n      <th>tip</th>\n      <th>size</th>\n      <th>price_per_person</th>\n      <th>CC Number</th>\n    </tr>\n  </thead>\n  <tbody>\n    <tr>\n      <th>total_bill</th>\n      <td>1.000000</td>\n      <td>0.675734</td>\n      <td>0.598315</td>\n      <td>0.647554</td>\n      <td>0.104576</td>\n    </tr>\n    <tr>\n      <th>tip</th>\n      <td>0.675734</td>\n      <td>1.000000</td>\n      <td>0.489299</td>\n      <td>0.347405</td>\n      <td>0.110857</td>\n    </tr>\n    <tr>\n      <th>size</th>\n      <td>0.598315</td>\n      <td>0.489299</td>\n      <td>1.000000</td>\n      <td>-0.175359</td>\n      <td>-0.030239</td>\n    </tr>\n    <tr>\n      <th>price_per_person</th>\n      <td>0.647554</td>\n      <td>0.347405</td>\n      <td>-0.175359</td>\n      <td>1.000000</td>\n      <td>0.135240</td>\n    </tr>\n    <tr>\n      <th>CC Number</th>\n      <td>0.104576</td>\n      <td>0.110857</td>\n      <td>-0.030239</td>\n      <td>0.135240</td>\n      <td>1.000000</td>\n    </tr>\n  </tbody>\n</table>\n</div>"
     },
     "execution_count": 104,
     "metadata": {},
     "output_type": "execute_result"
    }
   ],
   "source": [
    "df.corr(numeric_only=True)"
   ]
  },
  {
   "cell_type": "code",
   "execution_count": 105,
   "metadata": {
    "ExecuteTime": {
     "end_time": "2023-11-26T15:50:51.306849Z",
     "start_time": "2023-11-26T15:50:51.222061400Z"
    }
   },
   "outputs": [
    {
     "data": {
      "text/plain": "            total_bill       tip\ntotal_bill    1.000000  0.675734\ntip           0.675734  1.000000",
      "text/html": "<div>\n<style scoped>\n    .dataframe tbody tr th:only-of-type {\n        vertical-align: middle;\n    }\n\n    .dataframe tbody tr th {\n        vertical-align: top;\n    }\n\n    .dataframe thead th {\n        text-align: right;\n    }\n</style>\n<table border=\"1\" class=\"dataframe\">\n  <thead>\n    <tr style=\"text-align: right;\">\n      <th></th>\n      <th>total_bill</th>\n      <th>tip</th>\n    </tr>\n  </thead>\n  <tbody>\n    <tr>\n      <th>total_bill</th>\n      <td>1.000000</td>\n      <td>0.675734</td>\n    </tr>\n    <tr>\n      <th>tip</th>\n      <td>0.675734</td>\n      <td>1.000000</td>\n    </tr>\n  </tbody>\n</table>\n</div>"
     },
     "execution_count": 105,
     "metadata": {},
     "output_type": "execute_result"
    }
   ],
   "source": [
    "df[['total_bill','tip']].corr()"
   ]
  },
  {
   "cell_type": "markdown",
   "metadata": {},
   "source": [
    "<a id='idx'></a>\n",
    "### idxmin and idxmax"
   ]
  },
  {
   "cell_type": "code",
   "execution_count": 106,
   "metadata": {
    "ExecuteTime": {
     "end_time": "2023-11-26T15:50:51.308851100Z",
     "start_time": "2023-11-26T15:50:51.227814Z"
    }
   },
   "outputs": [
    {
     "data": {
      "text/plain": "   total_bill   tip     sex smoker  day    time  size  price_per_person  \\\n0       16.99  1.01  Female     No  Sun  Dinner     2              8.49   \n1       10.34  1.66    Male     No  Sun  Dinner     3              3.45   \n2       21.01  3.50    Male     No  Sun  Dinner     3              7.00   \n3       23.68  3.31    Male     No  Sun  Dinner     2             11.84   \n4       24.59  3.61  Female     No  Sun  Dinner     4              6.15   \n\n           Payer Name         CC Number Payment ID last_four Expensive  \\\n0  Christy Cunningham  3560325168603410    Sun2959      3410        $$   \n1      Douglas Tucker  4478071379779230    Sun4608      9230        $$   \n2      Travis Walters  6011812112971322    Sun4458      1322        $$   \n3    Nathaniel Harris  4676137647685994    Sun5260      5994        $$   \n4        Tonya Carter  4832732618637221    Sun2251      7221        $$   \n\n  Tip Quality  \n0       Other  \n1       Other  \n2       Other  \n3       Other  \n4       Other  ",
      "text/html": "<div>\n<style scoped>\n    .dataframe tbody tr th:only-of-type {\n        vertical-align: middle;\n    }\n\n    .dataframe tbody tr th {\n        vertical-align: top;\n    }\n\n    .dataframe thead th {\n        text-align: right;\n    }\n</style>\n<table border=\"1\" class=\"dataframe\">\n  <thead>\n    <tr style=\"text-align: right;\">\n      <th></th>\n      <th>total_bill</th>\n      <th>tip</th>\n      <th>sex</th>\n      <th>smoker</th>\n      <th>day</th>\n      <th>time</th>\n      <th>size</th>\n      <th>price_per_person</th>\n      <th>Payer Name</th>\n      <th>CC Number</th>\n      <th>Payment ID</th>\n      <th>last_four</th>\n      <th>Expensive</th>\n      <th>Tip Quality</th>\n    </tr>\n  </thead>\n  <tbody>\n    <tr>\n      <th>0</th>\n      <td>16.99</td>\n      <td>1.01</td>\n      <td>Female</td>\n      <td>No</td>\n      <td>Sun</td>\n      <td>Dinner</td>\n      <td>2</td>\n      <td>8.49</td>\n      <td>Christy Cunningham</td>\n      <td>3560325168603410</td>\n      <td>Sun2959</td>\n      <td>3410</td>\n      <td>$$</td>\n      <td>Other</td>\n    </tr>\n    <tr>\n      <th>1</th>\n      <td>10.34</td>\n      <td>1.66</td>\n      <td>Male</td>\n      <td>No</td>\n      <td>Sun</td>\n      <td>Dinner</td>\n      <td>3</td>\n      <td>3.45</td>\n      <td>Douglas Tucker</td>\n      <td>4478071379779230</td>\n      <td>Sun4608</td>\n      <td>9230</td>\n      <td>$$</td>\n      <td>Other</td>\n    </tr>\n    <tr>\n      <th>2</th>\n      <td>21.01</td>\n      <td>3.50</td>\n      <td>Male</td>\n      <td>No</td>\n      <td>Sun</td>\n      <td>Dinner</td>\n      <td>3</td>\n      <td>7.00</td>\n      <td>Travis Walters</td>\n      <td>6011812112971322</td>\n      <td>Sun4458</td>\n      <td>1322</td>\n      <td>$$</td>\n      <td>Other</td>\n    </tr>\n    <tr>\n      <th>3</th>\n      <td>23.68</td>\n      <td>3.31</td>\n      <td>Male</td>\n      <td>No</td>\n      <td>Sun</td>\n      <td>Dinner</td>\n      <td>2</td>\n      <td>11.84</td>\n      <td>Nathaniel Harris</td>\n      <td>4676137647685994</td>\n      <td>Sun5260</td>\n      <td>5994</td>\n      <td>$$</td>\n      <td>Other</td>\n    </tr>\n    <tr>\n      <th>4</th>\n      <td>24.59</td>\n      <td>3.61</td>\n      <td>Female</td>\n      <td>No</td>\n      <td>Sun</td>\n      <td>Dinner</td>\n      <td>4</td>\n      <td>6.15</td>\n      <td>Tonya Carter</td>\n      <td>4832732618637221</td>\n      <td>Sun2251</td>\n      <td>7221</td>\n      <td>$$</td>\n      <td>Other</td>\n    </tr>\n  </tbody>\n</table>\n</div>"
     },
     "execution_count": 106,
     "metadata": {},
     "output_type": "execute_result"
    }
   ],
   "source": [
    "df.head()"
   ]
  },
  {
   "cell_type": "code",
   "execution_count": 107,
   "metadata": {
    "ExecuteTime": {
     "end_time": "2023-11-26T15:50:51.308851100Z",
     "start_time": "2023-11-26T15:50:51.235245300Z"
    }
   },
   "outputs": [
    {
     "data": {
      "text/plain": "50.81"
     },
     "execution_count": 107,
     "metadata": {},
     "output_type": "execute_result"
    }
   ],
   "source": [
    "df['total_bill'].max()"
   ]
  },
  {
   "cell_type": "code",
   "execution_count": 108,
   "metadata": {
    "ExecuteTime": {
     "end_time": "2023-11-26T15:50:51.348854600Z",
     "start_time": "2023-11-26T15:50:51.241705700Z"
    }
   },
   "outputs": [
    {
     "data": {
      "text/plain": "170"
     },
     "execution_count": 108,
     "metadata": {},
     "output_type": "execute_result"
    }
   ],
   "source": [
    "df['total_bill'].idxmax()"
   ]
  },
  {
   "cell_type": "code",
   "execution_count": 109,
   "metadata": {
    "ExecuteTime": {
     "end_time": "2023-11-26T15:50:51.349855700Z",
     "start_time": "2023-11-26T15:50:51.244215500Z"
    }
   },
   "outputs": [
    {
     "data": {
      "text/plain": "67"
     },
     "execution_count": 109,
     "metadata": {},
     "output_type": "execute_result"
    }
   ],
   "source": [
    "df['total_bill'].idxmin()"
   ]
  },
  {
   "cell_type": "code",
   "execution_count": 110,
   "metadata": {
    "ExecuteTime": {
     "end_time": "2023-11-26T15:50:51.352854Z",
     "start_time": "2023-11-26T15:50:51.250625900Z"
    }
   },
   "outputs": [
    {
     "data": {
      "text/plain": "total_bill                      3.07\ntip                              1.0\nsex                           Female\nsmoker                           Yes\nday                              Sat\ntime                          Dinner\nsize                               1\nprice_per_person                3.07\nPayer Name             Tiffany Brock\nCC Number           4359488526995267\nPayment ID                   Sat3455\nlast_four                       5267\nExpensive                          $\nTip Quality                 Generous\nName: 67, dtype: object"
     },
     "execution_count": 110,
     "metadata": {},
     "output_type": "execute_result"
    }
   ],
   "source": [
    "df.iloc[67]"
   ]
  },
  {
   "cell_type": "code",
   "execution_count": 111,
   "metadata": {
    "ExecuteTime": {
     "end_time": "2023-11-26T15:50:51.352854Z",
     "start_time": "2023-11-26T15:50:51.255134900Z"
    }
   },
   "outputs": [
    {
     "data": {
      "text/plain": "total_bill                     50.81\ntip                             10.0\nsex                             Male\nsmoker                           Yes\nday                              Sat\ntime                          Dinner\nsize                               3\nprice_per_person               16.94\nPayer Name             Gregory Clark\nCC Number           5473850968388236\nPayment ID                   Sat1954\nlast_four                       8236\nExpensive                        $$$\nTip Quality                    Other\nName: 170, dtype: object"
     },
     "execution_count": 111,
     "metadata": {},
     "output_type": "execute_result"
    }
   ],
   "source": [
    "df.iloc[170]"
   ]
  },
  {
   "cell_type": "markdown",
   "metadata": {},
   "source": [
    "<a id='v_c'></a>\n",
    "### value_counts\n",
    "\n",
    "Nice method to quickly get a count per category. Only makes sense on categorical columns."
   ]
  },
  {
   "cell_type": "code",
   "execution_count": 112,
   "metadata": {
    "ExecuteTime": {
     "end_time": "2023-11-26T15:50:51.401366700Z",
     "start_time": "2023-11-26T15:50:51.258845300Z"
    }
   },
   "outputs": [
    {
     "data": {
      "text/plain": "   total_bill   tip     sex smoker  day    time  size  price_per_person  \\\n0       16.99  1.01  Female     No  Sun  Dinner     2              8.49   \n1       10.34  1.66    Male     No  Sun  Dinner     3              3.45   \n2       21.01  3.50    Male     No  Sun  Dinner     3              7.00   \n3       23.68  3.31    Male     No  Sun  Dinner     2             11.84   \n4       24.59  3.61  Female     No  Sun  Dinner     4              6.15   \n\n           Payer Name         CC Number Payment ID last_four Expensive  \\\n0  Christy Cunningham  3560325168603410    Sun2959      3410        $$   \n1      Douglas Tucker  4478071379779230    Sun4608      9230        $$   \n2      Travis Walters  6011812112971322    Sun4458      1322        $$   \n3    Nathaniel Harris  4676137647685994    Sun5260      5994        $$   \n4        Tonya Carter  4832732618637221    Sun2251      7221        $$   \n\n  Tip Quality  \n0       Other  \n1       Other  \n2       Other  \n3       Other  \n4       Other  ",
      "text/html": "<div>\n<style scoped>\n    .dataframe tbody tr th:only-of-type {\n        vertical-align: middle;\n    }\n\n    .dataframe tbody tr th {\n        vertical-align: top;\n    }\n\n    .dataframe thead th {\n        text-align: right;\n    }\n</style>\n<table border=\"1\" class=\"dataframe\">\n  <thead>\n    <tr style=\"text-align: right;\">\n      <th></th>\n      <th>total_bill</th>\n      <th>tip</th>\n      <th>sex</th>\n      <th>smoker</th>\n      <th>day</th>\n      <th>time</th>\n      <th>size</th>\n      <th>price_per_person</th>\n      <th>Payer Name</th>\n      <th>CC Number</th>\n      <th>Payment ID</th>\n      <th>last_four</th>\n      <th>Expensive</th>\n      <th>Tip Quality</th>\n    </tr>\n  </thead>\n  <tbody>\n    <tr>\n      <th>0</th>\n      <td>16.99</td>\n      <td>1.01</td>\n      <td>Female</td>\n      <td>No</td>\n      <td>Sun</td>\n      <td>Dinner</td>\n      <td>2</td>\n      <td>8.49</td>\n      <td>Christy Cunningham</td>\n      <td>3560325168603410</td>\n      <td>Sun2959</td>\n      <td>3410</td>\n      <td>$$</td>\n      <td>Other</td>\n    </tr>\n    <tr>\n      <th>1</th>\n      <td>10.34</td>\n      <td>1.66</td>\n      <td>Male</td>\n      <td>No</td>\n      <td>Sun</td>\n      <td>Dinner</td>\n      <td>3</td>\n      <td>3.45</td>\n      <td>Douglas Tucker</td>\n      <td>4478071379779230</td>\n      <td>Sun4608</td>\n      <td>9230</td>\n      <td>$$</td>\n      <td>Other</td>\n    </tr>\n    <tr>\n      <th>2</th>\n      <td>21.01</td>\n      <td>3.50</td>\n      <td>Male</td>\n      <td>No</td>\n      <td>Sun</td>\n      <td>Dinner</td>\n      <td>3</td>\n      <td>7.00</td>\n      <td>Travis Walters</td>\n      <td>6011812112971322</td>\n      <td>Sun4458</td>\n      <td>1322</td>\n      <td>$$</td>\n      <td>Other</td>\n    </tr>\n    <tr>\n      <th>3</th>\n      <td>23.68</td>\n      <td>3.31</td>\n      <td>Male</td>\n      <td>No</td>\n      <td>Sun</td>\n      <td>Dinner</td>\n      <td>2</td>\n      <td>11.84</td>\n      <td>Nathaniel Harris</td>\n      <td>4676137647685994</td>\n      <td>Sun5260</td>\n      <td>5994</td>\n      <td>$$</td>\n      <td>Other</td>\n    </tr>\n    <tr>\n      <th>4</th>\n      <td>24.59</td>\n      <td>3.61</td>\n      <td>Female</td>\n      <td>No</td>\n      <td>Sun</td>\n      <td>Dinner</td>\n      <td>4</td>\n      <td>6.15</td>\n      <td>Tonya Carter</td>\n      <td>4832732618637221</td>\n      <td>Sun2251</td>\n      <td>7221</td>\n      <td>$$</td>\n      <td>Other</td>\n    </tr>\n  </tbody>\n</table>\n</div>"
     },
     "execution_count": 112,
     "metadata": {},
     "output_type": "execute_result"
    }
   ],
   "source": [
    "df.head()"
   ]
  },
  {
   "cell_type": "code",
   "execution_count": 113,
   "metadata": {
    "ExecuteTime": {
     "end_time": "2023-11-26T15:50:51.401366700Z",
     "start_time": "2023-11-26T15:50:51.266428800Z"
    }
   },
   "outputs": [
    {
     "data": {
      "text/plain": "sex\nMale      157\nFemale     87\nName: count, dtype: int64"
     },
     "execution_count": 113,
     "metadata": {},
     "output_type": "execute_result"
    }
   ],
   "source": [
    "df['sex'].value_counts()"
   ]
  },
  {
   "cell_type": "markdown",
   "metadata": {},
   "source": [
    "<a id='replace'></a>\n",
    "\n",
    "### replace\n",
    "\n",
    "Quickly replace values with another one."
   ]
  },
  {
   "cell_type": "code",
   "execution_count": 114,
   "metadata": {
    "ExecuteTime": {
     "end_time": "2023-11-26T15:50:51.402372200Z",
     "start_time": "2023-11-26T15:50:51.270928600Z"
    }
   },
   "outputs": [
    {
     "data": {
      "text/plain": "   total_bill   tip     sex smoker  day    time  size  price_per_person  \\\n0       16.99  1.01  Female     No  Sun  Dinner     2              8.49   \n1       10.34  1.66    Male     No  Sun  Dinner     3              3.45   \n2       21.01  3.50    Male     No  Sun  Dinner     3              7.00   \n3       23.68  3.31    Male     No  Sun  Dinner     2             11.84   \n4       24.59  3.61  Female     No  Sun  Dinner     4              6.15   \n\n           Payer Name         CC Number Payment ID last_four Expensive  \\\n0  Christy Cunningham  3560325168603410    Sun2959      3410        $$   \n1      Douglas Tucker  4478071379779230    Sun4608      9230        $$   \n2      Travis Walters  6011812112971322    Sun4458      1322        $$   \n3    Nathaniel Harris  4676137647685994    Sun5260      5994        $$   \n4        Tonya Carter  4832732618637221    Sun2251      7221        $$   \n\n  Tip Quality  \n0       Other  \n1       Other  \n2       Other  \n3       Other  \n4       Other  ",
      "text/html": "<div>\n<style scoped>\n    .dataframe tbody tr th:only-of-type {\n        vertical-align: middle;\n    }\n\n    .dataframe tbody tr th {\n        vertical-align: top;\n    }\n\n    .dataframe thead th {\n        text-align: right;\n    }\n</style>\n<table border=\"1\" class=\"dataframe\">\n  <thead>\n    <tr style=\"text-align: right;\">\n      <th></th>\n      <th>total_bill</th>\n      <th>tip</th>\n      <th>sex</th>\n      <th>smoker</th>\n      <th>day</th>\n      <th>time</th>\n      <th>size</th>\n      <th>price_per_person</th>\n      <th>Payer Name</th>\n      <th>CC Number</th>\n      <th>Payment ID</th>\n      <th>last_four</th>\n      <th>Expensive</th>\n      <th>Tip Quality</th>\n    </tr>\n  </thead>\n  <tbody>\n    <tr>\n      <th>0</th>\n      <td>16.99</td>\n      <td>1.01</td>\n      <td>Female</td>\n      <td>No</td>\n      <td>Sun</td>\n      <td>Dinner</td>\n      <td>2</td>\n      <td>8.49</td>\n      <td>Christy Cunningham</td>\n      <td>3560325168603410</td>\n      <td>Sun2959</td>\n      <td>3410</td>\n      <td>$$</td>\n      <td>Other</td>\n    </tr>\n    <tr>\n      <th>1</th>\n      <td>10.34</td>\n      <td>1.66</td>\n      <td>Male</td>\n      <td>No</td>\n      <td>Sun</td>\n      <td>Dinner</td>\n      <td>3</td>\n      <td>3.45</td>\n      <td>Douglas Tucker</td>\n      <td>4478071379779230</td>\n      <td>Sun4608</td>\n      <td>9230</td>\n      <td>$$</td>\n      <td>Other</td>\n    </tr>\n    <tr>\n      <th>2</th>\n      <td>21.01</td>\n      <td>3.50</td>\n      <td>Male</td>\n      <td>No</td>\n      <td>Sun</td>\n      <td>Dinner</td>\n      <td>3</td>\n      <td>7.00</td>\n      <td>Travis Walters</td>\n      <td>6011812112971322</td>\n      <td>Sun4458</td>\n      <td>1322</td>\n      <td>$$</td>\n      <td>Other</td>\n    </tr>\n    <tr>\n      <th>3</th>\n      <td>23.68</td>\n      <td>3.31</td>\n      <td>Male</td>\n      <td>No</td>\n      <td>Sun</td>\n      <td>Dinner</td>\n      <td>2</td>\n      <td>11.84</td>\n      <td>Nathaniel Harris</td>\n      <td>4676137647685994</td>\n      <td>Sun5260</td>\n      <td>5994</td>\n      <td>$$</td>\n      <td>Other</td>\n    </tr>\n    <tr>\n      <th>4</th>\n      <td>24.59</td>\n      <td>3.61</td>\n      <td>Female</td>\n      <td>No</td>\n      <td>Sun</td>\n      <td>Dinner</td>\n      <td>4</td>\n      <td>6.15</td>\n      <td>Tonya Carter</td>\n      <td>4832732618637221</td>\n      <td>Sun2251</td>\n      <td>7221</td>\n      <td>$$</td>\n      <td>Other</td>\n    </tr>\n  </tbody>\n</table>\n</div>"
     },
     "execution_count": 114,
     "metadata": {},
     "output_type": "execute_result"
    }
   ],
   "source": [
    "df.head()"
   ]
  },
  {
   "cell_type": "code",
   "execution_count": 115,
   "metadata": {
    "ExecuteTime": {
     "end_time": "2023-11-26T15:50:51.419370600Z",
     "start_time": "2023-11-26T15:50:51.278299400Z"
    }
   },
   "outputs": [
    {
     "data": {
      "text/plain": "0      Ok\n1      Ok\n2      Ok\n3      Ok\n4      Ok\n       ..\n239    Ok\n240    Ok\n241    Ok\n242    Ok\n243    Ok\nName: Tip Quality, Length: 244, dtype: object"
     },
     "execution_count": 115,
     "metadata": {},
     "output_type": "execute_result"
    }
   ],
   "source": [
    "df['Tip Quality'].replace(to_replace='Other',value='Ok')"
   ]
  },
  {
   "cell_type": "code",
   "execution_count": 116,
   "metadata": {
    "collapsed": true,
    "ExecuteTime": {
     "end_time": "2023-11-26T15:50:51.419370600Z",
     "start_time": "2023-11-26T15:50:51.283267600Z"
    }
   },
   "outputs": [],
   "source": [
    "df['Tip Quality'] = df['Tip Quality'].replace(to_replace='Other',value='Ok')"
   ]
  },
  {
   "cell_type": "code",
   "execution_count": 117,
   "metadata": {
    "ExecuteTime": {
     "end_time": "2023-11-26T15:50:51.432483600Z",
     "start_time": "2023-11-26T15:50:51.285432600Z"
    }
   },
   "outputs": [
    {
     "data": {
      "text/plain": "   total_bill   tip     sex smoker  day    time  size  price_per_person  \\\n0       16.99  1.01  Female     No  Sun  Dinner     2              8.49   \n1       10.34  1.66    Male     No  Sun  Dinner     3              3.45   \n2       21.01  3.50    Male     No  Sun  Dinner     3              7.00   \n3       23.68  3.31    Male     No  Sun  Dinner     2             11.84   \n4       24.59  3.61  Female     No  Sun  Dinner     4              6.15   \n\n           Payer Name         CC Number Payment ID last_four Expensive  \\\n0  Christy Cunningham  3560325168603410    Sun2959      3410        $$   \n1      Douglas Tucker  4478071379779230    Sun4608      9230        $$   \n2      Travis Walters  6011812112971322    Sun4458      1322        $$   \n3    Nathaniel Harris  4676137647685994    Sun5260      5994        $$   \n4        Tonya Carter  4832732618637221    Sun2251      7221        $$   \n\n  Tip Quality  \n0          Ok  \n1          Ok  \n2          Ok  \n3          Ok  \n4          Ok  ",
      "text/html": "<div>\n<style scoped>\n    .dataframe tbody tr th:only-of-type {\n        vertical-align: middle;\n    }\n\n    .dataframe tbody tr th {\n        vertical-align: top;\n    }\n\n    .dataframe thead th {\n        text-align: right;\n    }\n</style>\n<table border=\"1\" class=\"dataframe\">\n  <thead>\n    <tr style=\"text-align: right;\">\n      <th></th>\n      <th>total_bill</th>\n      <th>tip</th>\n      <th>sex</th>\n      <th>smoker</th>\n      <th>day</th>\n      <th>time</th>\n      <th>size</th>\n      <th>price_per_person</th>\n      <th>Payer Name</th>\n      <th>CC Number</th>\n      <th>Payment ID</th>\n      <th>last_four</th>\n      <th>Expensive</th>\n      <th>Tip Quality</th>\n    </tr>\n  </thead>\n  <tbody>\n    <tr>\n      <th>0</th>\n      <td>16.99</td>\n      <td>1.01</td>\n      <td>Female</td>\n      <td>No</td>\n      <td>Sun</td>\n      <td>Dinner</td>\n      <td>2</td>\n      <td>8.49</td>\n      <td>Christy Cunningham</td>\n      <td>3560325168603410</td>\n      <td>Sun2959</td>\n      <td>3410</td>\n      <td>$$</td>\n      <td>Ok</td>\n    </tr>\n    <tr>\n      <th>1</th>\n      <td>10.34</td>\n      <td>1.66</td>\n      <td>Male</td>\n      <td>No</td>\n      <td>Sun</td>\n      <td>Dinner</td>\n      <td>3</td>\n      <td>3.45</td>\n      <td>Douglas Tucker</td>\n      <td>4478071379779230</td>\n      <td>Sun4608</td>\n      <td>9230</td>\n      <td>$$</td>\n      <td>Ok</td>\n    </tr>\n    <tr>\n      <th>2</th>\n      <td>21.01</td>\n      <td>3.50</td>\n      <td>Male</td>\n      <td>No</td>\n      <td>Sun</td>\n      <td>Dinner</td>\n      <td>3</td>\n      <td>7.00</td>\n      <td>Travis Walters</td>\n      <td>6011812112971322</td>\n      <td>Sun4458</td>\n      <td>1322</td>\n      <td>$$</td>\n      <td>Ok</td>\n    </tr>\n    <tr>\n      <th>3</th>\n      <td>23.68</td>\n      <td>3.31</td>\n      <td>Male</td>\n      <td>No</td>\n      <td>Sun</td>\n      <td>Dinner</td>\n      <td>2</td>\n      <td>11.84</td>\n      <td>Nathaniel Harris</td>\n      <td>4676137647685994</td>\n      <td>Sun5260</td>\n      <td>5994</td>\n      <td>$$</td>\n      <td>Ok</td>\n    </tr>\n    <tr>\n      <th>4</th>\n      <td>24.59</td>\n      <td>3.61</td>\n      <td>Female</td>\n      <td>No</td>\n      <td>Sun</td>\n      <td>Dinner</td>\n      <td>4</td>\n      <td>6.15</td>\n      <td>Tonya Carter</td>\n      <td>4832732618637221</td>\n      <td>Sun2251</td>\n      <td>7221</td>\n      <td>$$</td>\n      <td>Ok</td>\n    </tr>\n  </tbody>\n</table>\n</div>"
     },
     "execution_count": 117,
     "metadata": {},
     "output_type": "execute_result"
    }
   ],
   "source": [
    "df.head()"
   ]
  },
  {
   "cell_type": "markdown",
   "metadata": {},
   "source": [
    "<a id='uni'></a>\n",
    "### unique"
   ]
  },
  {
   "cell_type": "code",
   "execution_count": 118,
   "metadata": {
    "ExecuteTime": {
     "end_time": "2023-11-26T15:50:51.433485400Z",
     "start_time": "2023-11-26T15:50:51.294861700Z"
    }
   },
   "outputs": [
    {
     "data": {
      "text/plain": "array([2, 3, 4, 1, 6, 5], dtype=int64)"
     },
     "execution_count": 118,
     "metadata": {},
     "output_type": "execute_result"
    }
   ],
   "source": [
    "df['size'].unique()"
   ]
  },
  {
   "cell_type": "code",
   "execution_count": 119,
   "metadata": {
    "ExecuteTime": {
     "end_time": "2023-11-26T15:50:51.436484200Z",
     "start_time": "2023-11-26T15:50:51.297443900Z"
    }
   },
   "outputs": [
    {
     "data": {
      "text/plain": "6"
     },
     "execution_count": 119,
     "metadata": {},
     "output_type": "execute_result"
    }
   ],
   "source": [
    "df['size'].nunique()"
   ]
  },
  {
   "cell_type": "code",
   "execution_count": 120,
   "metadata": {
    "ExecuteTime": {
     "end_time": "2023-11-26T15:50:51.436484200Z",
     "start_time": "2023-11-26T15:50:51.300820700Z"
    }
   },
   "outputs": [
    {
     "data": {
      "text/plain": "array(['Dinner', 'Lunch'], dtype=object)"
     },
     "execution_count": 120,
     "metadata": {},
     "output_type": "execute_result"
    }
   ],
   "source": [
    "df['time'].unique()"
   ]
  },
  {
   "cell_type": "markdown",
   "metadata": {},
   "source": [
    "<a id='map'></a>\n",
    "### map"
   ]
  },
  {
   "cell_type": "code",
   "execution_count": 121,
   "metadata": {
    "collapsed": true,
    "ExecuteTime": {
     "end_time": "2023-11-26T15:50:51.437484Z",
     "start_time": "2023-11-26T15:50:51.305340700Z"
    }
   },
   "outputs": [],
   "source": [
    "my_map = {'Dinner':'D','Lunch':'L'}"
   ]
  },
  {
   "cell_type": "code",
   "execution_count": 122,
   "metadata": {
    "ExecuteTime": {
     "end_time": "2023-11-26T15:50:51.455483700Z",
     "start_time": "2023-11-26T15:50:51.306849Z"
    }
   },
   "outputs": [
    {
     "data": {
      "text/plain": "0      D\n1      D\n2      D\n3      D\n4      D\n      ..\n239    D\n240    D\n241    D\n242    D\n243    D\nName: time, Length: 244, dtype: object"
     },
     "execution_count": 122,
     "metadata": {},
     "output_type": "execute_result"
    }
   ],
   "source": [
    "df['time'].map(my_map)"
   ]
  },
  {
   "cell_type": "code",
   "execution_count": 123,
   "metadata": {
    "ExecuteTime": {
     "end_time": "2023-11-26T15:50:51.456484400Z",
     "start_time": "2023-11-26T15:50:51.316778500Z"
    }
   },
   "outputs": [
    {
     "data": {
      "text/plain": "   total_bill   tip     sex smoker  day    time  size  price_per_person  \\\n0       16.99  1.01  Female     No  Sun  Dinner     2              8.49   \n1       10.34  1.66    Male     No  Sun  Dinner     3              3.45   \n2       21.01  3.50    Male     No  Sun  Dinner     3              7.00   \n3       23.68  3.31    Male     No  Sun  Dinner     2             11.84   \n4       24.59  3.61  Female     No  Sun  Dinner     4              6.15   \n\n           Payer Name         CC Number Payment ID last_four Expensive  \\\n0  Christy Cunningham  3560325168603410    Sun2959      3410        $$   \n1      Douglas Tucker  4478071379779230    Sun4608      9230        $$   \n2      Travis Walters  6011812112971322    Sun4458      1322        $$   \n3    Nathaniel Harris  4676137647685994    Sun5260      5994        $$   \n4        Tonya Carter  4832732618637221    Sun2251      7221        $$   \n\n  Tip Quality  \n0          Ok  \n1          Ok  \n2          Ok  \n3          Ok  \n4          Ok  ",
      "text/html": "<div>\n<style scoped>\n    .dataframe tbody tr th:only-of-type {\n        vertical-align: middle;\n    }\n\n    .dataframe tbody tr th {\n        vertical-align: top;\n    }\n\n    .dataframe thead th {\n        text-align: right;\n    }\n</style>\n<table border=\"1\" class=\"dataframe\">\n  <thead>\n    <tr style=\"text-align: right;\">\n      <th></th>\n      <th>total_bill</th>\n      <th>tip</th>\n      <th>sex</th>\n      <th>smoker</th>\n      <th>day</th>\n      <th>time</th>\n      <th>size</th>\n      <th>price_per_person</th>\n      <th>Payer Name</th>\n      <th>CC Number</th>\n      <th>Payment ID</th>\n      <th>last_four</th>\n      <th>Expensive</th>\n      <th>Tip Quality</th>\n    </tr>\n  </thead>\n  <tbody>\n    <tr>\n      <th>0</th>\n      <td>16.99</td>\n      <td>1.01</td>\n      <td>Female</td>\n      <td>No</td>\n      <td>Sun</td>\n      <td>Dinner</td>\n      <td>2</td>\n      <td>8.49</td>\n      <td>Christy Cunningham</td>\n      <td>3560325168603410</td>\n      <td>Sun2959</td>\n      <td>3410</td>\n      <td>$$</td>\n      <td>Ok</td>\n    </tr>\n    <tr>\n      <th>1</th>\n      <td>10.34</td>\n      <td>1.66</td>\n      <td>Male</td>\n      <td>No</td>\n      <td>Sun</td>\n      <td>Dinner</td>\n      <td>3</td>\n      <td>3.45</td>\n      <td>Douglas Tucker</td>\n      <td>4478071379779230</td>\n      <td>Sun4608</td>\n      <td>9230</td>\n      <td>$$</td>\n      <td>Ok</td>\n    </tr>\n    <tr>\n      <th>2</th>\n      <td>21.01</td>\n      <td>3.50</td>\n      <td>Male</td>\n      <td>No</td>\n      <td>Sun</td>\n      <td>Dinner</td>\n      <td>3</td>\n      <td>7.00</td>\n      <td>Travis Walters</td>\n      <td>6011812112971322</td>\n      <td>Sun4458</td>\n      <td>1322</td>\n      <td>$$</td>\n      <td>Ok</td>\n    </tr>\n    <tr>\n      <th>3</th>\n      <td>23.68</td>\n      <td>3.31</td>\n      <td>Male</td>\n      <td>No</td>\n      <td>Sun</td>\n      <td>Dinner</td>\n      <td>2</td>\n      <td>11.84</td>\n      <td>Nathaniel Harris</td>\n      <td>4676137647685994</td>\n      <td>Sun5260</td>\n      <td>5994</td>\n      <td>$$</td>\n      <td>Ok</td>\n    </tr>\n    <tr>\n      <th>4</th>\n      <td>24.59</td>\n      <td>3.61</td>\n      <td>Female</td>\n      <td>No</td>\n      <td>Sun</td>\n      <td>Dinner</td>\n      <td>4</td>\n      <td>6.15</td>\n      <td>Tonya Carter</td>\n      <td>4832732618637221</td>\n      <td>Sun2251</td>\n      <td>7221</td>\n      <td>$$</td>\n      <td>Ok</td>\n    </tr>\n  </tbody>\n</table>\n</div>"
     },
     "execution_count": 123,
     "metadata": {},
     "output_type": "execute_result"
    }
   ],
   "source": [
    "df.head()"
   ]
  },
  {
   "cell_type": "markdown",
   "metadata": {},
   "source": [
    "<a id='dup'></a>\n",
    "## Duplicates\n",
    "\n",
    "### .duplicated() and .drop_duplicates()"
   ]
  },
  {
   "cell_type": "code",
   "execution_count": 124,
   "metadata": {
    "ExecuteTime": {
     "end_time": "2023-11-26T15:50:51.458485800Z",
     "start_time": "2023-11-26T15:50:51.319287400Z"
    }
   },
   "outputs": [
    {
     "data": {
      "text/plain": "0      False\n1      False\n2      False\n3      False\n4      False\n       ...  \n239    False\n240    False\n241    False\n242    False\n243    False\nLength: 244, dtype: bool"
     },
     "execution_count": 124,
     "metadata": {},
     "output_type": "execute_result"
    }
   ],
   "source": [
    "# Returns True for the 1st instance of a duplicated row\n",
    "df.duplicated()"
   ]
  },
  {
   "cell_type": "code",
   "execution_count": 125,
   "metadata": {
    "collapsed": true,
    "ExecuteTime": {
     "end_time": "2023-11-26T15:50:51.458485800Z",
     "start_time": "2023-11-26T15:50:51.325811700Z"
    }
   },
   "outputs": [],
   "source": [
    "simple_df = pd.DataFrame([1,2,2],['a','b','c'])"
   ]
  },
  {
   "cell_type": "code",
   "execution_count": 126,
   "metadata": {
    "ExecuteTime": {
     "end_time": "2023-11-26T15:50:51.458485800Z",
     "start_time": "2023-11-26T15:50:51.328788400Z"
    }
   },
   "outputs": [
    {
     "data": {
      "text/plain": "   0\na  1\nb  2\nc  2",
      "text/html": "<div>\n<style scoped>\n    .dataframe tbody tr th:only-of-type {\n        vertical-align: middle;\n    }\n\n    .dataframe tbody tr th {\n        vertical-align: top;\n    }\n\n    .dataframe thead th {\n        text-align: right;\n    }\n</style>\n<table border=\"1\" class=\"dataframe\">\n  <thead>\n    <tr style=\"text-align: right;\">\n      <th></th>\n      <th>0</th>\n    </tr>\n  </thead>\n  <tbody>\n    <tr>\n      <th>a</th>\n      <td>1</td>\n    </tr>\n    <tr>\n      <th>b</th>\n      <td>2</td>\n    </tr>\n    <tr>\n      <th>c</th>\n      <td>2</td>\n    </tr>\n  </tbody>\n</table>\n</div>"
     },
     "execution_count": 126,
     "metadata": {},
     "output_type": "execute_result"
    }
   ],
   "source": [
    "simple_df"
   ]
  },
  {
   "cell_type": "code",
   "execution_count": 127,
   "metadata": {
    "ExecuteTime": {
     "end_time": "2023-11-26T15:50:51.458485800Z",
     "start_time": "2023-11-26T15:50:51.333897400Z"
    }
   },
   "outputs": [
    {
     "data": {
      "text/plain": "a    False\nb    False\nc     True\ndtype: bool"
     },
     "execution_count": 127,
     "metadata": {},
     "output_type": "execute_result"
    }
   ],
   "source": [
    "simple_df.duplicated()"
   ]
  },
  {
   "cell_type": "code",
   "execution_count": 128,
   "metadata": {
    "ExecuteTime": {
     "end_time": "2023-11-26T15:50:51.458485800Z",
     "start_time": "2023-11-26T15:50:51.336629900Z"
    }
   },
   "outputs": [
    {
     "data": {
      "text/plain": "   0\na  1\nb  2",
      "text/html": "<div>\n<style scoped>\n    .dataframe tbody tr th:only-of-type {\n        vertical-align: middle;\n    }\n\n    .dataframe tbody tr th {\n        vertical-align: top;\n    }\n\n    .dataframe thead th {\n        text-align: right;\n    }\n</style>\n<table border=\"1\" class=\"dataframe\">\n  <thead>\n    <tr style=\"text-align: right;\">\n      <th></th>\n      <th>0</th>\n    </tr>\n  </thead>\n  <tbody>\n    <tr>\n      <th>a</th>\n      <td>1</td>\n    </tr>\n    <tr>\n      <th>b</th>\n      <td>2</td>\n    </tr>\n  </tbody>\n</table>\n</div>"
     },
     "execution_count": 128,
     "metadata": {},
     "output_type": "execute_result"
    }
   ],
   "source": [
    "simple_df.drop_duplicates()"
   ]
  },
  {
   "cell_type": "markdown",
   "metadata": {},
   "source": [
    "<a id='bet'></a>\n",
    "## between\n",
    "\n",
    "left: A scalar value that defines the left boundary\n",
    "right: A scalar value that defines the right boundary\n",
    "inclusive: A Boolean value which is True by default. If False, it excludes the two passed arguments while checking."
   ]
  },
  {
   "cell_type": "code",
   "execution_count": 130,
   "metadata": {
    "ExecuteTime": {
     "end_time": "2023-11-26T15:51:14.183345100Z",
     "start_time": "2023-11-26T15:51:14.169118500Z"
    }
   },
   "outputs": [
    {
     "data": {
      "text/plain": "0       True\n1       True\n2      False\n3      False\n4      False\n       ...  \n239    False\n240    False\n241    False\n242     True\n243     True\nName: total_bill, Length: 244, dtype: bool"
     },
     "execution_count": 130,
     "metadata": {},
     "output_type": "execute_result"
    }
   ],
   "source": [
    "df['total_bill'].between(10,20,inclusive='both')"
   ]
  },
  {
   "cell_type": "code",
   "execution_count": 131,
   "metadata": {
    "ExecuteTime": {
     "end_time": "2023-11-26T15:51:21.773079800Z",
     "start_time": "2023-11-26T15:51:21.741848Z"
    }
   },
   "outputs": [
    {
     "data": {
      "text/plain": "     total_bill   tip     sex smoker   day    time  size  price_per_person  \\\n0         16.99  1.01  Female     No   Sun  Dinner     2              8.49   \n1         10.34  1.66    Male     No   Sun  Dinner     3              3.45   \n8         15.04  1.96    Male     No   Sun  Dinner     2              7.52   \n9         14.78  3.23    Male     No   Sun  Dinner     2              7.39   \n10        10.27  1.71    Male     No   Sun  Dinner     2              5.14   \n..          ...   ...     ...    ...   ...     ...   ...               ...   \n234       15.53  3.00    Male    Yes   Sat  Dinner     2              7.76   \n235       10.07  1.25    Male     No   Sat  Dinner     2              5.04   \n236       12.60  1.00    Male    Yes   Sat  Dinner     2              6.30   \n242       17.82  1.75    Male     No   Sat  Dinner     2              8.91   \n243       18.78  3.00  Female     No  Thur  Dinner     2              9.39   \n\n             Payer Name         CC Number Payment ID last_four Expensive  \\\n0    Christy Cunningham  3560325168603410    Sun2959      3410        $$   \n1        Douglas Tucker  4478071379779230    Sun4608      9230        $$   \n8       Joseph Mcdonald  3522866365840377    Sun6820      0377        $$   \n9         Jerome Abbott  3532124519049786    Sun3775      9786        $$   \n10        William Riley      566287581219    Sun2546      1219        $$   \n..                  ...               ...        ...       ...       ...   \n234       Tracy Douglas  4097938155941930    Sat7220      1930        $$   \n235       Sean Gonzalez  3534021246117605    Sat4615      7605        $$   \n236       Matthew Myers  3543676378973965    Sat5032      3965        $$   \n242        Dennis Dixon     4375220550950      Sat17      0950        $$   \n243     Michelle Hardin  3511451626698139    Thur672      8139        $$   \n\n    Tip Quality  \n0            Ok  \n1            Ok  \n8            Ok  \n9            Ok  \n10           Ok  \n..          ...  \n234          Ok  \n235          Ok  \n236          Ok  \n242          Ok  \n243          Ok  \n\n[130 rows x 14 columns]",
      "text/html": "<div>\n<style scoped>\n    .dataframe tbody tr th:only-of-type {\n        vertical-align: middle;\n    }\n\n    .dataframe tbody tr th {\n        vertical-align: top;\n    }\n\n    .dataframe thead th {\n        text-align: right;\n    }\n</style>\n<table border=\"1\" class=\"dataframe\">\n  <thead>\n    <tr style=\"text-align: right;\">\n      <th></th>\n      <th>total_bill</th>\n      <th>tip</th>\n      <th>sex</th>\n      <th>smoker</th>\n      <th>day</th>\n      <th>time</th>\n      <th>size</th>\n      <th>price_per_person</th>\n      <th>Payer Name</th>\n      <th>CC Number</th>\n      <th>Payment ID</th>\n      <th>last_four</th>\n      <th>Expensive</th>\n      <th>Tip Quality</th>\n    </tr>\n  </thead>\n  <tbody>\n    <tr>\n      <th>0</th>\n      <td>16.99</td>\n      <td>1.01</td>\n      <td>Female</td>\n      <td>No</td>\n      <td>Sun</td>\n      <td>Dinner</td>\n      <td>2</td>\n      <td>8.49</td>\n      <td>Christy Cunningham</td>\n      <td>3560325168603410</td>\n      <td>Sun2959</td>\n      <td>3410</td>\n      <td>$$</td>\n      <td>Ok</td>\n    </tr>\n    <tr>\n      <th>1</th>\n      <td>10.34</td>\n      <td>1.66</td>\n      <td>Male</td>\n      <td>No</td>\n      <td>Sun</td>\n      <td>Dinner</td>\n      <td>3</td>\n      <td>3.45</td>\n      <td>Douglas Tucker</td>\n      <td>4478071379779230</td>\n      <td>Sun4608</td>\n      <td>9230</td>\n      <td>$$</td>\n      <td>Ok</td>\n    </tr>\n    <tr>\n      <th>8</th>\n      <td>15.04</td>\n      <td>1.96</td>\n      <td>Male</td>\n      <td>No</td>\n      <td>Sun</td>\n      <td>Dinner</td>\n      <td>2</td>\n      <td>7.52</td>\n      <td>Joseph Mcdonald</td>\n      <td>3522866365840377</td>\n      <td>Sun6820</td>\n      <td>0377</td>\n      <td>$$</td>\n      <td>Ok</td>\n    </tr>\n    <tr>\n      <th>9</th>\n      <td>14.78</td>\n      <td>3.23</td>\n      <td>Male</td>\n      <td>No</td>\n      <td>Sun</td>\n      <td>Dinner</td>\n      <td>2</td>\n      <td>7.39</td>\n      <td>Jerome Abbott</td>\n      <td>3532124519049786</td>\n      <td>Sun3775</td>\n      <td>9786</td>\n      <td>$$</td>\n      <td>Ok</td>\n    </tr>\n    <tr>\n      <th>10</th>\n      <td>10.27</td>\n      <td>1.71</td>\n      <td>Male</td>\n      <td>No</td>\n      <td>Sun</td>\n      <td>Dinner</td>\n      <td>2</td>\n      <td>5.14</td>\n      <td>William Riley</td>\n      <td>566287581219</td>\n      <td>Sun2546</td>\n      <td>1219</td>\n      <td>$$</td>\n      <td>Ok</td>\n    </tr>\n    <tr>\n      <th>...</th>\n      <td>...</td>\n      <td>...</td>\n      <td>...</td>\n      <td>...</td>\n      <td>...</td>\n      <td>...</td>\n      <td>...</td>\n      <td>...</td>\n      <td>...</td>\n      <td>...</td>\n      <td>...</td>\n      <td>...</td>\n      <td>...</td>\n      <td>...</td>\n    </tr>\n    <tr>\n      <th>234</th>\n      <td>15.53</td>\n      <td>3.00</td>\n      <td>Male</td>\n      <td>Yes</td>\n      <td>Sat</td>\n      <td>Dinner</td>\n      <td>2</td>\n      <td>7.76</td>\n      <td>Tracy Douglas</td>\n      <td>4097938155941930</td>\n      <td>Sat7220</td>\n      <td>1930</td>\n      <td>$$</td>\n      <td>Ok</td>\n    </tr>\n    <tr>\n      <th>235</th>\n      <td>10.07</td>\n      <td>1.25</td>\n      <td>Male</td>\n      <td>No</td>\n      <td>Sat</td>\n      <td>Dinner</td>\n      <td>2</td>\n      <td>5.04</td>\n      <td>Sean Gonzalez</td>\n      <td>3534021246117605</td>\n      <td>Sat4615</td>\n      <td>7605</td>\n      <td>$$</td>\n      <td>Ok</td>\n    </tr>\n    <tr>\n      <th>236</th>\n      <td>12.60</td>\n      <td>1.00</td>\n      <td>Male</td>\n      <td>Yes</td>\n      <td>Sat</td>\n      <td>Dinner</td>\n      <td>2</td>\n      <td>6.30</td>\n      <td>Matthew Myers</td>\n      <td>3543676378973965</td>\n      <td>Sat5032</td>\n      <td>3965</td>\n      <td>$$</td>\n      <td>Ok</td>\n    </tr>\n    <tr>\n      <th>242</th>\n      <td>17.82</td>\n      <td>1.75</td>\n      <td>Male</td>\n      <td>No</td>\n      <td>Sat</td>\n      <td>Dinner</td>\n      <td>2</td>\n      <td>8.91</td>\n      <td>Dennis Dixon</td>\n      <td>4375220550950</td>\n      <td>Sat17</td>\n      <td>0950</td>\n      <td>$$</td>\n      <td>Ok</td>\n    </tr>\n    <tr>\n      <th>243</th>\n      <td>18.78</td>\n      <td>3.00</td>\n      <td>Female</td>\n      <td>No</td>\n      <td>Thur</td>\n      <td>Dinner</td>\n      <td>2</td>\n      <td>9.39</td>\n      <td>Michelle Hardin</td>\n      <td>3511451626698139</td>\n      <td>Thur672</td>\n      <td>8139</td>\n      <td>$$</td>\n      <td>Ok</td>\n    </tr>\n  </tbody>\n</table>\n<p>130 rows × 14 columns</p>\n</div>"
     },
     "execution_count": 131,
     "metadata": {},
     "output_type": "execute_result"
    }
   ],
   "source": [
    "df[df['total_bill'].between(10,20,inclusive='both')]"
   ]
  },
  {
   "cell_type": "markdown",
   "metadata": {},
   "source": [
    "<a id='sample'></a>\n",
    "## sample"
   ]
  },
  {
   "cell_type": "code",
   "execution_count": 132,
   "metadata": {
    "ExecuteTime": {
     "end_time": "2023-11-26T15:51:23.841457200Z",
     "start_time": "2023-11-26T15:51:23.831950900Z"
    }
   },
   "outputs": [
    {
     "data": {
      "text/plain": "     total_bill   tip     sex smoker   day    time  size  price_per_person  \\\n160       21.50  3.50    Male     No   Sun  Dinner     4              5.38   \n42        13.94  3.06    Male     No   Sun  Dinner     2              6.97   \n201       12.74  2.01  Female    Yes  Thur   Lunch     2              6.37   \n14        14.83  3.02  Female     No   Sun  Dinner     2              7.42   \n95        40.17  4.73    Male    Yes   Fri  Dinner     4             10.04   \n\n          Payer Name         CC Number Payment ID last_four Expensive  \\\n160  Travis Gonzalez  3527668419764685     Sun245      4685        $$   \n42       Bryan Brown    36231182760859    Sun1699      0859        $$   \n201    Abigail Parks  3586645396220590   Thur2544      0590        $$   \n14     Vanessa Jones    30016702287574    Sun3848      7574        $$   \n95     Aaron Bentley   180026611638690    Fri9628      8690       $$$   \n\n    Tip Quality  \n160          Ok  \n42           Ok  \n201          Ok  \n14           Ok  \n95           Ok  ",
      "text/html": "<div>\n<style scoped>\n    .dataframe tbody tr th:only-of-type {\n        vertical-align: middle;\n    }\n\n    .dataframe tbody tr th {\n        vertical-align: top;\n    }\n\n    .dataframe thead th {\n        text-align: right;\n    }\n</style>\n<table border=\"1\" class=\"dataframe\">\n  <thead>\n    <tr style=\"text-align: right;\">\n      <th></th>\n      <th>total_bill</th>\n      <th>tip</th>\n      <th>sex</th>\n      <th>smoker</th>\n      <th>day</th>\n      <th>time</th>\n      <th>size</th>\n      <th>price_per_person</th>\n      <th>Payer Name</th>\n      <th>CC Number</th>\n      <th>Payment ID</th>\n      <th>last_four</th>\n      <th>Expensive</th>\n      <th>Tip Quality</th>\n    </tr>\n  </thead>\n  <tbody>\n    <tr>\n      <th>160</th>\n      <td>21.50</td>\n      <td>3.50</td>\n      <td>Male</td>\n      <td>No</td>\n      <td>Sun</td>\n      <td>Dinner</td>\n      <td>4</td>\n      <td>5.38</td>\n      <td>Travis Gonzalez</td>\n      <td>3527668419764685</td>\n      <td>Sun245</td>\n      <td>4685</td>\n      <td>$$</td>\n      <td>Ok</td>\n    </tr>\n    <tr>\n      <th>42</th>\n      <td>13.94</td>\n      <td>3.06</td>\n      <td>Male</td>\n      <td>No</td>\n      <td>Sun</td>\n      <td>Dinner</td>\n      <td>2</td>\n      <td>6.97</td>\n      <td>Bryan Brown</td>\n      <td>36231182760859</td>\n      <td>Sun1699</td>\n      <td>0859</td>\n      <td>$$</td>\n      <td>Ok</td>\n    </tr>\n    <tr>\n      <th>201</th>\n      <td>12.74</td>\n      <td>2.01</td>\n      <td>Female</td>\n      <td>Yes</td>\n      <td>Thur</td>\n      <td>Lunch</td>\n      <td>2</td>\n      <td>6.37</td>\n      <td>Abigail Parks</td>\n      <td>3586645396220590</td>\n      <td>Thur2544</td>\n      <td>0590</td>\n      <td>$$</td>\n      <td>Ok</td>\n    </tr>\n    <tr>\n      <th>14</th>\n      <td>14.83</td>\n      <td>3.02</td>\n      <td>Female</td>\n      <td>No</td>\n      <td>Sun</td>\n      <td>Dinner</td>\n      <td>2</td>\n      <td>7.42</td>\n      <td>Vanessa Jones</td>\n      <td>30016702287574</td>\n      <td>Sun3848</td>\n      <td>7574</td>\n      <td>$$</td>\n      <td>Ok</td>\n    </tr>\n    <tr>\n      <th>95</th>\n      <td>40.17</td>\n      <td>4.73</td>\n      <td>Male</td>\n      <td>Yes</td>\n      <td>Fri</td>\n      <td>Dinner</td>\n      <td>4</td>\n      <td>10.04</td>\n      <td>Aaron Bentley</td>\n      <td>180026611638690</td>\n      <td>Fri9628</td>\n      <td>8690</td>\n      <td>$$$</td>\n      <td>Ok</td>\n    </tr>\n  </tbody>\n</table>\n</div>"
     },
     "execution_count": 132,
     "metadata": {},
     "output_type": "execute_result"
    }
   ],
   "source": [
    "df.sample(5)"
   ]
  },
  {
   "cell_type": "code",
   "execution_count": 133,
   "metadata": {
    "ExecuteTime": {
     "end_time": "2023-11-26T15:51:24.033581400Z",
     "start_time": "2023-11-26T15:51:24.013474800Z"
    }
   },
   "outputs": [
    {
     "data": {
      "text/plain": "     total_bill   tip     sex smoker   day    time  size  price_per_person  \\\n199       13.51  2.00    Male    Yes  Thur   Lunch     2              6.76   \n18        16.97  3.50  Female     No   Sun  Dinner     3              5.66   \n70        12.02  1.97    Male     No   Sat  Dinner     2              6.01   \n26        13.37  2.00    Male     No   Sat  Dinner     2              6.68   \n22        15.77  2.23  Female     No   Sat  Dinner     2              7.88   \n56        38.01  3.00    Male    Yes   Sat  Dinner     4              9.50   \n234       15.53  3.00    Male    Yes   Sat  Dinner     2              7.76   \n127       14.52  2.00  Female     No  Thur   Lunch     2              7.26   \n115       17.31  3.50  Female     No   Sun  Dinner     2              8.65   \n87        18.28  4.00    Male     No  Thur   Lunch     2              9.14   \n181       23.33  5.65    Male    Yes   Sun  Dinner     2             11.66   \n25        17.81  2.34    Male     No   Sat  Dinner     4              4.45   \n89        21.16  3.00    Male     No  Thur   Lunch     2             10.58   \n166       20.76  2.24    Male     No   Sun  Dinner     2             10.38   \n120       11.69  2.31    Male     No  Thur   Lunch     2              5.84   \n165       24.52  3.48    Male     No   Sun  Dinner     3              8.17   \n169       10.63  2.00  Female    Yes   Sat  Dinner     2              5.32   \n140       17.47  3.50  Female     No  Thur   Lunch     2              8.74   \n78        22.76  3.00    Male     No  Thur   Lunch     2             11.38   \n92         5.75  1.00  Female    Yes   Fri  Dinner     2              2.88   \n232       11.61  3.39    Male     No   Sat  Dinner     2              5.80   \n65        20.08  3.15    Male     No   Sat  Dinner     3              6.69   \n133       12.26  2.00  Female     No  Thur   Lunch     2              6.13   \n82        10.07  1.83  Female     No  Thur   Lunch     1             10.07   \n\n                Payer Name         CC Number Payment ID last_four Expensive  \\\n199       Joseph Murphy MD  6547218923471275   Thur2428      1275        $$   \n18          Laura Martinez    30422275171379    Sun2789      1379        $$   \n70               Max Brown   213139760497718    Sat2100      7718        $$   \n26              Kyle Avery  6531339539615499    Sat6651      5499        $$   \n22          Ashley Shelton  3524119516293213    Sat9786      3213        $$   \n56   James Christensen DDS   349793629453226    Sat8903      3226       $$$   \n234          Tracy Douglas  4097938155941930    Sat7220      1930        $$   \n127        Jessica Simmons   213102478792200   Thur1512      2200        $$   \n115            Kayla Stone   379494319310858    Sun8746      0858        $$   \n87         Donald Williams  5363745772301404   Thur3636      1404        $$   \n181              Jason Cox  6556931703586223    Sun3402      6223        $$   \n25          Robert Perkins    30502930499388     Sat907      9388        $$   \n89             Keith Lewis  4356005144080422   Thur6273      0422        $$   \n166            Gordon Lane  4110599849536479    Sun6738      6479        $$   \n120        Kenneth Goodman     4891259691010   Thur8289      1010        $$   \n165           Jacob Hansen     4031116007387    Sun9043      7387        $$   \n169               Amy Hill  3536332481454019    Sat1788      4019        $$   \n140             Kayla Rios  5233918213804470   Thur3906      4470        $$   \n78              Chris Hahn  3591887177014031   Thur2863      4031        $$   \n92            Leah Ramirez  3508911676966392    Fri3780      6392         $   \n232           James Taylor  6011482917327995    Sat2124      7995        $$   \n65            Justin Dixon   180021262464926    Sat6840      4926        $$   \n133           Kaitlin Wolf      676348318145   Thur1561      8145        $$   \n82             Julie Moody      630413282843   Thur4909      2843        $$   \n\n    Tip Quality  \n199          Ok  \n18           Ok  \n70           Ok  \n26           Ok  \n22           Ok  \n56           Ok  \n234          Ok  \n127          Ok  \n115          Ok  \n87           Ok  \n181          Ok  \n25           Ok  \n89           Ok  \n166          Ok  \n120          Ok  \n165          Ok  \n169          Ok  \n140          Ok  \n78           Ok  \n92           Ok  \n232    Generous  \n65           Ok  \n133          Ok  \n82           Ok  ",
      "text/html": "<div>\n<style scoped>\n    .dataframe tbody tr th:only-of-type {\n        vertical-align: middle;\n    }\n\n    .dataframe tbody tr th {\n        vertical-align: top;\n    }\n\n    .dataframe thead th {\n        text-align: right;\n    }\n</style>\n<table border=\"1\" class=\"dataframe\">\n  <thead>\n    <tr style=\"text-align: right;\">\n      <th></th>\n      <th>total_bill</th>\n      <th>tip</th>\n      <th>sex</th>\n      <th>smoker</th>\n      <th>day</th>\n      <th>time</th>\n      <th>size</th>\n      <th>price_per_person</th>\n      <th>Payer Name</th>\n      <th>CC Number</th>\n      <th>Payment ID</th>\n      <th>last_four</th>\n      <th>Expensive</th>\n      <th>Tip Quality</th>\n    </tr>\n  </thead>\n  <tbody>\n    <tr>\n      <th>199</th>\n      <td>13.51</td>\n      <td>2.00</td>\n      <td>Male</td>\n      <td>Yes</td>\n      <td>Thur</td>\n      <td>Lunch</td>\n      <td>2</td>\n      <td>6.76</td>\n      <td>Joseph Murphy MD</td>\n      <td>6547218923471275</td>\n      <td>Thur2428</td>\n      <td>1275</td>\n      <td>$$</td>\n      <td>Ok</td>\n    </tr>\n    <tr>\n      <th>18</th>\n      <td>16.97</td>\n      <td>3.50</td>\n      <td>Female</td>\n      <td>No</td>\n      <td>Sun</td>\n      <td>Dinner</td>\n      <td>3</td>\n      <td>5.66</td>\n      <td>Laura Martinez</td>\n      <td>30422275171379</td>\n      <td>Sun2789</td>\n      <td>1379</td>\n      <td>$$</td>\n      <td>Ok</td>\n    </tr>\n    <tr>\n      <th>70</th>\n      <td>12.02</td>\n      <td>1.97</td>\n      <td>Male</td>\n      <td>No</td>\n      <td>Sat</td>\n      <td>Dinner</td>\n      <td>2</td>\n      <td>6.01</td>\n      <td>Max Brown</td>\n      <td>213139760497718</td>\n      <td>Sat2100</td>\n      <td>7718</td>\n      <td>$$</td>\n      <td>Ok</td>\n    </tr>\n    <tr>\n      <th>26</th>\n      <td>13.37</td>\n      <td>2.00</td>\n      <td>Male</td>\n      <td>No</td>\n      <td>Sat</td>\n      <td>Dinner</td>\n      <td>2</td>\n      <td>6.68</td>\n      <td>Kyle Avery</td>\n      <td>6531339539615499</td>\n      <td>Sat6651</td>\n      <td>5499</td>\n      <td>$$</td>\n      <td>Ok</td>\n    </tr>\n    <tr>\n      <th>22</th>\n      <td>15.77</td>\n      <td>2.23</td>\n      <td>Female</td>\n      <td>No</td>\n      <td>Sat</td>\n      <td>Dinner</td>\n      <td>2</td>\n      <td>7.88</td>\n      <td>Ashley Shelton</td>\n      <td>3524119516293213</td>\n      <td>Sat9786</td>\n      <td>3213</td>\n      <td>$$</td>\n      <td>Ok</td>\n    </tr>\n    <tr>\n      <th>56</th>\n      <td>38.01</td>\n      <td>3.00</td>\n      <td>Male</td>\n      <td>Yes</td>\n      <td>Sat</td>\n      <td>Dinner</td>\n      <td>4</td>\n      <td>9.50</td>\n      <td>James Christensen DDS</td>\n      <td>349793629453226</td>\n      <td>Sat8903</td>\n      <td>3226</td>\n      <td>$$$</td>\n      <td>Ok</td>\n    </tr>\n    <tr>\n      <th>234</th>\n      <td>15.53</td>\n      <td>3.00</td>\n      <td>Male</td>\n      <td>Yes</td>\n      <td>Sat</td>\n      <td>Dinner</td>\n      <td>2</td>\n      <td>7.76</td>\n      <td>Tracy Douglas</td>\n      <td>4097938155941930</td>\n      <td>Sat7220</td>\n      <td>1930</td>\n      <td>$$</td>\n      <td>Ok</td>\n    </tr>\n    <tr>\n      <th>127</th>\n      <td>14.52</td>\n      <td>2.00</td>\n      <td>Female</td>\n      <td>No</td>\n      <td>Thur</td>\n      <td>Lunch</td>\n      <td>2</td>\n      <td>7.26</td>\n      <td>Jessica Simmons</td>\n      <td>213102478792200</td>\n      <td>Thur1512</td>\n      <td>2200</td>\n      <td>$$</td>\n      <td>Ok</td>\n    </tr>\n    <tr>\n      <th>115</th>\n      <td>17.31</td>\n      <td>3.50</td>\n      <td>Female</td>\n      <td>No</td>\n      <td>Sun</td>\n      <td>Dinner</td>\n      <td>2</td>\n      <td>8.65</td>\n      <td>Kayla Stone</td>\n      <td>379494319310858</td>\n      <td>Sun8746</td>\n      <td>0858</td>\n      <td>$$</td>\n      <td>Ok</td>\n    </tr>\n    <tr>\n      <th>87</th>\n      <td>18.28</td>\n      <td>4.00</td>\n      <td>Male</td>\n      <td>No</td>\n      <td>Thur</td>\n      <td>Lunch</td>\n      <td>2</td>\n      <td>9.14</td>\n      <td>Donald Williams</td>\n      <td>5363745772301404</td>\n      <td>Thur3636</td>\n      <td>1404</td>\n      <td>$$</td>\n      <td>Ok</td>\n    </tr>\n    <tr>\n      <th>181</th>\n      <td>23.33</td>\n      <td>5.65</td>\n      <td>Male</td>\n      <td>Yes</td>\n      <td>Sun</td>\n      <td>Dinner</td>\n      <td>2</td>\n      <td>11.66</td>\n      <td>Jason Cox</td>\n      <td>6556931703586223</td>\n      <td>Sun3402</td>\n      <td>6223</td>\n      <td>$$</td>\n      <td>Ok</td>\n    </tr>\n    <tr>\n      <th>25</th>\n      <td>17.81</td>\n      <td>2.34</td>\n      <td>Male</td>\n      <td>No</td>\n      <td>Sat</td>\n      <td>Dinner</td>\n      <td>4</td>\n      <td>4.45</td>\n      <td>Robert Perkins</td>\n      <td>30502930499388</td>\n      <td>Sat907</td>\n      <td>9388</td>\n      <td>$$</td>\n      <td>Ok</td>\n    </tr>\n    <tr>\n      <th>89</th>\n      <td>21.16</td>\n      <td>3.00</td>\n      <td>Male</td>\n      <td>No</td>\n      <td>Thur</td>\n      <td>Lunch</td>\n      <td>2</td>\n      <td>10.58</td>\n      <td>Keith Lewis</td>\n      <td>4356005144080422</td>\n      <td>Thur6273</td>\n      <td>0422</td>\n      <td>$$</td>\n      <td>Ok</td>\n    </tr>\n    <tr>\n      <th>166</th>\n      <td>20.76</td>\n      <td>2.24</td>\n      <td>Male</td>\n      <td>No</td>\n      <td>Sun</td>\n      <td>Dinner</td>\n      <td>2</td>\n      <td>10.38</td>\n      <td>Gordon Lane</td>\n      <td>4110599849536479</td>\n      <td>Sun6738</td>\n      <td>6479</td>\n      <td>$$</td>\n      <td>Ok</td>\n    </tr>\n    <tr>\n      <th>120</th>\n      <td>11.69</td>\n      <td>2.31</td>\n      <td>Male</td>\n      <td>No</td>\n      <td>Thur</td>\n      <td>Lunch</td>\n      <td>2</td>\n      <td>5.84</td>\n      <td>Kenneth Goodman</td>\n      <td>4891259691010</td>\n      <td>Thur8289</td>\n      <td>1010</td>\n      <td>$$</td>\n      <td>Ok</td>\n    </tr>\n    <tr>\n      <th>165</th>\n      <td>24.52</td>\n      <td>3.48</td>\n      <td>Male</td>\n      <td>No</td>\n      <td>Sun</td>\n      <td>Dinner</td>\n      <td>3</td>\n      <td>8.17</td>\n      <td>Jacob Hansen</td>\n      <td>4031116007387</td>\n      <td>Sun9043</td>\n      <td>7387</td>\n      <td>$$</td>\n      <td>Ok</td>\n    </tr>\n    <tr>\n      <th>169</th>\n      <td>10.63</td>\n      <td>2.00</td>\n      <td>Female</td>\n      <td>Yes</td>\n      <td>Sat</td>\n      <td>Dinner</td>\n      <td>2</td>\n      <td>5.32</td>\n      <td>Amy Hill</td>\n      <td>3536332481454019</td>\n      <td>Sat1788</td>\n      <td>4019</td>\n      <td>$$</td>\n      <td>Ok</td>\n    </tr>\n    <tr>\n      <th>140</th>\n      <td>17.47</td>\n      <td>3.50</td>\n      <td>Female</td>\n      <td>No</td>\n      <td>Thur</td>\n      <td>Lunch</td>\n      <td>2</td>\n      <td>8.74</td>\n      <td>Kayla Rios</td>\n      <td>5233918213804470</td>\n      <td>Thur3906</td>\n      <td>4470</td>\n      <td>$$</td>\n      <td>Ok</td>\n    </tr>\n    <tr>\n      <th>78</th>\n      <td>22.76</td>\n      <td>3.00</td>\n      <td>Male</td>\n      <td>No</td>\n      <td>Thur</td>\n      <td>Lunch</td>\n      <td>2</td>\n      <td>11.38</td>\n      <td>Chris Hahn</td>\n      <td>3591887177014031</td>\n      <td>Thur2863</td>\n      <td>4031</td>\n      <td>$$</td>\n      <td>Ok</td>\n    </tr>\n    <tr>\n      <th>92</th>\n      <td>5.75</td>\n      <td>1.00</td>\n      <td>Female</td>\n      <td>Yes</td>\n      <td>Fri</td>\n      <td>Dinner</td>\n      <td>2</td>\n      <td>2.88</td>\n      <td>Leah Ramirez</td>\n      <td>3508911676966392</td>\n      <td>Fri3780</td>\n      <td>6392</td>\n      <td>$</td>\n      <td>Ok</td>\n    </tr>\n    <tr>\n      <th>232</th>\n      <td>11.61</td>\n      <td>3.39</td>\n      <td>Male</td>\n      <td>No</td>\n      <td>Sat</td>\n      <td>Dinner</td>\n      <td>2</td>\n      <td>5.80</td>\n      <td>James Taylor</td>\n      <td>6011482917327995</td>\n      <td>Sat2124</td>\n      <td>7995</td>\n      <td>$$</td>\n      <td>Generous</td>\n    </tr>\n    <tr>\n      <th>65</th>\n      <td>20.08</td>\n      <td>3.15</td>\n      <td>Male</td>\n      <td>No</td>\n      <td>Sat</td>\n      <td>Dinner</td>\n      <td>3</td>\n      <td>6.69</td>\n      <td>Justin Dixon</td>\n      <td>180021262464926</td>\n      <td>Sat6840</td>\n      <td>4926</td>\n      <td>$$</td>\n      <td>Ok</td>\n    </tr>\n    <tr>\n      <th>133</th>\n      <td>12.26</td>\n      <td>2.00</td>\n      <td>Female</td>\n      <td>No</td>\n      <td>Thur</td>\n      <td>Lunch</td>\n      <td>2</td>\n      <td>6.13</td>\n      <td>Kaitlin Wolf</td>\n      <td>676348318145</td>\n      <td>Thur1561</td>\n      <td>8145</td>\n      <td>$$</td>\n      <td>Ok</td>\n    </tr>\n    <tr>\n      <th>82</th>\n      <td>10.07</td>\n      <td>1.83</td>\n      <td>Female</td>\n      <td>No</td>\n      <td>Thur</td>\n      <td>Lunch</td>\n      <td>1</td>\n      <td>10.07</td>\n      <td>Julie Moody</td>\n      <td>630413282843</td>\n      <td>Thur4909</td>\n      <td>2843</td>\n      <td>$$</td>\n      <td>Ok</td>\n    </tr>\n  </tbody>\n</table>\n</div>"
     },
     "execution_count": 133,
     "metadata": {},
     "output_type": "execute_result"
    }
   ],
   "source": [
    "df.sample(frac=0.1)"
   ]
  },
  {
   "cell_type": "markdown",
   "metadata": {},
   "source": [
    "<a id='n'></a>\n",
    "## nlargest and nsmallest"
   ]
  },
  {
   "cell_type": "code",
   "execution_count": 134,
   "metadata": {
    "ExecuteTime": {
     "end_time": "2023-11-26T15:51:24.349139500Z",
     "start_time": "2023-11-26T15:51:24.321624300Z"
    }
   },
   "outputs": [
    {
     "data": {
      "text/plain": "     total_bill    tip     sex smoker   day    time  size  price_per_person  \\\n170       50.81  10.00    Male    Yes   Sat  Dinner     3             16.94   \n212       48.33   9.00    Male     No   Sat  Dinner     4             12.08   \n23        39.42   7.58    Male     No   Sat  Dinner     4              9.86   \n59        48.27   6.73    Male     No   Sat  Dinner     4             12.07   \n141       34.30   6.70    Male     No  Thur   Lunch     6              5.72   \n183       23.17   6.50    Male    Yes   Sun  Dinner     4              5.79   \n214       28.17   6.50  Female    Yes   Sat  Dinner     3              9.39   \n47        32.40   6.00    Male     No   Sun  Dinner     4              8.10   \n239       29.03   5.92    Male     No   Sat  Dinner     3              9.68   \n88        24.71   5.85    Male     No  Thur   Lunch     2             12.36   \n\n            Payer Name         CC Number Payment ID last_four Expensive  \\\n170      Gregory Clark  5473850968388236    Sat1954      8236       $$$   \n212    Alex Williamson      676218815212    Sat4590      5212       $$$   \n23      Lance Peterson  3542584061609808     Sat239      9808       $$$   \n59         Brian Ortiz  6596453823950595    Sat8139      0595       $$$   \n141     Steven Carlson  3526515703718508   Thur1025      8508       $$$   \n183  Dr. Michael James     4718501859162    Sun6059      9162        $$   \n214    Marissa Jackson  4922302538691962    Sat3374      1962        $$   \n47        James Barnes  3552002592874186    Sun9677      4186       $$$   \n239      Michael Avila  5296068606052842    Sat2657      2842        $$   \n88        Roger Taylor     4410248629955   Thur9003      9955        $$   \n\n    Tip Quality  \n170          Ok  \n212          Ok  \n23           Ok  \n59           Ok  \n141          Ok  \n183    Generous  \n214          Ok  \n47           Ok  \n239          Ok  \n88           Ok  ",
      "text/html": "<div>\n<style scoped>\n    .dataframe tbody tr th:only-of-type {\n        vertical-align: middle;\n    }\n\n    .dataframe tbody tr th {\n        vertical-align: top;\n    }\n\n    .dataframe thead th {\n        text-align: right;\n    }\n</style>\n<table border=\"1\" class=\"dataframe\">\n  <thead>\n    <tr style=\"text-align: right;\">\n      <th></th>\n      <th>total_bill</th>\n      <th>tip</th>\n      <th>sex</th>\n      <th>smoker</th>\n      <th>day</th>\n      <th>time</th>\n      <th>size</th>\n      <th>price_per_person</th>\n      <th>Payer Name</th>\n      <th>CC Number</th>\n      <th>Payment ID</th>\n      <th>last_four</th>\n      <th>Expensive</th>\n      <th>Tip Quality</th>\n    </tr>\n  </thead>\n  <tbody>\n    <tr>\n      <th>170</th>\n      <td>50.81</td>\n      <td>10.00</td>\n      <td>Male</td>\n      <td>Yes</td>\n      <td>Sat</td>\n      <td>Dinner</td>\n      <td>3</td>\n      <td>16.94</td>\n      <td>Gregory Clark</td>\n      <td>5473850968388236</td>\n      <td>Sat1954</td>\n      <td>8236</td>\n      <td>$$$</td>\n      <td>Ok</td>\n    </tr>\n    <tr>\n      <th>212</th>\n      <td>48.33</td>\n      <td>9.00</td>\n      <td>Male</td>\n      <td>No</td>\n      <td>Sat</td>\n      <td>Dinner</td>\n      <td>4</td>\n      <td>12.08</td>\n      <td>Alex Williamson</td>\n      <td>676218815212</td>\n      <td>Sat4590</td>\n      <td>5212</td>\n      <td>$$$</td>\n      <td>Ok</td>\n    </tr>\n    <tr>\n      <th>23</th>\n      <td>39.42</td>\n      <td>7.58</td>\n      <td>Male</td>\n      <td>No</td>\n      <td>Sat</td>\n      <td>Dinner</td>\n      <td>4</td>\n      <td>9.86</td>\n      <td>Lance Peterson</td>\n      <td>3542584061609808</td>\n      <td>Sat239</td>\n      <td>9808</td>\n      <td>$$$</td>\n      <td>Ok</td>\n    </tr>\n    <tr>\n      <th>59</th>\n      <td>48.27</td>\n      <td>6.73</td>\n      <td>Male</td>\n      <td>No</td>\n      <td>Sat</td>\n      <td>Dinner</td>\n      <td>4</td>\n      <td>12.07</td>\n      <td>Brian Ortiz</td>\n      <td>6596453823950595</td>\n      <td>Sat8139</td>\n      <td>0595</td>\n      <td>$$$</td>\n      <td>Ok</td>\n    </tr>\n    <tr>\n      <th>141</th>\n      <td>34.30</td>\n      <td>6.70</td>\n      <td>Male</td>\n      <td>No</td>\n      <td>Thur</td>\n      <td>Lunch</td>\n      <td>6</td>\n      <td>5.72</td>\n      <td>Steven Carlson</td>\n      <td>3526515703718508</td>\n      <td>Thur1025</td>\n      <td>8508</td>\n      <td>$$$</td>\n      <td>Ok</td>\n    </tr>\n    <tr>\n      <th>183</th>\n      <td>23.17</td>\n      <td>6.50</td>\n      <td>Male</td>\n      <td>Yes</td>\n      <td>Sun</td>\n      <td>Dinner</td>\n      <td>4</td>\n      <td>5.79</td>\n      <td>Dr. Michael James</td>\n      <td>4718501859162</td>\n      <td>Sun6059</td>\n      <td>9162</td>\n      <td>$$</td>\n      <td>Generous</td>\n    </tr>\n    <tr>\n      <th>214</th>\n      <td>28.17</td>\n      <td>6.50</td>\n      <td>Female</td>\n      <td>Yes</td>\n      <td>Sat</td>\n      <td>Dinner</td>\n      <td>3</td>\n      <td>9.39</td>\n      <td>Marissa Jackson</td>\n      <td>4922302538691962</td>\n      <td>Sat3374</td>\n      <td>1962</td>\n      <td>$$</td>\n      <td>Ok</td>\n    </tr>\n    <tr>\n      <th>47</th>\n      <td>32.40</td>\n      <td>6.00</td>\n      <td>Male</td>\n      <td>No</td>\n      <td>Sun</td>\n      <td>Dinner</td>\n      <td>4</td>\n      <td>8.10</td>\n      <td>James Barnes</td>\n      <td>3552002592874186</td>\n      <td>Sun9677</td>\n      <td>4186</td>\n      <td>$$$</td>\n      <td>Ok</td>\n    </tr>\n    <tr>\n      <th>239</th>\n      <td>29.03</td>\n      <td>5.92</td>\n      <td>Male</td>\n      <td>No</td>\n      <td>Sat</td>\n      <td>Dinner</td>\n      <td>3</td>\n      <td>9.68</td>\n      <td>Michael Avila</td>\n      <td>5296068606052842</td>\n      <td>Sat2657</td>\n      <td>2842</td>\n      <td>$$</td>\n      <td>Ok</td>\n    </tr>\n    <tr>\n      <th>88</th>\n      <td>24.71</td>\n      <td>5.85</td>\n      <td>Male</td>\n      <td>No</td>\n      <td>Thur</td>\n      <td>Lunch</td>\n      <td>2</td>\n      <td>12.36</td>\n      <td>Roger Taylor</td>\n      <td>4410248629955</td>\n      <td>Thur9003</td>\n      <td>9955</td>\n      <td>$$</td>\n      <td>Ok</td>\n    </tr>\n  </tbody>\n</table>\n</div>"
     },
     "execution_count": 134,
     "metadata": {},
     "output_type": "execute_result"
    }
   ],
   "source": [
    "df.nlargest(10,'tip')"
   ]
  },
  {
   "cell_type": "markdown",
   "metadata": {},
   "source": [
    "----"
   ]
  },
  {
   "cell_type": "code",
   "execution_count": 134,
   "outputs": [],
   "source": [],
   "metadata": {
    "collapsed": false,
    "ExecuteTime": {
     "end_time": "2023-11-26T15:51:24.815959700Z",
     "start_time": "2023-11-26T15:51:24.779450Z"
    }
   }
  },
  {
   "cell_type": "code",
   "execution_count": null,
   "outputs": [],
   "source": [],
   "metadata": {
    "collapsed": false
   }
  }
 ],
 "metadata": {
  "anaconda-cloud": {},
  "kernelspec": {
   "display_name": "Python 3",
   "language": "python",
   "name": "python3"
  },
  "language_info": {
   "codemirror_mode": {
    "name": "ipython",
    "version": 3
   },
   "file_extension": ".py",
   "mimetype": "text/x-python",
   "name": "python",
   "nbconvert_exporter": "python",
   "pygments_lexer": "ipython3",
   "version": "3.7.6"
  }
 },
 "nbformat": 4,
 "nbformat_minor": 1
}
