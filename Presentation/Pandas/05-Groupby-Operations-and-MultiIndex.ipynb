{
 "cells": [
  {
   "cell_type": "markdown",
   "metadata": {},
   "source": [
    "# Groupby Operations and Multi-level Index"
   ]
  },
  {
   "cell_type": "code",
   "execution_count": 94,
   "metadata": {
    "ExecuteTime": {
     "end_time": "2023-11-26T16:44:31.809067400Z",
     "start_time": "2023-11-26T16:44:31.713047500Z"
    }
   },
   "outputs": [],
   "source": [
    "import numpy as np\n",
    "import pandas as pd"
   ]
  },
  {
   "cell_type": "markdown",
   "metadata": {},
   "source": [
    "## Data"
   ]
  },
  {
   "cell_type": "code",
   "execution_count": 95,
   "metadata": {
    "ExecuteTime": {
     "end_time": "2023-11-26T16:44:31.815590300Z",
     "start_time": "2023-11-26T16:44:31.715585900Z"
    }
   },
   "outputs": [],
   "source": [
    "df = pd.read_csv('mpg.csv')"
   ]
  },
  {
   "cell_type": "code",
   "execution_count": 96,
   "metadata": {
    "ExecuteTime": {
     "end_time": "2023-11-26T16:44:31.948378700Z",
     "start_time": "2023-11-26T16:44:31.719886200Z"
    }
   },
   "outputs": [
    {
     "data": {
      "text/plain": "      mpg  cylinders  displacement horsepower  weight  acceleration  \\\n0    18.0          8         307.0        130    3504          12.0   \n1    15.0          8         350.0        165    3693          11.5   \n2    18.0          8         318.0        150    3436          11.0   \n3    16.0          8         304.0        150    3433          12.0   \n4    17.0          8         302.0        140    3449          10.5   \n..    ...        ...           ...        ...     ...           ...   \n393  27.0          4         140.0         86    2790          15.6   \n394  44.0          4          97.0         52    2130          24.6   \n395  32.0          4         135.0         84    2295          11.6   \n396  28.0          4         120.0         79    2625          18.6   \n397  31.0          4         119.0         82    2720          19.4   \n\n     model_year  origin                       name  \n0            70       1  chevrolet chevelle malibu  \n1            70       1          buick skylark 320  \n2            70       1         plymouth satellite  \n3            70       1              amc rebel sst  \n4            70       1                ford torino  \n..          ...     ...                        ...  \n393          82       1            ford mustang gl  \n394          82       2                  vw pickup  \n395          82       1              dodge rampage  \n396          82       1                ford ranger  \n397          82       1                 chevy s-10  \n\n[398 rows x 9 columns]",
      "text/html": "<div>\n<style scoped>\n    .dataframe tbody tr th:only-of-type {\n        vertical-align: middle;\n    }\n\n    .dataframe tbody tr th {\n        vertical-align: top;\n    }\n\n    .dataframe thead th {\n        text-align: right;\n    }\n</style>\n<table border=\"1\" class=\"dataframe\">\n  <thead>\n    <tr style=\"text-align: right;\">\n      <th></th>\n      <th>mpg</th>\n      <th>cylinders</th>\n      <th>displacement</th>\n      <th>horsepower</th>\n      <th>weight</th>\n      <th>acceleration</th>\n      <th>model_year</th>\n      <th>origin</th>\n      <th>name</th>\n    </tr>\n  </thead>\n  <tbody>\n    <tr>\n      <th>0</th>\n      <td>18.0</td>\n      <td>8</td>\n      <td>307.0</td>\n      <td>130</td>\n      <td>3504</td>\n      <td>12.0</td>\n      <td>70</td>\n      <td>1</td>\n      <td>chevrolet chevelle malibu</td>\n    </tr>\n    <tr>\n      <th>1</th>\n      <td>15.0</td>\n      <td>8</td>\n      <td>350.0</td>\n      <td>165</td>\n      <td>3693</td>\n      <td>11.5</td>\n      <td>70</td>\n      <td>1</td>\n      <td>buick skylark 320</td>\n    </tr>\n    <tr>\n      <th>2</th>\n      <td>18.0</td>\n      <td>8</td>\n      <td>318.0</td>\n      <td>150</td>\n      <td>3436</td>\n      <td>11.0</td>\n      <td>70</td>\n      <td>1</td>\n      <td>plymouth satellite</td>\n    </tr>\n    <tr>\n      <th>3</th>\n      <td>16.0</td>\n      <td>8</td>\n      <td>304.0</td>\n      <td>150</td>\n      <td>3433</td>\n      <td>12.0</td>\n      <td>70</td>\n      <td>1</td>\n      <td>amc rebel sst</td>\n    </tr>\n    <tr>\n      <th>4</th>\n      <td>17.0</td>\n      <td>8</td>\n      <td>302.0</td>\n      <td>140</td>\n      <td>3449</td>\n      <td>10.5</td>\n      <td>70</td>\n      <td>1</td>\n      <td>ford torino</td>\n    </tr>\n    <tr>\n      <th>...</th>\n      <td>...</td>\n      <td>...</td>\n      <td>...</td>\n      <td>...</td>\n      <td>...</td>\n      <td>...</td>\n      <td>...</td>\n      <td>...</td>\n      <td>...</td>\n    </tr>\n    <tr>\n      <th>393</th>\n      <td>27.0</td>\n      <td>4</td>\n      <td>140.0</td>\n      <td>86</td>\n      <td>2790</td>\n      <td>15.6</td>\n      <td>82</td>\n      <td>1</td>\n      <td>ford mustang gl</td>\n    </tr>\n    <tr>\n      <th>394</th>\n      <td>44.0</td>\n      <td>4</td>\n      <td>97.0</td>\n      <td>52</td>\n      <td>2130</td>\n      <td>24.6</td>\n      <td>82</td>\n      <td>2</td>\n      <td>vw pickup</td>\n    </tr>\n    <tr>\n      <th>395</th>\n      <td>32.0</td>\n      <td>4</td>\n      <td>135.0</td>\n      <td>84</td>\n      <td>2295</td>\n      <td>11.6</td>\n      <td>82</td>\n      <td>1</td>\n      <td>dodge rampage</td>\n    </tr>\n    <tr>\n      <th>396</th>\n      <td>28.0</td>\n      <td>4</td>\n      <td>120.0</td>\n      <td>79</td>\n      <td>2625</td>\n      <td>18.6</td>\n      <td>82</td>\n      <td>1</td>\n      <td>ford ranger</td>\n    </tr>\n    <tr>\n      <th>397</th>\n      <td>31.0</td>\n      <td>4</td>\n      <td>119.0</td>\n      <td>82</td>\n      <td>2720</td>\n      <td>19.4</td>\n      <td>82</td>\n      <td>1</td>\n      <td>chevy s-10</td>\n    </tr>\n  </tbody>\n</table>\n<p>398 rows × 9 columns</p>\n</div>"
     },
     "execution_count": 96,
     "metadata": {},
     "output_type": "execute_result"
    }
   ],
   "source": [
    "df"
   ]
  },
  {
   "cell_type": "markdown",
   "metadata": {},
   "source": [
    "## groupby() method"
   ]
  },
  {
   "cell_type": "code",
   "execution_count": 97,
   "metadata": {
    "ExecuteTime": {
     "end_time": "2023-11-26T16:44:32.045811600Z",
     "start_time": "2023-11-26T16:44:31.729181500Z"
    }
   },
   "outputs": [
    {
     "data": {
      "text/plain": "<pandas.core.groupby.generic.DataFrameGroupBy object at 0x000002403E35F2F0>"
     },
     "execution_count": 97,
     "metadata": {},
     "output_type": "execute_result"
    }
   ],
   "source": [
    "# Creates a groupby object waiting for an aggregate method\n",
    "df.groupby('model_year')"
   ]
  },
  {
   "cell_type": "markdown",
   "metadata": {},
   "source": [
    "#### Adding an aggregate method call. To use a grouped object, you need to tell pandas how you want to aggregate the data.\n",
    "\n",
    "Common Options:\n",
    "\n",
    "    mean(): Compute mean of groups\n",
    "    sum(): Compute sum of group values\n",
    "    size(): Compute group sizes\n",
    "    count(): Compute count of group\n",
    "    std(): Standard deviation of groups\n",
    "    var(): Compute variance of groups\n",
    "    sem(): Standard error of the mean of groups\n",
    "    describe(): Generates descriptive statistics\n",
    "    first(): Compute first of group values\n",
    "    last(): Compute last of group values\n",
    "    nth() : Take nth value, or a subset if n is a list\n",
    "    min(): Compute min of group values\n",
    "    max(): Compute max of group values\n",
    "    \n",
    "Full List at the Online Documentation: https://pandas.pydata.org/docs/reference/groupby.html"
   ]
  },
  {
   "cell_type": "code",
   "execution_count": 98,
   "metadata": {
    "ExecuteTime": {
     "end_time": "2023-11-26T16:44:32.073036Z",
     "start_time": "2023-11-26T16:44:31.736729500Z"
    }
   },
   "outputs": [
    {
     "data": {
      "text/plain": "                  mpg  cylinders  displacement       weight  acceleration  \\\nmodel_year                                                                  \n70          17.689655   6.758621    281.413793  3372.793103     12.948276   \n71          21.250000   5.571429    209.750000  2995.428571     15.142857   \n72          18.714286   5.821429    218.375000  3237.714286     15.125000   \n73          17.100000   6.375000    256.875000  3419.025000     14.312500   \n74          22.703704   5.259259    171.740741  2877.925926     16.203704   \n75          20.266667   5.600000    205.533333  3176.800000     16.050000   \n76          21.573529   5.647059    197.794118  3078.735294     15.941176   \n77          23.375000   5.464286    191.392857  2997.357143     15.435714   \n78          24.061111   5.361111    177.805556  2861.805556     15.805556   \n79          25.093103   5.827586    206.689655  3055.344828     15.813793   \n80          33.696552   4.137931    115.827586  2436.655172     16.934483   \n81          30.334483   4.620690    135.310345  2522.931034     16.306897   \n82          31.709677   4.193548    128.870968  2453.548387     16.638710   \n\n              origin  \nmodel_year            \n70          1.310345  \n71          1.428571  \n72          1.535714  \n73          1.375000  \n74          1.666667  \n75          1.466667  \n76          1.470588  \n77          1.571429  \n78          1.611111  \n79          1.275862  \n80          2.206897  \n81          1.965517  \n82          1.645161  ",
      "text/html": "<div>\n<style scoped>\n    .dataframe tbody tr th:only-of-type {\n        vertical-align: middle;\n    }\n\n    .dataframe tbody tr th {\n        vertical-align: top;\n    }\n\n    .dataframe thead th {\n        text-align: right;\n    }\n</style>\n<table border=\"1\" class=\"dataframe\">\n  <thead>\n    <tr style=\"text-align: right;\">\n      <th></th>\n      <th>mpg</th>\n      <th>cylinders</th>\n      <th>displacement</th>\n      <th>weight</th>\n      <th>acceleration</th>\n      <th>origin</th>\n    </tr>\n    <tr>\n      <th>model_year</th>\n      <th></th>\n      <th></th>\n      <th></th>\n      <th></th>\n      <th></th>\n      <th></th>\n    </tr>\n  </thead>\n  <tbody>\n    <tr>\n      <th>70</th>\n      <td>17.689655</td>\n      <td>6.758621</td>\n      <td>281.413793</td>\n      <td>3372.793103</td>\n      <td>12.948276</td>\n      <td>1.310345</td>\n    </tr>\n    <tr>\n      <th>71</th>\n      <td>21.250000</td>\n      <td>5.571429</td>\n      <td>209.750000</td>\n      <td>2995.428571</td>\n      <td>15.142857</td>\n      <td>1.428571</td>\n    </tr>\n    <tr>\n      <th>72</th>\n      <td>18.714286</td>\n      <td>5.821429</td>\n      <td>218.375000</td>\n      <td>3237.714286</td>\n      <td>15.125000</td>\n      <td>1.535714</td>\n    </tr>\n    <tr>\n      <th>73</th>\n      <td>17.100000</td>\n      <td>6.375000</td>\n      <td>256.875000</td>\n      <td>3419.025000</td>\n      <td>14.312500</td>\n      <td>1.375000</td>\n    </tr>\n    <tr>\n      <th>74</th>\n      <td>22.703704</td>\n      <td>5.259259</td>\n      <td>171.740741</td>\n      <td>2877.925926</td>\n      <td>16.203704</td>\n      <td>1.666667</td>\n    </tr>\n    <tr>\n      <th>75</th>\n      <td>20.266667</td>\n      <td>5.600000</td>\n      <td>205.533333</td>\n      <td>3176.800000</td>\n      <td>16.050000</td>\n      <td>1.466667</td>\n    </tr>\n    <tr>\n      <th>76</th>\n      <td>21.573529</td>\n      <td>5.647059</td>\n      <td>197.794118</td>\n      <td>3078.735294</td>\n      <td>15.941176</td>\n      <td>1.470588</td>\n    </tr>\n    <tr>\n      <th>77</th>\n      <td>23.375000</td>\n      <td>5.464286</td>\n      <td>191.392857</td>\n      <td>2997.357143</td>\n      <td>15.435714</td>\n      <td>1.571429</td>\n    </tr>\n    <tr>\n      <th>78</th>\n      <td>24.061111</td>\n      <td>5.361111</td>\n      <td>177.805556</td>\n      <td>2861.805556</td>\n      <td>15.805556</td>\n      <td>1.611111</td>\n    </tr>\n    <tr>\n      <th>79</th>\n      <td>25.093103</td>\n      <td>5.827586</td>\n      <td>206.689655</td>\n      <td>3055.344828</td>\n      <td>15.813793</td>\n      <td>1.275862</td>\n    </tr>\n    <tr>\n      <th>80</th>\n      <td>33.696552</td>\n      <td>4.137931</td>\n      <td>115.827586</td>\n      <td>2436.655172</td>\n      <td>16.934483</td>\n      <td>2.206897</td>\n    </tr>\n    <tr>\n      <th>81</th>\n      <td>30.334483</td>\n      <td>4.620690</td>\n      <td>135.310345</td>\n      <td>2522.931034</td>\n      <td>16.306897</td>\n      <td>1.965517</td>\n    </tr>\n    <tr>\n      <th>82</th>\n      <td>31.709677</td>\n      <td>4.193548</td>\n      <td>128.870968</td>\n      <td>2453.548387</td>\n      <td>16.638710</td>\n      <td>1.645161</td>\n    </tr>\n  </tbody>\n</table>\n</div>"
     },
     "execution_count": 98,
     "metadata": {},
     "output_type": "execute_result"
    }
   ],
   "source": [
    "# model_year becomes the index! It is NOT a column name,it is now the name of the index\n",
    "df.groupby('model_year').mean(numeric_only=True)"
   ]
  },
  {
   "cell_type": "code",
   "execution_count": 99,
   "metadata": {
    "ExecuteTime": {
     "end_time": "2023-11-26T16:44:32.094582Z",
     "start_time": "2023-11-26T16:44:31.740922400Z"
    }
   },
   "outputs": [],
   "source": [
    "avg_year = df.groupby('model_year').mean(numeric_only=True)"
   ]
  },
  {
   "cell_type": "code",
   "execution_count": 100,
   "metadata": {
    "ExecuteTime": {
     "end_time": "2023-11-26T16:44:32.116314200Z",
     "start_time": "2023-11-26T16:44:31.744856400Z"
    }
   },
   "outputs": [
    {
     "data": {
      "text/plain": "Index([70, 71, 72, 73, 74, 75, 76, 77, 78, 79, 80, 81, 82], dtype='int64', name='model_year')"
     },
     "execution_count": 100,
     "metadata": {},
     "output_type": "execute_result"
    }
   ],
   "source": [
    "avg_year.index"
   ]
  },
  {
   "cell_type": "code",
   "execution_count": 101,
   "metadata": {
    "ExecuteTime": {
     "end_time": "2023-11-26T16:44:32.116826100Z",
     "start_time": "2023-11-26T16:44:31.748353100Z"
    }
   },
   "outputs": [
    {
     "data": {
      "text/plain": "Index(['mpg', 'cylinders', 'displacement', 'weight', 'acceleration', 'origin'], dtype='object')"
     },
     "execution_count": 101,
     "metadata": {},
     "output_type": "execute_result"
    }
   ],
   "source": [
    "avg_year.columns"
   ]
  },
  {
   "cell_type": "code",
   "execution_count": 102,
   "metadata": {
    "ExecuteTime": {
     "end_time": "2023-11-26T16:44:32.138304700Z",
     "start_time": "2023-11-26T16:44:31.752862200Z"
    }
   },
   "outputs": [
    {
     "data": {
      "text/plain": "model_year\n70    17.689655\n71    21.250000\n72    18.714286\n73    17.100000\n74    22.703704\n75    20.266667\n76    21.573529\n77    23.375000\n78    24.061111\n79    25.093103\n80    33.696552\n81    30.334483\n82    31.709677\nName: mpg, dtype: float64"
     },
     "execution_count": 102,
     "metadata": {},
     "output_type": "execute_result"
    }
   ],
   "source": [
    "avg_year['mpg']"
   ]
  },
  {
   "cell_type": "code",
   "execution_count": 103,
   "metadata": {
    "ExecuteTime": {
     "end_time": "2023-11-26T16:44:32.156509100Z",
     "start_time": "2023-11-26T16:44:31.756925800Z"
    }
   },
   "outputs": [
    {
     "data": {
      "text/plain": "model_year\n70    17.689655\n71    21.250000\n72    18.714286\n73    17.100000\n74    22.703704\n75    20.266667\n76    21.573529\n77    23.375000\n78    24.061111\n79    25.093103\n80    33.696552\n81    30.334483\n82    31.709677\nName: mpg, dtype: float64"
     },
     "execution_count": 103,
     "metadata": {},
     "output_type": "execute_result"
    }
   ],
   "source": [
    "df.groupby('model_year').mean(numeric_only=True)['mpg']"
   ]
  },
  {
   "cell_type": "code",
   "execution_count": 104,
   "metadata": {
    "ExecuteTime": {
     "end_time": "2023-11-26T16:44:32.201446100Z",
     "start_time": "2023-11-26T16:44:31.761436100Z"
    }
   },
   "outputs": [
    {
     "data": {
      "text/plain": "             mpg                                                          \\\n           count       mean       std   min     25%    50%     75%   max   \nmodel_year                                                                 \n70          29.0  17.689655  5.339231   9.0  14.000  16.00  22.000  27.0   \n71          28.0  21.250000  6.591942  12.0  15.500  19.00  27.000  35.0   \n72          28.0  18.714286  5.435529  11.0  13.750  18.50  23.000  28.0   \n73          40.0  17.100000  4.700245  11.0  13.000  16.00  20.000  29.0   \n74          27.0  22.703704  6.420010  13.0  16.000  24.00  27.000  32.0   \n75          30.0  20.266667  4.940566  13.0  16.000  19.50  23.000  33.0   \n76          34.0  21.573529  5.889297  13.0  16.750  21.00  26.375  33.0   \n77          28.0  23.375000  6.675862  15.0  17.375  21.75  30.000  36.0   \n78          36.0  24.061111  6.898044  16.2  19.350  20.70  28.000  43.1   \n79          29.0  25.093103  6.794217  15.5  19.200  23.90  31.800  37.3   \n80          29.0  33.696552  7.037983  19.1  29.800  32.70  38.100  46.6   \n81          29.0  30.334483  5.591465  17.6  26.600  31.60  34.400  39.1   \n82          31.0  31.709677  5.392548  22.0  27.000  32.00  36.000  44.0   \n\n           cylinders            ... acceleration       origin            \\\n               count      mean  ...          75%   max  count      mean   \nmodel_year                      ...                                       \n70              29.0  6.758621  ...       15.000  20.5   29.0  1.310345   \n71              28.0  5.571429  ...       16.125  20.5   28.0  1.428571   \n72              28.0  5.821429  ...       16.625  23.5   28.0  1.535714   \n73              40.0  6.375000  ...       16.000  21.0   40.0  1.375000   \n74              27.0  5.259259  ...       17.000  21.0   27.0  1.666667   \n75              30.0  5.600000  ...       17.375  21.0   30.0  1.466667   \n76              34.0  5.647059  ...       17.550  22.2   34.0  1.470588   \n77              28.0  5.464286  ...       16.925  19.0   28.0  1.571429   \n78              36.0  5.361111  ...       16.825  21.5   36.0  1.611111   \n79              29.0  5.827586  ...       17.300  24.8   29.0  1.275862   \n80              29.0  4.137931  ...       18.700  23.7   29.0  2.206897   \n81              29.0  4.620690  ...       17.300  20.7   29.0  1.965517   \n82              31.0  4.193548  ...       18.000  24.6   31.0  1.645161   \n\n                                               \n                 std  min  25%  50%  75%  max  \nmodel_year                                     \n70          0.603765  1.0  1.0  1.0  1.0  3.0  \n71          0.741798  1.0  1.0  1.0  2.0  3.0  \n72          0.792658  1.0  1.0  1.0  2.0  3.0  \n73          0.667467  1.0  1.0  1.0  2.0  3.0  \n74          0.832050  1.0  1.0  1.0  2.0  3.0  \n75          0.730297  1.0  1.0  1.0  2.0  3.0  \n76          0.706476  1.0  1.0  1.0  2.0  3.0  \n77          0.835711  1.0  1.0  1.0  2.0  3.0  \n78          0.837608  1.0  1.0  1.0  2.0  3.0  \n79          0.591400  1.0  1.0  1.0  1.0  3.0  \n80          0.818505  1.0  2.0  2.0  3.0  3.0  \n81          0.944259  1.0  1.0  2.0  3.0  3.0  \n82          0.914636  1.0  1.0  1.0  3.0  3.0  \n\n[13 rows x 48 columns]",
      "text/html": "<div>\n<style scoped>\n    .dataframe tbody tr th:only-of-type {\n        vertical-align: middle;\n    }\n\n    .dataframe tbody tr th {\n        vertical-align: top;\n    }\n\n    .dataframe thead tr th {\n        text-align: left;\n    }\n\n    .dataframe thead tr:last-of-type th {\n        text-align: right;\n    }\n</style>\n<table border=\"1\" class=\"dataframe\">\n  <thead>\n    <tr>\n      <th></th>\n      <th colspan=\"8\" halign=\"left\">mpg</th>\n      <th colspan=\"2\" halign=\"left\">cylinders</th>\n      <th>...</th>\n      <th colspan=\"2\" halign=\"left\">acceleration</th>\n      <th colspan=\"8\" halign=\"left\">origin</th>\n    </tr>\n    <tr>\n      <th></th>\n      <th>count</th>\n      <th>mean</th>\n      <th>std</th>\n      <th>min</th>\n      <th>25%</th>\n      <th>50%</th>\n      <th>75%</th>\n      <th>max</th>\n      <th>count</th>\n      <th>mean</th>\n      <th>...</th>\n      <th>75%</th>\n      <th>max</th>\n      <th>count</th>\n      <th>mean</th>\n      <th>std</th>\n      <th>min</th>\n      <th>25%</th>\n      <th>50%</th>\n      <th>75%</th>\n      <th>max</th>\n    </tr>\n    <tr>\n      <th>model_year</th>\n      <th></th>\n      <th></th>\n      <th></th>\n      <th></th>\n      <th></th>\n      <th></th>\n      <th></th>\n      <th></th>\n      <th></th>\n      <th></th>\n      <th></th>\n      <th></th>\n      <th></th>\n      <th></th>\n      <th></th>\n      <th></th>\n      <th></th>\n      <th></th>\n      <th></th>\n      <th></th>\n      <th></th>\n    </tr>\n  </thead>\n  <tbody>\n    <tr>\n      <th>70</th>\n      <td>29.0</td>\n      <td>17.689655</td>\n      <td>5.339231</td>\n      <td>9.0</td>\n      <td>14.000</td>\n      <td>16.00</td>\n      <td>22.000</td>\n      <td>27.0</td>\n      <td>29.0</td>\n      <td>6.758621</td>\n      <td>...</td>\n      <td>15.000</td>\n      <td>20.5</td>\n      <td>29.0</td>\n      <td>1.310345</td>\n      <td>0.603765</td>\n      <td>1.0</td>\n      <td>1.0</td>\n      <td>1.0</td>\n      <td>1.0</td>\n      <td>3.0</td>\n    </tr>\n    <tr>\n      <th>71</th>\n      <td>28.0</td>\n      <td>21.250000</td>\n      <td>6.591942</td>\n      <td>12.0</td>\n      <td>15.500</td>\n      <td>19.00</td>\n      <td>27.000</td>\n      <td>35.0</td>\n      <td>28.0</td>\n      <td>5.571429</td>\n      <td>...</td>\n      <td>16.125</td>\n      <td>20.5</td>\n      <td>28.0</td>\n      <td>1.428571</td>\n      <td>0.741798</td>\n      <td>1.0</td>\n      <td>1.0</td>\n      <td>1.0</td>\n      <td>2.0</td>\n      <td>3.0</td>\n    </tr>\n    <tr>\n      <th>72</th>\n      <td>28.0</td>\n      <td>18.714286</td>\n      <td>5.435529</td>\n      <td>11.0</td>\n      <td>13.750</td>\n      <td>18.50</td>\n      <td>23.000</td>\n      <td>28.0</td>\n      <td>28.0</td>\n      <td>5.821429</td>\n      <td>...</td>\n      <td>16.625</td>\n      <td>23.5</td>\n      <td>28.0</td>\n      <td>1.535714</td>\n      <td>0.792658</td>\n      <td>1.0</td>\n      <td>1.0</td>\n      <td>1.0</td>\n      <td>2.0</td>\n      <td>3.0</td>\n    </tr>\n    <tr>\n      <th>73</th>\n      <td>40.0</td>\n      <td>17.100000</td>\n      <td>4.700245</td>\n      <td>11.0</td>\n      <td>13.000</td>\n      <td>16.00</td>\n      <td>20.000</td>\n      <td>29.0</td>\n      <td>40.0</td>\n      <td>6.375000</td>\n      <td>...</td>\n      <td>16.000</td>\n      <td>21.0</td>\n      <td>40.0</td>\n      <td>1.375000</td>\n      <td>0.667467</td>\n      <td>1.0</td>\n      <td>1.0</td>\n      <td>1.0</td>\n      <td>2.0</td>\n      <td>3.0</td>\n    </tr>\n    <tr>\n      <th>74</th>\n      <td>27.0</td>\n      <td>22.703704</td>\n      <td>6.420010</td>\n      <td>13.0</td>\n      <td>16.000</td>\n      <td>24.00</td>\n      <td>27.000</td>\n      <td>32.0</td>\n      <td>27.0</td>\n      <td>5.259259</td>\n      <td>...</td>\n      <td>17.000</td>\n      <td>21.0</td>\n      <td>27.0</td>\n      <td>1.666667</td>\n      <td>0.832050</td>\n      <td>1.0</td>\n      <td>1.0</td>\n      <td>1.0</td>\n      <td>2.0</td>\n      <td>3.0</td>\n    </tr>\n    <tr>\n      <th>75</th>\n      <td>30.0</td>\n      <td>20.266667</td>\n      <td>4.940566</td>\n      <td>13.0</td>\n      <td>16.000</td>\n      <td>19.50</td>\n      <td>23.000</td>\n      <td>33.0</td>\n      <td>30.0</td>\n      <td>5.600000</td>\n      <td>...</td>\n      <td>17.375</td>\n      <td>21.0</td>\n      <td>30.0</td>\n      <td>1.466667</td>\n      <td>0.730297</td>\n      <td>1.0</td>\n      <td>1.0</td>\n      <td>1.0</td>\n      <td>2.0</td>\n      <td>3.0</td>\n    </tr>\n    <tr>\n      <th>76</th>\n      <td>34.0</td>\n      <td>21.573529</td>\n      <td>5.889297</td>\n      <td>13.0</td>\n      <td>16.750</td>\n      <td>21.00</td>\n      <td>26.375</td>\n      <td>33.0</td>\n      <td>34.0</td>\n      <td>5.647059</td>\n      <td>...</td>\n      <td>17.550</td>\n      <td>22.2</td>\n      <td>34.0</td>\n      <td>1.470588</td>\n      <td>0.706476</td>\n      <td>1.0</td>\n      <td>1.0</td>\n      <td>1.0</td>\n      <td>2.0</td>\n      <td>3.0</td>\n    </tr>\n    <tr>\n      <th>77</th>\n      <td>28.0</td>\n      <td>23.375000</td>\n      <td>6.675862</td>\n      <td>15.0</td>\n      <td>17.375</td>\n      <td>21.75</td>\n      <td>30.000</td>\n      <td>36.0</td>\n      <td>28.0</td>\n      <td>5.464286</td>\n      <td>...</td>\n      <td>16.925</td>\n      <td>19.0</td>\n      <td>28.0</td>\n      <td>1.571429</td>\n      <td>0.835711</td>\n      <td>1.0</td>\n      <td>1.0</td>\n      <td>1.0</td>\n      <td>2.0</td>\n      <td>3.0</td>\n    </tr>\n    <tr>\n      <th>78</th>\n      <td>36.0</td>\n      <td>24.061111</td>\n      <td>6.898044</td>\n      <td>16.2</td>\n      <td>19.350</td>\n      <td>20.70</td>\n      <td>28.000</td>\n      <td>43.1</td>\n      <td>36.0</td>\n      <td>5.361111</td>\n      <td>...</td>\n      <td>16.825</td>\n      <td>21.5</td>\n      <td>36.0</td>\n      <td>1.611111</td>\n      <td>0.837608</td>\n      <td>1.0</td>\n      <td>1.0</td>\n      <td>1.0</td>\n      <td>2.0</td>\n      <td>3.0</td>\n    </tr>\n    <tr>\n      <th>79</th>\n      <td>29.0</td>\n      <td>25.093103</td>\n      <td>6.794217</td>\n      <td>15.5</td>\n      <td>19.200</td>\n      <td>23.90</td>\n      <td>31.800</td>\n      <td>37.3</td>\n      <td>29.0</td>\n      <td>5.827586</td>\n      <td>...</td>\n      <td>17.300</td>\n      <td>24.8</td>\n      <td>29.0</td>\n      <td>1.275862</td>\n      <td>0.591400</td>\n      <td>1.0</td>\n      <td>1.0</td>\n      <td>1.0</td>\n      <td>1.0</td>\n      <td>3.0</td>\n    </tr>\n    <tr>\n      <th>80</th>\n      <td>29.0</td>\n      <td>33.696552</td>\n      <td>7.037983</td>\n      <td>19.1</td>\n      <td>29.800</td>\n      <td>32.70</td>\n      <td>38.100</td>\n      <td>46.6</td>\n      <td>29.0</td>\n      <td>4.137931</td>\n      <td>...</td>\n      <td>18.700</td>\n      <td>23.7</td>\n      <td>29.0</td>\n      <td>2.206897</td>\n      <td>0.818505</td>\n      <td>1.0</td>\n      <td>2.0</td>\n      <td>2.0</td>\n      <td>3.0</td>\n      <td>3.0</td>\n    </tr>\n    <tr>\n      <th>81</th>\n      <td>29.0</td>\n      <td>30.334483</td>\n      <td>5.591465</td>\n      <td>17.6</td>\n      <td>26.600</td>\n      <td>31.60</td>\n      <td>34.400</td>\n      <td>39.1</td>\n      <td>29.0</td>\n      <td>4.620690</td>\n      <td>...</td>\n      <td>17.300</td>\n      <td>20.7</td>\n      <td>29.0</td>\n      <td>1.965517</td>\n      <td>0.944259</td>\n      <td>1.0</td>\n      <td>1.0</td>\n      <td>2.0</td>\n      <td>3.0</td>\n      <td>3.0</td>\n    </tr>\n    <tr>\n      <th>82</th>\n      <td>31.0</td>\n      <td>31.709677</td>\n      <td>5.392548</td>\n      <td>22.0</td>\n      <td>27.000</td>\n      <td>32.00</td>\n      <td>36.000</td>\n      <td>44.0</td>\n      <td>31.0</td>\n      <td>4.193548</td>\n      <td>...</td>\n      <td>18.000</td>\n      <td>24.6</td>\n      <td>31.0</td>\n      <td>1.645161</td>\n      <td>0.914636</td>\n      <td>1.0</td>\n      <td>1.0</td>\n      <td>1.0</td>\n      <td>3.0</td>\n      <td>3.0</td>\n    </tr>\n  </tbody>\n</table>\n<p>13 rows × 48 columns</p>\n</div>"
     },
     "execution_count": 104,
     "metadata": {},
     "output_type": "execute_result"
    }
   ],
   "source": [
    "df.groupby('model_year').describe()"
   ]
  },
  {
   "cell_type": "code",
   "execution_count": 105,
   "metadata": {
    "ExecuteTime": {
     "end_time": "2023-11-26T16:44:32.208512Z",
     "start_time": "2023-11-26T16:44:31.829840400Z"
    }
   },
   "outputs": [
    {
     "data": {
      "text/plain": "model_year                   70           71           72           73  \\\nmpg          count    29.000000    28.000000    28.000000    40.000000   \n             mean     17.689655    21.250000    18.714286    17.100000   \n             std       5.339231     6.591942     5.435529     4.700245   \n             min       9.000000    12.000000    11.000000    11.000000   \n             25%      14.000000    15.500000    13.750000    13.000000   \n             50%      16.000000    19.000000    18.500000    16.000000   \n             75%      22.000000    27.000000    23.000000    20.000000   \n             max      27.000000    35.000000    28.000000    29.000000   \ncylinders    count    29.000000    28.000000    28.000000    40.000000   \n             mean      6.758621     5.571429     5.821429     6.375000   \n             std       1.724926     1.665079     2.073708     1.807215   \n             min       4.000000     4.000000     3.000000     3.000000   \n             25%       6.000000     4.000000     4.000000     4.000000   \n             50%       8.000000     6.000000     4.000000     7.000000   \n             75%       8.000000     6.500000     8.000000     8.000000   \n             max       8.000000     8.000000     8.000000     8.000000   \ndisplacement count    29.000000    28.000000    28.000000    40.000000   \n             mean    281.413793   209.750000   218.375000   256.875000   \n             std     124.421380   115.102410   123.781964   121.722085   \n             min      97.000000    71.000000    70.000000    68.000000   \n             25%     198.000000    97.750000   109.250000   121.750000   \n             50%     307.000000   228.500000   131.000000   276.000000   \n             75%     383.000000   273.000000   326.000000   350.250000   \n             max     455.000000   400.000000   429.000000   455.000000   \nweight       count    29.000000    28.000000    28.000000    40.000000   \n             mean   3372.793103  2995.428571  3237.714286  3419.025000   \n             std     852.868663  1061.830859   974.520960   974.809133   \n             min    1835.000000  1613.000000  2100.000000  1867.000000   \n             25%    2648.000000  2110.750000  2285.500000  2554.500000   \n             50%    3449.000000  2798.000000  2956.000000  3338.500000   \n             75%    4312.000000  3603.250000  4169.750000  4247.250000   \n             max    4732.000000  5140.000000  4633.000000  4997.000000   \nacceleration count    29.000000    28.000000    28.000000    40.000000   \n             mean     12.948276    15.142857    15.125000    14.312500   \n             std       3.330982     2.666171     2.850032     2.754222   \n             min       8.000000    11.500000    11.000000     9.500000   \n             25%      10.000000    13.375000    13.375000    12.500000   \n             50%      12.500000    14.500000    14.500000    14.000000   \n             75%      15.000000    16.125000    16.625000    16.000000   \n             max      20.500000    20.500000    23.500000    21.000000   \norigin       count    29.000000    28.000000    28.000000    40.000000   \n             mean      1.310345     1.428571     1.535714     1.375000   \n             std       0.603765     0.741798     0.792658     0.667467   \n             min       1.000000     1.000000     1.000000     1.000000   \n             25%       1.000000     1.000000     1.000000     1.000000   \n             50%       1.000000     1.000000     1.000000     1.000000   \n             75%       1.000000     2.000000     2.000000     2.000000   \n             max       3.000000     3.000000     3.000000     3.000000   \n\nmodel_year                   74           75           76           77  \\\nmpg          count    27.000000    30.000000    34.000000    28.000000   \n             mean     22.703704    20.266667    21.573529    23.375000   \n             std       6.420010     4.940566     5.889297     6.675862   \n             min      13.000000    13.000000    13.000000    15.000000   \n             25%      16.000000    16.000000    16.750000    17.375000   \n             50%      24.000000    19.500000    21.000000    21.750000   \n             75%      27.000000    23.000000    26.375000    30.000000   \n             max      32.000000    33.000000    33.000000    36.000000   \ncylinders    count    27.000000    30.000000    34.000000    28.000000   \n             mean      5.259259     5.600000     5.647059     5.464286   \n             std       1.583390     1.522249     1.667558     1.815206   \n             min       4.000000     4.000000     4.000000     3.000000   \n             25%       4.000000     4.000000     4.000000     4.000000   \n             50%       4.000000     6.000000     6.000000     4.000000   \n             75%       6.000000     6.000000     7.500000     8.000000   \n             max       8.000000     8.000000     8.000000     8.000000   \ndisplacement count    27.000000    30.000000    34.000000    28.000000   \n             mean    171.740741   205.533333   197.794118   191.392857   \n             std      92.601127    87.669730    94.422256   107.813742   \n             min      71.000000    90.000000    85.000000    79.000000   \n             25%      90.000000   121.000000   102.500000    97.750000   \n             50%     122.000000   228.000000   184.000000   143.000000   \n             75%     250.000000   250.000000   291.000000   270.500000   \n             max     350.000000   400.000000   351.000000   400.000000   \nweight       count    27.000000    30.000000    34.000000    28.000000   \n             mean   2877.925926  3176.800000  3078.735294  2997.357143   \n             std     949.308571   765.179781   821.371481   912.825902   \n             min    1649.000000  1795.000000  1795.000000  1825.000000   \n             25%    2116.500000  2676.750000  2228.750000  2135.000000   \n             50%    2489.000000  3098.500000  3171.500000  2747.500000   \n             75%    3622.500000  3662.250000  3803.750000  3925.000000   \n             max    4699.000000  4668.000000  4380.000000  4335.000000   \nacceleration count    27.000000    30.000000    34.000000    28.000000   \n             mean     16.203704    16.050000    15.941176    15.435714   \n             std       1.688532     2.471737     2.801419     2.273391   \n             min      13.500000    11.500000    12.000000    11.100000   \n             25%      15.250000    14.125000    13.925000    14.000000   \n             50%      16.000000    16.000000    15.500000    15.650000   \n             75%      17.000000    17.375000    17.550000    16.925000   \n             max      21.000000    21.000000    22.200000    19.000000   \norigin       count    27.000000    30.000000    34.000000    28.000000   \n             mean      1.666667     1.466667     1.470588     1.571429   \n             std       0.832050     0.730297     0.706476     0.835711   \n             min       1.000000     1.000000     1.000000     1.000000   \n             25%       1.000000     1.000000     1.000000     1.000000   \n             50%       1.000000     1.000000     1.000000     1.000000   \n             75%       2.000000     2.000000     2.000000     2.000000   \n             max       3.000000     3.000000     3.000000     3.000000   \n\nmodel_year                   78           79           80           81  \\\nmpg          count    36.000000    29.000000    29.000000    29.000000   \n             mean     24.061111    25.093103    33.696552    30.334483   \n             std       6.898044     6.794217     7.037983     5.591465   \n             min      16.200000    15.500000    19.100000    17.600000   \n             25%      19.350000    19.200000    29.800000    26.600000   \n             50%      20.700000    23.900000    32.700000    31.600000   \n             75%      28.000000    31.800000    38.100000    34.400000   \n             max      43.100000    37.300000    46.600000    39.100000   \ncylinders    count    36.000000    29.000000    29.000000    29.000000   \n             mean      5.361111     5.827586     4.137931     4.620690   \n             std       1.495761     1.774199     0.580895     1.082781   \n             min       4.000000     4.000000     3.000000     4.000000   \n             25%       4.000000     4.000000     4.000000     4.000000   \n             50%       5.500000     6.000000     4.000000     4.000000   \n             75%       6.000000     8.000000     4.000000     6.000000   \n             max       8.000000     8.000000     6.000000     8.000000   \ndisplacement count    36.000000    29.000000    29.000000    29.000000   \n             mean    177.805556   206.689655   115.827586   135.310345   \n             std      76.012713    96.307581    33.744914    58.387929   \n             min      78.000000    85.000000    70.000000    79.000000   \n             25%     115.500000   121.000000    90.000000    98.000000   \n             50%     159.500000   183.000000   107.000000   119.000000   \n             75%     231.000000   302.000000   140.000000   151.000000   \n             max     318.000000   360.000000   225.000000   350.000000   \nweight       count    36.000000    29.000000    29.000000    29.000000   \n             mean   2861.805556  3055.344828  2436.655172  2522.931034   \n             std     626.023907   747.881497   432.235491   533.600501   \n             min    1800.000000  1915.000000  1835.000000  1755.000000   \n             25%    2282.500000  2556.000000  2110.000000  2065.000000   \n             50%    2910.000000  3190.000000  2335.000000  2385.000000   \n             75%    3410.000000  3725.000000  2800.000000  2900.000000   \n             max    4080.000000  4360.000000  3381.000000  3725.000000   \nacceleration count    36.000000    29.000000    29.000000    29.000000   \n             mean     15.805556    15.813793    16.934483    16.306897   \n             std       2.129915     2.952931     2.826694     2.192509   \n             min      11.200000    11.300000    11.400000    12.600000   \n             25%      14.475000    14.000000    15.100000    14.800000   \n             50%      15.750000    15.000000    16.500000    16.200000   \n             75%      16.825000    17.300000    18.700000    17.300000   \n             max      21.500000    24.800000    23.700000    20.700000   \norigin       count    36.000000    29.000000    29.000000    29.000000   \n             mean      1.611111     1.275862     2.206897     1.965517   \n             std       0.837608     0.591400     0.818505     0.944259   \n             min       1.000000     1.000000     1.000000     1.000000   \n             25%       1.000000     1.000000     2.000000     1.000000   \n             50%       1.000000     1.000000     2.000000     2.000000   \n             75%       2.000000     1.000000     3.000000     3.000000   \n             max       3.000000     3.000000     3.000000     3.000000   \n\nmodel_year                   82  \nmpg          count    31.000000  \n             mean     31.709677  \n             std       5.392548  \n             min      22.000000  \n             25%      27.000000  \n             50%      32.000000  \n             75%      36.000000  \n             max      44.000000  \ncylinders    count    31.000000  \n             mean      4.193548  \n             std       0.601074  \n             min       4.000000  \n             25%       4.000000  \n             50%       4.000000  \n             75%       4.000000  \n             max       6.000000  \ndisplacement count    31.000000  \n             mean    128.870968  \n             std      39.352037  \n             min      91.000000  \n             25%     105.000000  \n             50%     119.000000  \n             75%     142.000000  \n             max     262.000000  \nweight       count    31.000000  \n             mean   2453.548387  \n             std     354.276713  \n             min    1965.000000  \n             25%    2127.500000  \n             50%    2525.000000  \n             75%    2727.500000  \n             max    3035.000000  \nacceleration count    31.000000  \n             mean     16.638710  \n             std       2.484844  \n             min      11.600000  \n             25%      14.850000  \n             50%      16.400000  \n             75%      18.000000  \n             max      24.600000  \norigin       count    31.000000  \n             mean      1.645161  \n             std       0.914636  \n             min       1.000000  \n             25%       1.000000  \n             50%       1.000000  \n             75%       3.000000  \n             max       3.000000  ",
      "text/html": "<div>\n<style scoped>\n    .dataframe tbody tr th:only-of-type {\n        vertical-align: middle;\n    }\n\n    .dataframe tbody tr th {\n        vertical-align: top;\n    }\n\n    .dataframe thead th {\n        text-align: right;\n    }\n</style>\n<table border=\"1\" class=\"dataframe\">\n  <thead>\n    <tr style=\"text-align: right;\">\n      <th></th>\n      <th>model_year</th>\n      <th>70</th>\n      <th>71</th>\n      <th>72</th>\n      <th>73</th>\n      <th>74</th>\n      <th>75</th>\n      <th>76</th>\n      <th>77</th>\n      <th>78</th>\n      <th>79</th>\n      <th>80</th>\n      <th>81</th>\n      <th>82</th>\n    </tr>\n  </thead>\n  <tbody>\n    <tr>\n      <th rowspan=\"8\" valign=\"top\">mpg</th>\n      <th>count</th>\n      <td>29.000000</td>\n      <td>28.000000</td>\n      <td>28.000000</td>\n      <td>40.000000</td>\n      <td>27.000000</td>\n      <td>30.000000</td>\n      <td>34.000000</td>\n      <td>28.000000</td>\n      <td>36.000000</td>\n      <td>29.000000</td>\n      <td>29.000000</td>\n      <td>29.000000</td>\n      <td>31.000000</td>\n    </tr>\n    <tr>\n      <th>mean</th>\n      <td>17.689655</td>\n      <td>21.250000</td>\n      <td>18.714286</td>\n      <td>17.100000</td>\n      <td>22.703704</td>\n      <td>20.266667</td>\n      <td>21.573529</td>\n      <td>23.375000</td>\n      <td>24.061111</td>\n      <td>25.093103</td>\n      <td>33.696552</td>\n      <td>30.334483</td>\n      <td>31.709677</td>\n    </tr>\n    <tr>\n      <th>std</th>\n      <td>5.339231</td>\n      <td>6.591942</td>\n      <td>5.435529</td>\n      <td>4.700245</td>\n      <td>6.420010</td>\n      <td>4.940566</td>\n      <td>5.889297</td>\n      <td>6.675862</td>\n      <td>6.898044</td>\n      <td>6.794217</td>\n      <td>7.037983</td>\n      <td>5.591465</td>\n      <td>5.392548</td>\n    </tr>\n    <tr>\n      <th>min</th>\n      <td>9.000000</td>\n      <td>12.000000</td>\n      <td>11.000000</td>\n      <td>11.000000</td>\n      <td>13.000000</td>\n      <td>13.000000</td>\n      <td>13.000000</td>\n      <td>15.000000</td>\n      <td>16.200000</td>\n      <td>15.500000</td>\n      <td>19.100000</td>\n      <td>17.600000</td>\n      <td>22.000000</td>\n    </tr>\n    <tr>\n      <th>25%</th>\n      <td>14.000000</td>\n      <td>15.500000</td>\n      <td>13.750000</td>\n      <td>13.000000</td>\n      <td>16.000000</td>\n      <td>16.000000</td>\n      <td>16.750000</td>\n      <td>17.375000</td>\n      <td>19.350000</td>\n      <td>19.200000</td>\n      <td>29.800000</td>\n      <td>26.600000</td>\n      <td>27.000000</td>\n    </tr>\n    <tr>\n      <th>50%</th>\n      <td>16.000000</td>\n      <td>19.000000</td>\n      <td>18.500000</td>\n      <td>16.000000</td>\n      <td>24.000000</td>\n      <td>19.500000</td>\n      <td>21.000000</td>\n      <td>21.750000</td>\n      <td>20.700000</td>\n      <td>23.900000</td>\n      <td>32.700000</td>\n      <td>31.600000</td>\n      <td>32.000000</td>\n    </tr>\n    <tr>\n      <th>75%</th>\n      <td>22.000000</td>\n      <td>27.000000</td>\n      <td>23.000000</td>\n      <td>20.000000</td>\n      <td>27.000000</td>\n      <td>23.000000</td>\n      <td>26.375000</td>\n      <td>30.000000</td>\n      <td>28.000000</td>\n      <td>31.800000</td>\n      <td>38.100000</td>\n      <td>34.400000</td>\n      <td>36.000000</td>\n    </tr>\n    <tr>\n      <th>max</th>\n      <td>27.000000</td>\n      <td>35.000000</td>\n      <td>28.000000</td>\n      <td>29.000000</td>\n      <td>32.000000</td>\n      <td>33.000000</td>\n      <td>33.000000</td>\n      <td>36.000000</td>\n      <td>43.100000</td>\n      <td>37.300000</td>\n      <td>46.600000</td>\n      <td>39.100000</td>\n      <td>44.000000</td>\n    </tr>\n    <tr>\n      <th rowspan=\"8\" valign=\"top\">cylinders</th>\n      <th>count</th>\n      <td>29.000000</td>\n      <td>28.000000</td>\n      <td>28.000000</td>\n      <td>40.000000</td>\n      <td>27.000000</td>\n      <td>30.000000</td>\n      <td>34.000000</td>\n      <td>28.000000</td>\n      <td>36.000000</td>\n      <td>29.000000</td>\n      <td>29.000000</td>\n      <td>29.000000</td>\n      <td>31.000000</td>\n    </tr>\n    <tr>\n      <th>mean</th>\n      <td>6.758621</td>\n      <td>5.571429</td>\n      <td>5.821429</td>\n      <td>6.375000</td>\n      <td>5.259259</td>\n      <td>5.600000</td>\n      <td>5.647059</td>\n      <td>5.464286</td>\n      <td>5.361111</td>\n      <td>5.827586</td>\n      <td>4.137931</td>\n      <td>4.620690</td>\n      <td>4.193548</td>\n    </tr>\n    <tr>\n      <th>std</th>\n      <td>1.724926</td>\n      <td>1.665079</td>\n      <td>2.073708</td>\n      <td>1.807215</td>\n      <td>1.583390</td>\n      <td>1.522249</td>\n      <td>1.667558</td>\n      <td>1.815206</td>\n      <td>1.495761</td>\n      <td>1.774199</td>\n      <td>0.580895</td>\n      <td>1.082781</td>\n      <td>0.601074</td>\n    </tr>\n    <tr>\n      <th>min</th>\n      <td>4.000000</td>\n      <td>4.000000</td>\n      <td>3.000000</td>\n      <td>3.000000</td>\n      <td>4.000000</td>\n      <td>4.000000</td>\n      <td>4.000000</td>\n      <td>3.000000</td>\n      <td>4.000000</td>\n      <td>4.000000</td>\n      <td>3.000000</td>\n      <td>4.000000</td>\n      <td>4.000000</td>\n    </tr>\n    <tr>\n      <th>25%</th>\n      <td>6.000000</td>\n      <td>4.000000</td>\n      <td>4.000000</td>\n      <td>4.000000</td>\n      <td>4.000000</td>\n      <td>4.000000</td>\n      <td>4.000000</td>\n      <td>4.000000</td>\n      <td>4.000000</td>\n      <td>4.000000</td>\n      <td>4.000000</td>\n      <td>4.000000</td>\n      <td>4.000000</td>\n    </tr>\n    <tr>\n      <th>50%</th>\n      <td>8.000000</td>\n      <td>6.000000</td>\n      <td>4.000000</td>\n      <td>7.000000</td>\n      <td>4.000000</td>\n      <td>6.000000</td>\n      <td>6.000000</td>\n      <td>4.000000</td>\n      <td>5.500000</td>\n      <td>6.000000</td>\n      <td>4.000000</td>\n      <td>4.000000</td>\n      <td>4.000000</td>\n    </tr>\n    <tr>\n      <th>75%</th>\n      <td>8.000000</td>\n      <td>6.500000</td>\n      <td>8.000000</td>\n      <td>8.000000</td>\n      <td>6.000000</td>\n      <td>6.000000</td>\n      <td>7.500000</td>\n      <td>8.000000</td>\n      <td>6.000000</td>\n      <td>8.000000</td>\n      <td>4.000000</td>\n      <td>6.000000</td>\n      <td>4.000000</td>\n    </tr>\n    <tr>\n      <th>max</th>\n      <td>8.000000</td>\n      <td>8.000000</td>\n      <td>8.000000</td>\n      <td>8.000000</td>\n      <td>8.000000</td>\n      <td>8.000000</td>\n      <td>8.000000</td>\n      <td>8.000000</td>\n      <td>8.000000</td>\n      <td>8.000000</td>\n      <td>6.000000</td>\n      <td>8.000000</td>\n      <td>6.000000</td>\n    </tr>\n    <tr>\n      <th rowspan=\"8\" valign=\"top\">displacement</th>\n      <th>count</th>\n      <td>29.000000</td>\n      <td>28.000000</td>\n      <td>28.000000</td>\n      <td>40.000000</td>\n      <td>27.000000</td>\n      <td>30.000000</td>\n      <td>34.000000</td>\n      <td>28.000000</td>\n      <td>36.000000</td>\n      <td>29.000000</td>\n      <td>29.000000</td>\n      <td>29.000000</td>\n      <td>31.000000</td>\n    </tr>\n    <tr>\n      <th>mean</th>\n      <td>281.413793</td>\n      <td>209.750000</td>\n      <td>218.375000</td>\n      <td>256.875000</td>\n      <td>171.740741</td>\n      <td>205.533333</td>\n      <td>197.794118</td>\n      <td>191.392857</td>\n      <td>177.805556</td>\n      <td>206.689655</td>\n      <td>115.827586</td>\n      <td>135.310345</td>\n      <td>128.870968</td>\n    </tr>\n    <tr>\n      <th>std</th>\n      <td>124.421380</td>\n      <td>115.102410</td>\n      <td>123.781964</td>\n      <td>121.722085</td>\n      <td>92.601127</td>\n      <td>87.669730</td>\n      <td>94.422256</td>\n      <td>107.813742</td>\n      <td>76.012713</td>\n      <td>96.307581</td>\n      <td>33.744914</td>\n      <td>58.387929</td>\n      <td>39.352037</td>\n    </tr>\n    <tr>\n      <th>min</th>\n      <td>97.000000</td>\n      <td>71.000000</td>\n      <td>70.000000</td>\n      <td>68.000000</td>\n      <td>71.000000</td>\n      <td>90.000000</td>\n      <td>85.000000</td>\n      <td>79.000000</td>\n      <td>78.000000</td>\n      <td>85.000000</td>\n      <td>70.000000</td>\n      <td>79.000000</td>\n      <td>91.000000</td>\n    </tr>\n    <tr>\n      <th>25%</th>\n      <td>198.000000</td>\n      <td>97.750000</td>\n      <td>109.250000</td>\n      <td>121.750000</td>\n      <td>90.000000</td>\n      <td>121.000000</td>\n      <td>102.500000</td>\n      <td>97.750000</td>\n      <td>115.500000</td>\n      <td>121.000000</td>\n      <td>90.000000</td>\n      <td>98.000000</td>\n      <td>105.000000</td>\n    </tr>\n    <tr>\n      <th>50%</th>\n      <td>307.000000</td>\n      <td>228.500000</td>\n      <td>131.000000</td>\n      <td>276.000000</td>\n      <td>122.000000</td>\n      <td>228.000000</td>\n      <td>184.000000</td>\n      <td>143.000000</td>\n      <td>159.500000</td>\n      <td>183.000000</td>\n      <td>107.000000</td>\n      <td>119.000000</td>\n      <td>119.000000</td>\n    </tr>\n    <tr>\n      <th>75%</th>\n      <td>383.000000</td>\n      <td>273.000000</td>\n      <td>326.000000</td>\n      <td>350.250000</td>\n      <td>250.000000</td>\n      <td>250.000000</td>\n      <td>291.000000</td>\n      <td>270.500000</td>\n      <td>231.000000</td>\n      <td>302.000000</td>\n      <td>140.000000</td>\n      <td>151.000000</td>\n      <td>142.000000</td>\n    </tr>\n    <tr>\n      <th>max</th>\n      <td>455.000000</td>\n      <td>400.000000</td>\n      <td>429.000000</td>\n      <td>455.000000</td>\n      <td>350.000000</td>\n      <td>400.000000</td>\n      <td>351.000000</td>\n      <td>400.000000</td>\n      <td>318.000000</td>\n      <td>360.000000</td>\n      <td>225.000000</td>\n      <td>350.000000</td>\n      <td>262.000000</td>\n    </tr>\n    <tr>\n      <th rowspan=\"8\" valign=\"top\">weight</th>\n      <th>count</th>\n      <td>29.000000</td>\n      <td>28.000000</td>\n      <td>28.000000</td>\n      <td>40.000000</td>\n      <td>27.000000</td>\n      <td>30.000000</td>\n      <td>34.000000</td>\n      <td>28.000000</td>\n      <td>36.000000</td>\n      <td>29.000000</td>\n      <td>29.000000</td>\n      <td>29.000000</td>\n      <td>31.000000</td>\n    </tr>\n    <tr>\n      <th>mean</th>\n      <td>3372.793103</td>\n      <td>2995.428571</td>\n      <td>3237.714286</td>\n      <td>3419.025000</td>\n      <td>2877.925926</td>\n      <td>3176.800000</td>\n      <td>3078.735294</td>\n      <td>2997.357143</td>\n      <td>2861.805556</td>\n      <td>3055.344828</td>\n      <td>2436.655172</td>\n      <td>2522.931034</td>\n      <td>2453.548387</td>\n    </tr>\n    <tr>\n      <th>std</th>\n      <td>852.868663</td>\n      <td>1061.830859</td>\n      <td>974.520960</td>\n      <td>974.809133</td>\n      <td>949.308571</td>\n      <td>765.179781</td>\n      <td>821.371481</td>\n      <td>912.825902</td>\n      <td>626.023907</td>\n      <td>747.881497</td>\n      <td>432.235491</td>\n      <td>533.600501</td>\n      <td>354.276713</td>\n    </tr>\n    <tr>\n      <th>min</th>\n      <td>1835.000000</td>\n      <td>1613.000000</td>\n      <td>2100.000000</td>\n      <td>1867.000000</td>\n      <td>1649.000000</td>\n      <td>1795.000000</td>\n      <td>1795.000000</td>\n      <td>1825.000000</td>\n      <td>1800.000000</td>\n      <td>1915.000000</td>\n      <td>1835.000000</td>\n      <td>1755.000000</td>\n      <td>1965.000000</td>\n    </tr>\n    <tr>\n      <th>25%</th>\n      <td>2648.000000</td>\n      <td>2110.750000</td>\n      <td>2285.500000</td>\n      <td>2554.500000</td>\n      <td>2116.500000</td>\n      <td>2676.750000</td>\n      <td>2228.750000</td>\n      <td>2135.000000</td>\n      <td>2282.500000</td>\n      <td>2556.000000</td>\n      <td>2110.000000</td>\n      <td>2065.000000</td>\n      <td>2127.500000</td>\n    </tr>\n    <tr>\n      <th>50%</th>\n      <td>3449.000000</td>\n      <td>2798.000000</td>\n      <td>2956.000000</td>\n      <td>3338.500000</td>\n      <td>2489.000000</td>\n      <td>3098.500000</td>\n      <td>3171.500000</td>\n      <td>2747.500000</td>\n      <td>2910.000000</td>\n      <td>3190.000000</td>\n      <td>2335.000000</td>\n      <td>2385.000000</td>\n      <td>2525.000000</td>\n    </tr>\n    <tr>\n      <th>75%</th>\n      <td>4312.000000</td>\n      <td>3603.250000</td>\n      <td>4169.750000</td>\n      <td>4247.250000</td>\n      <td>3622.500000</td>\n      <td>3662.250000</td>\n      <td>3803.750000</td>\n      <td>3925.000000</td>\n      <td>3410.000000</td>\n      <td>3725.000000</td>\n      <td>2800.000000</td>\n      <td>2900.000000</td>\n      <td>2727.500000</td>\n    </tr>\n    <tr>\n      <th>max</th>\n      <td>4732.000000</td>\n      <td>5140.000000</td>\n      <td>4633.000000</td>\n      <td>4997.000000</td>\n      <td>4699.000000</td>\n      <td>4668.000000</td>\n      <td>4380.000000</td>\n      <td>4335.000000</td>\n      <td>4080.000000</td>\n      <td>4360.000000</td>\n      <td>3381.000000</td>\n      <td>3725.000000</td>\n      <td>3035.000000</td>\n    </tr>\n    <tr>\n      <th rowspan=\"8\" valign=\"top\">acceleration</th>\n      <th>count</th>\n      <td>29.000000</td>\n      <td>28.000000</td>\n      <td>28.000000</td>\n      <td>40.000000</td>\n      <td>27.000000</td>\n      <td>30.000000</td>\n      <td>34.000000</td>\n      <td>28.000000</td>\n      <td>36.000000</td>\n      <td>29.000000</td>\n      <td>29.000000</td>\n      <td>29.000000</td>\n      <td>31.000000</td>\n    </tr>\n    <tr>\n      <th>mean</th>\n      <td>12.948276</td>\n      <td>15.142857</td>\n      <td>15.125000</td>\n      <td>14.312500</td>\n      <td>16.203704</td>\n      <td>16.050000</td>\n      <td>15.941176</td>\n      <td>15.435714</td>\n      <td>15.805556</td>\n      <td>15.813793</td>\n      <td>16.934483</td>\n      <td>16.306897</td>\n      <td>16.638710</td>\n    </tr>\n    <tr>\n      <th>std</th>\n      <td>3.330982</td>\n      <td>2.666171</td>\n      <td>2.850032</td>\n      <td>2.754222</td>\n      <td>1.688532</td>\n      <td>2.471737</td>\n      <td>2.801419</td>\n      <td>2.273391</td>\n      <td>2.129915</td>\n      <td>2.952931</td>\n      <td>2.826694</td>\n      <td>2.192509</td>\n      <td>2.484844</td>\n    </tr>\n    <tr>\n      <th>min</th>\n      <td>8.000000</td>\n      <td>11.500000</td>\n      <td>11.000000</td>\n      <td>9.500000</td>\n      <td>13.500000</td>\n      <td>11.500000</td>\n      <td>12.000000</td>\n      <td>11.100000</td>\n      <td>11.200000</td>\n      <td>11.300000</td>\n      <td>11.400000</td>\n      <td>12.600000</td>\n      <td>11.600000</td>\n    </tr>\n    <tr>\n      <th>25%</th>\n      <td>10.000000</td>\n      <td>13.375000</td>\n      <td>13.375000</td>\n      <td>12.500000</td>\n      <td>15.250000</td>\n      <td>14.125000</td>\n      <td>13.925000</td>\n      <td>14.000000</td>\n      <td>14.475000</td>\n      <td>14.000000</td>\n      <td>15.100000</td>\n      <td>14.800000</td>\n      <td>14.850000</td>\n    </tr>\n    <tr>\n      <th>50%</th>\n      <td>12.500000</td>\n      <td>14.500000</td>\n      <td>14.500000</td>\n      <td>14.000000</td>\n      <td>16.000000</td>\n      <td>16.000000</td>\n      <td>15.500000</td>\n      <td>15.650000</td>\n      <td>15.750000</td>\n      <td>15.000000</td>\n      <td>16.500000</td>\n      <td>16.200000</td>\n      <td>16.400000</td>\n    </tr>\n    <tr>\n      <th>75%</th>\n      <td>15.000000</td>\n      <td>16.125000</td>\n      <td>16.625000</td>\n      <td>16.000000</td>\n      <td>17.000000</td>\n      <td>17.375000</td>\n      <td>17.550000</td>\n      <td>16.925000</td>\n      <td>16.825000</td>\n      <td>17.300000</td>\n      <td>18.700000</td>\n      <td>17.300000</td>\n      <td>18.000000</td>\n    </tr>\n    <tr>\n      <th>max</th>\n      <td>20.500000</td>\n      <td>20.500000</td>\n      <td>23.500000</td>\n      <td>21.000000</td>\n      <td>21.000000</td>\n      <td>21.000000</td>\n      <td>22.200000</td>\n      <td>19.000000</td>\n      <td>21.500000</td>\n      <td>24.800000</td>\n      <td>23.700000</td>\n      <td>20.700000</td>\n      <td>24.600000</td>\n    </tr>\n    <tr>\n      <th rowspan=\"8\" valign=\"top\">origin</th>\n      <th>count</th>\n      <td>29.000000</td>\n      <td>28.000000</td>\n      <td>28.000000</td>\n      <td>40.000000</td>\n      <td>27.000000</td>\n      <td>30.000000</td>\n      <td>34.000000</td>\n      <td>28.000000</td>\n      <td>36.000000</td>\n      <td>29.000000</td>\n      <td>29.000000</td>\n      <td>29.000000</td>\n      <td>31.000000</td>\n    </tr>\n    <tr>\n      <th>mean</th>\n      <td>1.310345</td>\n      <td>1.428571</td>\n      <td>1.535714</td>\n      <td>1.375000</td>\n      <td>1.666667</td>\n      <td>1.466667</td>\n      <td>1.470588</td>\n      <td>1.571429</td>\n      <td>1.611111</td>\n      <td>1.275862</td>\n      <td>2.206897</td>\n      <td>1.965517</td>\n      <td>1.645161</td>\n    </tr>\n    <tr>\n      <th>std</th>\n      <td>0.603765</td>\n      <td>0.741798</td>\n      <td>0.792658</td>\n      <td>0.667467</td>\n      <td>0.832050</td>\n      <td>0.730297</td>\n      <td>0.706476</td>\n      <td>0.835711</td>\n      <td>0.837608</td>\n      <td>0.591400</td>\n      <td>0.818505</td>\n      <td>0.944259</td>\n      <td>0.914636</td>\n    </tr>\n    <tr>\n      <th>min</th>\n      <td>1.000000</td>\n      <td>1.000000</td>\n      <td>1.000000</td>\n      <td>1.000000</td>\n      <td>1.000000</td>\n      <td>1.000000</td>\n      <td>1.000000</td>\n      <td>1.000000</td>\n      <td>1.000000</td>\n      <td>1.000000</td>\n      <td>1.000000</td>\n      <td>1.000000</td>\n      <td>1.000000</td>\n    </tr>\n    <tr>\n      <th>25%</th>\n      <td>1.000000</td>\n      <td>1.000000</td>\n      <td>1.000000</td>\n      <td>1.000000</td>\n      <td>1.000000</td>\n      <td>1.000000</td>\n      <td>1.000000</td>\n      <td>1.000000</td>\n      <td>1.000000</td>\n      <td>1.000000</td>\n      <td>2.000000</td>\n      <td>1.000000</td>\n      <td>1.000000</td>\n    </tr>\n    <tr>\n      <th>50%</th>\n      <td>1.000000</td>\n      <td>1.000000</td>\n      <td>1.000000</td>\n      <td>1.000000</td>\n      <td>1.000000</td>\n      <td>1.000000</td>\n      <td>1.000000</td>\n      <td>1.000000</td>\n      <td>1.000000</td>\n      <td>1.000000</td>\n      <td>2.000000</td>\n      <td>2.000000</td>\n      <td>1.000000</td>\n    </tr>\n    <tr>\n      <th>75%</th>\n      <td>1.000000</td>\n      <td>2.000000</td>\n      <td>2.000000</td>\n      <td>2.000000</td>\n      <td>2.000000</td>\n      <td>2.000000</td>\n      <td>2.000000</td>\n      <td>2.000000</td>\n      <td>2.000000</td>\n      <td>1.000000</td>\n      <td>3.000000</td>\n      <td>3.000000</td>\n      <td>3.000000</td>\n    </tr>\n    <tr>\n      <th>max</th>\n      <td>3.000000</td>\n      <td>3.000000</td>\n      <td>3.000000</td>\n      <td>3.000000</td>\n      <td>3.000000</td>\n      <td>3.000000</td>\n      <td>3.000000</td>\n      <td>3.000000</td>\n      <td>3.000000</td>\n      <td>3.000000</td>\n      <td>3.000000</td>\n      <td>3.000000</td>\n      <td>3.000000</td>\n    </tr>\n  </tbody>\n</table>\n</div>"
     },
     "execution_count": 105,
     "metadata": {},
     "output_type": "execute_result"
    }
   ],
   "source": [
    "df.groupby('model_year').describe().transpose()"
   ]
  },
  {
   "cell_type": "markdown",
   "metadata": {},
   "source": [
    "## Groupby Multiple Columns\n",
    "Let's explore average mpg per year per cylinder count"
   ]
  },
  {
   "cell_type": "code",
   "execution_count": 106,
   "metadata": {
    "ExecuteTime": {
     "end_time": "2023-11-26T16:44:32.208512Z",
     "start_time": "2023-11-26T16:44:31.894961300Z"
    }
   },
   "outputs": [
    {
     "data": {
      "text/plain": "                            mpg  displacement       weight  acceleration  \\\nmodel_year cylinders                                                       \n70         4          25.285714    107.000000  2292.571429     16.000000   \n           6          20.500000    199.000000  2710.500000     15.500000   \n           8          14.111111    367.555556  3940.055556     11.194444   \n71         4          27.461538    101.846154  2056.384615     16.961538   \n           6          18.000000    243.375000  3171.875000     14.750000   \n           8          13.428571    371.714286  4537.714286     12.214286   \n72         3          19.000000     70.000000  2330.000000     13.500000   \n           4          23.428571    111.535714  2382.642857     17.214286   \n           8          13.615385    344.846154  4228.384615     13.000000   \n73         3          18.000000     70.000000  2124.000000     13.500000   \n           4          22.727273    109.272727  2338.090909     17.136364   \n           6          19.000000    212.250000  2917.125000     15.687500   \n           8          13.200000    365.250000  4279.050000     12.250000   \n74         4          27.800000     96.533333  2151.466667     16.400000   \n           6          17.857143    230.428571  3320.000000     16.857143   \n           8          14.200000    315.200000  4438.400000     14.700000   \n75         4          25.250000    114.833333  2489.250000     15.833333   \n           6          17.583333    233.750000  3398.333333     17.708333   \n           8          15.666667    330.500000  4108.833333     13.166667   \n76         4          26.766667    106.333333  2306.600000     16.866667   \n           6          20.000000    221.400000  3349.600000     17.000000   \n           8          14.666667    324.000000  4064.666667     13.222222   \n77         3          21.500000     80.000000  2720.000000     13.500000   \n           4          29.107143    106.500000  2205.071429     16.064286   \n           6          19.500000    220.400000  3383.000000     16.900000   \n           8          16.000000    335.750000  4177.500000     13.662500   \n78         4          29.576471    112.117647  2296.764706     16.282353   \n           5          20.300000    131.000000  2830.000000     15.900000   \n           6          19.066667    213.250000  3314.166667     16.391667   \n           8          19.050000    300.833333  3563.333333     13.266667   \n79         4          31.525000    113.583333  2357.583333     15.991667   \n           5          25.400000    183.000000  3530.000000     20.100000   \n           6          22.950000    205.666667  3025.833333     15.433333   \n           8          18.630000    321.400000  3862.900000     15.400000   \n80         3          23.700000     70.000000  2420.000000     12.500000   \n           4          34.612000    111.000000  2360.080000     17.144000   \n           5          36.400000    121.000000  2950.000000     19.900000   \n           6          25.900000    196.500000  3145.500000     15.050000   \n81         4          32.814286    108.857143  2275.476190     16.466667   \n           6          23.428571    184.000000  3093.571429     15.442857   \n           8          26.600000    350.000000  3725.000000     19.000000   \n82         4          32.071429    118.571429  2402.321429     16.703571   \n           6          28.333333    225.000000  2931.666667     16.033333   \n\n                        origin  \nmodel_year cylinders            \n70         4          2.285714  \n           6          1.000000  \n           8          1.000000  \n71         4          1.923077  \n           6          1.000000  \n           8          1.000000  \n72         3          3.000000  \n           4          1.928571  \n           8          1.000000  \n73         3          3.000000  \n           4          2.000000  \n           6          1.250000  \n           8          1.000000  \n74         4          2.200000  \n           6          1.000000  \n           8          1.000000  \n75         4          2.166667  \n           6          1.000000  \n           8          1.000000  \n76         4          1.866667  \n           6          1.300000  \n           8          1.000000  \n77         3          3.000000  \n           4          1.857143  \n           6          1.400000  \n           8          1.000000  \n78         4          2.117647  \n           5          2.000000  \n           6          1.166667  \n           8          1.000000  \n79         4          1.583333  \n           5          2.000000  \n           6          1.000000  \n           8          1.000000  \n80         3          3.000000  \n           4          2.200000  \n           5          2.000000  \n           6          2.000000  \n81         4          2.095238  \n           6          1.714286  \n           8          1.000000  \n82         4          1.714286  \n           6          1.000000  ",
      "text/html": "<div>\n<style scoped>\n    .dataframe tbody tr th:only-of-type {\n        vertical-align: middle;\n    }\n\n    .dataframe tbody tr th {\n        vertical-align: top;\n    }\n\n    .dataframe thead th {\n        text-align: right;\n    }\n</style>\n<table border=\"1\" class=\"dataframe\">\n  <thead>\n    <tr style=\"text-align: right;\">\n      <th></th>\n      <th></th>\n      <th>mpg</th>\n      <th>displacement</th>\n      <th>weight</th>\n      <th>acceleration</th>\n      <th>origin</th>\n    </tr>\n    <tr>\n      <th>model_year</th>\n      <th>cylinders</th>\n      <th></th>\n      <th></th>\n      <th></th>\n      <th></th>\n      <th></th>\n    </tr>\n  </thead>\n  <tbody>\n    <tr>\n      <th rowspan=\"3\" valign=\"top\">70</th>\n      <th>4</th>\n      <td>25.285714</td>\n      <td>107.000000</td>\n      <td>2292.571429</td>\n      <td>16.000000</td>\n      <td>2.285714</td>\n    </tr>\n    <tr>\n      <th>6</th>\n      <td>20.500000</td>\n      <td>199.000000</td>\n      <td>2710.500000</td>\n      <td>15.500000</td>\n      <td>1.000000</td>\n    </tr>\n    <tr>\n      <th>8</th>\n      <td>14.111111</td>\n      <td>367.555556</td>\n      <td>3940.055556</td>\n      <td>11.194444</td>\n      <td>1.000000</td>\n    </tr>\n    <tr>\n      <th rowspan=\"3\" valign=\"top\">71</th>\n      <th>4</th>\n      <td>27.461538</td>\n      <td>101.846154</td>\n      <td>2056.384615</td>\n      <td>16.961538</td>\n      <td>1.923077</td>\n    </tr>\n    <tr>\n      <th>6</th>\n      <td>18.000000</td>\n      <td>243.375000</td>\n      <td>3171.875000</td>\n      <td>14.750000</td>\n      <td>1.000000</td>\n    </tr>\n    <tr>\n      <th>8</th>\n      <td>13.428571</td>\n      <td>371.714286</td>\n      <td>4537.714286</td>\n      <td>12.214286</td>\n      <td>1.000000</td>\n    </tr>\n    <tr>\n      <th rowspan=\"3\" valign=\"top\">72</th>\n      <th>3</th>\n      <td>19.000000</td>\n      <td>70.000000</td>\n      <td>2330.000000</td>\n      <td>13.500000</td>\n      <td>3.000000</td>\n    </tr>\n    <tr>\n      <th>4</th>\n      <td>23.428571</td>\n      <td>111.535714</td>\n      <td>2382.642857</td>\n      <td>17.214286</td>\n      <td>1.928571</td>\n    </tr>\n    <tr>\n      <th>8</th>\n      <td>13.615385</td>\n      <td>344.846154</td>\n      <td>4228.384615</td>\n      <td>13.000000</td>\n      <td>1.000000</td>\n    </tr>\n    <tr>\n      <th rowspan=\"4\" valign=\"top\">73</th>\n      <th>3</th>\n      <td>18.000000</td>\n      <td>70.000000</td>\n      <td>2124.000000</td>\n      <td>13.500000</td>\n      <td>3.000000</td>\n    </tr>\n    <tr>\n      <th>4</th>\n      <td>22.727273</td>\n      <td>109.272727</td>\n      <td>2338.090909</td>\n      <td>17.136364</td>\n      <td>2.000000</td>\n    </tr>\n    <tr>\n      <th>6</th>\n      <td>19.000000</td>\n      <td>212.250000</td>\n      <td>2917.125000</td>\n      <td>15.687500</td>\n      <td>1.250000</td>\n    </tr>\n    <tr>\n      <th>8</th>\n      <td>13.200000</td>\n      <td>365.250000</td>\n      <td>4279.050000</td>\n      <td>12.250000</td>\n      <td>1.000000</td>\n    </tr>\n    <tr>\n      <th rowspan=\"3\" valign=\"top\">74</th>\n      <th>4</th>\n      <td>27.800000</td>\n      <td>96.533333</td>\n      <td>2151.466667</td>\n      <td>16.400000</td>\n      <td>2.200000</td>\n    </tr>\n    <tr>\n      <th>6</th>\n      <td>17.857143</td>\n      <td>230.428571</td>\n      <td>3320.000000</td>\n      <td>16.857143</td>\n      <td>1.000000</td>\n    </tr>\n    <tr>\n      <th>8</th>\n      <td>14.200000</td>\n      <td>315.200000</td>\n      <td>4438.400000</td>\n      <td>14.700000</td>\n      <td>1.000000</td>\n    </tr>\n    <tr>\n      <th rowspan=\"3\" valign=\"top\">75</th>\n      <th>4</th>\n      <td>25.250000</td>\n      <td>114.833333</td>\n      <td>2489.250000</td>\n      <td>15.833333</td>\n      <td>2.166667</td>\n    </tr>\n    <tr>\n      <th>6</th>\n      <td>17.583333</td>\n      <td>233.750000</td>\n      <td>3398.333333</td>\n      <td>17.708333</td>\n      <td>1.000000</td>\n    </tr>\n    <tr>\n      <th>8</th>\n      <td>15.666667</td>\n      <td>330.500000</td>\n      <td>4108.833333</td>\n      <td>13.166667</td>\n      <td>1.000000</td>\n    </tr>\n    <tr>\n      <th rowspan=\"3\" valign=\"top\">76</th>\n      <th>4</th>\n      <td>26.766667</td>\n      <td>106.333333</td>\n      <td>2306.600000</td>\n      <td>16.866667</td>\n      <td>1.866667</td>\n    </tr>\n    <tr>\n      <th>6</th>\n      <td>20.000000</td>\n      <td>221.400000</td>\n      <td>3349.600000</td>\n      <td>17.000000</td>\n      <td>1.300000</td>\n    </tr>\n    <tr>\n      <th>8</th>\n      <td>14.666667</td>\n      <td>324.000000</td>\n      <td>4064.666667</td>\n      <td>13.222222</td>\n      <td>1.000000</td>\n    </tr>\n    <tr>\n      <th rowspan=\"4\" valign=\"top\">77</th>\n      <th>3</th>\n      <td>21.500000</td>\n      <td>80.000000</td>\n      <td>2720.000000</td>\n      <td>13.500000</td>\n      <td>3.000000</td>\n    </tr>\n    <tr>\n      <th>4</th>\n      <td>29.107143</td>\n      <td>106.500000</td>\n      <td>2205.071429</td>\n      <td>16.064286</td>\n      <td>1.857143</td>\n    </tr>\n    <tr>\n      <th>6</th>\n      <td>19.500000</td>\n      <td>220.400000</td>\n      <td>3383.000000</td>\n      <td>16.900000</td>\n      <td>1.400000</td>\n    </tr>\n    <tr>\n      <th>8</th>\n      <td>16.000000</td>\n      <td>335.750000</td>\n      <td>4177.500000</td>\n      <td>13.662500</td>\n      <td>1.000000</td>\n    </tr>\n    <tr>\n      <th rowspan=\"4\" valign=\"top\">78</th>\n      <th>4</th>\n      <td>29.576471</td>\n      <td>112.117647</td>\n      <td>2296.764706</td>\n      <td>16.282353</td>\n      <td>2.117647</td>\n    </tr>\n    <tr>\n      <th>5</th>\n      <td>20.300000</td>\n      <td>131.000000</td>\n      <td>2830.000000</td>\n      <td>15.900000</td>\n      <td>2.000000</td>\n    </tr>\n    <tr>\n      <th>6</th>\n      <td>19.066667</td>\n      <td>213.250000</td>\n      <td>3314.166667</td>\n      <td>16.391667</td>\n      <td>1.166667</td>\n    </tr>\n    <tr>\n      <th>8</th>\n      <td>19.050000</td>\n      <td>300.833333</td>\n      <td>3563.333333</td>\n      <td>13.266667</td>\n      <td>1.000000</td>\n    </tr>\n    <tr>\n      <th rowspan=\"4\" valign=\"top\">79</th>\n      <th>4</th>\n      <td>31.525000</td>\n      <td>113.583333</td>\n      <td>2357.583333</td>\n      <td>15.991667</td>\n      <td>1.583333</td>\n    </tr>\n    <tr>\n      <th>5</th>\n      <td>25.400000</td>\n      <td>183.000000</td>\n      <td>3530.000000</td>\n      <td>20.100000</td>\n      <td>2.000000</td>\n    </tr>\n    <tr>\n      <th>6</th>\n      <td>22.950000</td>\n      <td>205.666667</td>\n      <td>3025.833333</td>\n      <td>15.433333</td>\n      <td>1.000000</td>\n    </tr>\n    <tr>\n      <th>8</th>\n      <td>18.630000</td>\n      <td>321.400000</td>\n      <td>3862.900000</td>\n      <td>15.400000</td>\n      <td>1.000000</td>\n    </tr>\n    <tr>\n      <th rowspan=\"4\" valign=\"top\">80</th>\n      <th>3</th>\n      <td>23.700000</td>\n      <td>70.000000</td>\n      <td>2420.000000</td>\n      <td>12.500000</td>\n      <td>3.000000</td>\n    </tr>\n    <tr>\n      <th>4</th>\n      <td>34.612000</td>\n      <td>111.000000</td>\n      <td>2360.080000</td>\n      <td>17.144000</td>\n      <td>2.200000</td>\n    </tr>\n    <tr>\n      <th>5</th>\n      <td>36.400000</td>\n      <td>121.000000</td>\n      <td>2950.000000</td>\n      <td>19.900000</td>\n      <td>2.000000</td>\n    </tr>\n    <tr>\n      <th>6</th>\n      <td>25.900000</td>\n      <td>196.500000</td>\n      <td>3145.500000</td>\n      <td>15.050000</td>\n      <td>2.000000</td>\n    </tr>\n    <tr>\n      <th rowspan=\"3\" valign=\"top\">81</th>\n      <th>4</th>\n      <td>32.814286</td>\n      <td>108.857143</td>\n      <td>2275.476190</td>\n      <td>16.466667</td>\n      <td>2.095238</td>\n    </tr>\n    <tr>\n      <th>6</th>\n      <td>23.428571</td>\n      <td>184.000000</td>\n      <td>3093.571429</td>\n      <td>15.442857</td>\n      <td>1.714286</td>\n    </tr>\n    <tr>\n      <th>8</th>\n      <td>26.600000</td>\n      <td>350.000000</td>\n      <td>3725.000000</td>\n      <td>19.000000</td>\n      <td>1.000000</td>\n    </tr>\n    <tr>\n      <th rowspan=\"2\" valign=\"top\">82</th>\n      <th>4</th>\n      <td>32.071429</td>\n      <td>118.571429</td>\n      <td>2402.321429</td>\n      <td>16.703571</td>\n      <td>1.714286</td>\n    </tr>\n    <tr>\n      <th>6</th>\n      <td>28.333333</td>\n      <td>225.000000</td>\n      <td>2931.666667</td>\n      <td>16.033333</td>\n      <td>1.000000</td>\n    </tr>\n  </tbody>\n</table>\n</div>"
     },
     "execution_count": 106,
     "metadata": {},
     "output_type": "execute_result"
    }
   ],
   "source": [
    "df.groupby(['model_year', 'cylinders']).mean(numeric_only=True)"
   ]
  },
  {
   "cell_type": "code",
   "execution_count": 107,
   "metadata": {
    "ExecuteTime": {
     "end_time": "2023-11-26T16:44:32.210017700Z",
     "start_time": "2023-11-26T16:44:31.905185200Z"
    }
   },
   "outputs": [
    {
     "data": {
      "text/plain": "MultiIndex([(70, 4),\n            (70, 6),\n            (70, 8),\n            (71, 4),\n            (71, 6),\n            (71, 8),\n            (72, 3),\n            (72, 4),\n            (72, 8),\n            (73, 3),\n            (73, 4),\n            (73, 6),\n            (73, 8),\n            (74, 4),\n            (74, 6),\n            (74, 8),\n            (75, 4),\n            (75, 6),\n            (75, 8),\n            (76, 4),\n            (76, 6),\n            (76, 8),\n            (77, 3),\n            (77, 4),\n            (77, 6),\n            (77, 8),\n            (78, 4),\n            (78, 5),\n            (78, 6),\n            (78, 8),\n            (79, 4),\n            (79, 5),\n            (79, 6),\n            (79, 8),\n            (80, 3),\n            (80, 4),\n            (80, 5),\n            (80, 6),\n            (81, 4),\n            (81, 6),\n            (81, 8),\n            (82, 4),\n            (82, 6)],\n           names=['model_year', 'cylinders'])"
     },
     "execution_count": 107,
     "metadata": {},
     "output_type": "execute_result"
    }
   ],
   "source": [
    "df.groupby(['model_year', 'cylinders']).mean(numeric_only=True).index"
   ]
  },
  {
   "cell_type": "markdown",
   "metadata": {},
   "source": [
    "# MultiIndex\n",
    "\n",
    "## The MultiIndex Object"
   ]
  },
  {
   "cell_type": "code",
   "execution_count": 108,
   "metadata": {
    "ExecuteTime": {
     "end_time": "2023-11-26T16:44:32.210017700Z",
     "start_time": "2023-11-26T16:44:31.911197100Z"
    }
   },
   "outputs": [],
   "source": [
    "year_cyl = df.groupby(['model_year', 'cylinders']).mean(numeric_only=True)"
   ]
  },
  {
   "cell_type": "code",
   "execution_count": 109,
   "metadata": {
    "ExecuteTime": {
     "end_time": "2023-11-26T16:44:32.211024900Z",
     "start_time": "2023-11-26T16:44:31.921277100Z"
    }
   },
   "outputs": [
    {
     "data": {
      "text/plain": "                            mpg  displacement       weight  acceleration  \\\nmodel_year cylinders                                                       \n70         4          25.285714    107.000000  2292.571429     16.000000   \n           6          20.500000    199.000000  2710.500000     15.500000   \n           8          14.111111    367.555556  3940.055556     11.194444   \n71         4          27.461538    101.846154  2056.384615     16.961538   \n           6          18.000000    243.375000  3171.875000     14.750000   \n           8          13.428571    371.714286  4537.714286     12.214286   \n72         3          19.000000     70.000000  2330.000000     13.500000   \n           4          23.428571    111.535714  2382.642857     17.214286   \n           8          13.615385    344.846154  4228.384615     13.000000   \n73         3          18.000000     70.000000  2124.000000     13.500000   \n           4          22.727273    109.272727  2338.090909     17.136364   \n           6          19.000000    212.250000  2917.125000     15.687500   \n           8          13.200000    365.250000  4279.050000     12.250000   \n74         4          27.800000     96.533333  2151.466667     16.400000   \n           6          17.857143    230.428571  3320.000000     16.857143   \n           8          14.200000    315.200000  4438.400000     14.700000   \n75         4          25.250000    114.833333  2489.250000     15.833333   \n           6          17.583333    233.750000  3398.333333     17.708333   \n           8          15.666667    330.500000  4108.833333     13.166667   \n76         4          26.766667    106.333333  2306.600000     16.866667   \n           6          20.000000    221.400000  3349.600000     17.000000   \n           8          14.666667    324.000000  4064.666667     13.222222   \n77         3          21.500000     80.000000  2720.000000     13.500000   \n           4          29.107143    106.500000  2205.071429     16.064286   \n           6          19.500000    220.400000  3383.000000     16.900000   \n           8          16.000000    335.750000  4177.500000     13.662500   \n78         4          29.576471    112.117647  2296.764706     16.282353   \n           5          20.300000    131.000000  2830.000000     15.900000   \n           6          19.066667    213.250000  3314.166667     16.391667   \n           8          19.050000    300.833333  3563.333333     13.266667   \n79         4          31.525000    113.583333  2357.583333     15.991667   \n           5          25.400000    183.000000  3530.000000     20.100000   \n           6          22.950000    205.666667  3025.833333     15.433333   \n           8          18.630000    321.400000  3862.900000     15.400000   \n80         3          23.700000     70.000000  2420.000000     12.500000   \n           4          34.612000    111.000000  2360.080000     17.144000   \n           5          36.400000    121.000000  2950.000000     19.900000   \n           6          25.900000    196.500000  3145.500000     15.050000   \n81         4          32.814286    108.857143  2275.476190     16.466667   \n           6          23.428571    184.000000  3093.571429     15.442857   \n           8          26.600000    350.000000  3725.000000     19.000000   \n82         4          32.071429    118.571429  2402.321429     16.703571   \n           6          28.333333    225.000000  2931.666667     16.033333   \n\n                        origin  \nmodel_year cylinders            \n70         4          2.285714  \n           6          1.000000  \n           8          1.000000  \n71         4          1.923077  \n           6          1.000000  \n           8          1.000000  \n72         3          3.000000  \n           4          1.928571  \n           8          1.000000  \n73         3          3.000000  \n           4          2.000000  \n           6          1.250000  \n           8          1.000000  \n74         4          2.200000  \n           6          1.000000  \n           8          1.000000  \n75         4          2.166667  \n           6          1.000000  \n           8          1.000000  \n76         4          1.866667  \n           6          1.300000  \n           8          1.000000  \n77         3          3.000000  \n           4          1.857143  \n           6          1.400000  \n           8          1.000000  \n78         4          2.117647  \n           5          2.000000  \n           6          1.166667  \n           8          1.000000  \n79         4          1.583333  \n           5          2.000000  \n           6          1.000000  \n           8          1.000000  \n80         3          3.000000  \n           4          2.200000  \n           5          2.000000  \n           6          2.000000  \n81         4          2.095238  \n           6          1.714286  \n           8          1.000000  \n82         4          1.714286  \n           6          1.000000  ",
      "text/html": "<div>\n<style scoped>\n    .dataframe tbody tr th:only-of-type {\n        vertical-align: middle;\n    }\n\n    .dataframe tbody tr th {\n        vertical-align: top;\n    }\n\n    .dataframe thead th {\n        text-align: right;\n    }\n</style>\n<table border=\"1\" class=\"dataframe\">\n  <thead>\n    <tr style=\"text-align: right;\">\n      <th></th>\n      <th></th>\n      <th>mpg</th>\n      <th>displacement</th>\n      <th>weight</th>\n      <th>acceleration</th>\n      <th>origin</th>\n    </tr>\n    <tr>\n      <th>model_year</th>\n      <th>cylinders</th>\n      <th></th>\n      <th></th>\n      <th></th>\n      <th></th>\n      <th></th>\n    </tr>\n  </thead>\n  <tbody>\n    <tr>\n      <th rowspan=\"3\" valign=\"top\">70</th>\n      <th>4</th>\n      <td>25.285714</td>\n      <td>107.000000</td>\n      <td>2292.571429</td>\n      <td>16.000000</td>\n      <td>2.285714</td>\n    </tr>\n    <tr>\n      <th>6</th>\n      <td>20.500000</td>\n      <td>199.000000</td>\n      <td>2710.500000</td>\n      <td>15.500000</td>\n      <td>1.000000</td>\n    </tr>\n    <tr>\n      <th>8</th>\n      <td>14.111111</td>\n      <td>367.555556</td>\n      <td>3940.055556</td>\n      <td>11.194444</td>\n      <td>1.000000</td>\n    </tr>\n    <tr>\n      <th rowspan=\"3\" valign=\"top\">71</th>\n      <th>4</th>\n      <td>27.461538</td>\n      <td>101.846154</td>\n      <td>2056.384615</td>\n      <td>16.961538</td>\n      <td>1.923077</td>\n    </tr>\n    <tr>\n      <th>6</th>\n      <td>18.000000</td>\n      <td>243.375000</td>\n      <td>3171.875000</td>\n      <td>14.750000</td>\n      <td>1.000000</td>\n    </tr>\n    <tr>\n      <th>8</th>\n      <td>13.428571</td>\n      <td>371.714286</td>\n      <td>4537.714286</td>\n      <td>12.214286</td>\n      <td>1.000000</td>\n    </tr>\n    <tr>\n      <th rowspan=\"3\" valign=\"top\">72</th>\n      <th>3</th>\n      <td>19.000000</td>\n      <td>70.000000</td>\n      <td>2330.000000</td>\n      <td>13.500000</td>\n      <td>3.000000</td>\n    </tr>\n    <tr>\n      <th>4</th>\n      <td>23.428571</td>\n      <td>111.535714</td>\n      <td>2382.642857</td>\n      <td>17.214286</td>\n      <td>1.928571</td>\n    </tr>\n    <tr>\n      <th>8</th>\n      <td>13.615385</td>\n      <td>344.846154</td>\n      <td>4228.384615</td>\n      <td>13.000000</td>\n      <td>1.000000</td>\n    </tr>\n    <tr>\n      <th rowspan=\"4\" valign=\"top\">73</th>\n      <th>3</th>\n      <td>18.000000</td>\n      <td>70.000000</td>\n      <td>2124.000000</td>\n      <td>13.500000</td>\n      <td>3.000000</td>\n    </tr>\n    <tr>\n      <th>4</th>\n      <td>22.727273</td>\n      <td>109.272727</td>\n      <td>2338.090909</td>\n      <td>17.136364</td>\n      <td>2.000000</td>\n    </tr>\n    <tr>\n      <th>6</th>\n      <td>19.000000</td>\n      <td>212.250000</td>\n      <td>2917.125000</td>\n      <td>15.687500</td>\n      <td>1.250000</td>\n    </tr>\n    <tr>\n      <th>8</th>\n      <td>13.200000</td>\n      <td>365.250000</td>\n      <td>4279.050000</td>\n      <td>12.250000</td>\n      <td>1.000000</td>\n    </tr>\n    <tr>\n      <th rowspan=\"3\" valign=\"top\">74</th>\n      <th>4</th>\n      <td>27.800000</td>\n      <td>96.533333</td>\n      <td>2151.466667</td>\n      <td>16.400000</td>\n      <td>2.200000</td>\n    </tr>\n    <tr>\n      <th>6</th>\n      <td>17.857143</td>\n      <td>230.428571</td>\n      <td>3320.000000</td>\n      <td>16.857143</td>\n      <td>1.000000</td>\n    </tr>\n    <tr>\n      <th>8</th>\n      <td>14.200000</td>\n      <td>315.200000</td>\n      <td>4438.400000</td>\n      <td>14.700000</td>\n      <td>1.000000</td>\n    </tr>\n    <tr>\n      <th rowspan=\"3\" valign=\"top\">75</th>\n      <th>4</th>\n      <td>25.250000</td>\n      <td>114.833333</td>\n      <td>2489.250000</td>\n      <td>15.833333</td>\n      <td>2.166667</td>\n    </tr>\n    <tr>\n      <th>6</th>\n      <td>17.583333</td>\n      <td>233.750000</td>\n      <td>3398.333333</td>\n      <td>17.708333</td>\n      <td>1.000000</td>\n    </tr>\n    <tr>\n      <th>8</th>\n      <td>15.666667</td>\n      <td>330.500000</td>\n      <td>4108.833333</td>\n      <td>13.166667</td>\n      <td>1.000000</td>\n    </tr>\n    <tr>\n      <th rowspan=\"3\" valign=\"top\">76</th>\n      <th>4</th>\n      <td>26.766667</td>\n      <td>106.333333</td>\n      <td>2306.600000</td>\n      <td>16.866667</td>\n      <td>1.866667</td>\n    </tr>\n    <tr>\n      <th>6</th>\n      <td>20.000000</td>\n      <td>221.400000</td>\n      <td>3349.600000</td>\n      <td>17.000000</td>\n      <td>1.300000</td>\n    </tr>\n    <tr>\n      <th>8</th>\n      <td>14.666667</td>\n      <td>324.000000</td>\n      <td>4064.666667</td>\n      <td>13.222222</td>\n      <td>1.000000</td>\n    </tr>\n    <tr>\n      <th rowspan=\"4\" valign=\"top\">77</th>\n      <th>3</th>\n      <td>21.500000</td>\n      <td>80.000000</td>\n      <td>2720.000000</td>\n      <td>13.500000</td>\n      <td>3.000000</td>\n    </tr>\n    <tr>\n      <th>4</th>\n      <td>29.107143</td>\n      <td>106.500000</td>\n      <td>2205.071429</td>\n      <td>16.064286</td>\n      <td>1.857143</td>\n    </tr>\n    <tr>\n      <th>6</th>\n      <td>19.500000</td>\n      <td>220.400000</td>\n      <td>3383.000000</td>\n      <td>16.900000</td>\n      <td>1.400000</td>\n    </tr>\n    <tr>\n      <th>8</th>\n      <td>16.000000</td>\n      <td>335.750000</td>\n      <td>4177.500000</td>\n      <td>13.662500</td>\n      <td>1.000000</td>\n    </tr>\n    <tr>\n      <th rowspan=\"4\" valign=\"top\">78</th>\n      <th>4</th>\n      <td>29.576471</td>\n      <td>112.117647</td>\n      <td>2296.764706</td>\n      <td>16.282353</td>\n      <td>2.117647</td>\n    </tr>\n    <tr>\n      <th>5</th>\n      <td>20.300000</td>\n      <td>131.000000</td>\n      <td>2830.000000</td>\n      <td>15.900000</td>\n      <td>2.000000</td>\n    </tr>\n    <tr>\n      <th>6</th>\n      <td>19.066667</td>\n      <td>213.250000</td>\n      <td>3314.166667</td>\n      <td>16.391667</td>\n      <td>1.166667</td>\n    </tr>\n    <tr>\n      <th>8</th>\n      <td>19.050000</td>\n      <td>300.833333</td>\n      <td>3563.333333</td>\n      <td>13.266667</td>\n      <td>1.000000</td>\n    </tr>\n    <tr>\n      <th rowspan=\"4\" valign=\"top\">79</th>\n      <th>4</th>\n      <td>31.525000</td>\n      <td>113.583333</td>\n      <td>2357.583333</td>\n      <td>15.991667</td>\n      <td>1.583333</td>\n    </tr>\n    <tr>\n      <th>5</th>\n      <td>25.400000</td>\n      <td>183.000000</td>\n      <td>3530.000000</td>\n      <td>20.100000</td>\n      <td>2.000000</td>\n    </tr>\n    <tr>\n      <th>6</th>\n      <td>22.950000</td>\n      <td>205.666667</td>\n      <td>3025.833333</td>\n      <td>15.433333</td>\n      <td>1.000000</td>\n    </tr>\n    <tr>\n      <th>8</th>\n      <td>18.630000</td>\n      <td>321.400000</td>\n      <td>3862.900000</td>\n      <td>15.400000</td>\n      <td>1.000000</td>\n    </tr>\n    <tr>\n      <th rowspan=\"4\" valign=\"top\">80</th>\n      <th>3</th>\n      <td>23.700000</td>\n      <td>70.000000</td>\n      <td>2420.000000</td>\n      <td>12.500000</td>\n      <td>3.000000</td>\n    </tr>\n    <tr>\n      <th>4</th>\n      <td>34.612000</td>\n      <td>111.000000</td>\n      <td>2360.080000</td>\n      <td>17.144000</td>\n      <td>2.200000</td>\n    </tr>\n    <tr>\n      <th>5</th>\n      <td>36.400000</td>\n      <td>121.000000</td>\n      <td>2950.000000</td>\n      <td>19.900000</td>\n      <td>2.000000</td>\n    </tr>\n    <tr>\n      <th>6</th>\n      <td>25.900000</td>\n      <td>196.500000</td>\n      <td>3145.500000</td>\n      <td>15.050000</td>\n      <td>2.000000</td>\n    </tr>\n    <tr>\n      <th rowspan=\"3\" valign=\"top\">81</th>\n      <th>4</th>\n      <td>32.814286</td>\n      <td>108.857143</td>\n      <td>2275.476190</td>\n      <td>16.466667</td>\n      <td>2.095238</td>\n    </tr>\n    <tr>\n      <th>6</th>\n      <td>23.428571</td>\n      <td>184.000000</td>\n      <td>3093.571429</td>\n      <td>15.442857</td>\n      <td>1.714286</td>\n    </tr>\n    <tr>\n      <th>8</th>\n      <td>26.600000</td>\n      <td>350.000000</td>\n      <td>3725.000000</td>\n      <td>19.000000</td>\n      <td>1.000000</td>\n    </tr>\n    <tr>\n      <th rowspan=\"2\" valign=\"top\">82</th>\n      <th>4</th>\n      <td>32.071429</td>\n      <td>118.571429</td>\n      <td>2402.321429</td>\n      <td>16.703571</td>\n      <td>1.714286</td>\n    </tr>\n    <tr>\n      <th>6</th>\n      <td>28.333333</td>\n      <td>225.000000</td>\n      <td>2931.666667</td>\n      <td>16.033333</td>\n      <td>1.000000</td>\n    </tr>\n  </tbody>\n</table>\n</div>"
     },
     "execution_count": 109,
     "metadata": {},
     "output_type": "execute_result"
    }
   ],
   "source": [
    "year_cyl"
   ]
  },
  {
   "cell_type": "code",
   "execution_count": 110,
   "metadata": {
    "ExecuteTime": {
     "end_time": "2023-11-26T16:44:32.211024900Z",
     "start_time": "2023-11-26T16:44:31.924905300Z"
    }
   },
   "outputs": [
    {
     "data": {
      "text/plain": "MultiIndex([(70, 4),\n            (70, 6),\n            (70, 8),\n            (71, 4),\n            (71, 6),\n            (71, 8),\n            (72, 3),\n            (72, 4),\n            (72, 8),\n            (73, 3),\n            (73, 4),\n            (73, 6),\n            (73, 8),\n            (74, 4),\n            (74, 6),\n            (74, 8),\n            (75, 4),\n            (75, 6),\n            (75, 8),\n            (76, 4),\n            (76, 6),\n            (76, 8),\n            (77, 3),\n            (77, 4),\n            (77, 6),\n            (77, 8),\n            (78, 4),\n            (78, 5),\n            (78, 6),\n            (78, 8),\n            (79, 4),\n            (79, 5),\n            (79, 6),\n            (79, 8),\n            (80, 3),\n            (80, 4),\n            (80, 5),\n            (80, 6),\n            (81, 4),\n            (81, 6),\n            (81, 8),\n            (82, 4),\n            (82, 6)],\n           names=['model_year', 'cylinders'])"
     },
     "execution_count": 110,
     "metadata": {},
     "output_type": "execute_result"
    }
   ],
   "source": [
    "year_cyl.index"
   ]
  },
  {
   "cell_type": "code",
   "execution_count": 111,
   "metadata": {
    "ExecuteTime": {
     "end_time": "2023-11-26T16:44:32.211024900Z",
     "start_time": "2023-11-26T16:44:31.928038500Z"
    }
   },
   "outputs": [
    {
     "data": {
      "text/plain": "FrozenList([[70, 71, 72, 73, 74, 75, 76, 77, 78, 79, 80, 81, 82], [3, 4, 5, 6, 8]])"
     },
     "execution_count": 111,
     "metadata": {},
     "output_type": "execute_result"
    }
   ],
   "source": [
    "year_cyl.index.levels"
   ]
  },
  {
   "cell_type": "code",
   "execution_count": 112,
   "metadata": {
    "ExecuteTime": {
     "end_time": "2023-11-26T16:44:32.211024900Z",
     "start_time": "2023-11-26T16:44:31.932807400Z"
    }
   },
   "outputs": [
    {
     "data": {
      "text/plain": "FrozenList(['model_year', 'cylinders'])"
     },
     "execution_count": 112,
     "metadata": {},
     "output_type": "execute_result"
    }
   ],
   "source": [
    "year_cyl.index.names"
   ]
  },
  {
   "cell_type": "markdown",
   "metadata": {},
   "source": [
    "# Indexing with the Hierarchical Index\n",
    "\n",
    "Full Documentation: https://pandas.pydata.org/pandas-docs/stable/user_guide/advanced.html"
   ]
  },
  {
   "cell_type": "code",
   "execution_count": 113,
   "metadata": {
    "ExecuteTime": {
     "end_time": "2023-11-26T16:44:32.211024900Z",
     "start_time": "2023-11-26T16:44:31.936815500Z"
    }
   },
   "outputs": [
    {
     "data": {
      "text/plain": "                            mpg  displacement       weight  acceleration  \\\nmodel_year cylinders                                                       \n70         4          25.285714    107.000000  2292.571429     16.000000   \n           6          20.500000    199.000000  2710.500000     15.500000   \n           8          14.111111    367.555556  3940.055556     11.194444   \n71         4          27.461538    101.846154  2056.384615     16.961538   \n           6          18.000000    243.375000  3171.875000     14.750000   \n\n                        origin  \nmodel_year cylinders            \n70         4          2.285714  \n           6          1.000000  \n           8          1.000000  \n71         4          1.923077  \n           6          1.000000  ",
      "text/html": "<div>\n<style scoped>\n    .dataframe tbody tr th:only-of-type {\n        vertical-align: middle;\n    }\n\n    .dataframe tbody tr th {\n        vertical-align: top;\n    }\n\n    .dataframe thead th {\n        text-align: right;\n    }\n</style>\n<table border=\"1\" class=\"dataframe\">\n  <thead>\n    <tr style=\"text-align: right;\">\n      <th></th>\n      <th></th>\n      <th>mpg</th>\n      <th>displacement</th>\n      <th>weight</th>\n      <th>acceleration</th>\n      <th>origin</th>\n    </tr>\n    <tr>\n      <th>model_year</th>\n      <th>cylinders</th>\n      <th></th>\n      <th></th>\n      <th></th>\n      <th></th>\n      <th></th>\n    </tr>\n  </thead>\n  <tbody>\n    <tr>\n      <th rowspan=\"3\" valign=\"top\">70</th>\n      <th>4</th>\n      <td>25.285714</td>\n      <td>107.000000</td>\n      <td>2292.571429</td>\n      <td>16.000000</td>\n      <td>2.285714</td>\n    </tr>\n    <tr>\n      <th>6</th>\n      <td>20.500000</td>\n      <td>199.000000</td>\n      <td>2710.500000</td>\n      <td>15.500000</td>\n      <td>1.000000</td>\n    </tr>\n    <tr>\n      <th>8</th>\n      <td>14.111111</td>\n      <td>367.555556</td>\n      <td>3940.055556</td>\n      <td>11.194444</td>\n      <td>1.000000</td>\n    </tr>\n    <tr>\n      <th rowspan=\"2\" valign=\"top\">71</th>\n      <th>4</th>\n      <td>27.461538</td>\n      <td>101.846154</td>\n      <td>2056.384615</td>\n      <td>16.961538</td>\n      <td>1.923077</td>\n    </tr>\n    <tr>\n      <th>6</th>\n      <td>18.000000</td>\n      <td>243.375000</td>\n      <td>3171.875000</td>\n      <td>14.750000</td>\n      <td>1.000000</td>\n    </tr>\n  </tbody>\n</table>\n</div>"
     },
     "execution_count": 113,
     "metadata": {},
     "output_type": "execute_result"
    }
   ],
   "source": [
    "year_cyl.head()"
   ]
  },
  {
   "cell_type": "markdown",
   "metadata": {},
   "source": [
    "## Grab Based on Outside Index"
   ]
  },
  {
   "cell_type": "code",
   "execution_count": 114,
   "metadata": {
    "ExecuteTime": {
     "end_time": "2023-11-26T16:44:32.211024900Z",
     "start_time": "2023-11-26T16:44:31.942963Z"
    }
   },
   "outputs": [
    {
     "data": {
      "text/plain": "                 mpg  displacement       weight  acceleration    origin\ncylinders                                                              \n4          25.285714    107.000000  2292.571429     16.000000  2.285714\n6          20.500000    199.000000  2710.500000     15.500000  1.000000\n8          14.111111    367.555556  3940.055556     11.194444  1.000000",
      "text/html": "<div>\n<style scoped>\n    .dataframe tbody tr th:only-of-type {\n        vertical-align: middle;\n    }\n\n    .dataframe tbody tr th {\n        vertical-align: top;\n    }\n\n    .dataframe thead th {\n        text-align: right;\n    }\n</style>\n<table border=\"1\" class=\"dataframe\">\n  <thead>\n    <tr style=\"text-align: right;\">\n      <th></th>\n      <th>mpg</th>\n      <th>displacement</th>\n      <th>weight</th>\n      <th>acceleration</th>\n      <th>origin</th>\n    </tr>\n    <tr>\n      <th>cylinders</th>\n      <th></th>\n      <th></th>\n      <th></th>\n      <th></th>\n      <th></th>\n    </tr>\n  </thead>\n  <tbody>\n    <tr>\n      <th>4</th>\n      <td>25.285714</td>\n      <td>107.000000</td>\n      <td>2292.571429</td>\n      <td>16.000000</td>\n      <td>2.285714</td>\n    </tr>\n    <tr>\n      <th>6</th>\n      <td>20.500000</td>\n      <td>199.000000</td>\n      <td>2710.500000</td>\n      <td>15.500000</td>\n      <td>1.000000</td>\n    </tr>\n    <tr>\n      <th>8</th>\n      <td>14.111111</td>\n      <td>367.555556</td>\n      <td>3940.055556</td>\n      <td>11.194444</td>\n      <td>1.000000</td>\n    </tr>\n  </tbody>\n</table>\n</div>"
     },
     "execution_count": 114,
     "metadata": {},
     "output_type": "execute_result"
    }
   ],
   "source": [
    "year_cyl.loc[70]"
   ]
  },
  {
   "cell_type": "code",
   "execution_count": 115,
   "metadata": {
    "ExecuteTime": {
     "end_time": "2023-11-26T16:44:32.213022400Z",
     "start_time": "2023-11-26T16:44:31.948378700Z"
    }
   },
   "outputs": [
    {
     "data": {
      "text/plain": "                            mpg  displacement       weight  acceleration  \\\nmodel_year cylinders                                                       \n70         4          25.285714    107.000000  2292.571429     16.000000   \n           6          20.500000    199.000000  2710.500000     15.500000   \n           8          14.111111    367.555556  3940.055556     11.194444   \n72         3          19.000000     70.000000  2330.000000     13.500000   \n           4          23.428571    111.535714  2382.642857     17.214286   \n           8          13.615385    344.846154  4228.384615     13.000000   \n\n                        origin  \nmodel_year cylinders            \n70         4          2.285714  \n           6          1.000000  \n           8          1.000000  \n72         3          3.000000  \n           4          1.928571  \n           8          1.000000  ",
      "text/html": "<div>\n<style scoped>\n    .dataframe tbody tr th:only-of-type {\n        vertical-align: middle;\n    }\n\n    .dataframe tbody tr th {\n        vertical-align: top;\n    }\n\n    .dataframe thead th {\n        text-align: right;\n    }\n</style>\n<table border=\"1\" class=\"dataframe\">\n  <thead>\n    <tr style=\"text-align: right;\">\n      <th></th>\n      <th></th>\n      <th>mpg</th>\n      <th>displacement</th>\n      <th>weight</th>\n      <th>acceleration</th>\n      <th>origin</th>\n    </tr>\n    <tr>\n      <th>model_year</th>\n      <th>cylinders</th>\n      <th></th>\n      <th></th>\n      <th></th>\n      <th></th>\n      <th></th>\n    </tr>\n  </thead>\n  <tbody>\n    <tr>\n      <th rowspan=\"3\" valign=\"top\">70</th>\n      <th>4</th>\n      <td>25.285714</td>\n      <td>107.000000</td>\n      <td>2292.571429</td>\n      <td>16.000000</td>\n      <td>2.285714</td>\n    </tr>\n    <tr>\n      <th>6</th>\n      <td>20.500000</td>\n      <td>199.000000</td>\n      <td>2710.500000</td>\n      <td>15.500000</td>\n      <td>1.000000</td>\n    </tr>\n    <tr>\n      <th>8</th>\n      <td>14.111111</td>\n      <td>367.555556</td>\n      <td>3940.055556</td>\n      <td>11.194444</td>\n      <td>1.000000</td>\n    </tr>\n    <tr>\n      <th rowspan=\"3\" valign=\"top\">72</th>\n      <th>3</th>\n      <td>19.000000</td>\n      <td>70.000000</td>\n      <td>2330.000000</td>\n      <td>13.500000</td>\n      <td>3.000000</td>\n    </tr>\n    <tr>\n      <th>4</th>\n      <td>23.428571</td>\n      <td>111.535714</td>\n      <td>2382.642857</td>\n      <td>17.214286</td>\n      <td>1.928571</td>\n    </tr>\n    <tr>\n      <th>8</th>\n      <td>13.615385</td>\n      <td>344.846154</td>\n      <td>4228.384615</td>\n      <td>13.000000</td>\n      <td>1.000000</td>\n    </tr>\n  </tbody>\n</table>\n</div>"
     },
     "execution_count": 115,
     "metadata": {},
     "output_type": "execute_result"
    }
   ],
   "source": [
    "year_cyl.loc[[70, 72]]"
   ]
  },
  {
   "cell_type": "markdown",
   "metadata": {},
   "source": [
    "## Grab a Single Row"
   ]
  },
  {
   "cell_type": "code",
   "execution_count": 116,
   "metadata": {
    "ExecuteTime": {
     "end_time": "2023-11-26T16:44:32.218531600Z",
     "start_time": "2023-11-26T16:44:31.957781800Z"
    }
   },
   "outputs": [
    {
     "data": {
      "text/plain": "mpg               14.111111\ndisplacement     367.555556\nweight          3940.055556\nacceleration      11.194444\norigin             1.000000\nName: (70, 8), dtype: float64"
     },
     "execution_count": 116,
     "metadata": {},
     "output_type": "execute_result"
    }
   ],
   "source": [
    "year_cyl.loc[(70, 8)]"
   ]
  },
  {
   "cell_type": "markdown",
   "metadata": {},
   "source": [
    "# Grab Based on Cross-section with .xs()\n",
    "\n",
    "This method takes a `key` argument to select data at a particular\n",
    "level of a MultiIndex.\n",
    "\n",
    "Parameters\n",
    "----------\n",
    "    key : label or tuple of label\n",
    "        Label contained in the index, or partially in a MultiIndex.\n",
    "    axis : {0 or 'index', 1 or 'columns'}, default 0\n",
    "        Axis to retrieve cross-section on.\n",
    "    level : object, defaults to first n levels (n=1 or len(key))\n",
    "        In case of a key partially contained in a MultiIndex, indicate\n",
    "        which levels are used. Levels can be referred by label or position."
   ]
  },
  {
   "cell_type": "code",
   "execution_count": 117,
   "metadata": {
    "ExecuteTime": {
     "end_time": "2023-11-26T16:44:32.218531600Z",
     "start_time": "2023-11-26T16:44:31.959796800Z"
    }
   },
   "outputs": [
    {
     "data": {
      "text/plain": "                 mpg  displacement       weight  acceleration    origin\ncylinders                                                              \n4          25.285714    107.000000  2292.571429     16.000000  2.285714\n6          20.500000    199.000000  2710.500000     15.500000  1.000000\n8          14.111111    367.555556  3940.055556     11.194444  1.000000",
      "text/html": "<div>\n<style scoped>\n    .dataframe tbody tr th:only-of-type {\n        vertical-align: middle;\n    }\n\n    .dataframe tbody tr th {\n        vertical-align: top;\n    }\n\n    .dataframe thead th {\n        text-align: right;\n    }\n</style>\n<table border=\"1\" class=\"dataframe\">\n  <thead>\n    <tr style=\"text-align: right;\">\n      <th></th>\n      <th>mpg</th>\n      <th>displacement</th>\n      <th>weight</th>\n      <th>acceleration</th>\n      <th>origin</th>\n    </tr>\n    <tr>\n      <th>cylinders</th>\n      <th></th>\n      <th></th>\n      <th></th>\n      <th></th>\n      <th></th>\n    </tr>\n  </thead>\n  <tbody>\n    <tr>\n      <th>4</th>\n      <td>25.285714</td>\n      <td>107.000000</td>\n      <td>2292.571429</td>\n      <td>16.000000</td>\n      <td>2.285714</td>\n    </tr>\n    <tr>\n      <th>6</th>\n      <td>20.500000</td>\n      <td>199.000000</td>\n      <td>2710.500000</td>\n      <td>15.500000</td>\n      <td>1.000000</td>\n    </tr>\n    <tr>\n      <th>8</th>\n      <td>14.111111</td>\n      <td>367.555556</td>\n      <td>3940.055556</td>\n      <td>11.194444</td>\n      <td>1.000000</td>\n    </tr>\n  </tbody>\n</table>\n</div>"
     },
     "execution_count": 117,
     "metadata": {},
     "output_type": "execute_result"
    }
   ],
   "source": [
    "year_cyl.xs(key=70, axis=0, level='model_year')"
   ]
  },
  {
   "cell_type": "code",
   "execution_count": 118,
   "metadata": {
    "ExecuteTime": {
     "end_time": "2023-11-26T16:44:32.262866800Z",
     "start_time": "2023-11-26T16:44:31.971033700Z"
    }
   },
   "outputs": [
    {
     "data": {
      "text/plain": "                  mpg  displacement       weight  acceleration    origin\nmodel_year                                                              \n70          25.285714    107.000000  2292.571429     16.000000  2.285714\n71          27.461538    101.846154  2056.384615     16.961538  1.923077\n72          23.428571    111.535714  2382.642857     17.214286  1.928571\n73          22.727273    109.272727  2338.090909     17.136364  2.000000\n74          27.800000     96.533333  2151.466667     16.400000  2.200000\n75          25.250000    114.833333  2489.250000     15.833333  2.166667\n76          26.766667    106.333333  2306.600000     16.866667  1.866667\n77          29.107143    106.500000  2205.071429     16.064286  1.857143\n78          29.576471    112.117647  2296.764706     16.282353  2.117647\n79          31.525000    113.583333  2357.583333     15.991667  1.583333\n80          34.612000    111.000000  2360.080000     17.144000  2.200000\n81          32.814286    108.857143  2275.476190     16.466667  2.095238\n82          32.071429    118.571429  2402.321429     16.703571  1.714286",
      "text/html": "<div>\n<style scoped>\n    .dataframe tbody tr th:only-of-type {\n        vertical-align: middle;\n    }\n\n    .dataframe tbody tr th {\n        vertical-align: top;\n    }\n\n    .dataframe thead th {\n        text-align: right;\n    }\n</style>\n<table border=\"1\" class=\"dataframe\">\n  <thead>\n    <tr style=\"text-align: right;\">\n      <th></th>\n      <th>mpg</th>\n      <th>displacement</th>\n      <th>weight</th>\n      <th>acceleration</th>\n      <th>origin</th>\n    </tr>\n    <tr>\n      <th>model_year</th>\n      <th></th>\n      <th></th>\n      <th></th>\n      <th></th>\n      <th></th>\n    </tr>\n  </thead>\n  <tbody>\n    <tr>\n      <th>70</th>\n      <td>25.285714</td>\n      <td>107.000000</td>\n      <td>2292.571429</td>\n      <td>16.000000</td>\n      <td>2.285714</td>\n    </tr>\n    <tr>\n      <th>71</th>\n      <td>27.461538</td>\n      <td>101.846154</td>\n      <td>2056.384615</td>\n      <td>16.961538</td>\n      <td>1.923077</td>\n    </tr>\n    <tr>\n      <th>72</th>\n      <td>23.428571</td>\n      <td>111.535714</td>\n      <td>2382.642857</td>\n      <td>17.214286</td>\n      <td>1.928571</td>\n    </tr>\n    <tr>\n      <th>73</th>\n      <td>22.727273</td>\n      <td>109.272727</td>\n      <td>2338.090909</td>\n      <td>17.136364</td>\n      <td>2.000000</td>\n    </tr>\n    <tr>\n      <th>74</th>\n      <td>27.800000</td>\n      <td>96.533333</td>\n      <td>2151.466667</td>\n      <td>16.400000</td>\n      <td>2.200000</td>\n    </tr>\n    <tr>\n      <th>75</th>\n      <td>25.250000</td>\n      <td>114.833333</td>\n      <td>2489.250000</td>\n      <td>15.833333</td>\n      <td>2.166667</td>\n    </tr>\n    <tr>\n      <th>76</th>\n      <td>26.766667</td>\n      <td>106.333333</td>\n      <td>2306.600000</td>\n      <td>16.866667</td>\n      <td>1.866667</td>\n    </tr>\n    <tr>\n      <th>77</th>\n      <td>29.107143</td>\n      <td>106.500000</td>\n      <td>2205.071429</td>\n      <td>16.064286</td>\n      <td>1.857143</td>\n    </tr>\n    <tr>\n      <th>78</th>\n      <td>29.576471</td>\n      <td>112.117647</td>\n      <td>2296.764706</td>\n      <td>16.282353</td>\n      <td>2.117647</td>\n    </tr>\n    <tr>\n      <th>79</th>\n      <td>31.525000</td>\n      <td>113.583333</td>\n      <td>2357.583333</td>\n      <td>15.991667</td>\n      <td>1.583333</td>\n    </tr>\n    <tr>\n      <th>80</th>\n      <td>34.612000</td>\n      <td>111.000000</td>\n      <td>2360.080000</td>\n      <td>17.144000</td>\n      <td>2.200000</td>\n    </tr>\n    <tr>\n      <th>81</th>\n      <td>32.814286</td>\n      <td>108.857143</td>\n      <td>2275.476190</td>\n      <td>16.466667</td>\n      <td>2.095238</td>\n    </tr>\n    <tr>\n      <th>82</th>\n      <td>32.071429</td>\n      <td>118.571429</td>\n      <td>2402.321429</td>\n      <td>16.703571</td>\n      <td>1.714286</td>\n    </tr>\n  </tbody>\n</table>\n</div>"
     },
     "execution_count": 118,
     "metadata": {},
     "output_type": "execute_result"
    }
   ],
   "source": [
    "# Mean column values for 4 cylinders per year\n",
    "year_cyl.xs(key=4, axis=0, level='cylinders')"
   ]
  },
  {
   "cell_type": "markdown",
   "metadata": {},
   "source": [
    "### Careful note!\n",
    "\n",
    "Keep in mind, its usually much easier to filter out values **before** running a groupby() call, so you should attempt to filter out any values/categories you don't want to use. For example, its much easier to remove **4** cylinder cars before the groupby() call, very difficult to this sort of thing after a group by."
   ]
  },
  {
   "cell_type": "code",
   "execution_count": 119,
   "metadata": {
    "ExecuteTime": {
     "end_time": "2023-11-26T16:44:32.263866200Z",
     "start_time": "2023-11-26T16:44:31.973946900Z"
    }
   },
   "outputs": [
    {
     "data": {
      "text/plain": "                            mpg  displacement       weight  acceleration  \\\nmodel_year cylinders                                                       \n70         6          20.500000    199.000000  2710.500000     15.500000   \n           8          14.111111    367.555556  3940.055556     11.194444   \n71         6          18.000000    243.375000  3171.875000     14.750000   \n           8          13.428571    371.714286  4537.714286     12.214286   \n72         8          13.615385    344.846154  4228.384615     13.000000   \n73         6          19.000000    212.250000  2917.125000     15.687500   \n           8          13.200000    365.250000  4279.050000     12.250000   \n74         6          17.857143    230.428571  3320.000000     16.857143   \n           8          14.200000    315.200000  4438.400000     14.700000   \n75         6          17.583333    233.750000  3398.333333     17.708333   \n           8          15.666667    330.500000  4108.833333     13.166667   \n76         6          20.000000    221.400000  3349.600000     17.000000   \n           8          14.666667    324.000000  4064.666667     13.222222   \n77         6          19.500000    220.400000  3383.000000     16.900000   \n           8          16.000000    335.750000  4177.500000     13.662500   \n78         6          19.066667    213.250000  3314.166667     16.391667   \n           8          19.050000    300.833333  3563.333333     13.266667   \n79         6          22.950000    205.666667  3025.833333     15.433333   \n           8          18.630000    321.400000  3862.900000     15.400000   \n80         6          25.900000    196.500000  3145.500000     15.050000   \n81         6          23.428571    184.000000  3093.571429     15.442857   \n           8          26.600000    350.000000  3725.000000     19.000000   \n82         6          28.333333    225.000000  2931.666667     16.033333   \n\n                        origin  \nmodel_year cylinders            \n70         6          1.000000  \n           8          1.000000  \n71         6          1.000000  \n           8          1.000000  \n72         8          1.000000  \n73         6          1.250000  \n           8          1.000000  \n74         6          1.000000  \n           8          1.000000  \n75         6          1.000000  \n           8          1.000000  \n76         6          1.300000  \n           8          1.000000  \n77         6          1.400000  \n           8          1.000000  \n78         6          1.166667  \n           8          1.000000  \n79         6          1.000000  \n           8          1.000000  \n80         6          2.000000  \n81         6          1.714286  \n           8          1.000000  \n82         6          1.000000  ",
      "text/html": "<div>\n<style scoped>\n    .dataframe tbody tr th:only-of-type {\n        vertical-align: middle;\n    }\n\n    .dataframe tbody tr th {\n        vertical-align: top;\n    }\n\n    .dataframe thead th {\n        text-align: right;\n    }\n</style>\n<table border=\"1\" class=\"dataframe\">\n  <thead>\n    <tr style=\"text-align: right;\">\n      <th></th>\n      <th></th>\n      <th>mpg</th>\n      <th>displacement</th>\n      <th>weight</th>\n      <th>acceleration</th>\n      <th>origin</th>\n    </tr>\n    <tr>\n      <th>model_year</th>\n      <th>cylinders</th>\n      <th></th>\n      <th></th>\n      <th></th>\n      <th></th>\n      <th></th>\n    </tr>\n  </thead>\n  <tbody>\n    <tr>\n      <th rowspan=\"2\" valign=\"top\">70</th>\n      <th>6</th>\n      <td>20.500000</td>\n      <td>199.000000</td>\n      <td>2710.500000</td>\n      <td>15.500000</td>\n      <td>1.000000</td>\n    </tr>\n    <tr>\n      <th>8</th>\n      <td>14.111111</td>\n      <td>367.555556</td>\n      <td>3940.055556</td>\n      <td>11.194444</td>\n      <td>1.000000</td>\n    </tr>\n    <tr>\n      <th rowspan=\"2\" valign=\"top\">71</th>\n      <th>6</th>\n      <td>18.000000</td>\n      <td>243.375000</td>\n      <td>3171.875000</td>\n      <td>14.750000</td>\n      <td>1.000000</td>\n    </tr>\n    <tr>\n      <th>8</th>\n      <td>13.428571</td>\n      <td>371.714286</td>\n      <td>4537.714286</td>\n      <td>12.214286</td>\n      <td>1.000000</td>\n    </tr>\n    <tr>\n      <th>72</th>\n      <th>8</th>\n      <td>13.615385</td>\n      <td>344.846154</td>\n      <td>4228.384615</td>\n      <td>13.000000</td>\n      <td>1.000000</td>\n    </tr>\n    <tr>\n      <th rowspan=\"2\" valign=\"top\">73</th>\n      <th>6</th>\n      <td>19.000000</td>\n      <td>212.250000</td>\n      <td>2917.125000</td>\n      <td>15.687500</td>\n      <td>1.250000</td>\n    </tr>\n    <tr>\n      <th>8</th>\n      <td>13.200000</td>\n      <td>365.250000</td>\n      <td>4279.050000</td>\n      <td>12.250000</td>\n      <td>1.000000</td>\n    </tr>\n    <tr>\n      <th rowspan=\"2\" valign=\"top\">74</th>\n      <th>6</th>\n      <td>17.857143</td>\n      <td>230.428571</td>\n      <td>3320.000000</td>\n      <td>16.857143</td>\n      <td>1.000000</td>\n    </tr>\n    <tr>\n      <th>8</th>\n      <td>14.200000</td>\n      <td>315.200000</td>\n      <td>4438.400000</td>\n      <td>14.700000</td>\n      <td>1.000000</td>\n    </tr>\n    <tr>\n      <th rowspan=\"2\" valign=\"top\">75</th>\n      <th>6</th>\n      <td>17.583333</td>\n      <td>233.750000</td>\n      <td>3398.333333</td>\n      <td>17.708333</td>\n      <td>1.000000</td>\n    </tr>\n    <tr>\n      <th>8</th>\n      <td>15.666667</td>\n      <td>330.500000</td>\n      <td>4108.833333</td>\n      <td>13.166667</td>\n      <td>1.000000</td>\n    </tr>\n    <tr>\n      <th rowspan=\"2\" valign=\"top\">76</th>\n      <th>6</th>\n      <td>20.000000</td>\n      <td>221.400000</td>\n      <td>3349.600000</td>\n      <td>17.000000</td>\n      <td>1.300000</td>\n    </tr>\n    <tr>\n      <th>8</th>\n      <td>14.666667</td>\n      <td>324.000000</td>\n      <td>4064.666667</td>\n      <td>13.222222</td>\n      <td>1.000000</td>\n    </tr>\n    <tr>\n      <th rowspan=\"2\" valign=\"top\">77</th>\n      <th>6</th>\n      <td>19.500000</td>\n      <td>220.400000</td>\n      <td>3383.000000</td>\n      <td>16.900000</td>\n      <td>1.400000</td>\n    </tr>\n    <tr>\n      <th>8</th>\n      <td>16.000000</td>\n      <td>335.750000</td>\n      <td>4177.500000</td>\n      <td>13.662500</td>\n      <td>1.000000</td>\n    </tr>\n    <tr>\n      <th rowspan=\"2\" valign=\"top\">78</th>\n      <th>6</th>\n      <td>19.066667</td>\n      <td>213.250000</td>\n      <td>3314.166667</td>\n      <td>16.391667</td>\n      <td>1.166667</td>\n    </tr>\n    <tr>\n      <th>8</th>\n      <td>19.050000</td>\n      <td>300.833333</td>\n      <td>3563.333333</td>\n      <td>13.266667</td>\n      <td>1.000000</td>\n    </tr>\n    <tr>\n      <th rowspan=\"2\" valign=\"top\">79</th>\n      <th>6</th>\n      <td>22.950000</td>\n      <td>205.666667</td>\n      <td>3025.833333</td>\n      <td>15.433333</td>\n      <td>1.000000</td>\n    </tr>\n    <tr>\n      <th>8</th>\n      <td>18.630000</td>\n      <td>321.400000</td>\n      <td>3862.900000</td>\n      <td>15.400000</td>\n      <td>1.000000</td>\n    </tr>\n    <tr>\n      <th>80</th>\n      <th>6</th>\n      <td>25.900000</td>\n      <td>196.500000</td>\n      <td>3145.500000</td>\n      <td>15.050000</td>\n      <td>2.000000</td>\n    </tr>\n    <tr>\n      <th rowspan=\"2\" valign=\"top\">81</th>\n      <th>6</th>\n      <td>23.428571</td>\n      <td>184.000000</td>\n      <td>3093.571429</td>\n      <td>15.442857</td>\n      <td>1.714286</td>\n    </tr>\n    <tr>\n      <th>8</th>\n      <td>26.600000</td>\n      <td>350.000000</td>\n      <td>3725.000000</td>\n      <td>19.000000</td>\n      <td>1.000000</td>\n    </tr>\n    <tr>\n      <th>82</th>\n      <th>6</th>\n      <td>28.333333</td>\n      <td>225.000000</td>\n      <td>2931.666667</td>\n      <td>16.033333</td>\n      <td>1.000000</td>\n    </tr>\n  </tbody>\n</table>\n</div>"
     },
     "execution_count": 119,
     "metadata": {},
     "output_type": "execute_result"
    }
   ],
   "source": [
    "df[df['cylinders'].isin([6, 8])].groupby(['model_year', 'cylinders']).mean(numeric_only=True)"
   ]
  },
  {
   "cell_type": "markdown",
   "metadata": {},
   "source": [
    "## Swap Levels\n",
    "\n",
    "* Swapping Levels: https://pandas.pydata.org/pandas-docs/stable/user_guide/advanced.html#swapping-levels-with-swaplevel\n",
    "* Generalized Method is reorder_levels: https://pandas.pydata.org/pandas-docs/stable/user_guide/advanced.html#reordering-levels-with-reorder-levels"
   ]
  },
  {
   "cell_type": "code",
   "execution_count": 120,
   "metadata": {
    "scrolled": true,
    "ExecuteTime": {
     "end_time": "2023-11-26T16:44:32.264370500Z",
     "start_time": "2023-11-26T16:44:31.982387700Z"
    }
   },
   "outputs": [
    {
     "data": {
      "text/plain": "                            mpg  displacement       weight  acceleration  \\\ncylinders model_year                                                       \n4         70          25.285714    107.000000  2292.571429     16.000000   \n6         70          20.500000    199.000000  2710.500000     15.500000   \n8         70          14.111111    367.555556  3940.055556     11.194444   \n4         71          27.461538    101.846154  2056.384615     16.961538   \n6         71          18.000000    243.375000  3171.875000     14.750000   \n\n                        origin  \ncylinders model_year            \n4         70          2.285714  \n6         70          1.000000  \n8         70          1.000000  \n4         71          1.923077  \n6         71          1.000000  ",
      "text/html": "<div>\n<style scoped>\n    .dataframe tbody tr th:only-of-type {\n        vertical-align: middle;\n    }\n\n    .dataframe tbody tr th {\n        vertical-align: top;\n    }\n\n    .dataframe thead th {\n        text-align: right;\n    }\n</style>\n<table border=\"1\" class=\"dataframe\">\n  <thead>\n    <tr style=\"text-align: right;\">\n      <th></th>\n      <th></th>\n      <th>mpg</th>\n      <th>displacement</th>\n      <th>weight</th>\n      <th>acceleration</th>\n      <th>origin</th>\n    </tr>\n    <tr>\n      <th>cylinders</th>\n      <th>model_year</th>\n      <th></th>\n      <th></th>\n      <th></th>\n      <th></th>\n      <th></th>\n    </tr>\n  </thead>\n  <tbody>\n    <tr>\n      <th>4</th>\n      <th>70</th>\n      <td>25.285714</td>\n      <td>107.000000</td>\n      <td>2292.571429</td>\n      <td>16.000000</td>\n      <td>2.285714</td>\n    </tr>\n    <tr>\n      <th>6</th>\n      <th>70</th>\n      <td>20.500000</td>\n      <td>199.000000</td>\n      <td>2710.500000</td>\n      <td>15.500000</td>\n      <td>1.000000</td>\n    </tr>\n    <tr>\n      <th>8</th>\n      <th>70</th>\n      <td>14.111111</td>\n      <td>367.555556</td>\n      <td>3940.055556</td>\n      <td>11.194444</td>\n      <td>1.000000</td>\n    </tr>\n    <tr>\n      <th>4</th>\n      <th>71</th>\n      <td>27.461538</td>\n      <td>101.846154</td>\n      <td>2056.384615</td>\n      <td>16.961538</td>\n      <td>1.923077</td>\n    </tr>\n    <tr>\n      <th>6</th>\n      <th>71</th>\n      <td>18.000000</td>\n      <td>243.375000</td>\n      <td>3171.875000</td>\n      <td>14.750000</td>\n      <td>1.000000</td>\n    </tr>\n  </tbody>\n</table>\n</div>"
     },
     "execution_count": 120,
     "metadata": {},
     "output_type": "execute_result"
    }
   ],
   "source": [
    "year_cyl.swaplevel().head()"
   ]
  },
  {
   "cell_type": "markdown",
   "metadata": {},
   "source": [
    "## Sorting MultiIndex\n",
    "\n",
    "* https://pandas.pydata.org/pandas-docs/stable/user_guide/advanced.html#sorting-a-multiindex "
   ]
  },
  {
   "cell_type": "code",
   "execution_count": 121,
   "metadata": {
    "ExecuteTime": {
     "end_time": "2023-11-26T16:44:32.264874100Z",
     "start_time": "2023-11-26T16:44:31.988543200Z"
    }
   },
   "outputs": [
    {
     "data": {
      "text/plain": "                            mpg  displacement       weight  acceleration  \\\nmodel_year cylinders                                                       \n82         6          28.333333    225.000000  2931.666667     16.033333   \n           4          32.071429    118.571429  2402.321429     16.703571   \n81         8          26.600000    350.000000  3725.000000     19.000000   \n           6          23.428571    184.000000  3093.571429     15.442857   \n           4          32.814286    108.857143  2275.476190     16.466667   \n80         6          25.900000    196.500000  3145.500000     15.050000   \n           5          36.400000    121.000000  2950.000000     19.900000   \n           4          34.612000    111.000000  2360.080000     17.144000   \n           3          23.700000     70.000000  2420.000000     12.500000   \n79         8          18.630000    321.400000  3862.900000     15.400000   \n           6          22.950000    205.666667  3025.833333     15.433333   \n           5          25.400000    183.000000  3530.000000     20.100000   \n           4          31.525000    113.583333  2357.583333     15.991667   \n78         8          19.050000    300.833333  3563.333333     13.266667   \n           6          19.066667    213.250000  3314.166667     16.391667   \n           5          20.300000    131.000000  2830.000000     15.900000   \n           4          29.576471    112.117647  2296.764706     16.282353   \n77         8          16.000000    335.750000  4177.500000     13.662500   \n           6          19.500000    220.400000  3383.000000     16.900000   \n           4          29.107143    106.500000  2205.071429     16.064286   \n           3          21.500000     80.000000  2720.000000     13.500000   \n76         8          14.666667    324.000000  4064.666667     13.222222   \n           6          20.000000    221.400000  3349.600000     17.000000   \n           4          26.766667    106.333333  2306.600000     16.866667   \n75         8          15.666667    330.500000  4108.833333     13.166667   \n           6          17.583333    233.750000  3398.333333     17.708333   \n           4          25.250000    114.833333  2489.250000     15.833333   \n74         8          14.200000    315.200000  4438.400000     14.700000   \n           6          17.857143    230.428571  3320.000000     16.857143   \n           4          27.800000     96.533333  2151.466667     16.400000   \n73         8          13.200000    365.250000  4279.050000     12.250000   \n           6          19.000000    212.250000  2917.125000     15.687500   \n           4          22.727273    109.272727  2338.090909     17.136364   \n           3          18.000000     70.000000  2124.000000     13.500000   \n72         8          13.615385    344.846154  4228.384615     13.000000   \n           4          23.428571    111.535714  2382.642857     17.214286   \n           3          19.000000     70.000000  2330.000000     13.500000   \n71         8          13.428571    371.714286  4537.714286     12.214286   \n           6          18.000000    243.375000  3171.875000     14.750000   \n           4          27.461538    101.846154  2056.384615     16.961538   \n70         8          14.111111    367.555556  3940.055556     11.194444   \n           6          20.500000    199.000000  2710.500000     15.500000   \n           4          25.285714    107.000000  2292.571429     16.000000   \n\n                        origin  \nmodel_year cylinders            \n82         6          1.000000  \n           4          1.714286  \n81         8          1.000000  \n           6          1.714286  \n           4          2.095238  \n80         6          2.000000  \n           5          2.000000  \n           4          2.200000  \n           3          3.000000  \n79         8          1.000000  \n           6          1.000000  \n           5          2.000000  \n           4          1.583333  \n78         8          1.000000  \n           6          1.166667  \n           5          2.000000  \n           4          2.117647  \n77         8          1.000000  \n           6          1.400000  \n           4          1.857143  \n           3          3.000000  \n76         8          1.000000  \n           6          1.300000  \n           4          1.866667  \n75         8          1.000000  \n           6          1.000000  \n           4          2.166667  \n74         8          1.000000  \n           6          1.000000  \n           4          2.200000  \n73         8          1.000000  \n           6          1.250000  \n           4          2.000000  \n           3          3.000000  \n72         8          1.000000  \n           4          1.928571  \n           3          3.000000  \n71         8          1.000000  \n           6          1.000000  \n           4          1.923077  \n70         8          1.000000  \n           6          1.000000  \n           4          2.285714  ",
      "text/html": "<div>\n<style scoped>\n    .dataframe tbody tr th:only-of-type {\n        vertical-align: middle;\n    }\n\n    .dataframe tbody tr th {\n        vertical-align: top;\n    }\n\n    .dataframe thead th {\n        text-align: right;\n    }\n</style>\n<table border=\"1\" class=\"dataframe\">\n  <thead>\n    <tr style=\"text-align: right;\">\n      <th></th>\n      <th></th>\n      <th>mpg</th>\n      <th>displacement</th>\n      <th>weight</th>\n      <th>acceleration</th>\n      <th>origin</th>\n    </tr>\n    <tr>\n      <th>model_year</th>\n      <th>cylinders</th>\n      <th></th>\n      <th></th>\n      <th></th>\n      <th></th>\n      <th></th>\n    </tr>\n  </thead>\n  <tbody>\n    <tr>\n      <th rowspan=\"2\" valign=\"top\">82</th>\n      <th>6</th>\n      <td>28.333333</td>\n      <td>225.000000</td>\n      <td>2931.666667</td>\n      <td>16.033333</td>\n      <td>1.000000</td>\n    </tr>\n    <tr>\n      <th>4</th>\n      <td>32.071429</td>\n      <td>118.571429</td>\n      <td>2402.321429</td>\n      <td>16.703571</td>\n      <td>1.714286</td>\n    </tr>\n    <tr>\n      <th rowspan=\"3\" valign=\"top\">81</th>\n      <th>8</th>\n      <td>26.600000</td>\n      <td>350.000000</td>\n      <td>3725.000000</td>\n      <td>19.000000</td>\n      <td>1.000000</td>\n    </tr>\n    <tr>\n      <th>6</th>\n      <td>23.428571</td>\n      <td>184.000000</td>\n      <td>3093.571429</td>\n      <td>15.442857</td>\n      <td>1.714286</td>\n    </tr>\n    <tr>\n      <th>4</th>\n      <td>32.814286</td>\n      <td>108.857143</td>\n      <td>2275.476190</td>\n      <td>16.466667</td>\n      <td>2.095238</td>\n    </tr>\n    <tr>\n      <th rowspan=\"4\" valign=\"top\">80</th>\n      <th>6</th>\n      <td>25.900000</td>\n      <td>196.500000</td>\n      <td>3145.500000</td>\n      <td>15.050000</td>\n      <td>2.000000</td>\n    </tr>\n    <tr>\n      <th>5</th>\n      <td>36.400000</td>\n      <td>121.000000</td>\n      <td>2950.000000</td>\n      <td>19.900000</td>\n      <td>2.000000</td>\n    </tr>\n    <tr>\n      <th>4</th>\n      <td>34.612000</td>\n      <td>111.000000</td>\n      <td>2360.080000</td>\n      <td>17.144000</td>\n      <td>2.200000</td>\n    </tr>\n    <tr>\n      <th>3</th>\n      <td>23.700000</td>\n      <td>70.000000</td>\n      <td>2420.000000</td>\n      <td>12.500000</td>\n      <td>3.000000</td>\n    </tr>\n    <tr>\n      <th rowspan=\"4\" valign=\"top\">79</th>\n      <th>8</th>\n      <td>18.630000</td>\n      <td>321.400000</td>\n      <td>3862.900000</td>\n      <td>15.400000</td>\n      <td>1.000000</td>\n    </tr>\n    <tr>\n      <th>6</th>\n      <td>22.950000</td>\n      <td>205.666667</td>\n      <td>3025.833333</td>\n      <td>15.433333</td>\n      <td>1.000000</td>\n    </tr>\n    <tr>\n      <th>5</th>\n      <td>25.400000</td>\n      <td>183.000000</td>\n      <td>3530.000000</td>\n      <td>20.100000</td>\n      <td>2.000000</td>\n    </tr>\n    <tr>\n      <th>4</th>\n      <td>31.525000</td>\n      <td>113.583333</td>\n      <td>2357.583333</td>\n      <td>15.991667</td>\n      <td>1.583333</td>\n    </tr>\n    <tr>\n      <th rowspan=\"4\" valign=\"top\">78</th>\n      <th>8</th>\n      <td>19.050000</td>\n      <td>300.833333</td>\n      <td>3563.333333</td>\n      <td>13.266667</td>\n      <td>1.000000</td>\n    </tr>\n    <tr>\n      <th>6</th>\n      <td>19.066667</td>\n      <td>213.250000</td>\n      <td>3314.166667</td>\n      <td>16.391667</td>\n      <td>1.166667</td>\n    </tr>\n    <tr>\n      <th>5</th>\n      <td>20.300000</td>\n      <td>131.000000</td>\n      <td>2830.000000</td>\n      <td>15.900000</td>\n      <td>2.000000</td>\n    </tr>\n    <tr>\n      <th>4</th>\n      <td>29.576471</td>\n      <td>112.117647</td>\n      <td>2296.764706</td>\n      <td>16.282353</td>\n      <td>2.117647</td>\n    </tr>\n    <tr>\n      <th rowspan=\"4\" valign=\"top\">77</th>\n      <th>8</th>\n      <td>16.000000</td>\n      <td>335.750000</td>\n      <td>4177.500000</td>\n      <td>13.662500</td>\n      <td>1.000000</td>\n    </tr>\n    <tr>\n      <th>6</th>\n      <td>19.500000</td>\n      <td>220.400000</td>\n      <td>3383.000000</td>\n      <td>16.900000</td>\n      <td>1.400000</td>\n    </tr>\n    <tr>\n      <th>4</th>\n      <td>29.107143</td>\n      <td>106.500000</td>\n      <td>2205.071429</td>\n      <td>16.064286</td>\n      <td>1.857143</td>\n    </tr>\n    <tr>\n      <th>3</th>\n      <td>21.500000</td>\n      <td>80.000000</td>\n      <td>2720.000000</td>\n      <td>13.500000</td>\n      <td>3.000000</td>\n    </tr>\n    <tr>\n      <th rowspan=\"3\" valign=\"top\">76</th>\n      <th>8</th>\n      <td>14.666667</td>\n      <td>324.000000</td>\n      <td>4064.666667</td>\n      <td>13.222222</td>\n      <td>1.000000</td>\n    </tr>\n    <tr>\n      <th>6</th>\n      <td>20.000000</td>\n      <td>221.400000</td>\n      <td>3349.600000</td>\n      <td>17.000000</td>\n      <td>1.300000</td>\n    </tr>\n    <tr>\n      <th>4</th>\n      <td>26.766667</td>\n      <td>106.333333</td>\n      <td>2306.600000</td>\n      <td>16.866667</td>\n      <td>1.866667</td>\n    </tr>\n    <tr>\n      <th rowspan=\"3\" valign=\"top\">75</th>\n      <th>8</th>\n      <td>15.666667</td>\n      <td>330.500000</td>\n      <td>4108.833333</td>\n      <td>13.166667</td>\n      <td>1.000000</td>\n    </tr>\n    <tr>\n      <th>6</th>\n      <td>17.583333</td>\n      <td>233.750000</td>\n      <td>3398.333333</td>\n      <td>17.708333</td>\n      <td>1.000000</td>\n    </tr>\n    <tr>\n      <th>4</th>\n      <td>25.250000</td>\n      <td>114.833333</td>\n      <td>2489.250000</td>\n      <td>15.833333</td>\n      <td>2.166667</td>\n    </tr>\n    <tr>\n      <th rowspan=\"3\" valign=\"top\">74</th>\n      <th>8</th>\n      <td>14.200000</td>\n      <td>315.200000</td>\n      <td>4438.400000</td>\n      <td>14.700000</td>\n      <td>1.000000</td>\n    </tr>\n    <tr>\n      <th>6</th>\n      <td>17.857143</td>\n      <td>230.428571</td>\n      <td>3320.000000</td>\n      <td>16.857143</td>\n      <td>1.000000</td>\n    </tr>\n    <tr>\n      <th>4</th>\n      <td>27.800000</td>\n      <td>96.533333</td>\n      <td>2151.466667</td>\n      <td>16.400000</td>\n      <td>2.200000</td>\n    </tr>\n    <tr>\n      <th rowspan=\"4\" valign=\"top\">73</th>\n      <th>8</th>\n      <td>13.200000</td>\n      <td>365.250000</td>\n      <td>4279.050000</td>\n      <td>12.250000</td>\n      <td>1.000000</td>\n    </tr>\n    <tr>\n      <th>6</th>\n      <td>19.000000</td>\n      <td>212.250000</td>\n      <td>2917.125000</td>\n      <td>15.687500</td>\n      <td>1.250000</td>\n    </tr>\n    <tr>\n      <th>4</th>\n      <td>22.727273</td>\n      <td>109.272727</td>\n      <td>2338.090909</td>\n      <td>17.136364</td>\n      <td>2.000000</td>\n    </tr>\n    <tr>\n      <th>3</th>\n      <td>18.000000</td>\n      <td>70.000000</td>\n      <td>2124.000000</td>\n      <td>13.500000</td>\n      <td>3.000000</td>\n    </tr>\n    <tr>\n      <th rowspan=\"3\" valign=\"top\">72</th>\n      <th>8</th>\n      <td>13.615385</td>\n      <td>344.846154</td>\n      <td>4228.384615</td>\n      <td>13.000000</td>\n      <td>1.000000</td>\n    </tr>\n    <tr>\n      <th>4</th>\n      <td>23.428571</td>\n      <td>111.535714</td>\n      <td>2382.642857</td>\n      <td>17.214286</td>\n      <td>1.928571</td>\n    </tr>\n    <tr>\n      <th>3</th>\n      <td>19.000000</td>\n      <td>70.000000</td>\n      <td>2330.000000</td>\n      <td>13.500000</td>\n      <td>3.000000</td>\n    </tr>\n    <tr>\n      <th rowspan=\"3\" valign=\"top\">71</th>\n      <th>8</th>\n      <td>13.428571</td>\n      <td>371.714286</td>\n      <td>4537.714286</td>\n      <td>12.214286</td>\n      <td>1.000000</td>\n    </tr>\n    <tr>\n      <th>6</th>\n      <td>18.000000</td>\n      <td>243.375000</td>\n      <td>3171.875000</td>\n      <td>14.750000</td>\n      <td>1.000000</td>\n    </tr>\n    <tr>\n      <th>4</th>\n      <td>27.461538</td>\n      <td>101.846154</td>\n      <td>2056.384615</td>\n      <td>16.961538</td>\n      <td>1.923077</td>\n    </tr>\n    <tr>\n      <th rowspan=\"3\" valign=\"top\">70</th>\n      <th>8</th>\n      <td>14.111111</td>\n      <td>367.555556</td>\n      <td>3940.055556</td>\n      <td>11.194444</td>\n      <td>1.000000</td>\n    </tr>\n    <tr>\n      <th>6</th>\n      <td>20.500000</td>\n      <td>199.000000</td>\n      <td>2710.500000</td>\n      <td>15.500000</td>\n      <td>1.000000</td>\n    </tr>\n    <tr>\n      <th>4</th>\n      <td>25.285714</td>\n      <td>107.000000</td>\n      <td>2292.571429</td>\n      <td>16.000000</td>\n      <td>2.285714</td>\n    </tr>\n  </tbody>\n</table>\n</div>"
     },
     "execution_count": 121,
     "metadata": {},
     "output_type": "execute_result"
    }
   ],
   "source": [
    "year_cyl.sort_index(level='model_year', ascending=False)"
   ]
  },
  {
   "cell_type": "code",
   "execution_count": 122,
   "metadata": {
    "ExecuteTime": {
     "end_time": "2023-11-26T16:44:32.264874100Z",
     "start_time": "2023-11-26T16:44:32.006006Z"
    }
   },
   "outputs": [
    {
     "data": {
      "text/plain": "                            mpg  displacement       weight  acceleration  \\\nmodel_year cylinders                                                       \n81         8          26.600000    350.000000  3725.000000     19.000000   \n79         8          18.630000    321.400000  3862.900000     15.400000   \n78         8          19.050000    300.833333  3563.333333     13.266667   \n77         8          16.000000    335.750000  4177.500000     13.662500   \n76         8          14.666667    324.000000  4064.666667     13.222222   \n75         8          15.666667    330.500000  4108.833333     13.166667   \n74         8          14.200000    315.200000  4438.400000     14.700000   \n73         8          13.200000    365.250000  4279.050000     12.250000   \n72         8          13.615385    344.846154  4228.384615     13.000000   \n71         8          13.428571    371.714286  4537.714286     12.214286   \n70         8          14.111111    367.555556  3940.055556     11.194444   \n82         6          28.333333    225.000000  2931.666667     16.033333   \n81         6          23.428571    184.000000  3093.571429     15.442857   \n80         6          25.900000    196.500000  3145.500000     15.050000   \n79         6          22.950000    205.666667  3025.833333     15.433333   \n78         6          19.066667    213.250000  3314.166667     16.391667   \n77         6          19.500000    220.400000  3383.000000     16.900000   \n76         6          20.000000    221.400000  3349.600000     17.000000   \n75         6          17.583333    233.750000  3398.333333     17.708333   \n74         6          17.857143    230.428571  3320.000000     16.857143   \n73         6          19.000000    212.250000  2917.125000     15.687500   \n71         6          18.000000    243.375000  3171.875000     14.750000   \n70         6          20.500000    199.000000  2710.500000     15.500000   \n80         5          36.400000    121.000000  2950.000000     19.900000   \n79         5          25.400000    183.000000  3530.000000     20.100000   \n78         5          20.300000    131.000000  2830.000000     15.900000   \n82         4          32.071429    118.571429  2402.321429     16.703571   \n81         4          32.814286    108.857143  2275.476190     16.466667   \n80         4          34.612000    111.000000  2360.080000     17.144000   \n79         4          31.525000    113.583333  2357.583333     15.991667   \n78         4          29.576471    112.117647  2296.764706     16.282353   \n77         4          29.107143    106.500000  2205.071429     16.064286   \n76         4          26.766667    106.333333  2306.600000     16.866667   \n75         4          25.250000    114.833333  2489.250000     15.833333   \n74         4          27.800000     96.533333  2151.466667     16.400000   \n73         4          22.727273    109.272727  2338.090909     17.136364   \n72         4          23.428571    111.535714  2382.642857     17.214286   \n71         4          27.461538    101.846154  2056.384615     16.961538   \n70         4          25.285714    107.000000  2292.571429     16.000000   \n80         3          23.700000     70.000000  2420.000000     12.500000   \n77         3          21.500000     80.000000  2720.000000     13.500000   \n73         3          18.000000     70.000000  2124.000000     13.500000   \n72         3          19.000000     70.000000  2330.000000     13.500000   \n\n                        origin  \nmodel_year cylinders            \n81         8          1.000000  \n79         8          1.000000  \n78         8          1.000000  \n77         8          1.000000  \n76         8          1.000000  \n75         8          1.000000  \n74         8          1.000000  \n73         8          1.000000  \n72         8          1.000000  \n71         8          1.000000  \n70         8          1.000000  \n82         6          1.000000  \n81         6          1.714286  \n80         6          2.000000  \n79         6          1.000000  \n78         6          1.166667  \n77         6          1.400000  \n76         6          1.300000  \n75         6          1.000000  \n74         6          1.000000  \n73         6          1.250000  \n71         6          1.000000  \n70         6          1.000000  \n80         5          2.000000  \n79         5          2.000000  \n78         5          2.000000  \n82         4          1.714286  \n81         4          2.095238  \n80         4          2.200000  \n79         4          1.583333  \n78         4          2.117647  \n77         4          1.857143  \n76         4          1.866667  \n75         4          2.166667  \n74         4          2.200000  \n73         4          2.000000  \n72         4          1.928571  \n71         4          1.923077  \n70         4          2.285714  \n80         3          3.000000  \n77         3          3.000000  \n73         3          3.000000  \n72         3          3.000000  ",
      "text/html": "<div>\n<style scoped>\n    .dataframe tbody tr th:only-of-type {\n        vertical-align: middle;\n    }\n\n    .dataframe tbody tr th {\n        vertical-align: top;\n    }\n\n    .dataframe thead th {\n        text-align: right;\n    }\n</style>\n<table border=\"1\" class=\"dataframe\">\n  <thead>\n    <tr style=\"text-align: right;\">\n      <th></th>\n      <th></th>\n      <th>mpg</th>\n      <th>displacement</th>\n      <th>weight</th>\n      <th>acceleration</th>\n      <th>origin</th>\n    </tr>\n    <tr>\n      <th>model_year</th>\n      <th>cylinders</th>\n      <th></th>\n      <th></th>\n      <th></th>\n      <th></th>\n      <th></th>\n    </tr>\n  </thead>\n  <tbody>\n    <tr>\n      <th>81</th>\n      <th>8</th>\n      <td>26.600000</td>\n      <td>350.000000</td>\n      <td>3725.000000</td>\n      <td>19.000000</td>\n      <td>1.000000</td>\n    </tr>\n    <tr>\n      <th>79</th>\n      <th>8</th>\n      <td>18.630000</td>\n      <td>321.400000</td>\n      <td>3862.900000</td>\n      <td>15.400000</td>\n      <td>1.000000</td>\n    </tr>\n    <tr>\n      <th>78</th>\n      <th>8</th>\n      <td>19.050000</td>\n      <td>300.833333</td>\n      <td>3563.333333</td>\n      <td>13.266667</td>\n      <td>1.000000</td>\n    </tr>\n    <tr>\n      <th>77</th>\n      <th>8</th>\n      <td>16.000000</td>\n      <td>335.750000</td>\n      <td>4177.500000</td>\n      <td>13.662500</td>\n      <td>1.000000</td>\n    </tr>\n    <tr>\n      <th>76</th>\n      <th>8</th>\n      <td>14.666667</td>\n      <td>324.000000</td>\n      <td>4064.666667</td>\n      <td>13.222222</td>\n      <td>1.000000</td>\n    </tr>\n    <tr>\n      <th>75</th>\n      <th>8</th>\n      <td>15.666667</td>\n      <td>330.500000</td>\n      <td>4108.833333</td>\n      <td>13.166667</td>\n      <td>1.000000</td>\n    </tr>\n    <tr>\n      <th>74</th>\n      <th>8</th>\n      <td>14.200000</td>\n      <td>315.200000</td>\n      <td>4438.400000</td>\n      <td>14.700000</td>\n      <td>1.000000</td>\n    </tr>\n    <tr>\n      <th>73</th>\n      <th>8</th>\n      <td>13.200000</td>\n      <td>365.250000</td>\n      <td>4279.050000</td>\n      <td>12.250000</td>\n      <td>1.000000</td>\n    </tr>\n    <tr>\n      <th>72</th>\n      <th>8</th>\n      <td>13.615385</td>\n      <td>344.846154</td>\n      <td>4228.384615</td>\n      <td>13.000000</td>\n      <td>1.000000</td>\n    </tr>\n    <tr>\n      <th>71</th>\n      <th>8</th>\n      <td>13.428571</td>\n      <td>371.714286</td>\n      <td>4537.714286</td>\n      <td>12.214286</td>\n      <td>1.000000</td>\n    </tr>\n    <tr>\n      <th>70</th>\n      <th>8</th>\n      <td>14.111111</td>\n      <td>367.555556</td>\n      <td>3940.055556</td>\n      <td>11.194444</td>\n      <td>1.000000</td>\n    </tr>\n    <tr>\n      <th>82</th>\n      <th>6</th>\n      <td>28.333333</td>\n      <td>225.000000</td>\n      <td>2931.666667</td>\n      <td>16.033333</td>\n      <td>1.000000</td>\n    </tr>\n    <tr>\n      <th>81</th>\n      <th>6</th>\n      <td>23.428571</td>\n      <td>184.000000</td>\n      <td>3093.571429</td>\n      <td>15.442857</td>\n      <td>1.714286</td>\n    </tr>\n    <tr>\n      <th>80</th>\n      <th>6</th>\n      <td>25.900000</td>\n      <td>196.500000</td>\n      <td>3145.500000</td>\n      <td>15.050000</td>\n      <td>2.000000</td>\n    </tr>\n    <tr>\n      <th>79</th>\n      <th>6</th>\n      <td>22.950000</td>\n      <td>205.666667</td>\n      <td>3025.833333</td>\n      <td>15.433333</td>\n      <td>1.000000</td>\n    </tr>\n    <tr>\n      <th>78</th>\n      <th>6</th>\n      <td>19.066667</td>\n      <td>213.250000</td>\n      <td>3314.166667</td>\n      <td>16.391667</td>\n      <td>1.166667</td>\n    </tr>\n    <tr>\n      <th>77</th>\n      <th>6</th>\n      <td>19.500000</td>\n      <td>220.400000</td>\n      <td>3383.000000</td>\n      <td>16.900000</td>\n      <td>1.400000</td>\n    </tr>\n    <tr>\n      <th>76</th>\n      <th>6</th>\n      <td>20.000000</td>\n      <td>221.400000</td>\n      <td>3349.600000</td>\n      <td>17.000000</td>\n      <td>1.300000</td>\n    </tr>\n    <tr>\n      <th>75</th>\n      <th>6</th>\n      <td>17.583333</td>\n      <td>233.750000</td>\n      <td>3398.333333</td>\n      <td>17.708333</td>\n      <td>1.000000</td>\n    </tr>\n    <tr>\n      <th>74</th>\n      <th>6</th>\n      <td>17.857143</td>\n      <td>230.428571</td>\n      <td>3320.000000</td>\n      <td>16.857143</td>\n      <td>1.000000</td>\n    </tr>\n    <tr>\n      <th>73</th>\n      <th>6</th>\n      <td>19.000000</td>\n      <td>212.250000</td>\n      <td>2917.125000</td>\n      <td>15.687500</td>\n      <td>1.250000</td>\n    </tr>\n    <tr>\n      <th>71</th>\n      <th>6</th>\n      <td>18.000000</td>\n      <td>243.375000</td>\n      <td>3171.875000</td>\n      <td>14.750000</td>\n      <td>1.000000</td>\n    </tr>\n    <tr>\n      <th>70</th>\n      <th>6</th>\n      <td>20.500000</td>\n      <td>199.000000</td>\n      <td>2710.500000</td>\n      <td>15.500000</td>\n      <td>1.000000</td>\n    </tr>\n    <tr>\n      <th>80</th>\n      <th>5</th>\n      <td>36.400000</td>\n      <td>121.000000</td>\n      <td>2950.000000</td>\n      <td>19.900000</td>\n      <td>2.000000</td>\n    </tr>\n    <tr>\n      <th>79</th>\n      <th>5</th>\n      <td>25.400000</td>\n      <td>183.000000</td>\n      <td>3530.000000</td>\n      <td>20.100000</td>\n      <td>2.000000</td>\n    </tr>\n    <tr>\n      <th>78</th>\n      <th>5</th>\n      <td>20.300000</td>\n      <td>131.000000</td>\n      <td>2830.000000</td>\n      <td>15.900000</td>\n      <td>2.000000</td>\n    </tr>\n    <tr>\n      <th>82</th>\n      <th>4</th>\n      <td>32.071429</td>\n      <td>118.571429</td>\n      <td>2402.321429</td>\n      <td>16.703571</td>\n      <td>1.714286</td>\n    </tr>\n    <tr>\n      <th>81</th>\n      <th>4</th>\n      <td>32.814286</td>\n      <td>108.857143</td>\n      <td>2275.476190</td>\n      <td>16.466667</td>\n      <td>2.095238</td>\n    </tr>\n    <tr>\n      <th>80</th>\n      <th>4</th>\n      <td>34.612000</td>\n      <td>111.000000</td>\n      <td>2360.080000</td>\n      <td>17.144000</td>\n      <td>2.200000</td>\n    </tr>\n    <tr>\n      <th>79</th>\n      <th>4</th>\n      <td>31.525000</td>\n      <td>113.583333</td>\n      <td>2357.583333</td>\n      <td>15.991667</td>\n      <td>1.583333</td>\n    </tr>\n    <tr>\n      <th>78</th>\n      <th>4</th>\n      <td>29.576471</td>\n      <td>112.117647</td>\n      <td>2296.764706</td>\n      <td>16.282353</td>\n      <td>2.117647</td>\n    </tr>\n    <tr>\n      <th>77</th>\n      <th>4</th>\n      <td>29.107143</td>\n      <td>106.500000</td>\n      <td>2205.071429</td>\n      <td>16.064286</td>\n      <td>1.857143</td>\n    </tr>\n    <tr>\n      <th>76</th>\n      <th>4</th>\n      <td>26.766667</td>\n      <td>106.333333</td>\n      <td>2306.600000</td>\n      <td>16.866667</td>\n      <td>1.866667</td>\n    </tr>\n    <tr>\n      <th>75</th>\n      <th>4</th>\n      <td>25.250000</td>\n      <td>114.833333</td>\n      <td>2489.250000</td>\n      <td>15.833333</td>\n      <td>2.166667</td>\n    </tr>\n    <tr>\n      <th>74</th>\n      <th>4</th>\n      <td>27.800000</td>\n      <td>96.533333</td>\n      <td>2151.466667</td>\n      <td>16.400000</td>\n      <td>2.200000</td>\n    </tr>\n    <tr>\n      <th>73</th>\n      <th>4</th>\n      <td>22.727273</td>\n      <td>109.272727</td>\n      <td>2338.090909</td>\n      <td>17.136364</td>\n      <td>2.000000</td>\n    </tr>\n    <tr>\n      <th>72</th>\n      <th>4</th>\n      <td>23.428571</td>\n      <td>111.535714</td>\n      <td>2382.642857</td>\n      <td>17.214286</td>\n      <td>1.928571</td>\n    </tr>\n    <tr>\n      <th>71</th>\n      <th>4</th>\n      <td>27.461538</td>\n      <td>101.846154</td>\n      <td>2056.384615</td>\n      <td>16.961538</td>\n      <td>1.923077</td>\n    </tr>\n    <tr>\n      <th>70</th>\n      <th>4</th>\n      <td>25.285714</td>\n      <td>107.000000</td>\n      <td>2292.571429</td>\n      <td>16.000000</td>\n      <td>2.285714</td>\n    </tr>\n    <tr>\n      <th>80</th>\n      <th>3</th>\n      <td>23.700000</td>\n      <td>70.000000</td>\n      <td>2420.000000</td>\n      <td>12.500000</td>\n      <td>3.000000</td>\n    </tr>\n    <tr>\n      <th>77</th>\n      <th>3</th>\n      <td>21.500000</td>\n      <td>80.000000</td>\n      <td>2720.000000</td>\n      <td>13.500000</td>\n      <td>3.000000</td>\n    </tr>\n    <tr>\n      <th>73</th>\n      <th>3</th>\n      <td>18.000000</td>\n      <td>70.000000</td>\n      <td>2124.000000</td>\n      <td>13.500000</td>\n      <td>3.000000</td>\n    </tr>\n    <tr>\n      <th>72</th>\n      <th>3</th>\n      <td>19.000000</td>\n      <td>70.000000</td>\n      <td>2330.000000</td>\n      <td>13.500000</td>\n      <td>3.000000</td>\n    </tr>\n  </tbody>\n</table>\n</div>"
     },
     "execution_count": 122,
     "metadata": {},
     "output_type": "execute_result"
    }
   ],
   "source": [
    "year_cyl.sort_index(level='cylinders', ascending=False)"
   ]
  },
  {
   "cell_type": "markdown",
   "metadata": {},
   "source": [
    "# Advanced: agg() method\n",
    "\n",
    "The agg() method allows you to customize what aggregate functions you want per category"
   ]
  },
  {
   "cell_type": "code",
   "execution_count": 123,
   "metadata": {
    "ExecuteTime": {
     "end_time": "2023-11-26T16:44:32.264874100Z",
     "start_time": "2023-11-26T16:44:32.008553600Z"
    }
   },
   "outputs": [
    {
     "data": {
      "text/plain": "      mpg  cylinders  displacement horsepower  weight  acceleration  \\\n0    18.0          8         307.0        130    3504          12.0   \n1    15.0          8         350.0        165    3693          11.5   \n2    18.0          8         318.0        150    3436          11.0   \n3    16.0          8         304.0        150    3433          12.0   \n4    17.0          8         302.0        140    3449          10.5   \n..    ...        ...           ...        ...     ...           ...   \n393  27.0          4         140.0         86    2790          15.6   \n394  44.0          4          97.0         52    2130          24.6   \n395  32.0          4         135.0         84    2295          11.6   \n396  28.0          4         120.0         79    2625          18.6   \n397  31.0          4         119.0         82    2720          19.4   \n\n     model_year  origin                       name  \n0            70       1  chevrolet chevelle malibu  \n1            70       1          buick skylark 320  \n2            70       1         plymouth satellite  \n3            70       1              amc rebel sst  \n4            70       1                ford torino  \n..          ...     ...                        ...  \n393          82       1            ford mustang gl  \n394          82       2                  vw pickup  \n395          82       1              dodge rampage  \n396          82       1                ford ranger  \n397          82       1                 chevy s-10  \n\n[398 rows x 9 columns]",
      "text/html": "<div>\n<style scoped>\n    .dataframe tbody tr th:only-of-type {\n        vertical-align: middle;\n    }\n\n    .dataframe tbody tr th {\n        vertical-align: top;\n    }\n\n    .dataframe thead th {\n        text-align: right;\n    }\n</style>\n<table border=\"1\" class=\"dataframe\">\n  <thead>\n    <tr style=\"text-align: right;\">\n      <th></th>\n      <th>mpg</th>\n      <th>cylinders</th>\n      <th>displacement</th>\n      <th>horsepower</th>\n      <th>weight</th>\n      <th>acceleration</th>\n      <th>model_year</th>\n      <th>origin</th>\n      <th>name</th>\n    </tr>\n  </thead>\n  <tbody>\n    <tr>\n      <th>0</th>\n      <td>18.0</td>\n      <td>8</td>\n      <td>307.0</td>\n      <td>130</td>\n      <td>3504</td>\n      <td>12.0</td>\n      <td>70</td>\n      <td>1</td>\n      <td>chevrolet chevelle malibu</td>\n    </tr>\n    <tr>\n      <th>1</th>\n      <td>15.0</td>\n      <td>8</td>\n      <td>350.0</td>\n      <td>165</td>\n      <td>3693</td>\n      <td>11.5</td>\n      <td>70</td>\n      <td>1</td>\n      <td>buick skylark 320</td>\n    </tr>\n    <tr>\n      <th>2</th>\n      <td>18.0</td>\n      <td>8</td>\n      <td>318.0</td>\n      <td>150</td>\n      <td>3436</td>\n      <td>11.0</td>\n      <td>70</td>\n      <td>1</td>\n      <td>plymouth satellite</td>\n    </tr>\n    <tr>\n      <th>3</th>\n      <td>16.0</td>\n      <td>8</td>\n      <td>304.0</td>\n      <td>150</td>\n      <td>3433</td>\n      <td>12.0</td>\n      <td>70</td>\n      <td>1</td>\n      <td>amc rebel sst</td>\n    </tr>\n    <tr>\n      <th>4</th>\n      <td>17.0</td>\n      <td>8</td>\n      <td>302.0</td>\n      <td>140</td>\n      <td>3449</td>\n      <td>10.5</td>\n      <td>70</td>\n      <td>1</td>\n      <td>ford torino</td>\n    </tr>\n    <tr>\n      <th>...</th>\n      <td>...</td>\n      <td>...</td>\n      <td>...</td>\n      <td>...</td>\n      <td>...</td>\n      <td>...</td>\n      <td>...</td>\n      <td>...</td>\n      <td>...</td>\n    </tr>\n    <tr>\n      <th>393</th>\n      <td>27.0</td>\n      <td>4</td>\n      <td>140.0</td>\n      <td>86</td>\n      <td>2790</td>\n      <td>15.6</td>\n      <td>82</td>\n      <td>1</td>\n      <td>ford mustang gl</td>\n    </tr>\n    <tr>\n      <th>394</th>\n      <td>44.0</td>\n      <td>4</td>\n      <td>97.0</td>\n      <td>52</td>\n      <td>2130</td>\n      <td>24.6</td>\n      <td>82</td>\n      <td>2</td>\n      <td>vw pickup</td>\n    </tr>\n    <tr>\n      <th>395</th>\n      <td>32.0</td>\n      <td>4</td>\n      <td>135.0</td>\n      <td>84</td>\n      <td>2295</td>\n      <td>11.6</td>\n      <td>82</td>\n      <td>1</td>\n      <td>dodge rampage</td>\n    </tr>\n    <tr>\n      <th>396</th>\n      <td>28.0</td>\n      <td>4</td>\n      <td>120.0</td>\n      <td>79</td>\n      <td>2625</td>\n      <td>18.6</td>\n      <td>82</td>\n      <td>1</td>\n      <td>ford ranger</td>\n    </tr>\n    <tr>\n      <th>397</th>\n      <td>31.0</td>\n      <td>4</td>\n      <td>119.0</td>\n      <td>82</td>\n      <td>2720</td>\n      <td>19.4</td>\n      <td>82</td>\n      <td>1</td>\n      <td>chevy s-10</td>\n    </tr>\n  </tbody>\n</table>\n<p>398 rows × 9 columns</p>\n</div>"
     },
     "execution_count": 123,
     "metadata": {},
     "output_type": "execute_result"
    }
   ],
   "source": [
    "df"
   ]
  },
  {
   "cell_type": "markdown",
   "metadata": {},
   "source": [
    "## agg() on a DataFrame"
   ]
  },
  {
   "cell_type": "code",
   "execution_count": 136,
   "outputs": [],
   "source": [
    "df_numeric = df.apply(pd.to_numeric, errors='coerce')"
   ],
   "metadata": {
    "collapsed": false,
    "ExecuteTime": {
     "end_time": "2023-11-26T16:48:04.827559900Z",
     "start_time": "2023-11-26T16:48:04.802242500Z"
    }
   }
  },
  {
   "cell_type": "code",
   "execution_count": 138,
   "metadata": {
    "ExecuteTime": {
     "end_time": "2023-11-26T16:48:14.808751400Z",
     "start_time": "2023-11-26T16:48:14.793651700Z"
    }
   },
   "outputs": [
    {
     "name": "stderr",
     "output_type": "stream",
     "text": [
      "C:\\Users\\Terence\\AppData\\Local\\Programs\\Python\\Python312\\Lib\\site-packages\\numpy\\lib\\nanfunctions.py:1215: RuntimeWarning: Mean of empty slice\n",
      "  return np.nanmean(a, axis, out=out, keepdims=keepdims)\n"
     ]
    },
    {
     "data": {
      "text/plain": "              mpg  cylinders  displacement  horsepower       weight  \\\nmedian  23.000000   4.000000    148.500000   93.500000  2803.500000   \nmean    23.514573   5.454774    193.425879  104.469388  2970.424623   \n\n        acceleration  model_year    origin  name  \nmedian      15.50000    76.00000  1.000000   NaN  \nmean        15.56809    76.01005  1.572864   NaN  ",
      "text/html": "<div>\n<style scoped>\n    .dataframe tbody tr th:only-of-type {\n        vertical-align: middle;\n    }\n\n    .dataframe tbody tr th {\n        vertical-align: top;\n    }\n\n    .dataframe thead th {\n        text-align: right;\n    }\n</style>\n<table border=\"1\" class=\"dataframe\">\n  <thead>\n    <tr style=\"text-align: right;\">\n      <th></th>\n      <th>mpg</th>\n      <th>cylinders</th>\n      <th>displacement</th>\n      <th>horsepower</th>\n      <th>weight</th>\n      <th>acceleration</th>\n      <th>model_year</th>\n      <th>origin</th>\n      <th>name</th>\n    </tr>\n  </thead>\n  <tbody>\n    <tr>\n      <th>median</th>\n      <td>23.000000</td>\n      <td>4.000000</td>\n      <td>148.500000</td>\n      <td>93.500000</td>\n      <td>2803.500000</td>\n      <td>15.50000</td>\n      <td>76.00000</td>\n      <td>1.000000</td>\n      <td>NaN</td>\n    </tr>\n    <tr>\n      <th>mean</th>\n      <td>23.514573</td>\n      <td>5.454774</td>\n      <td>193.425879</td>\n      <td>104.469388</td>\n      <td>2970.424623</td>\n      <td>15.56809</td>\n      <td>76.01005</td>\n      <td>1.572864</td>\n      <td>NaN</td>\n    </tr>\n  </tbody>\n</table>\n</div>"
     },
     "execution_count": 138,
     "metadata": {},
     "output_type": "execute_result"
    }
   ],
   "source": [
    "# These strings need to match up with built-in method names\n",
    "df_numeric.agg(['median', 'mean'])"
   ]
  },
  {
   "cell_type": "code",
   "execution_count": 139,
   "metadata": {
    "ExecuteTime": {
     "end_time": "2023-11-26T16:48:15.552068300Z",
     "start_time": "2023-11-26T16:48:15.540047800Z"
    }
   },
   "outputs": [
    {
     "data": {
      "text/plain": "              mpg\nsum   9358.800000\nmean    23.514573",
      "text/html": "<div>\n<style scoped>\n    .dataframe tbody tr th:only-of-type {\n        vertical-align: middle;\n    }\n\n    .dataframe tbody tr th {\n        vertical-align: top;\n    }\n\n    .dataframe thead th {\n        text-align: right;\n    }\n</style>\n<table border=\"1\" class=\"dataframe\">\n  <thead>\n    <tr style=\"text-align: right;\">\n      <th></th>\n      <th>mpg</th>\n    </tr>\n  </thead>\n  <tbody>\n    <tr>\n      <th>sum</th>\n      <td>9358.800000</td>\n    </tr>\n    <tr>\n      <th>mean</th>\n      <td>23.514573</td>\n    </tr>\n  </tbody>\n</table>\n</div>"
     },
     "execution_count": 139,
     "metadata": {},
     "output_type": "execute_result"
    }
   ],
   "source": [
    "df_numeric.agg(['sum', 'mean'])[['mpg']]"
   ]
  },
  {
   "cell_type": "markdown",
   "metadata": {},
   "source": [
    "### Specify aggregate methods per column\n",
    "\n",
    "**agg()** is very powerful,allowing you to pass in a dictionary where the keys are the columns and the values are a list of aggregate methods."
   ]
  },
  {
   "cell_type": "code",
   "execution_count": 128,
   "metadata": {
    "ExecuteTime": {
     "end_time": "2023-11-26T16:46:07.716459200Z",
     "start_time": "2023-11-26T16:46:07.700076500Z"
    }
   },
   "outputs": [
    {
     "data": {
      "text/plain": "              mpg       weight\nmedian  23.000000          NaN\nmean    23.514573  2970.424623\nstd           NaN   846.841774",
      "text/html": "<div>\n<style scoped>\n    .dataframe tbody tr th:only-of-type {\n        vertical-align: middle;\n    }\n\n    .dataframe tbody tr th {\n        vertical-align: top;\n    }\n\n    .dataframe thead th {\n        text-align: right;\n    }\n</style>\n<table border=\"1\" class=\"dataframe\">\n  <thead>\n    <tr style=\"text-align: right;\">\n      <th></th>\n      <th>mpg</th>\n      <th>weight</th>\n    </tr>\n  </thead>\n  <tbody>\n    <tr>\n      <th>median</th>\n      <td>23.000000</td>\n      <td>NaN</td>\n    </tr>\n    <tr>\n      <th>mean</th>\n      <td>23.514573</td>\n      <td>2970.424623</td>\n    </tr>\n    <tr>\n      <th>std</th>\n      <td>NaN</td>\n      <td>846.841774</td>\n    </tr>\n  </tbody>\n</table>\n</div>"
     },
     "execution_count": 128,
     "metadata": {},
     "output_type": "execute_result"
    }
   ],
   "source": [
    "df.agg({'mpg': ['median', 'mean'], 'weight': ['mean', 'std']})"
   ]
  },
  {
   "cell_type": "markdown",
   "metadata": {},
   "source": [
    "## agg() with groupby()"
   ]
  },
  {
   "cell_type": "code",
   "execution_count": 129,
   "metadata": {
    "ExecuteTime": {
     "end_time": "2023-11-26T16:46:12.672877800Z",
     "start_time": "2023-11-26T16:46:12.648568300Z"
    }
   },
   "outputs": [
    {
     "data": {
      "text/plain": "              mpg                  weight             \n           median       mean         mean          std\nmodel_year                                            \n70          16.00  17.689655  3372.793103   852.868663\n71          19.00  21.250000  2995.428571  1061.830859\n72          18.50  18.714286  3237.714286   974.520960\n73          16.00  17.100000  3419.025000   974.809133\n74          24.00  22.703704  2877.925926   949.308571\n75          19.50  20.266667  3176.800000   765.179781\n76          21.00  21.573529  3078.735294   821.371481\n77          21.75  23.375000  2997.357143   912.825902\n78          20.70  24.061111  2861.805556   626.023907\n79          23.90  25.093103  3055.344828   747.881497\n80          32.70  33.696552  2436.655172   432.235491\n81          31.60  30.334483  2522.931034   533.600501\n82          32.00  31.709677  2453.548387   354.276713",
      "text/html": "<div>\n<style scoped>\n    .dataframe tbody tr th:only-of-type {\n        vertical-align: middle;\n    }\n\n    .dataframe tbody tr th {\n        vertical-align: top;\n    }\n\n    .dataframe thead tr th {\n        text-align: left;\n    }\n\n    .dataframe thead tr:last-of-type th {\n        text-align: right;\n    }\n</style>\n<table border=\"1\" class=\"dataframe\">\n  <thead>\n    <tr>\n      <th></th>\n      <th colspan=\"2\" halign=\"left\">mpg</th>\n      <th colspan=\"2\" halign=\"left\">weight</th>\n    </tr>\n    <tr>\n      <th></th>\n      <th>median</th>\n      <th>mean</th>\n      <th>mean</th>\n      <th>std</th>\n    </tr>\n    <tr>\n      <th>model_year</th>\n      <th></th>\n      <th></th>\n      <th></th>\n      <th></th>\n    </tr>\n  </thead>\n  <tbody>\n    <tr>\n      <th>70</th>\n      <td>16.00</td>\n      <td>17.689655</td>\n      <td>3372.793103</td>\n      <td>852.868663</td>\n    </tr>\n    <tr>\n      <th>71</th>\n      <td>19.00</td>\n      <td>21.250000</td>\n      <td>2995.428571</td>\n      <td>1061.830859</td>\n    </tr>\n    <tr>\n      <th>72</th>\n      <td>18.50</td>\n      <td>18.714286</td>\n      <td>3237.714286</td>\n      <td>974.520960</td>\n    </tr>\n    <tr>\n      <th>73</th>\n      <td>16.00</td>\n      <td>17.100000</td>\n      <td>3419.025000</td>\n      <td>974.809133</td>\n    </tr>\n    <tr>\n      <th>74</th>\n      <td>24.00</td>\n      <td>22.703704</td>\n      <td>2877.925926</td>\n      <td>949.308571</td>\n    </tr>\n    <tr>\n      <th>75</th>\n      <td>19.50</td>\n      <td>20.266667</td>\n      <td>3176.800000</td>\n      <td>765.179781</td>\n    </tr>\n    <tr>\n      <th>76</th>\n      <td>21.00</td>\n      <td>21.573529</td>\n      <td>3078.735294</td>\n      <td>821.371481</td>\n    </tr>\n    <tr>\n      <th>77</th>\n      <td>21.75</td>\n      <td>23.375000</td>\n      <td>2997.357143</td>\n      <td>912.825902</td>\n    </tr>\n    <tr>\n      <th>78</th>\n      <td>20.70</td>\n      <td>24.061111</td>\n      <td>2861.805556</td>\n      <td>626.023907</td>\n    </tr>\n    <tr>\n      <th>79</th>\n      <td>23.90</td>\n      <td>25.093103</td>\n      <td>3055.344828</td>\n      <td>747.881497</td>\n    </tr>\n    <tr>\n      <th>80</th>\n      <td>32.70</td>\n      <td>33.696552</td>\n      <td>2436.655172</td>\n      <td>432.235491</td>\n    </tr>\n    <tr>\n      <th>81</th>\n      <td>31.60</td>\n      <td>30.334483</td>\n      <td>2522.931034</td>\n      <td>533.600501</td>\n    </tr>\n    <tr>\n      <th>82</th>\n      <td>32.00</td>\n      <td>31.709677</td>\n      <td>2453.548387</td>\n      <td>354.276713</td>\n    </tr>\n  </tbody>\n</table>\n</div>"
     },
     "execution_count": 129,
     "metadata": {},
     "output_type": "execute_result"
    }
   ],
   "source": [
    "df.groupby('model_year').agg({'mpg': ['median', 'mean'], 'weight': ['mean', 'std']})"
   ]
  },
  {
   "cell_type": "code",
   "execution_count": null,
   "outputs": [],
   "source": [],
   "metadata": {
    "collapsed": false
   }
  }
 ],
 "metadata": {
  "anaconda-cloud": {},
  "kernelspec": {
   "display_name": "Python 3",
   "language": "python",
   "name": "python3"
  },
  "language_info": {
   "codemirror_mode": {
    "name": "ipython",
    "version": 3
   },
   "file_extension": ".py",
   "mimetype": "text/x-python",
   "name": "python",
   "nbconvert_exporter": "python",
   "pygments_lexer": "ipython3",
   "version": "3.7.6"
  }
 },
 "nbformat": 4,
 "nbformat_minor": 1
}
