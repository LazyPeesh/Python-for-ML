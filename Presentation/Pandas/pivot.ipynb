{
 "cells": [
  {
   "cell_type": "code",
   "execution_count": 1,
   "id": "initial_id",
   "metadata": {
    "collapsed": true,
    "ExecuteTime": {
     "end_time": "2023-11-30T07:04:02.821095100Z",
     "start_time": "2023-11-30T07:04:02.344323400Z"
    }
   },
   "outputs": [],
   "source": [
    "import numpy as np\n",
    "import pandas as pd"
   ]
  },
  {
   "cell_type": "code",
   "execution_count": 2,
   "outputs": [],
   "source": [
    "df = pd.read_csv('athlete_events.csv')"
   ],
   "metadata": {
    "collapsed": false,
    "ExecuteTime": {
     "end_time": "2023-11-30T07:04:12.551333700Z",
     "start_time": "2023-11-30T07:04:12.104779100Z"
    }
   },
   "id": "4a838de7e95e3413"
  },
  {
   "cell_type": "code",
   "execution_count": 4,
   "outputs": [
    {
     "data": {
      "text/plain": "   ID                      Name Sex   Age  Height  Weight            Team  \\\n0   1                 A Dijiang   M  24.0   180.0    80.0           China   \n1   2                  A Lamusi   M  23.0   170.0    60.0           China   \n2   3       Gunnar Nielsen Aaby   M  24.0     NaN     NaN         Denmark   \n3   4      Edgar Lindenau Aabye   M  34.0     NaN     NaN  Denmark/Sweden   \n4   5  Christine Jacoba Aaftink   F  21.0   185.0    82.0     Netherlands   \n\n   NOC        Games  Year  Season       City          Sport  \\\n0  CHN  1992 Summer  1992  Summer  Barcelona     Basketball   \n1  CHN  2012 Summer  2012  Summer     London           Judo   \n2  DEN  1920 Summer  1920  Summer  Antwerpen       Football   \n3  DEN  1900 Summer  1900  Summer      Paris     Tug-Of-War   \n4  NED  1988 Winter  1988  Winter    Calgary  Speed Skating   \n\n                              Event Medal  \n0       Basketball Men's Basketball   NaN  \n1      Judo Men's Extra-Lightweight   NaN  \n2           Football Men's Football   NaN  \n3       Tug-Of-War Men's Tug-Of-War  Gold  \n4  Speed Skating Women's 500 metres   NaN  ",
      "text/html": "<div>\n<style scoped>\n    .dataframe tbody tr th:only-of-type {\n        vertical-align: middle;\n    }\n\n    .dataframe tbody tr th {\n        vertical-align: top;\n    }\n\n    .dataframe thead th {\n        text-align: right;\n    }\n</style>\n<table border=\"1\" class=\"dataframe\">\n  <thead>\n    <tr style=\"text-align: right;\">\n      <th></th>\n      <th>ID</th>\n      <th>Name</th>\n      <th>Sex</th>\n      <th>Age</th>\n      <th>Height</th>\n      <th>Weight</th>\n      <th>Team</th>\n      <th>NOC</th>\n      <th>Games</th>\n      <th>Year</th>\n      <th>Season</th>\n      <th>City</th>\n      <th>Sport</th>\n      <th>Event</th>\n      <th>Medal</th>\n    </tr>\n  </thead>\n  <tbody>\n    <tr>\n      <th>0</th>\n      <td>1</td>\n      <td>A Dijiang</td>\n      <td>M</td>\n      <td>24.0</td>\n      <td>180.0</td>\n      <td>80.0</td>\n      <td>China</td>\n      <td>CHN</td>\n      <td>1992 Summer</td>\n      <td>1992</td>\n      <td>Summer</td>\n      <td>Barcelona</td>\n      <td>Basketball</td>\n      <td>Basketball Men's Basketball</td>\n      <td>NaN</td>\n    </tr>\n    <tr>\n      <th>1</th>\n      <td>2</td>\n      <td>A Lamusi</td>\n      <td>M</td>\n      <td>23.0</td>\n      <td>170.0</td>\n      <td>60.0</td>\n      <td>China</td>\n      <td>CHN</td>\n      <td>2012 Summer</td>\n      <td>2012</td>\n      <td>Summer</td>\n      <td>London</td>\n      <td>Judo</td>\n      <td>Judo Men's Extra-Lightweight</td>\n      <td>NaN</td>\n    </tr>\n    <tr>\n      <th>2</th>\n      <td>3</td>\n      <td>Gunnar Nielsen Aaby</td>\n      <td>M</td>\n      <td>24.0</td>\n      <td>NaN</td>\n      <td>NaN</td>\n      <td>Denmark</td>\n      <td>DEN</td>\n      <td>1920 Summer</td>\n      <td>1920</td>\n      <td>Summer</td>\n      <td>Antwerpen</td>\n      <td>Football</td>\n      <td>Football Men's Football</td>\n      <td>NaN</td>\n    </tr>\n    <tr>\n      <th>3</th>\n      <td>4</td>\n      <td>Edgar Lindenau Aabye</td>\n      <td>M</td>\n      <td>34.0</td>\n      <td>NaN</td>\n      <td>NaN</td>\n      <td>Denmark/Sweden</td>\n      <td>DEN</td>\n      <td>1900 Summer</td>\n      <td>1900</td>\n      <td>Summer</td>\n      <td>Paris</td>\n      <td>Tug-Of-War</td>\n      <td>Tug-Of-War Men's Tug-Of-War</td>\n      <td>Gold</td>\n    </tr>\n    <tr>\n      <th>4</th>\n      <td>5</td>\n      <td>Christine Jacoba Aaftink</td>\n      <td>F</td>\n      <td>21.0</td>\n      <td>185.0</td>\n      <td>82.0</td>\n      <td>Netherlands</td>\n      <td>NED</td>\n      <td>1988 Winter</td>\n      <td>1988</td>\n      <td>Winter</td>\n      <td>Calgary</td>\n      <td>Speed Skating</td>\n      <td>Speed Skating Women's 500 metres</td>\n      <td>NaN</td>\n    </tr>\n  </tbody>\n</table>\n</div>"
     },
     "execution_count": 4,
     "metadata": {},
     "output_type": "execute_result"
    }
   ],
   "source": [
    "df.head()"
   ],
   "metadata": {
    "collapsed": false,
    "ExecuteTime": {
     "end_time": "2023-11-30T07:04:30.462641Z",
     "start_time": "2023-11-30T07:04:30.448653700Z"
    }
   },
   "id": "275d1e99f97753aa"
  },
  {
   "cell_type": "code",
   "execution_count": 6,
   "outputs": [
    {
     "data": {
      "text/plain": "175.33896987366376"
     },
     "execution_count": 6,
     "metadata": {},
     "output_type": "execute_result"
    }
   ],
   "source": [
    "# What was the average height\n",
    "\n",
    "df['Height'].mean()"
   ],
   "metadata": {
    "collapsed": false,
    "ExecuteTime": {
     "end_time": "2023-11-30T07:05:26.846320900Z",
     "start_time": "2023-11-30T07:05:26.832281200Z"
    }
   },
   "id": "1aa36367db75ff0e"
  },
  {
   "cell_type": "code",
   "execution_count": 9,
   "outputs": [
    {
     "data": {
      "text/plain": "Year\n1896    172.739130\n1900    176.637931\n1904    175.788732\n1906    178.206226\n1908    177.543158\n1912    177.447989\n1920    175.752282\n1924    174.963039\n1928    175.162051\n1932    174.220115\n1936    175.723993\n1948    176.172797\n1952    174.138940\n1956    173.900968\n1960    173.141286\n1964    173.448574\n1968    173.945865\n1972    174.565363\n1976    174.920528\n1980    175.527488\n1984    175.540855\n1988    175.745252\n1992    176.174649\n1994    175.169862\n1996    175.895121\n1998    174.581369\n2000    176.089721\n2002    174.702451\n2004    175.972850\n2006    174.623172\n2008    176.211062\n2010    174.918182\n2012    176.262469\n2014    174.816670\n2016    176.034266\nName: Height, dtype: float64"
     },
     "execution_count": 9,
     "metadata": {},
     "output_type": "execute_result"
    }
   ],
   "source": [
    "# What was the avg height per year\n",
    "\n",
    "df.groupby('Year')['Height'].mean()"
   ],
   "metadata": {
    "collapsed": false,
    "ExecuteTime": {
     "end_time": "2023-11-30T07:06:39.885361700Z",
     "start_time": "2023-11-30T07:06:39.862148800Z"
    }
   },
   "id": "f88fc9a35e13f3b3"
  },
  {
   "cell_type": "code",
   "execution_count": 21,
   "outputs": [
    {
     "data": {
      "text/plain": "               mean                                                       \\\nSport Alpine Skiing     Archery Art Competitions   Athletics   Badminton   \nYear                                                                       \n1908            NaN         NaN              NaN  178.305994         NaN   \n1920            NaN         NaN              NaN  177.161194         NaN   \n1924            NaN         NaN       173.555556  176.324257         NaN   \n1928            NaN         NaN       169.000000  176.472505         NaN   \n1932            NaN         NaN       174.952381  176.091765         NaN   \n1936     169.250000         NaN       180.666667  177.456110         NaN   \n1948     170.116279         NaN       176.000000  177.423290         NaN   \n1952     173.387755         NaN              NaN  176.394947         NaN   \n1956     169.338028         NaN              NaN  176.184132         NaN   \n1960     168.188119         NaN              NaN  176.420245         NaN   \n1964     169.783784         NaN              NaN  175.876506         NaN   \n1968     171.181360         NaN              NaN  176.355755         NaN   \n1972     170.952681  172.215054              NaN  175.936145         NaN   \n1976     171.251282  170.796875              NaN  176.658613         NaN   \n1980     171.365741  172.651515              NaN  176.641509         NaN   \n1984     172.958944  171.663462              NaN  175.800367         NaN   \n1988     173.618357  172.648221              NaN  175.551587         NaN   \n1992     174.500000  174.095238              NaN  176.087613  174.051546   \n1996            NaN  173.757764              NaN  176.476684  175.128319   \n2000            NaN  174.058824              NaN  176.537860  173.920000   \n2002     174.239564         NaN              NaN         NaN         NaN   \n2004            NaN  173.731132              NaN  176.301748  173.595000   \n2006     175.143089         NaN              NaN         NaN         NaN   \n2008            NaN  173.279793              NaN  176.038164  173.699454   \n2010     175.345534         NaN              NaN         NaN         NaN   \n2012            NaN  173.295000              NaN  176.095578  174.263736   \n2014     175.336296         NaN              NaN         NaN         NaN   \n2016            NaN  173.363636              NaN  175.207140  174.502825   \n\n                                                                        ...  \\\nSport    Baseball  Basketball Beach Volleyball    Biathlon   Bobsleigh  ...   \nYear                                                                    ...   \n1908          NaN         NaN              NaN         NaN         NaN  ...   \n1920          NaN         NaN              NaN         NaN         NaN  ...   \n1924          NaN         NaN              NaN         NaN         NaN  ...   \n1928          NaN         NaN              NaN         NaN  178.388889  ...   \n1932          NaN         NaN              NaN         NaN  175.222222  ...   \n1936          NaN  182.574074              NaN         NaN  173.600000  ...   \n1948          NaN  185.550725              NaN         NaN  174.250000  ...   \n1952          NaN  187.600000              NaN         NaN  188.000000  ...   \n1956          NaN  186.952941              NaN         NaN  177.818182  ...   \n1960          NaN  188.317708              NaN  176.200000         NaN  ...   \n1964          NaN  189.920635              NaN  174.295455  177.274725  ...   \n1968          NaN  189.880435              NaN  176.116071  177.433333  ...   \n1972          NaN  193.321053              NaN  175.613208  178.747748  ...   \n1976          NaN  189.760563              NaN  177.021505  179.000000  ...   \n1980          NaN  190.985981              NaN  177.982759  180.810127  ...   \n1984          NaN  192.352113              NaN  179.109195  180.955556  ...   \n1988          NaN  191.038136              NaN  178.808383  182.625000  ...   \n1992   180.273381  193.125541              NaN  173.973262  182.869822  ...   \n1996   182.328467  190.770318       184.030769         NaN         NaN  ...   \n2000   182.386243  191.000000       185.083333         NaN         NaN  ...   \n2002          NaN         NaN              NaN  173.033688  182.647059  ...   \n2004   183.476440  191.637631       185.437500         NaN         NaN  ...   \n2006          NaN         NaN              NaN  172.928571  182.445026  ...   \n2008   183.826316  191.714286       187.322917         NaN         NaN  ...   \n2010          NaN         NaN              NaN  173.354319  182.633166  ...   \n2012          NaN  192.351916       186.937500         NaN         NaN  ...   \n2014          NaN         NaN              NaN  173.271350  182.995495  ...   \n2016          NaN  191.932384       187.375000         NaN         NaN  ...   \n\n               max                                                     \\\nSport Table Tennis Taekwondo Tennis Trampolining Triathlon Tug-Of-War   \nYear                                                                    \n1908           NaN       NaN    NaN          NaN       NaN      195.0   \n1920           NaN       NaN  175.0          NaN       NaN      192.0   \n1924           NaN       NaN  194.0          NaN       NaN        NaN   \n1928           NaN       NaN    NaN          NaN       NaN        NaN   \n1932           NaN       NaN    NaN          NaN       NaN        NaN   \n1936           NaN       NaN    NaN          NaN       NaN        NaN   \n1948           NaN       NaN    NaN          NaN       NaN        NaN   \n1952           NaN       NaN    NaN          NaN       NaN        NaN   \n1956           NaN       NaN    NaN          NaN       NaN        NaN   \n1960           NaN       NaN    NaN          NaN       NaN        NaN   \n1964           NaN       NaN    NaN          NaN       NaN        NaN   \n1968           NaN       NaN    NaN          NaN       NaN        NaN   \n1972           NaN       NaN    NaN          NaN       NaN        NaN   \n1976           NaN       NaN    NaN          NaN       NaN        NaN   \n1980           NaN       NaN    NaN          NaN       NaN        NaN   \n1984           NaN       NaN    NaN          NaN       NaN        NaN   \n1988         196.0       NaN  203.0          NaN       NaN        NaN   \n1992         196.0       NaN  200.0          NaN       NaN        NaN   \n1996         193.0       NaN  200.0          NaN       NaN        NaN   \n2000         192.0     201.0  198.0        185.0     193.0        NaN   \n2002           NaN       NaN    NaN          NaN       NaN        NaN   \n2004         193.0     201.0  208.0        180.0     193.0        NaN   \n2006           NaN       NaN    NaN          NaN       NaN        NaN   \n2008         192.0     203.0  203.0        179.0     196.0        NaN   \n2010           NaN       NaN    NaN          NaN       NaN        NaN   \n2012         196.0     203.0  206.0        179.0     194.0        NaN   \n2014           NaN       NaN    NaN          NaN       NaN        NaN   \n2016         198.0     207.0  204.0        183.0     191.0        NaN   \n\n                                                     \nSport Volleyball Water Polo Weightlifting Wrestling  \nYear                                                 \n1908         NaN      191.0           NaN     190.0  \n1920         NaN      188.0         170.0     183.0  \n1924         NaN      194.0         178.0     189.0  \n1928         NaN      198.0         180.0     183.0  \n1932         NaN      188.0         178.0     184.0  \n1936         NaN      190.0         180.0     188.0  \n1948         NaN      190.0         183.0     187.0  \n1952         NaN      199.0         186.0     190.0  \n1956         NaN      199.0         186.0     190.0  \n1960         NaN      198.0         193.0     198.0  \n1964       198.0      198.0         193.0     198.0  \n1968       201.0      202.0         194.0     198.0  \n1972       201.0      202.0         192.0     198.0  \n1976       200.0      202.0         193.0     198.0  \n1980       207.0      202.0         196.0     214.0  \n1984       203.0      204.0         190.0     198.0  \n1988       210.0      205.0         194.0     214.0  \n1992       209.0      205.0         192.0     198.0  \n1996       217.0      206.0         195.0     204.0  \n2000       217.0      206.0         193.0     204.0  \n2002         NaN        NaN           NaN       NaN  \n2004       217.0      205.0         205.0     200.0  \n2006         NaN        NaN           NaN       NaN  \n2008       212.0      205.0         197.0     203.0  \n2010         NaN        NaN           NaN       NaN  \n2012       219.0      205.0         197.0     203.0  \n2014         NaN        NaN           NaN       NaN  \n2016       211.0      206.0         197.0     203.0  \n\n[28 rows x 118 columns]",
      "text/html": "<div>\n<style scoped>\n    .dataframe tbody tr th:only-of-type {\n        vertical-align: middle;\n    }\n\n    .dataframe tbody tr th {\n        vertical-align: top;\n    }\n\n    .dataframe thead tr th {\n        text-align: left;\n    }\n\n    .dataframe thead tr:last-of-type th {\n        text-align: right;\n    }\n</style>\n<table border=\"1\" class=\"dataframe\">\n  <thead>\n    <tr>\n      <th></th>\n      <th colspan=\"10\" halign=\"left\">mean</th>\n      <th>...</th>\n      <th colspan=\"10\" halign=\"left\">max</th>\n    </tr>\n    <tr>\n      <th>Sport</th>\n      <th>Alpine Skiing</th>\n      <th>Archery</th>\n      <th>Art Competitions</th>\n      <th>Athletics</th>\n      <th>Badminton</th>\n      <th>Baseball</th>\n      <th>Basketball</th>\n      <th>Beach Volleyball</th>\n      <th>Biathlon</th>\n      <th>Bobsleigh</th>\n      <th>...</th>\n      <th>Table Tennis</th>\n      <th>Taekwondo</th>\n      <th>Tennis</th>\n      <th>Trampolining</th>\n      <th>Triathlon</th>\n      <th>Tug-Of-War</th>\n      <th>Volleyball</th>\n      <th>Water Polo</th>\n      <th>Weightlifting</th>\n      <th>Wrestling</th>\n    </tr>\n    <tr>\n      <th>Year</th>\n      <th></th>\n      <th></th>\n      <th></th>\n      <th></th>\n      <th></th>\n      <th></th>\n      <th></th>\n      <th></th>\n      <th></th>\n      <th></th>\n      <th></th>\n      <th></th>\n      <th></th>\n      <th></th>\n      <th></th>\n      <th></th>\n      <th></th>\n      <th></th>\n      <th></th>\n      <th></th>\n      <th></th>\n    </tr>\n  </thead>\n  <tbody>\n    <tr>\n      <th>1908</th>\n      <td>NaN</td>\n      <td>NaN</td>\n      <td>NaN</td>\n      <td>178.305994</td>\n      <td>NaN</td>\n      <td>NaN</td>\n      <td>NaN</td>\n      <td>NaN</td>\n      <td>NaN</td>\n      <td>NaN</td>\n      <td>...</td>\n      <td>NaN</td>\n      <td>NaN</td>\n      <td>NaN</td>\n      <td>NaN</td>\n      <td>NaN</td>\n      <td>195.0</td>\n      <td>NaN</td>\n      <td>191.0</td>\n      <td>NaN</td>\n      <td>190.0</td>\n    </tr>\n    <tr>\n      <th>1920</th>\n      <td>NaN</td>\n      <td>NaN</td>\n      <td>NaN</td>\n      <td>177.161194</td>\n      <td>NaN</td>\n      <td>NaN</td>\n      <td>NaN</td>\n      <td>NaN</td>\n      <td>NaN</td>\n      <td>NaN</td>\n      <td>...</td>\n      <td>NaN</td>\n      <td>NaN</td>\n      <td>175.0</td>\n      <td>NaN</td>\n      <td>NaN</td>\n      <td>192.0</td>\n      <td>NaN</td>\n      <td>188.0</td>\n      <td>170.0</td>\n      <td>183.0</td>\n    </tr>\n    <tr>\n      <th>1924</th>\n      <td>NaN</td>\n      <td>NaN</td>\n      <td>173.555556</td>\n      <td>176.324257</td>\n      <td>NaN</td>\n      <td>NaN</td>\n      <td>NaN</td>\n      <td>NaN</td>\n      <td>NaN</td>\n      <td>NaN</td>\n      <td>...</td>\n      <td>NaN</td>\n      <td>NaN</td>\n      <td>194.0</td>\n      <td>NaN</td>\n      <td>NaN</td>\n      <td>NaN</td>\n      <td>NaN</td>\n      <td>194.0</td>\n      <td>178.0</td>\n      <td>189.0</td>\n    </tr>\n    <tr>\n      <th>1928</th>\n      <td>NaN</td>\n      <td>NaN</td>\n      <td>169.000000</td>\n      <td>176.472505</td>\n      <td>NaN</td>\n      <td>NaN</td>\n      <td>NaN</td>\n      <td>NaN</td>\n      <td>NaN</td>\n      <td>178.388889</td>\n      <td>...</td>\n      <td>NaN</td>\n      <td>NaN</td>\n      <td>NaN</td>\n      <td>NaN</td>\n      <td>NaN</td>\n      <td>NaN</td>\n      <td>NaN</td>\n      <td>198.0</td>\n      <td>180.0</td>\n      <td>183.0</td>\n    </tr>\n    <tr>\n      <th>1932</th>\n      <td>NaN</td>\n      <td>NaN</td>\n      <td>174.952381</td>\n      <td>176.091765</td>\n      <td>NaN</td>\n      <td>NaN</td>\n      <td>NaN</td>\n      <td>NaN</td>\n      <td>NaN</td>\n      <td>175.222222</td>\n      <td>...</td>\n      <td>NaN</td>\n      <td>NaN</td>\n      <td>NaN</td>\n      <td>NaN</td>\n      <td>NaN</td>\n      <td>NaN</td>\n      <td>NaN</td>\n      <td>188.0</td>\n      <td>178.0</td>\n      <td>184.0</td>\n    </tr>\n    <tr>\n      <th>1936</th>\n      <td>169.250000</td>\n      <td>NaN</td>\n      <td>180.666667</td>\n      <td>177.456110</td>\n      <td>NaN</td>\n      <td>NaN</td>\n      <td>182.574074</td>\n      <td>NaN</td>\n      <td>NaN</td>\n      <td>173.600000</td>\n      <td>...</td>\n      <td>NaN</td>\n      <td>NaN</td>\n      <td>NaN</td>\n      <td>NaN</td>\n      <td>NaN</td>\n      <td>NaN</td>\n      <td>NaN</td>\n      <td>190.0</td>\n      <td>180.0</td>\n      <td>188.0</td>\n    </tr>\n    <tr>\n      <th>1948</th>\n      <td>170.116279</td>\n      <td>NaN</td>\n      <td>176.000000</td>\n      <td>177.423290</td>\n      <td>NaN</td>\n      <td>NaN</td>\n      <td>185.550725</td>\n      <td>NaN</td>\n      <td>NaN</td>\n      <td>174.250000</td>\n      <td>...</td>\n      <td>NaN</td>\n      <td>NaN</td>\n      <td>NaN</td>\n      <td>NaN</td>\n      <td>NaN</td>\n      <td>NaN</td>\n      <td>NaN</td>\n      <td>190.0</td>\n      <td>183.0</td>\n      <td>187.0</td>\n    </tr>\n    <tr>\n      <th>1952</th>\n      <td>173.387755</td>\n      <td>NaN</td>\n      <td>NaN</td>\n      <td>176.394947</td>\n      <td>NaN</td>\n      <td>NaN</td>\n      <td>187.600000</td>\n      <td>NaN</td>\n      <td>NaN</td>\n      <td>188.000000</td>\n      <td>...</td>\n      <td>NaN</td>\n      <td>NaN</td>\n      <td>NaN</td>\n      <td>NaN</td>\n      <td>NaN</td>\n      <td>NaN</td>\n      <td>NaN</td>\n      <td>199.0</td>\n      <td>186.0</td>\n      <td>190.0</td>\n    </tr>\n    <tr>\n      <th>1956</th>\n      <td>169.338028</td>\n      <td>NaN</td>\n      <td>NaN</td>\n      <td>176.184132</td>\n      <td>NaN</td>\n      <td>NaN</td>\n      <td>186.952941</td>\n      <td>NaN</td>\n      <td>NaN</td>\n      <td>177.818182</td>\n      <td>...</td>\n      <td>NaN</td>\n      <td>NaN</td>\n      <td>NaN</td>\n      <td>NaN</td>\n      <td>NaN</td>\n      <td>NaN</td>\n      <td>NaN</td>\n      <td>199.0</td>\n      <td>186.0</td>\n      <td>190.0</td>\n    </tr>\n    <tr>\n      <th>1960</th>\n      <td>168.188119</td>\n      <td>NaN</td>\n      <td>NaN</td>\n      <td>176.420245</td>\n      <td>NaN</td>\n      <td>NaN</td>\n      <td>188.317708</td>\n      <td>NaN</td>\n      <td>176.200000</td>\n      <td>NaN</td>\n      <td>...</td>\n      <td>NaN</td>\n      <td>NaN</td>\n      <td>NaN</td>\n      <td>NaN</td>\n      <td>NaN</td>\n      <td>NaN</td>\n      <td>NaN</td>\n      <td>198.0</td>\n      <td>193.0</td>\n      <td>198.0</td>\n    </tr>\n    <tr>\n      <th>1964</th>\n      <td>169.783784</td>\n      <td>NaN</td>\n      <td>NaN</td>\n      <td>175.876506</td>\n      <td>NaN</td>\n      <td>NaN</td>\n      <td>189.920635</td>\n      <td>NaN</td>\n      <td>174.295455</td>\n      <td>177.274725</td>\n      <td>...</td>\n      <td>NaN</td>\n      <td>NaN</td>\n      <td>NaN</td>\n      <td>NaN</td>\n      <td>NaN</td>\n      <td>NaN</td>\n      <td>198.0</td>\n      <td>198.0</td>\n      <td>193.0</td>\n      <td>198.0</td>\n    </tr>\n    <tr>\n      <th>1968</th>\n      <td>171.181360</td>\n      <td>NaN</td>\n      <td>NaN</td>\n      <td>176.355755</td>\n      <td>NaN</td>\n      <td>NaN</td>\n      <td>189.880435</td>\n      <td>NaN</td>\n      <td>176.116071</td>\n      <td>177.433333</td>\n      <td>...</td>\n      <td>NaN</td>\n      <td>NaN</td>\n      <td>NaN</td>\n      <td>NaN</td>\n      <td>NaN</td>\n      <td>NaN</td>\n      <td>201.0</td>\n      <td>202.0</td>\n      <td>194.0</td>\n      <td>198.0</td>\n    </tr>\n    <tr>\n      <th>1972</th>\n      <td>170.952681</td>\n      <td>172.215054</td>\n      <td>NaN</td>\n      <td>175.936145</td>\n      <td>NaN</td>\n      <td>NaN</td>\n      <td>193.321053</td>\n      <td>NaN</td>\n      <td>175.613208</td>\n      <td>178.747748</td>\n      <td>...</td>\n      <td>NaN</td>\n      <td>NaN</td>\n      <td>NaN</td>\n      <td>NaN</td>\n      <td>NaN</td>\n      <td>NaN</td>\n      <td>201.0</td>\n      <td>202.0</td>\n      <td>192.0</td>\n      <td>198.0</td>\n    </tr>\n    <tr>\n      <th>1976</th>\n      <td>171.251282</td>\n      <td>170.796875</td>\n      <td>NaN</td>\n      <td>176.658613</td>\n      <td>NaN</td>\n      <td>NaN</td>\n      <td>189.760563</td>\n      <td>NaN</td>\n      <td>177.021505</td>\n      <td>179.000000</td>\n      <td>...</td>\n      <td>NaN</td>\n      <td>NaN</td>\n      <td>NaN</td>\n      <td>NaN</td>\n      <td>NaN</td>\n      <td>NaN</td>\n      <td>200.0</td>\n      <td>202.0</td>\n      <td>193.0</td>\n      <td>198.0</td>\n    </tr>\n    <tr>\n      <th>1980</th>\n      <td>171.365741</td>\n      <td>172.651515</td>\n      <td>NaN</td>\n      <td>176.641509</td>\n      <td>NaN</td>\n      <td>NaN</td>\n      <td>190.985981</td>\n      <td>NaN</td>\n      <td>177.982759</td>\n      <td>180.810127</td>\n      <td>...</td>\n      <td>NaN</td>\n      <td>NaN</td>\n      <td>NaN</td>\n      <td>NaN</td>\n      <td>NaN</td>\n      <td>NaN</td>\n      <td>207.0</td>\n      <td>202.0</td>\n      <td>196.0</td>\n      <td>214.0</td>\n    </tr>\n    <tr>\n      <th>1984</th>\n      <td>172.958944</td>\n      <td>171.663462</td>\n      <td>NaN</td>\n      <td>175.800367</td>\n      <td>NaN</td>\n      <td>NaN</td>\n      <td>192.352113</td>\n      <td>NaN</td>\n      <td>179.109195</td>\n      <td>180.955556</td>\n      <td>...</td>\n      <td>NaN</td>\n      <td>NaN</td>\n      <td>NaN</td>\n      <td>NaN</td>\n      <td>NaN</td>\n      <td>NaN</td>\n      <td>203.0</td>\n      <td>204.0</td>\n      <td>190.0</td>\n      <td>198.0</td>\n    </tr>\n    <tr>\n      <th>1988</th>\n      <td>173.618357</td>\n      <td>172.648221</td>\n      <td>NaN</td>\n      <td>175.551587</td>\n      <td>NaN</td>\n      <td>NaN</td>\n      <td>191.038136</td>\n      <td>NaN</td>\n      <td>178.808383</td>\n      <td>182.625000</td>\n      <td>...</td>\n      <td>196.0</td>\n      <td>NaN</td>\n      <td>203.0</td>\n      <td>NaN</td>\n      <td>NaN</td>\n      <td>NaN</td>\n      <td>210.0</td>\n      <td>205.0</td>\n      <td>194.0</td>\n      <td>214.0</td>\n    </tr>\n    <tr>\n      <th>1992</th>\n      <td>174.500000</td>\n      <td>174.095238</td>\n      <td>NaN</td>\n      <td>176.087613</td>\n      <td>174.051546</td>\n      <td>180.273381</td>\n      <td>193.125541</td>\n      <td>NaN</td>\n      <td>173.973262</td>\n      <td>182.869822</td>\n      <td>...</td>\n      <td>196.0</td>\n      <td>NaN</td>\n      <td>200.0</td>\n      <td>NaN</td>\n      <td>NaN</td>\n      <td>NaN</td>\n      <td>209.0</td>\n      <td>205.0</td>\n      <td>192.0</td>\n      <td>198.0</td>\n    </tr>\n    <tr>\n      <th>1996</th>\n      <td>NaN</td>\n      <td>173.757764</td>\n      <td>NaN</td>\n      <td>176.476684</td>\n      <td>175.128319</td>\n      <td>182.328467</td>\n      <td>190.770318</td>\n      <td>184.030769</td>\n      <td>NaN</td>\n      <td>NaN</td>\n      <td>...</td>\n      <td>193.0</td>\n      <td>NaN</td>\n      <td>200.0</td>\n      <td>NaN</td>\n      <td>NaN</td>\n      <td>NaN</td>\n      <td>217.0</td>\n      <td>206.0</td>\n      <td>195.0</td>\n      <td>204.0</td>\n    </tr>\n    <tr>\n      <th>2000</th>\n      <td>NaN</td>\n      <td>174.058824</td>\n      <td>NaN</td>\n      <td>176.537860</td>\n      <td>173.920000</td>\n      <td>182.386243</td>\n      <td>191.000000</td>\n      <td>185.083333</td>\n      <td>NaN</td>\n      <td>NaN</td>\n      <td>...</td>\n      <td>192.0</td>\n      <td>201.0</td>\n      <td>198.0</td>\n      <td>185.0</td>\n      <td>193.0</td>\n      <td>NaN</td>\n      <td>217.0</td>\n      <td>206.0</td>\n      <td>193.0</td>\n      <td>204.0</td>\n    </tr>\n    <tr>\n      <th>2002</th>\n      <td>174.239564</td>\n      <td>NaN</td>\n      <td>NaN</td>\n      <td>NaN</td>\n      <td>NaN</td>\n      <td>NaN</td>\n      <td>NaN</td>\n      <td>NaN</td>\n      <td>173.033688</td>\n      <td>182.647059</td>\n      <td>...</td>\n      <td>NaN</td>\n      <td>NaN</td>\n      <td>NaN</td>\n      <td>NaN</td>\n      <td>NaN</td>\n      <td>NaN</td>\n      <td>NaN</td>\n      <td>NaN</td>\n      <td>NaN</td>\n      <td>NaN</td>\n    </tr>\n    <tr>\n      <th>2004</th>\n      <td>NaN</td>\n      <td>173.731132</td>\n      <td>NaN</td>\n      <td>176.301748</td>\n      <td>173.595000</td>\n      <td>183.476440</td>\n      <td>191.637631</td>\n      <td>185.437500</td>\n      <td>NaN</td>\n      <td>NaN</td>\n      <td>...</td>\n      <td>193.0</td>\n      <td>201.0</td>\n      <td>208.0</td>\n      <td>180.0</td>\n      <td>193.0</td>\n      <td>NaN</td>\n      <td>217.0</td>\n      <td>205.0</td>\n      <td>205.0</td>\n      <td>200.0</td>\n    </tr>\n    <tr>\n      <th>2006</th>\n      <td>175.143089</td>\n      <td>NaN</td>\n      <td>NaN</td>\n      <td>NaN</td>\n      <td>NaN</td>\n      <td>NaN</td>\n      <td>NaN</td>\n      <td>NaN</td>\n      <td>172.928571</td>\n      <td>182.445026</td>\n      <td>...</td>\n      <td>NaN</td>\n      <td>NaN</td>\n      <td>NaN</td>\n      <td>NaN</td>\n      <td>NaN</td>\n      <td>NaN</td>\n      <td>NaN</td>\n      <td>NaN</td>\n      <td>NaN</td>\n      <td>NaN</td>\n    </tr>\n    <tr>\n      <th>2008</th>\n      <td>NaN</td>\n      <td>173.279793</td>\n      <td>NaN</td>\n      <td>176.038164</td>\n      <td>173.699454</td>\n      <td>183.826316</td>\n      <td>191.714286</td>\n      <td>187.322917</td>\n      <td>NaN</td>\n      <td>NaN</td>\n      <td>...</td>\n      <td>192.0</td>\n      <td>203.0</td>\n      <td>203.0</td>\n      <td>179.0</td>\n      <td>196.0</td>\n      <td>NaN</td>\n      <td>212.0</td>\n      <td>205.0</td>\n      <td>197.0</td>\n      <td>203.0</td>\n    </tr>\n    <tr>\n      <th>2010</th>\n      <td>175.345534</td>\n      <td>NaN</td>\n      <td>NaN</td>\n      <td>NaN</td>\n      <td>NaN</td>\n      <td>NaN</td>\n      <td>NaN</td>\n      <td>NaN</td>\n      <td>173.354319</td>\n      <td>182.633166</td>\n      <td>...</td>\n      <td>NaN</td>\n      <td>NaN</td>\n      <td>NaN</td>\n      <td>NaN</td>\n      <td>NaN</td>\n      <td>NaN</td>\n      <td>NaN</td>\n      <td>NaN</td>\n      <td>NaN</td>\n      <td>NaN</td>\n    </tr>\n    <tr>\n      <th>2012</th>\n      <td>NaN</td>\n      <td>173.295000</td>\n      <td>NaN</td>\n      <td>176.095578</td>\n      <td>174.263736</td>\n      <td>NaN</td>\n      <td>192.351916</td>\n      <td>186.937500</td>\n      <td>NaN</td>\n      <td>NaN</td>\n      <td>...</td>\n      <td>196.0</td>\n      <td>203.0</td>\n      <td>206.0</td>\n      <td>179.0</td>\n      <td>194.0</td>\n      <td>NaN</td>\n      <td>219.0</td>\n      <td>205.0</td>\n      <td>197.0</td>\n      <td>203.0</td>\n    </tr>\n    <tr>\n      <th>2014</th>\n      <td>175.336296</td>\n      <td>NaN</td>\n      <td>NaN</td>\n      <td>NaN</td>\n      <td>NaN</td>\n      <td>NaN</td>\n      <td>NaN</td>\n      <td>NaN</td>\n      <td>173.271350</td>\n      <td>182.995495</td>\n      <td>...</td>\n      <td>NaN</td>\n      <td>NaN</td>\n      <td>NaN</td>\n      <td>NaN</td>\n      <td>NaN</td>\n      <td>NaN</td>\n      <td>NaN</td>\n      <td>NaN</td>\n      <td>NaN</td>\n      <td>NaN</td>\n    </tr>\n    <tr>\n      <th>2016</th>\n      <td>NaN</td>\n      <td>173.363636</td>\n      <td>NaN</td>\n      <td>175.207140</td>\n      <td>174.502825</td>\n      <td>NaN</td>\n      <td>191.932384</td>\n      <td>187.375000</td>\n      <td>NaN</td>\n      <td>NaN</td>\n      <td>...</td>\n      <td>198.0</td>\n      <td>207.0</td>\n      <td>204.0</td>\n      <td>183.0</td>\n      <td>191.0</td>\n      <td>NaN</td>\n      <td>211.0</td>\n      <td>206.0</td>\n      <td>197.0</td>\n      <td>203.0</td>\n    </tr>\n  </tbody>\n</table>\n<p>28 rows × 118 columns</p>\n</div>"
     },
     "execution_count": 21,
     "metadata": {},
     "output_type": "execute_result"
    }
   ],
   "source": [
    "# What was the avg height of athletes, per year *AND* country?\n",
    "# distinct year -- categorical data\n",
    "# distinct team -- categorical data \n",
    "\n",
    "df.pivot_table(index='Year', columns='Sport', values='Height', aggfunc=['mean', 'max']).dropna(thresh=30)"
   ],
   "metadata": {
    "collapsed": false,
    "ExecuteTime": {
     "end_time": "2023-11-30T07:17:46.336650500Z",
     "start_time": "2023-11-30T07:17:46.236667800Z"
    }
   },
   "id": "cead6702a5fd94a9"
  },
  {
   "cell_type": "code",
   "execution_count": 19,
   "outputs": [],
   "source": [],
   "metadata": {
    "collapsed": false,
    "ExecuteTime": {
     "end_time": "2023-11-30T07:17:23.682806900Z",
     "start_time": "2023-11-30T07:17:23.677283200Z"
    }
   },
   "id": "f2ac22310b0c4a29"
  }
 ],
 "metadata": {
  "kernelspec": {
   "display_name": "Python 3",
   "language": "python",
   "name": "python3"
  },
  "language_info": {
   "codemirror_mode": {
    "name": "ipython",
    "version": 2
   },
   "file_extension": ".py",
   "mimetype": "text/x-python",
   "name": "python",
   "nbconvert_exporter": "python",
   "pygments_lexer": "ipython2",
   "version": "2.7.6"
  }
 },
 "nbformat": 4,
 "nbformat_minor": 5
}
