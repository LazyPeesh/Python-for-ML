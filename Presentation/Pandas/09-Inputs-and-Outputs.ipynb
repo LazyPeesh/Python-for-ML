{
 "cells": [
  {
   "cell_type": "code",
   "execution_count": 17,
   "id": "initial_id",
   "metadata": {
    "collapsed": true,
    "ExecuteTime": {
     "end_time": "2023-11-26T17:52:48.713809200Z",
     "start_time": "2023-11-26T17:52:48.627968400Z"
    }
   },
   "outputs": [],
   "source": [
    "import pandas as pd"
   ]
  },
  {
   "cell_type": "code",
   "execution_count": 18,
   "outputs": [
    {
     "data": {
      "text/plain": "'G:\\\\Python-for-ML\\\\Presentation\\\\Pandas'"
     },
     "execution_count": 18,
     "metadata": {},
     "output_type": "execute_result"
    }
   ],
   "source": [
    "pwd"
   ],
   "metadata": {
    "collapsed": false,
    "ExecuteTime": {
     "end_time": "2023-11-26T17:52:48.727851800Z",
     "start_time": "2023-11-26T17:52:48.629476Z"
    }
   },
   "id": "f1a774166de8b5d4"
  },
  {
   "cell_type": "code",
   "execution_count": 19,
   "outputs": [
    {
     "name": "stdout",
     "output_type": "stream",
     "text": [
      " Volume in drive G has no label.\n",
      " Volume Serial Number is 3414-66F8\n",
      "\n",
      " Directory of G:\\Python-for-ML\\Presentation\\Pandas\n",
      "\n",
      "11/27/2023  12:52 AM    <DIR>          .\n",
      "11/26/2023  09:41 PM    <DIR>          ..\n",
      "11/26/2023  10:12 PM           577,852 00-Series.ipynb\n",
      "11/26/2023  10:49 PM           119,274 01-DataFrames.ipynb\n",
      "11/26/2023  10:48 PM            76,100 02-Conditional-Filtering.ipynb\n",
      "11/26/2023  10:51 PM           123,973 03-Useful-Methods.ipynb\n",
      "11/26/2023  11:37 PM            57,582 04-Missing-Data.ipynb\n",
      "11/26/2023  11:48 PM           167,184 05-Groupby-Operations-and-MultiIndex.ipynb\n",
      "11/27/2023  12:27 AM            56,026 06-Combining-DataFrames.ipynb\n",
      "11/27/2023  12:42 AM            36,711 07-Text-Methods.ipynb\n",
      "11/27/2023  12:44 AM           115,560 08-Time-Methods.ipynb\n",
      "11/25/2023  11:25 PM            10,365 09-Inputs-and-Outputs.ipynb\n",
      "11/24/2023  11:33 PM                51 example.csv\n",
      "11/24/2023  11:33 PM               177 movie_scores.csv\n",
      "11/24/2023  11:33 PM            18,125 mpg.csv\n",
      "11/27/2023  12:52 AM                51 new_file.csv\n",
      "11/24/2023  11:33 PM             5,800 RetailSales_BeerWineLiquor.csv\n",
      "11/24/2023  11:33 PM            18,752 tips.csv\n",
      "              16 File(s)      1,383,583 bytes\n",
      "               2 Dir(s)  226,618,372,096 bytes free\n"
     ]
    }
   ],
   "source": [
    "ls"
   ],
   "metadata": {
    "collapsed": false,
    "ExecuteTime": {
     "end_time": "2023-11-26T17:52:48.727851800Z",
     "start_time": "2023-11-26T17:52:48.634984700Z"
    }
   },
   "id": "bd274f1e8d958fad"
  },
  {
   "cell_type": "code",
   "execution_count": 20,
   "outputs": [],
   "source": [
    "import os"
   ],
   "metadata": {
    "collapsed": false,
    "ExecuteTime": {
     "end_time": "2023-11-26T17:52:48.727851800Z",
     "start_time": "2023-11-26T17:52:48.651144500Z"
    }
   },
   "id": "c929942d21ecc0d5"
  },
  {
   "cell_type": "code",
   "execution_count": 21,
   "outputs": [
    {
     "data": {
      "text/plain": "'G:\\\\Python-for-ML\\\\Presentation\\\\Pandas'"
     },
     "execution_count": 21,
     "metadata": {},
     "output_type": "execute_result"
    }
   ],
   "source": [
    "os.getcwd()"
   ],
   "metadata": {
    "collapsed": false,
    "ExecuteTime": {
     "end_time": "2023-11-26T17:52:48.727851800Z",
     "start_time": "2023-11-26T17:52:48.653723100Z"
    }
   },
   "id": "d3ab899660453818"
  },
  {
   "cell_type": "code",
   "execution_count": 22,
   "outputs": [],
   "source": [
    "# df = pd.read_csv('example.csv', header=None)\n",
    "\n",
    "df = pd.read_csv('example.csv')"
   ],
   "metadata": {
    "collapsed": false,
    "ExecuteTime": {
     "end_time": "2023-11-26T17:52:48.727851800Z",
     "start_time": "2023-11-26T17:52:48.656398600Z"
    }
   },
   "id": "b0a1dcb2294fe99f"
  },
  {
   "cell_type": "code",
   "execution_count": 23,
   "outputs": [
    {
     "data": {
      "text/plain": "    a   b   c   d\n0   0   1   2   3\n1   4   5   6   7\n2   8   9  10  11\n3  12  13  14  15",
      "text/html": "<div>\n<style scoped>\n    .dataframe tbody tr th:only-of-type {\n        vertical-align: middle;\n    }\n\n    .dataframe tbody tr th {\n        vertical-align: top;\n    }\n\n    .dataframe thead th {\n        text-align: right;\n    }\n</style>\n<table border=\"1\" class=\"dataframe\">\n  <thead>\n    <tr style=\"text-align: right;\">\n      <th></th>\n      <th>a</th>\n      <th>b</th>\n      <th>c</th>\n      <th>d</th>\n    </tr>\n  </thead>\n  <tbody>\n    <tr>\n      <th>0</th>\n      <td>0</td>\n      <td>1</td>\n      <td>2</td>\n      <td>3</td>\n    </tr>\n    <tr>\n      <th>1</th>\n      <td>4</td>\n      <td>5</td>\n      <td>6</td>\n      <td>7</td>\n    </tr>\n    <tr>\n      <th>2</th>\n      <td>8</td>\n      <td>9</td>\n      <td>10</td>\n      <td>11</td>\n    </tr>\n    <tr>\n      <th>3</th>\n      <td>12</td>\n      <td>13</td>\n      <td>14</td>\n      <td>15</td>\n    </tr>\n  </tbody>\n</table>\n</div>"
     },
     "execution_count": 23,
     "metadata": {},
     "output_type": "execute_result"
    }
   ],
   "source": [
    "df"
   ],
   "metadata": {
    "collapsed": false,
    "ExecuteTime": {
     "end_time": "2023-11-26T17:52:48.727851800Z",
     "start_time": "2023-11-26T17:52:48.660802100Z"
    }
   },
   "id": "947add54b210e65c"
  },
  {
   "cell_type": "code",
   "execution_count": 24,
   "outputs": [],
   "source": [
    "df = pd.read_csv('example.csv', index_col=0)"
   ],
   "metadata": {
    "collapsed": false,
    "ExecuteTime": {
     "end_time": "2023-11-26T17:52:48.727851800Z",
     "start_time": "2023-11-26T17:52:48.666334200Z"
    }
   },
   "id": "acbfdf2fd0017c98"
  },
  {
   "cell_type": "code",
   "execution_count": 25,
   "outputs": [
    {
     "data": {
      "text/plain": "     b   c   d\na             \n0    1   2   3\n4    5   6   7\n8    9  10  11\n12  13  14  15",
      "text/html": "<div>\n<style scoped>\n    .dataframe tbody tr th:only-of-type {\n        vertical-align: middle;\n    }\n\n    .dataframe tbody tr th {\n        vertical-align: top;\n    }\n\n    .dataframe thead th {\n        text-align: right;\n    }\n</style>\n<table border=\"1\" class=\"dataframe\">\n  <thead>\n    <tr style=\"text-align: right;\">\n      <th></th>\n      <th>b</th>\n      <th>c</th>\n      <th>d</th>\n    </tr>\n    <tr>\n      <th>a</th>\n      <th></th>\n      <th></th>\n      <th></th>\n    </tr>\n  </thead>\n  <tbody>\n    <tr>\n      <th>0</th>\n      <td>1</td>\n      <td>2</td>\n      <td>3</td>\n    </tr>\n    <tr>\n      <th>4</th>\n      <td>5</td>\n      <td>6</td>\n      <td>7</td>\n    </tr>\n    <tr>\n      <th>8</th>\n      <td>9</td>\n      <td>10</td>\n      <td>11</td>\n    </tr>\n    <tr>\n      <th>12</th>\n      <td>13</td>\n      <td>14</td>\n      <td>15</td>\n    </tr>\n  </tbody>\n</table>\n</div>"
     },
     "execution_count": 25,
     "metadata": {},
     "output_type": "execute_result"
    }
   ],
   "source": [
    "df"
   ],
   "metadata": {
    "collapsed": false,
    "ExecuteTime": {
     "end_time": "2023-11-26T17:52:48.727851800Z",
     "start_time": "2023-11-26T17:52:48.672478600Z"
    }
   },
   "id": "4b1461ef4dbc0531"
  },
  {
   "cell_type": "code",
   "execution_count": 26,
   "outputs": [],
   "source": [
    "df.to_csv('newfile.csv', index=False)"
   ],
   "metadata": {
    "collapsed": false,
    "ExecuteTime": {
     "end_time": "2023-11-26T17:52:48.727851800Z",
     "start_time": "2023-11-26T17:52:48.683544200Z"
    }
   },
   "id": "a1933d406d16ee5b"
  },
  {
   "cell_type": "code",
   "execution_count": 27,
   "outputs": [],
   "source": [
    "new = pd.read_csv('newfile.csv')"
   ],
   "metadata": {
    "collapsed": false,
    "ExecuteTime": {
     "end_time": "2023-11-26T17:52:48.727851800Z",
     "start_time": "2023-11-26T17:52:48.688718Z"
    }
   },
   "id": "61a8357b34be1769"
  },
  {
   "cell_type": "code",
   "execution_count": 28,
   "outputs": [
    {
     "data": {
      "text/plain": "    b   c   d\n0   1   2   3\n1   5   6   7\n2   9  10  11\n3  13  14  15",
      "text/html": "<div>\n<style scoped>\n    .dataframe tbody tr th:only-of-type {\n        vertical-align: middle;\n    }\n\n    .dataframe tbody tr th {\n        vertical-align: top;\n    }\n\n    .dataframe thead th {\n        text-align: right;\n    }\n</style>\n<table border=\"1\" class=\"dataframe\">\n  <thead>\n    <tr style=\"text-align: right;\">\n      <th></th>\n      <th>b</th>\n      <th>c</th>\n      <th>d</th>\n    </tr>\n  </thead>\n  <tbody>\n    <tr>\n      <th>0</th>\n      <td>1</td>\n      <td>2</td>\n      <td>3</td>\n    </tr>\n    <tr>\n      <th>1</th>\n      <td>5</td>\n      <td>6</td>\n      <td>7</td>\n    </tr>\n    <tr>\n      <th>2</th>\n      <td>9</td>\n      <td>10</td>\n      <td>11</td>\n    </tr>\n    <tr>\n      <th>3</th>\n      <td>13</td>\n      <td>14</td>\n      <td>15</td>\n    </tr>\n  </tbody>\n</table>\n</div>"
     },
     "execution_count": 28,
     "metadata": {},
     "output_type": "execute_result"
    }
   ],
   "source": [
    "new"
   ],
   "metadata": {
    "collapsed": false,
    "ExecuteTime": {
     "end_time": "2023-11-26T17:52:48.728853700Z",
     "start_time": "2023-11-26T17:52:48.698242Z"
    }
   },
   "id": "19be29c707e0d679"
  },
  {
   "cell_type": "code",
   "execution_count": 28,
   "outputs": [],
   "source": [],
   "metadata": {
    "collapsed": false,
    "ExecuteTime": {
     "end_time": "2023-11-26T17:52:48.728853700Z",
     "start_time": "2023-11-26T17:52:48.702007200Z"
    }
   },
   "id": "b4bc668464799f2d"
  }
 ],
 "metadata": {
  "kernelspec": {
   "display_name": "Python 3",
   "language": "python",
   "name": "python3"
  },
  "language_info": {
   "codemirror_mode": {
    "name": "ipython",
    "version": 2
   },
   "file_extension": ".py",
   "mimetype": "text/x-python",
   "name": "python",
   "nbconvert_exporter": "python",
   "pygments_lexer": "ipython2",
   "version": "2.7.6"
  }
 },
 "nbformat": 4,
 "nbformat_minor": 5
}
