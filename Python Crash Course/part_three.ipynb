{
 "cells": [
  {
   "cell_type": "code",
   "execution_count": 14,
   "id": "initial_id",
   "metadata": {
    "collapsed": true,
    "ExecuteTime": {
     "end_time": "2023-11-24T08:08:28.032503600Z",
     "start_time": "2023-11-24T08:08:28.027446900Z"
    }
   },
   "outputs": [],
   "source": [
    "def my_func(name='NO NAME'):\n",
    "    '''\n",
    "    This prints out the user name!\n",
    "    '''\n",
    "    print('hello ' + name)"
   ]
  },
  {
   "cell_type": "code",
   "execution_count": 17,
   "outputs": [
    {
     "name": "stdout",
     "output_type": "stream",
     "text": [
      "hello Jose\n"
     ]
    }
   ],
   "source": [
    "my_func('Jose')"
   ],
   "metadata": {
    "collapsed": false,
    "ExecuteTime": {
     "end_time": "2023-11-24T08:11:05.068639400Z",
     "start_time": "2023-11-24T08:11:05.063911200Z"
    }
   },
   "id": "d68a3f235f0c9ad8"
  },
  {
   "cell_type": "code",
   "execution_count": 18,
   "outputs": [
    {
     "name": "stdout",
     "output_type": "stream",
     "text": [
      "hello NO NAME\n"
     ]
    }
   ],
   "source": [
    "my_func()"
   ],
   "metadata": {
    "collapsed": false,
    "ExecuteTime": {
     "end_time": "2023-11-24T08:11:05.312178Z",
     "start_time": "2023-11-24T08:11:05.308019100Z"
    }
   },
   "id": "64d2007a2b29735"
  },
  {
   "cell_type": "code",
   "execution_count": 30,
   "outputs": [],
   "source": [
    "def square(x):\n",
    "    return x ** 2"
   ],
   "metadata": {
    "collapsed": false,
    "ExecuteTime": {
     "end_time": "2023-11-24T08:13:36.402889700Z",
     "start_time": "2023-11-24T08:13:36.398380300Z"
    }
   },
   "id": "c7a97404cfc707e"
  },
  {
   "cell_type": "code",
   "execution_count": 31,
   "outputs": [],
   "source": [
    "result = square(2)"
   ],
   "metadata": {
    "collapsed": false,
    "ExecuteTime": {
     "end_time": "2023-11-24T08:13:36.537738400Z",
     "start_time": "2023-11-24T08:13:36.530160200Z"
    }
   },
   "id": "fda54825e6c52564"
  },
  {
   "cell_type": "code",
   "execution_count": 32,
   "outputs": [
    {
     "data": {
      "text/plain": "4"
     },
     "execution_count": 32,
     "metadata": {},
     "output_type": "execute_result"
    }
   ],
   "source": [
    "result"
   ],
   "metadata": {
    "collapsed": false,
    "ExecuteTime": {
     "end_time": "2023-11-24T08:13:36.867038900Z",
     "start_time": "2023-11-24T08:13:36.862828200Z"
    }
   },
   "id": "24ca348af873e66b"
  },
  {
   "cell_type": "code",
   "execution_count": 33,
   "outputs": [
    {
     "data": {
      "text/plain": "int"
     },
     "execution_count": 33,
     "metadata": {},
     "output_type": "execute_result"
    }
   ],
   "source": [
    "type(result)"
   ],
   "metadata": {
    "collapsed": false,
    "ExecuteTime": {
     "end_time": "2023-11-24T08:13:37.427715400Z",
     "start_time": "2023-11-24T08:13:37.421790900Z"
    }
   },
   "id": "f10a7130a55eacb6"
  },
  {
   "cell_type": "code",
   "execution_count": 34,
   "outputs": [],
   "source": [
    "def times_two(var):\n",
    "    return var * 2"
   ],
   "metadata": {
    "collapsed": false,
    "ExecuteTime": {
     "end_time": "2023-11-24T08:14:07.185122700Z",
     "start_time": "2023-11-24T08:14:07.178836600Z"
    }
   },
   "id": "ec915da5e2fae7ea"
  },
  {
   "cell_type": "code",
   "execution_count": 35,
   "outputs": [
    {
     "data": {
      "text/plain": "20"
     },
     "execution_count": 35,
     "metadata": {},
     "output_type": "execute_result"
    }
   ],
   "source": [
    "times_two(10)"
   ],
   "metadata": {
    "collapsed": false,
    "ExecuteTime": {
     "end_time": "2023-11-24T08:14:12.074800600Z",
     "start_time": "2023-11-24T08:14:12.049813600Z"
    }
   },
   "id": "cffc82b25c69ff08"
  },
  {
   "cell_type": "code",
   "execution_count": 36,
   "outputs": [
    {
     "data": {
      "text/plain": "<function __main__.<lambda>(var)>"
     },
     "execution_count": 36,
     "metadata": {},
     "output_type": "execute_result"
    }
   ],
   "source": [
    "lambda var: var * 2"
   ],
   "metadata": {
    "collapsed": false,
    "ExecuteTime": {
     "end_time": "2023-11-24T08:14:27.161517700Z",
     "start_time": "2023-11-24T08:14:27.153382800Z"
    }
   },
   "id": "9e7ce233a9a37279"
  },
  {
   "cell_type": "code",
   "execution_count": 37,
   "outputs": [],
   "source": [
    "st = 'hello my name is Sam'"
   ],
   "metadata": {
    "collapsed": false,
    "ExecuteTime": {
     "end_time": "2023-11-24T08:15:56.345994400Z",
     "start_time": "2023-11-24T08:15:56.336942Z"
    }
   },
   "id": "ccd918980926f24e"
  },
  {
   "cell_type": "code",
   "execution_count": 38,
   "outputs": [
    {
     "data": {
      "text/plain": "'hello my name is sam'"
     },
     "execution_count": 38,
     "metadata": {},
     "output_type": "execute_result"
    }
   ],
   "source": [
    "st.lower()"
   ],
   "metadata": {
    "collapsed": false,
    "ExecuteTime": {
     "end_time": "2023-11-24T08:15:59.034939700Z",
     "start_time": "2023-11-24T08:15:59.025748500Z"
    }
   },
   "id": "a08c72a884cd5bb6"
  },
  {
   "cell_type": "code",
   "execution_count": 39,
   "outputs": [
    {
     "data": {
      "text/plain": "['hello', 'my', 'name', 'is', 'Sam']"
     },
     "execution_count": 39,
     "metadata": {},
     "output_type": "execute_result"
    }
   ],
   "source": [
    "st.split()"
   ],
   "metadata": {
    "collapsed": false,
    "ExecuteTime": {
     "end_time": "2023-11-24T08:16:07.212945Z",
     "start_time": "2023-11-24T08:16:07.203912100Z"
    }
   },
   "id": "6360079a3f21652c"
  },
  {
   "cell_type": "code",
   "execution_count": 40,
   "outputs": [],
   "source": [
    "tweet = 'Hello #sports'"
   ],
   "metadata": {
    "collapsed": false,
    "ExecuteTime": {
     "end_time": "2023-11-24T08:16:27.102659300Z",
     "start_time": "2023-11-24T08:16:27.093654200Z"
    }
   },
   "id": "7beb09e4da80b5c4"
  },
  {
   "cell_type": "code",
   "execution_count": 42,
   "outputs": [
    {
     "data": {
      "text/plain": "['Hello ', 'sports']"
     },
     "execution_count": 42,
     "metadata": {},
     "output_type": "execute_result"
    }
   ],
   "source": [
    "tweet.split('#')"
   ],
   "metadata": {
    "collapsed": false,
    "ExecuteTime": {
     "end_time": "2023-11-24T08:16:46.823125100Z",
     "start_time": "2023-11-24T08:16:46.815142200Z"
    }
   },
   "id": "5407120a0492ffdd"
  },
  {
   "cell_type": "code",
   "execution_count": 44,
   "outputs": [
    {
     "data": {
      "text/plain": "'sports'"
     },
     "execution_count": 44,
     "metadata": {},
     "output_type": "execute_result"
    }
   ],
   "source": [
    "tweet.split('#')[-1]"
   ],
   "metadata": {
    "collapsed": false,
    "ExecuteTime": {
     "end_time": "2023-11-24T08:17:11.403340100Z",
     "start_time": "2023-11-24T08:17:11.395980Z"
    }
   },
   "id": "9105ea3afe21b755"
  },
  {
   "cell_type": "code",
   "execution_count": 45,
   "outputs": [],
   "source": [
    "d = {'k1': 'v1', 'k2': 'v2'}"
   ],
   "metadata": {
    "collapsed": false,
    "ExecuteTime": {
     "end_time": "2023-11-24T08:17:37.791731800Z",
     "start_time": "2023-11-24T08:17:37.767035200Z"
    }
   },
   "id": "783e42760584d042"
  },
  {
   "cell_type": "code",
   "execution_count": 47,
   "outputs": [
    {
     "data": {
      "text/plain": "dict_keys(['k1', 'k2'])"
     },
     "execution_count": 47,
     "metadata": {},
     "output_type": "execute_result"
    }
   ],
   "source": [
    "d.keys()"
   ],
   "metadata": {
    "collapsed": false,
    "ExecuteTime": {
     "end_time": "2023-11-24T08:18:17.949265900Z",
     "start_time": "2023-11-24T08:18:17.940746100Z"
    }
   },
   "id": "5a83d3d66f7252dc"
  },
  {
   "cell_type": "code",
   "execution_count": 48,
   "outputs": [
    {
     "data": {
      "text/plain": "dict_items([('k1', 'v1'), ('k2', 'v2')])"
     },
     "execution_count": 48,
     "metadata": {},
     "output_type": "execute_result"
    }
   ],
   "source": [
    "d.items()"
   ],
   "metadata": {
    "collapsed": false,
    "ExecuteTime": {
     "end_time": "2023-11-24T08:20:10.664500100Z",
     "start_time": "2023-11-24T08:20:10.653778600Z"
    }
   },
   "id": "2074ef406233bfdb"
  },
  {
   "cell_type": "code",
   "execution_count": 49,
   "outputs": [],
   "source": [
    "mylist = [1, 2, 3]"
   ],
   "metadata": {
    "collapsed": false,
    "ExecuteTime": {
     "end_time": "2023-11-24T08:46:43.132916100Z",
     "start_time": "2023-11-24T08:46:43.121575500Z"
    }
   },
   "id": "b6eee718ff3d2aed"
  },
  {
   "cell_type": "code",
   "execution_count": 50,
   "outputs": [],
   "source": [
    "last = mylist.pop()"
   ],
   "metadata": {
    "collapsed": false,
    "ExecuteTime": {
     "end_time": "2023-11-24T08:46:52.449234200Z",
     "start_time": "2023-11-24T08:46:52.437056300Z"
    }
   },
   "id": "320fa4c51f7f83a5"
  },
  {
   "cell_type": "code",
   "execution_count": 51,
   "outputs": [
    {
     "data": {
      "text/plain": "[1, 2]"
     },
     "execution_count": 51,
     "metadata": {},
     "output_type": "execute_result"
    }
   ],
   "source": [
    "mylist"
   ],
   "metadata": {
    "collapsed": false,
    "ExecuteTime": {
     "end_time": "2023-11-24T08:46:59.649526300Z",
     "start_time": "2023-11-24T08:46:59.637379900Z"
    }
   },
   "id": "9622633aa2b9bbbc"
  },
  {
   "cell_type": "code",
   "execution_count": 52,
   "outputs": [
    {
     "data": {
      "text/plain": "3"
     },
     "execution_count": 52,
     "metadata": {},
     "output_type": "execute_result"
    }
   ],
   "source": [
    "last"
   ],
   "metadata": {
    "collapsed": false,
    "ExecuteTime": {
     "end_time": "2023-11-24T08:47:03.934601100Z",
     "start_time": "2023-11-24T08:47:03.922241600Z"
    }
   },
   "id": "2b71beffeb09327f"
  },
  {
   "cell_type": "code",
   "execution_count": 58,
   "outputs": [],
   "source": [
    "mylist = [1, 2, 3]"
   ],
   "metadata": {
    "collapsed": false,
    "ExecuteTime": {
     "end_time": "2023-11-24T08:47:56.652913200Z",
     "start_time": "2023-11-24T08:47:56.646678700Z"
    }
   },
   "id": "20360bdefa410752"
  },
  {
   "cell_type": "code",
   "execution_count": 59,
   "outputs": [],
   "source": [
    "first = mylist.pop(0)"
   ],
   "metadata": {
    "collapsed": false,
    "ExecuteTime": {
     "end_time": "2023-11-24T08:47:56.811392900Z",
     "start_time": "2023-11-24T08:47:56.808441Z"
    }
   },
   "id": "b4deb7dc8ed34730"
  },
  {
   "cell_type": "code",
   "execution_count": 60,
   "outputs": [
    {
     "data": {
      "text/plain": "1"
     },
     "execution_count": 60,
     "metadata": {},
     "output_type": "execute_result"
    }
   ],
   "source": [
    "first"
   ],
   "metadata": {
    "collapsed": false,
    "ExecuteTime": {
     "end_time": "2023-11-24T08:47:56.991950500Z",
     "start_time": "2023-11-24T08:47:56.988525Z"
    }
   },
   "id": "4c4f3d5513d7bf1c"
  },
  {
   "cell_type": "code",
   "execution_count": 61,
   "outputs": [
    {
     "data": {
      "text/plain": "False"
     },
     "execution_count": 61,
     "metadata": {},
     "output_type": "execute_result"
    }
   ],
   "source": [
    "'x' in [1, 2, 3]"
   ],
   "metadata": {
    "collapsed": false,
    "ExecuteTime": {
     "end_time": "2023-11-24T08:48:16.499958400Z",
     "start_time": "2023-11-24T08:48:16.480719500Z"
    }
   },
   "id": "dc3aa2722a285ccd"
  },
  {
   "cell_type": "code",
   "execution_count": 62,
   "outputs": [
    {
     "data": {
      "text/plain": "True"
     },
     "execution_count": 62,
     "metadata": {},
     "output_type": "execute_result"
    }
   ],
   "source": [
    "1 in [1, 2, 3]"
   ],
   "metadata": {
    "collapsed": false,
    "ExecuteTime": {
     "end_time": "2023-11-24T08:48:23.866617Z",
     "start_time": "2023-11-24T08:48:23.854531400Z"
    }
   },
   "id": "fa58afe2ee09ffdf"
  },
  {
   "cell_type": "code",
   "execution_count": 63,
   "outputs": [
    {
     "data": {
      "text/plain": "True"
     },
     "execution_count": 63,
     "metadata": {},
     "output_type": "execute_result"
    }
   ],
   "source": [
    "2 in mylist"
   ],
   "metadata": {
    "collapsed": false,
    "ExecuteTime": {
     "end_time": "2023-11-24T08:48:33.749300800Z",
     "start_time": "2023-11-24T08:48:33.731501Z"
    }
   },
   "id": "6b254b66632c4d8f"
  },
  {
   "cell_type": "code",
   "execution_count": 64,
   "outputs": [
    {
     "data": {
      "text/plain": "[2, 3]"
     },
     "execution_count": 64,
     "metadata": {},
     "output_type": "execute_result"
    }
   ],
   "source": [
    "mylist"
   ],
   "metadata": {
    "collapsed": false,
    "ExecuteTime": {
     "end_time": "2023-11-24T08:48:38.846009600Z",
     "start_time": "2023-11-24T08:48:38.825602400Z"
    }
   },
   "id": "2341b3005f36a496"
  }
 ],
 "metadata": {
  "kernelspec": {
   "display_name": "Python 3",
   "language": "python",
   "name": "python3"
  },
  "language_info": {
   "codemirror_mode": {
    "name": "ipython",
    "version": 2
   },
   "file_extension": ".py",
   "mimetype": "text/x-python",
   "name": "python",
   "nbconvert_exporter": "python",
   "pygments_lexer": "ipython2",
   "version": "2.7.6"
  }
 },
 "nbformat": 4,
 "nbformat_minor": 5
}
